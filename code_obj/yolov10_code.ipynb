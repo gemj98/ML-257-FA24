{
 "cells": [
  {
   "cell_type": "code",
   "execution_count": null,
   "metadata": {
    "colab": {
     "base_uri": "https://localhost:8080/"
    },
    "id": "t6C3rKRjKxFa",
    "outputId": "6f162af8-d839-4bb3-a586-95b324104eff"
   },
   "outputs": [
    {
     "name": "stdout",
     "output_type": "stream",
     "text": [
      "Wed Oct 30 06:45:37 2024       \n",
      "+---------------------------------------------------------------------------------------+\n",
      "| NVIDIA-SMI 535.104.05             Driver Version: 535.104.05   CUDA Version: 12.2     |\n",
      "|-----------------------------------------+----------------------+----------------------+\n",
      "| GPU  Name                 Persistence-M | Bus-Id        Disp.A | Volatile Uncorr. ECC |\n",
      "| Fan  Temp   Perf          Pwr:Usage/Cap |         Memory-Usage | GPU-Util  Compute M. |\n",
      "|                                         |                      |               MIG M. |\n",
      "|=========================================+======================+======================|\n",
      "|   0  NVIDIA A100-SXM4-40GB          Off | 00000000:00:04.0 Off |                    0 |\n",
      "| N/A   32C    P0              47W / 400W |      2MiB / 40960MiB |      0%      Default |\n",
      "|                                         |                      |             Disabled |\n",
      "+-----------------------------------------+----------------------+----------------------+\n",
      "                                                                                         \n",
      "+---------------------------------------------------------------------------------------+\n",
      "| Processes:                                                                            |\n",
      "|  GPU   GI   CI        PID   Type   Process name                            GPU Memory |\n",
      "|        ID   ID                                                             Usage      |\n",
      "|=======================================================================================|\n",
      "|  No running processes found                                                           |\n",
      "+---------------------------------------------------------------------------------------+\n",
      "Collecting ultralytics==8.0.196\n",
      "  Downloading ultralytics-8.0.196-py3-none-any.whl.metadata (31 kB)\n",
      "Collecting roboflow\n",
      "  Downloading roboflow-1.1.48-py3-none-any.whl.metadata (9.7 kB)\n",
      "Requirement already satisfied: matplotlib>=3.3.0 in /usr/local/lib/python3.10/dist-packages (from ultralytics==8.0.196) (3.7.1)\n",
      "Requirement already satisfied: numpy>=1.22.2 in /usr/local/lib/python3.10/dist-packages (from ultralytics==8.0.196) (1.26.4)\n",
      "Requirement already satisfied: opencv-python>=4.6.0 in /usr/local/lib/python3.10/dist-packages (from ultralytics==8.0.196) (4.10.0.84)\n",
      "Requirement already satisfied: pillow>=7.1.2 in /usr/local/lib/python3.10/dist-packages (from ultralytics==8.0.196) (10.4.0)\n",
      "Requirement already satisfied: pyyaml>=5.3.1 in /usr/local/lib/python3.10/dist-packages (from ultralytics==8.0.196) (6.0.2)\n",
      "Requirement already satisfied: requests>=2.23.0 in /usr/local/lib/python3.10/dist-packages (from ultralytics==8.0.196) (2.32.3)\n",
      "Requirement already satisfied: scipy>=1.4.1 in /usr/local/lib/python3.10/dist-packages (from ultralytics==8.0.196) (1.13.1)\n",
      "Requirement already satisfied: torch>=1.8.0 in /usr/local/lib/python3.10/dist-packages (from ultralytics==8.0.196) (2.5.0+cu121)\n",
      "Requirement already satisfied: torchvision>=0.9.0 in /usr/local/lib/python3.10/dist-packages (from ultralytics==8.0.196) (0.20.0+cu121)\n",
      "Requirement already satisfied: tqdm>=4.64.0 in /usr/local/lib/python3.10/dist-packages (from ultralytics==8.0.196) (4.66.5)\n",
      "Requirement already satisfied: pandas>=1.1.4 in /usr/local/lib/python3.10/dist-packages (from ultralytics==8.0.196) (2.2.2)\n",
      "Requirement already satisfied: seaborn>=0.11.0 in /usr/local/lib/python3.10/dist-packages (from ultralytics==8.0.196) (0.13.2)\n",
      "Requirement already satisfied: psutil in /usr/local/lib/python3.10/dist-packages (from ultralytics==8.0.196) (5.9.5)\n",
      "Requirement already satisfied: py-cpuinfo in /usr/local/lib/python3.10/dist-packages (from ultralytics==8.0.196) (9.0.0)\n",
      "Collecting thop>=0.1.1 (from ultralytics==8.0.196)\n",
      "  Downloading thop-0.1.1.post2209072238-py3-none-any.whl.metadata (2.7 kB)\n",
      "Requirement already satisfied: certifi in /usr/local/lib/python3.10/dist-packages (from roboflow) (2024.8.30)\n",
      "Collecting idna==3.7 (from roboflow)\n",
      "  Downloading idna-3.7-py3-none-any.whl.metadata (9.9 kB)\n",
      "Requirement already satisfied: cycler in /usr/local/lib/python3.10/dist-packages (from roboflow) (0.12.1)\n",
      "Requirement already satisfied: kiwisolver>=1.3.1 in /usr/local/lib/python3.10/dist-packages (from roboflow) (1.4.7)\n",
      "Requirement already satisfied: opencv-python-headless==4.10.0.84 in /usr/local/lib/python3.10/dist-packages (from roboflow) (4.10.0.84)\n",
      "Requirement already satisfied: python-dateutil in /usr/local/lib/python3.10/dist-packages (from roboflow) (2.8.2)\n",
      "Collecting python-dotenv (from roboflow)\n",
      "  Downloading python_dotenv-1.0.1-py3-none-any.whl.metadata (23 kB)\n",
      "Requirement already satisfied: six in /usr/local/lib/python3.10/dist-packages (from roboflow) (1.16.0)\n",
      "Requirement already satisfied: urllib3>=1.26.6 in /usr/local/lib/python3.10/dist-packages (from roboflow) (2.2.3)\n",
      "Collecting requests-toolbelt (from roboflow)\n",
      "  Downloading requests_toolbelt-1.0.0-py2.py3-none-any.whl.metadata (14 kB)\n",
      "Collecting filetype (from roboflow)\n",
      "  Downloading filetype-1.2.0-py2.py3-none-any.whl.metadata (6.5 kB)\n",
      "Requirement already satisfied: contourpy>=1.0.1 in /usr/local/lib/python3.10/dist-packages (from matplotlib>=3.3.0->ultralytics==8.0.196) (1.3.0)\n",
      "Requirement already satisfied: fonttools>=4.22.0 in /usr/local/lib/python3.10/dist-packages (from matplotlib>=3.3.0->ultralytics==8.0.196) (4.54.1)\n",
      "Requirement already satisfied: packaging>=20.0 in /usr/local/lib/python3.10/dist-packages (from matplotlib>=3.3.0->ultralytics==8.0.196) (24.1)\n",
      "Requirement already satisfied: pyparsing>=2.3.1 in /usr/local/lib/python3.10/dist-packages (from matplotlib>=3.3.0->ultralytics==8.0.196) (3.2.0)\n",
      "Requirement already satisfied: pytz>=2020.1 in /usr/local/lib/python3.10/dist-packages (from pandas>=1.1.4->ultralytics==8.0.196) (2024.2)\n",
      "Requirement already satisfied: tzdata>=2022.7 in /usr/local/lib/python3.10/dist-packages (from pandas>=1.1.4->ultralytics==8.0.196) (2024.2)\n",
      "Requirement already satisfied: charset-normalizer<4,>=2 in /usr/local/lib/python3.10/dist-packages (from requests>=2.23.0->ultralytics==8.0.196) (3.4.0)\n",
      "Requirement already satisfied: filelock in /usr/local/lib/python3.10/dist-packages (from torch>=1.8.0->ultralytics==8.0.196) (3.16.1)\n",
      "Requirement already satisfied: typing-extensions>=4.8.0 in /usr/local/lib/python3.10/dist-packages (from torch>=1.8.0->ultralytics==8.0.196) (4.12.2)\n",
      "Requirement already satisfied: networkx in /usr/local/lib/python3.10/dist-packages (from torch>=1.8.0->ultralytics==8.0.196) (3.4.2)\n",
      "Requirement already satisfied: jinja2 in /usr/local/lib/python3.10/dist-packages (from torch>=1.8.0->ultralytics==8.0.196) (3.1.4)\n",
      "Requirement already satisfied: fsspec in /usr/local/lib/python3.10/dist-packages (from torch>=1.8.0->ultralytics==8.0.196) (2024.6.1)\n",
      "Requirement already satisfied: sympy==1.13.1 in /usr/local/lib/python3.10/dist-packages (from torch>=1.8.0->ultralytics==8.0.196) (1.13.1)\n",
      "Requirement already satisfied: mpmath<1.4,>=1.1.0 in /usr/local/lib/python3.10/dist-packages (from sympy==1.13.1->torch>=1.8.0->ultralytics==8.0.196) (1.3.0)\n",
      "Requirement already satisfied: MarkupSafe>=2.0 in /usr/local/lib/python3.10/dist-packages (from jinja2->torch>=1.8.0->ultralytics==8.0.196) (3.0.2)\n",
      "Downloading ultralytics-8.0.196-py3-none-any.whl (631 kB)\n",
      "\u001b[2K   \u001b[90m━━━━━━━━━━━━━━━━━━━━━━━━━━━━━━━━━━━━━━━━\u001b[0m \u001b[32m631.1/631.1 kB\u001b[0m \u001b[31m30.8 MB/s\u001b[0m eta \u001b[36m0:00:00\u001b[0m\n",
      "\u001b[?25hDownloading roboflow-1.1.48-py3-none-any.whl (80 kB)\n",
      "\u001b[2K   \u001b[90m━━━━━━━━━━━━━━━━━━━━━━━━━━━━━━━━━━━━━━━━\u001b[0m \u001b[32m80.3/80.3 kB\u001b[0m \u001b[31m6.8 MB/s\u001b[0m eta \u001b[36m0:00:00\u001b[0m\n",
      "\u001b[?25hDownloading idna-3.7-py3-none-any.whl (66 kB)\n",
      "\u001b[2K   \u001b[90m━━━━━━━━━━━━━━━━━━━━━━━━━━━━━━━━━━━━━━━━\u001b[0m \u001b[32m66.8/66.8 kB\u001b[0m \u001b[31m6.0 MB/s\u001b[0m eta \u001b[36m0:00:00\u001b[0m\n",
      "\u001b[?25hDownloading thop-0.1.1.post2209072238-py3-none-any.whl (15 kB)\n",
      "Downloading filetype-1.2.0-py2.py3-none-any.whl (19 kB)\n",
      "Downloading python_dotenv-1.0.1-py3-none-any.whl (19 kB)\n",
      "Downloading requests_toolbelt-1.0.0-py2.py3-none-any.whl (54 kB)\n",
      "\u001b[2K   \u001b[90m━━━━━━━━━━━━━━━━━━━━━━━━━━━━━━━━━━━━━━━━\u001b[0m \u001b[32m54.5/54.5 kB\u001b[0m \u001b[31m4.6 MB/s\u001b[0m eta \u001b[36m0:00:00\u001b[0m\n",
      "\u001b[?25hInstalling collected packages: filetype, python-dotenv, idna, thop, requests-toolbelt, ultralytics, roboflow\n",
      "  Attempting uninstall: idna\n",
      "    Found existing installation: idna 3.10\n",
      "    Uninstalling idna-3.10:\n",
      "      Successfully uninstalled idna-3.10\n",
      "Successfully installed filetype-1.2.0 idna-3.7 python-dotenv-1.0.1 requests-toolbelt-1.0.0 roboflow-1.1.48 thop-0.1.1.post2209072238 ultralytics-8.0.196\n",
      "Requirement already satisfied: ultralytics in /usr/local/lib/python3.10/dist-packages (8.0.196)\n",
      "Collecting ultralytics\n",
      "  Downloading ultralytics-8.3.24-py3-none-any.whl.metadata (35 kB)\n",
      "Requirement already satisfied: numpy>=1.23.0 in /usr/local/lib/python3.10/dist-packages (from ultralytics) (1.26.4)\n",
      "Requirement already satisfied: matplotlib>=3.3.0 in /usr/local/lib/python3.10/dist-packages (from ultralytics) (3.7.1)\n",
      "Requirement already satisfied: opencv-python>=4.6.0 in /usr/local/lib/python3.10/dist-packages (from ultralytics) (4.10.0.84)\n",
      "Requirement already satisfied: pillow>=7.1.2 in /usr/local/lib/python3.10/dist-packages (from ultralytics) (10.4.0)\n",
      "Requirement already satisfied: pyyaml>=5.3.1 in /usr/local/lib/python3.10/dist-packages (from ultralytics) (6.0.2)\n",
      "Requirement already satisfied: requests>=2.23.0 in /usr/local/lib/python3.10/dist-packages (from ultralytics) (2.32.3)\n",
      "Requirement already satisfied: scipy>=1.4.1 in /usr/local/lib/python3.10/dist-packages (from ultralytics) (1.13.1)\n",
      "Requirement already satisfied: torch>=1.8.0 in /usr/local/lib/python3.10/dist-packages (from ultralytics) (2.5.0+cu121)\n",
      "Requirement already satisfied: torchvision>=0.9.0 in /usr/local/lib/python3.10/dist-packages (from ultralytics) (0.20.0+cu121)\n",
      "Requirement already satisfied: tqdm>=4.64.0 in /usr/local/lib/python3.10/dist-packages (from ultralytics) (4.66.5)\n",
      "Requirement already satisfied: psutil in /usr/local/lib/python3.10/dist-packages (from ultralytics) (5.9.5)\n",
      "Requirement already satisfied: py-cpuinfo in /usr/local/lib/python3.10/dist-packages (from ultralytics) (9.0.0)\n",
      "Requirement already satisfied: pandas>=1.1.4 in /usr/local/lib/python3.10/dist-packages (from ultralytics) (2.2.2)\n",
      "Requirement already satisfied: seaborn>=0.11.0 in /usr/local/lib/python3.10/dist-packages (from ultralytics) (0.13.2)\n",
      "Collecting ultralytics-thop>=2.0.0 (from ultralytics)\n",
      "  Downloading ultralytics_thop-2.0.10-py3-none-any.whl.metadata (9.4 kB)\n",
      "Requirement already satisfied: contourpy>=1.0.1 in /usr/local/lib/python3.10/dist-packages (from matplotlib>=3.3.0->ultralytics) (1.3.0)\n",
      "Requirement already satisfied: cycler>=0.10 in /usr/local/lib/python3.10/dist-packages (from matplotlib>=3.3.0->ultralytics) (0.12.1)\n",
      "Requirement already satisfied: fonttools>=4.22.0 in /usr/local/lib/python3.10/dist-packages (from matplotlib>=3.3.0->ultralytics) (4.54.1)\n",
      "Requirement already satisfied: kiwisolver>=1.0.1 in /usr/local/lib/python3.10/dist-packages (from matplotlib>=3.3.0->ultralytics) (1.4.7)\n",
      "Requirement already satisfied: packaging>=20.0 in /usr/local/lib/python3.10/dist-packages (from matplotlib>=3.3.0->ultralytics) (24.1)\n",
      "Requirement already satisfied: pyparsing>=2.3.1 in /usr/local/lib/python3.10/dist-packages (from matplotlib>=3.3.0->ultralytics) (3.2.0)\n",
      "Requirement already satisfied: python-dateutil>=2.7 in /usr/local/lib/python3.10/dist-packages (from matplotlib>=3.3.0->ultralytics) (2.8.2)\n",
      "Requirement already satisfied: pytz>=2020.1 in /usr/local/lib/python3.10/dist-packages (from pandas>=1.1.4->ultralytics) (2024.2)\n",
      "Requirement already satisfied: tzdata>=2022.7 in /usr/local/lib/python3.10/dist-packages (from pandas>=1.1.4->ultralytics) (2024.2)\n",
      "Requirement already satisfied: charset-normalizer<4,>=2 in /usr/local/lib/python3.10/dist-packages (from requests>=2.23.0->ultralytics) (3.4.0)\n",
      "Requirement already satisfied: idna<4,>=2.5 in /usr/local/lib/python3.10/dist-packages (from requests>=2.23.0->ultralytics) (3.7)\n",
      "Requirement already satisfied: urllib3<3,>=1.21.1 in /usr/local/lib/python3.10/dist-packages (from requests>=2.23.0->ultralytics) (2.2.3)\n",
      "Requirement already satisfied: certifi>=2017.4.17 in /usr/local/lib/python3.10/dist-packages (from requests>=2.23.0->ultralytics) (2024.8.30)\n",
      "Requirement already satisfied: filelock in /usr/local/lib/python3.10/dist-packages (from torch>=1.8.0->ultralytics) (3.16.1)\n",
      "Requirement already satisfied: typing-extensions>=4.8.0 in /usr/local/lib/python3.10/dist-packages (from torch>=1.8.0->ultralytics) (4.12.2)\n",
      "Requirement already satisfied: networkx in /usr/local/lib/python3.10/dist-packages (from torch>=1.8.0->ultralytics) (3.4.2)\n",
      "Requirement already satisfied: jinja2 in /usr/local/lib/python3.10/dist-packages (from torch>=1.8.0->ultralytics) (3.1.4)\n",
      "Requirement already satisfied: fsspec in /usr/local/lib/python3.10/dist-packages (from torch>=1.8.0->ultralytics) (2024.6.1)\n",
      "Requirement already satisfied: sympy==1.13.1 in /usr/local/lib/python3.10/dist-packages (from torch>=1.8.0->ultralytics) (1.13.1)\n",
      "Requirement already satisfied: mpmath<1.4,>=1.1.0 in /usr/local/lib/python3.10/dist-packages (from sympy==1.13.1->torch>=1.8.0->ultralytics) (1.3.0)\n",
      "Requirement already satisfied: six>=1.5 in /usr/local/lib/python3.10/dist-packages (from python-dateutil>=2.7->matplotlib>=3.3.0->ultralytics) (1.16.0)\n",
      "Requirement already satisfied: MarkupSafe>=2.0 in /usr/local/lib/python3.10/dist-packages (from jinja2->torch>=1.8.0->ultralytics) (3.0.2)\n",
      "Downloading ultralytics-8.3.24-py3-none-any.whl (877 kB)\n",
      "\u001b[2K   \u001b[90m━━━━━━━━━━━━━━━━━━━━━━━━━━━━━━━━━━━━━━━━\u001b[0m \u001b[32m877.7/877.7 kB\u001b[0m \u001b[31m48.2 MB/s\u001b[0m eta \u001b[36m0:00:00\u001b[0m\n",
      "\u001b[?25hDownloading ultralytics_thop-2.0.10-py3-none-any.whl (26 kB)\n",
      "Installing collected packages: ultralytics-thop, ultralytics\n",
      "  Attempting uninstall: ultralytics\n",
      "    Found existing installation: ultralytics 8.0.196\n",
      "    Uninstalling ultralytics-8.0.196:\n",
      "      Successfully uninstalled ultralytics-8.0.196\n",
      "Successfully installed ultralytics-8.3.24 ultralytics-thop-2.0.10\n",
      "Requirement already satisfied: albumentations in /usr/local/lib/python3.10/dist-packages (1.4.15)\n",
      "Collecting albumentations\n",
      "  Downloading albumentations-1.4.20-py3-none-any.whl.metadata (32 kB)\n",
      "Requirement already satisfied: numpy>=1.24.4 in /usr/local/lib/python3.10/dist-packages (from albumentations) (1.26.4)\n",
      "Requirement already satisfied: scipy>=1.10.0 in /usr/local/lib/python3.10/dist-packages (from albumentations) (1.13.1)\n",
      "Requirement already satisfied: PyYAML in /usr/local/lib/python3.10/dist-packages (from albumentations) (6.0.2)\n",
      "Requirement already satisfied: pydantic>=2.7.0 in /usr/local/lib/python3.10/dist-packages (from albumentations) (2.9.2)\n",
      "Collecting albucore==0.0.19 (from albumentations)\n",
      "  Downloading albucore-0.0.19-py3-none-any.whl.metadata (5.2 kB)\n",
      "Requirement already satisfied: eval-type-backport in /usr/local/lib/python3.10/dist-packages (from albumentations) (0.2.0)\n",
      "Requirement already satisfied: opencv-python-headless>=4.9.0.80 in /usr/local/lib/python3.10/dist-packages (from albumentations) (4.10.0.84)\n",
      "Collecting stringzilla>=3.10.4 (from albucore==0.0.19->albumentations)\n",
      "  Downloading stringzilla-3.10.6-cp310-cp310-manylinux_2_5_x86_64.manylinux1_x86_64.manylinux_2_28_x86_64.whl.metadata (79 kB)\n",
      "\u001b[2K     \u001b[90m━━━━━━━━━━━━━━━━━━━━━━━━━━━━━━━━━━━━━━━━\u001b[0m \u001b[32m79.8/79.8 kB\u001b[0m \u001b[31m7.9 MB/s\u001b[0m eta \u001b[36m0:00:00\u001b[0m\n",
      "\u001b[?25hRequirement already satisfied: annotated-types>=0.6.0 in /usr/local/lib/python3.10/dist-packages (from pydantic>=2.7.0->albumentations) (0.7.0)\n",
      "Requirement already satisfied: pydantic-core==2.23.4 in /usr/local/lib/python3.10/dist-packages (from pydantic>=2.7.0->albumentations) (2.23.4)\n",
      "Requirement already satisfied: typing-extensions>=4.6.1 in /usr/local/lib/python3.10/dist-packages (from pydantic>=2.7.0->albumentations) (4.12.2)\n",
      "Downloading albumentations-1.4.20-py3-none-any.whl (225 kB)\n",
      "\u001b[2K   \u001b[90m━━━━━━━━━━━━━━━━━━━━━━━━━━━━━━━━━━━━━━━━\u001b[0m \u001b[32m225.8/225.8 kB\u001b[0m \u001b[31m20.0 MB/s\u001b[0m eta \u001b[36m0:00:00\u001b[0m\n",
      "\u001b[?25hDownloading albucore-0.0.19-py3-none-any.whl (11 kB)\n",
      "Downloading stringzilla-3.10.6-cp310-cp310-manylinux_2_5_x86_64.manylinux1_x86_64.manylinux_2_28_x86_64.whl (291 kB)\n",
      "\u001b[2K   \u001b[90m━━━━━━━━━━━━━━━━━━━━━━━━━━━━━━━━━━━━━━━━\u001b[0m \u001b[32m291.4/291.4 kB\u001b[0m \u001b[31m27.1 MB/s\u001b[0m eta \u001b[36m0:00:00\u001b[0m\n",
      "\u001b[?25hInstalling collected packages: stringzilla, albucore, albumentations\n",
      "  Attempting uninstall: albucore\n",
      "    Found existing installation: albucore 0.0.16\n",
      "    Uninstalling albucore-0.0.16:\n",
      "      Successfully uninstalled albucore-0.0.16\n",
      "  Attempting uninstall: albumentations\n",
      "    Found existing installation: albumentations 1.4.15\n",
      "    Uninstalling albumentations-1.4.15:\n",
      "      Successfully uninstalled albumentations-1.4.15\n",
      "Successfully installed albucore-0.0.19 albumentations-1.4.20 stringzilla-3.10.6\n",
      "\u001b[2K   \u001b[90m━━━━━━━━━━━━━━━━━━━━━━━━━━━━━━━━━━━━━━━━\u001b[0m \u001b[32m475.2/475.2 MB\u001b[0m \u001b[31m1.9 MB/s\u001b[0m eta \u001b[36m0:00:00\u001b[0m\n",
      "\u001b[2K   \u001b[90m━━━━━━━━━━━━━━━━━━━━━━━━━━━━━━━━━━━━━━━━\u001b[0m \u001b[32m9.6/9.6 MB\u001b[0m \u001b[31m94.6 MB/s\u001b[0m eta \u001b[36m0:00:00\u001b[0m\n",
      "\u001b[2K   \u001b[90m━━━━━━━━━━━━━━━━━━━━━━━━━━━━━━━━━━━━━━━━\u001b[0m \u001b[32m294.8/294.8 kB\u001b[0m \u001b[31m23.6 MB/s\u001b[0m eta \u001b[36m0:00:00\u001b[0m\n",
      "\u001b[2K   \u001b[90m━━━━━━━━━━━━━━━━━━━━━━━━━━━━━━━━━━━━━━━━\u001b[0m \u001b[32m18.2/18.2 MB\u001b[0m \u001b[31m96.3 MB/s\u001b[0m eta \u001b[36m0:00:00\u001b[0m\n",
      "\u001b[2K   \u001b[90m━━━━━━━━━━━━━━━━━━━━━━━━━━━━━━━━━━━━━━━━\u001b[0m \u001b[32m12.1/12.1 MB\u001b[0m \u001b[31m114.3 MB/s\u001b[0m eta \u001b[36m0:00:00\u001b[0m\n",
      "\u001b[2K   \u001b[90m━━━━━━━━━━━━━━━━━━━━━━━━━━━━━━━━━━━━━━━━\u001b[0m \u001b[32m61.7/61.7 MB\u001b[0m \u001b[31m32.5 MB/s\u001b[0m eta \u001b[36m0:00:00\u001b[0m\n",
      "\u001b[2K   \u001b[90m━━━━━━━━━━━━━━━━━━━━━━━━━━━━━━━━━━━━━━━━\u001b[0m \u001b[32m1.7/1.7 MB\u001b[0m \u001b[31m74.4 MB/s\u001b[0m eta \u001b[36m0:00:00\u001b[0m\n",
      "\u001b[2K   \u001b[90m━━━━━━━━━━━━━━━━━━━━━━━━━━━━━━━━━━━━━━━━\u001b[0m \u001b[32m1.0/1.0 MB\u001b[0m \u001b[31m61.9 MB/s\u001b[0m eta \u001b[36m0:00:00\u001b[0m\n",
      "\u001b[2K   \u001b[90m━━━━━━━━━━━━━━━━━━━━━━━━━━━━━━━━━━━━━━━━\u001b[0m \u001b[32m5.5/5.5 MB\u001b[0m \u001b[31m104.4 MB/s\u001b[0m eta \u001b[36m0:00:00\u001b[0m\n",
      "\u001b[2K   \u001b[90m━━━━━━━━━━━━━━━━━━━━━━━━━━━━━━━━━━━━━━━━\u001b[0m \u001b[32m442.0/442.0 kB\u001b[0m \u001b[31m34.5 MB/s\u001b[0m eta \u001b[36m0:00:00\u001b[0m\n",
      "\u001b[2K   \u001b[90m━━━━━━━━━━━━━━━━━━━━━━━━━━━━━━━━━━━━━━━━\u001b[0m \u001b[32m77.9/77.9 kB\u001b[0m \u001b[31m7.0 MB/s\u001b[0m eta \u001b[36m0:00:00\u001b[0m\n",
      "\u001b[?25h\u001b[33m  WARNING: The scripts f2py, f2py3 and f2py3.10 are installed in '/root/.local/bin' which is not on PATH.\n",
      "  Consider adding this directory to PATH or, if you prefer to suppress this warning, use --no-warn-script-location.\u001b[0m\u001b[33m\n",
      "\u001b[0m\u001b[33m  WARNING: The script tensorboard is installed in '/root/.local/bin' which is not on PATH.\n",
      "  Consider adding this directory to PATH or, if you prefer to suppress this warning, use --no-warn-script-location.\u001b[0m\u001b[33m\n",
      "\u001b[0m\u001b[33m  WARNING: The scripts estimator_ckpt_converter, import_pb_to_tensorboard, saved_model_cli, tensorboard, tf_upgrade_v2, tflite_convert, toco and toco_from_protos are installed in '/root/.local/bin' which is not on PATH.\n",
      "  Consider adding this directory to PATH or, if you prefer to suppress this warning, use --no-warn-script-location.\u001b[0m\u001b[33m\n",
      "\u001b[0m\u001b[31mERROR: pip's dependency resolver does not currently take into account all the packages that are installed. This behaviour is the source of the following dependency conflicts.\n",
      "cudf-cu12 24.10.1 requires pandas<2.2.3dev0,>=2.0, but you have pandas 1.5.3 which is incompatible.\n",
      "google-colab 1.0.0 requires pandas==2.2.2, but you have pandas 1.5.3 which is incompatible.\n",
      "mizani 0.11.4 requires pandas>=2.1.0, but you have pandas 1.5.3 which is incompatible.\n",
      "plotnine 0.13.6 requires pandas<3.0.0,>=2.1.0, but you have pandas 1.5.3 which is incompatible.\n",
      "tensorstore 0.1.66 requires ml-dtypes>=0.3.1, but you have ml-dtypes 0.2.0 which is incompatible.\n",
      "tf-keras 2.17.0 requires tensorflow<2.18,>=2.17, but you have tensorflow 2.15.0 which is incompatible.\n",
      "xarray 2024.9.0 requires pandas>=2.1, but you have pandas 1.5.3 which is incompatible.\u001b[0m\u001b[31m\n",
      "\u001b[0m"
     ]
    }
   ],
   "source": [
    "!nvidia-smi\n",
    "!pip install wandb -qq\n",
    "\n",
    "!pip install ultralytics==8.0.196 roboflow\n",
    "!pip install --upgrade ultralytics\n",
    "\n",
    "!pip install -U albumentations\n",
    "!pip install tensorflow==2.15.0 scikit-learn==1.2.2 seaborn==0.13.1 matplotlib==3.7.1 numpy==1.25.2 pandas==1.5.3 opencv-python==4.8.0.76 -q --user"
   ]
  },
  {
   "cell_type": "code",
   "execution_count": null,
   "metadata": {
    "colab": {
     "base_uri": "https://localhost:8080/"
    },
    "id": "78ZLUQLOLNUh",
    "outputId": "c38aa66e-0ddf-4f87-8d66-225c729bd309"
   },
   "outputs": [
    {
     "name": "stdout",
     "output_type": "stream",
     "text": [
      "Creating new Ultralytics Settings v0.0.6 file ✅ \n",
      "View Ultralytics Settings with 'yolo settings' or at '/root/.config/Ultralytics/settings.json'\n",
      "Update Settings with 'yolo settings key=value', i.e. 'yolo settings runs_dir=path/to/dir'. For help see https://docs.ultralytics.com/quickstart/#ultralytics-settings.\n"
     ]
    }
   ],
   "source": [
    "\n",
    "import os\n",
    "import numpy as np                                                                              \n",
    "import pandas as pd                                                                           \n",
    "import matplotlib.pyplot as plt                                                               \n",
    "import math                                                                                     \n",
    "import cv2                                                                                 \n",
    "import seaborn as sns                                                                       \n",
    "\n",
    "\n",
    "# Tensorflow modules\n",
    "import tensorflow as tf\n",
    "from tensorflow.keras.preprocessing.image import ImageDataGenerator                           \n",
    "from tensorflow.keras.models import Sequential                                                  \n",
    "from tensorflow.keras.layers import Dense,Dropout,Flatten,Conv2D,MaxPooling2D,BatchNormalization \n",
    "from tensorflow.keras.optimizers import Adam,SGD                                           \n",
    "from tensorflow.keras import backend\n",
    "from tensorflow.keras.models import Model\n",
    "from keras.callbacks import ReduceLROnPlateau\n",
    "from keras.applications.vgg16 import VGG16\n",
    "from tensorflow.keras.layers import Input\n",
    "\n",
    "from sklearn import preprocessing                                                              \n",
    "from sklearn.model_selection import train_test_split                                          \n",
    "from sklearn.metrics import confusion_matrix                                                   \n",
    "from sklearn.metrics import classification_report\n",
    "from sklearn.preprocessing import LabelBinarizer\n",
    "\n",
    "\n",
    "# Displaying images using OpenCV\n",
    "from google.colab.patches import cv2_imshow                                                    \n",
    "import random\n",
    "\n",
    "import warnings\n",
    "warnings.filterwarnings('ignore')\n",
    "from ultralytics import YOLO\n",
    "\n",
    "import numpy as np\n",
    "from roboflow import Roboflow\n",
    "\n",
    "from IPython.display import display, Image\n",
    "\n",
    "np.random.seed(42)\n",
    "random.seed(42)\n",
    "tf.random.set_seed(42)"
   ]
  },
  {
   "cell_type": "code",
   "execution_count": null,
   "metadata": {
    "colab": {
     "base_uri": "https://localhost:8080/"
    },
    "id": "t5MY-qn6LNRW",
    "outputId": "9b18837e-0406-4dd6-f44d-bfe4b7bd01a9"
   },
   "outputs": [
    {
     "name": "stdout",
     "output_type": "stream",
     "text": [
      "Mounted at /content/drive\n"
     ]
    }
   ],
   "source": [
    "from google.colab import drive\n",
    "drive.mount('/content/drive')\n"
   ]
  },
  {
   "cell_type": "code",
   "execution_count": null,
   "metadata": {
    "colab": {
     "base_uri": "https://localhost:8080/"
    },
    "id": "xzNQMWS7LNPS",
    "outputId": "3b8248c5-15a0-4914-8036-a861f7507e8d"
   },
   "outputs": [],
   "source": [
    "dataset_path=\"/content/drive/MyDrive/DP_yolov3/images \"\n",
    "\n",
    "data_yaml_path = os.path.join(dataset_path, \"data.yaml\")\n",
    "data_yaml_without_hs_path = os.path.join(dataset_path, \"data_without_hs.yaml\")\n",
    "data_yaml_without_hs_mosaic_path = os.path.join(dataset_path, \"data_without_hs_mosaic.yaml\")\n",
    "\n",
    "test_images_path = os.path.join(dataset_path, \"test/images\")\n",
    "test_final_images_path = os.path.join(dataset_path, \"test_final\")\n",
    "\n",
    "print(data_yaml_path)"
   ]
  },
  {
   "cell_type": "code",
   "execution_count": null,
   "metadata": {
    "colab": {
     "base_uri": "https://localhost:8080/"
    },
    "id": "hy6ImOKkLNMF",
    "outputId": "bdfb1979-3845-40c5-ccb1-67506b908017"
   },
   "outputs": [],
   "source": [
    "import zipfile\n",
    "\n",
    "# Location of train zip file\n",
    "zip_file_path = '/content/drive/MyDrive/DP/code_yolov3/train.zip'\n",
    "\n",
    "# Extraction path\n",
    "extract_folder_path = os.path.dirname(zip_file_path)\n",
    "\n",
    "# Unzipping the file\n",
    "with zipfile.ZipFile(zip_file_path, 'r') as zip_ref:\n",
    "    zip_ref.extractall(extract_folder_path)\n",
    "\n",
    "print(f\"Unzipped to: {extract_folder_path}\")"
   ]
  },
  {
   "cell_type": "code",
   "execution_count": null,
   "metadata": {
    "colab": {
     "base_uri": "https://localhost:8080/"
    },
    "id": "dDYLI3ASLM-s",
    "outputId": "d09882f7-4bde-4a09-dfcc-1ad1211ea8be"
   },
   "outputs": [],
   "source": [
    "# Location of test zip file\n",
    "zip_file_path = '/content/drive/MyDrive/DP/code_yolov3/test.zip'\n",
    "\n",
    "# Extraction path\n",
    "extract_folder_path = os.path.dirname(zip_file_path)\n",
    "\n",
    "# Unzipping the file\n",
    "with zipfile.ZipFile(zip_file_path, 'r') as zip_ref:\n",
    "    zip_ref.extractall(extract_folder_path)\n",
    "\n",
    "print(f\"Unzipped to: {extract_folder_path}\")"
   ]
  },
  {
   "cell_type": "code",
   "execution_count": null,
   "metadata": {
    "colab": {
     "base_uri": "https://localhost:8080/"
    },
    "id": "27ZsH7IvMQzJ",
    "outputId": "cee8c084-4669-447b-e1dd-42612e6ae388"
   },
   "outputs": [],
   "source": [
    "# Location of valid zip file\n",
    "zip_file_path = '/content/drive/MyDrive/DP/code_yolov3/valid.zip'\n",
    "\n",
    "# Extraction path\n",
    "extract_folder_path = os.path.dirname(zip_file_path)\n",
    "\n",
    "# Unzipping the file\n",
    "with zipfile.ZipFile(zip_file_path, 'r') as zip_ref:\n",
    "    zip_ref.extractall(extract_folder_path)\n",
    "\n",
    "print(f\"Unzipped to: {extract_folder_path}\")"
   ]
  },
  {
   "cell_type": "code",
   "execution_count": null,
   "metadata": {
    "id": "F8Wwsa3VMZup"
   },
   "outputs": [],
   "source": [
    "data_yaml_path = r'/content/drive/MyDrive/DP/code_yolov3/data.yaml'\n",
    "data_yaml_without_hs_path = r'/content/drive/MyDrive/DP/code_yolov3/data_without_hsv.yaml'"
   ]
  },
  {
   "cell_type": "code",
   "execution_count": null,
   "metadata": {
    "colab": {
     "base_uri": "https://localhost:8080/"
    },
    "id": "48uhpf2EMZrv",
    "outputId": "78895ae0-8be4-4643-8d74-422f56d8f8da"
   },
   "outputs": [],
   "source": [
    "from ultralytics import YOLO\n",
    "model = YOLO('yolov3s.pt') "
   ]
  },
  {
   "cell_type": "code",
   "execution_count": null,
   "metadata": {
    "colab": {
     "base_uri": "https://localhost:8080/"
    },
    "id": "Ta-2F4ODMZpY",
    "outputId": "9db0fb78-d106-4b8a-847c-81430cc85181"
   },
   "outputs": [
    {
     "name": "stdout",
     "output_type": "stream",
     "text": [
      "Ultralytics 8.3.23 🚀 Python-3.10.12 torch-2.5.0+cu121 CUDA:0 (NVIDIA A100-SXM4-40GB, 40514MiB)\n",
      "\u001b[34m\u001b[1mengine/trainer: \u001b[0mtask=detect, mode=train, model=yolov10s.pt, data=/content/drive/MyDrive/Q3_2/data.yaml, epochs=10, time=None, patience=100, batch=8, imgsz=640, save=True, save_period=-1, cache=False, device=None, workers=8, project=None, name=train, exist_ok=False, pretrained=True, optimizer=auto, verbose=True, seed=0, deterministic=True, single_cls=False, rect=False, cos_lr=False, close_mosaic=10, resume=False, amp=True, fraction=1.0, profile=False, freeze=None, multi_scale=False, overlap_mask=True, mask_ratio=4, dropout=0.1, val=True, split=val, save_json=False, save_hybrid=False, conf=None, iou=0.7, max_det=300, half=False, dnn=False, plots=True, source=None, vid_stride=1, stream_buffer=False, visualize=False, augment=False, agnostic_nms=False, classes=[9, 14, 15], retina_masks=False, embed=None, show=False, save_frames=False, save_txt=False, save_conf=False, save_crop=False, show_labels=True, show_conf=True, show_boxes=True, line_width=None, format=torchscript, keras=False, optimize=False, int8=False, dynamic=False, simplify=True, opset=None, workspace=4, nms=False, lr0=0.01, lrf=0.01, momentum=0.937, weight_decay=0.0005, warmup_epochs=3.0, warmup_momentum=0.8, warmup_bias_lr=0.1, box=7.5, cls=0.5, dfl=1.5, pose=12.0, kobj=1.0, label_smoothing=0.0, nbs=64, hsv_h=0.015, hsv_s=0.7, hsv_v=0.4, degrees=0.0, translate=0.1, scale=0.5, shear=0.0, perspective=0.0, flipud=0.0, fliplr=0.5, bgr=0.0, mosaic=1.0, mixup=0.0, copy_paste=0.0, copy_paste_mode=flip, auto_augment=randaugment, erasing=0.4, crop_fraction=1.0, cfg=None, tracker=botsort.yaml, save_dir=runs/detect/train\n",
      "Downloading https://ultralytics.com/assets/Arial.ttf to '/root/.config/Ultralytics/Arial.ttf'...\n"
     ]
    },
    {
     "name": "stderr",
     "output_type": "stream",
     "text": [
      "100%|██████████| 755k/755k [00:00<00:00, 43.7MB/s]\n"
     ]
    },
    {
     "name": "stdout",
     "output_type": "stream",
     "text": [
      "Overriding model.yaml nc=80 with nc=25\n",
      "\n",
      "                   from  n    params  module                                       arguments                     \n",
      "  0                  -1  1       928  ultralytics.nn.modules.conv.Conv             [3, 32, 3, 2]                 \n",
      "  1                  -1  1     18560  ultralytics.nn.modules.conv.Conv             [32, 64, 3, 2]                \n",
      "  2                  -1  1     29056  ultralytics.nn.modules.block.C2f             [64, 64, 1, True]             \n",
      "  3                  -1  1     73984  ultralytics.nn.modules.conv.Conv             [64, 128, 3, 2]               \n",
      "  4                  -1  2    197632  ultralytics.nn.modules.block.C2f             [128, 128, 2, True]           \n",
      "  5                  -1  1     36096  ultralytics.nn.modules.block.SCDown          [128, 256, 3, 2]              \n",
      "  6                  -1  2    788480  ultralytics.nn.modules.block.C2f             [256, 256, 2, True]           \n",
      "  7                  -1  1    137728  ultralytics.nn.modules.block.SCDown          [256, 512, 3, 2]              \n",
      "  8                  -1  1    958464  ultralytics.nn.modules.block.C2fCIB          [512, 512, 1, True, True]     \n",
      "  9                  -1  1    656896  ultralytics.nn.modules.block.SPPF            [512, 512, 5]                 \n",
      " 10                  -1  1    990976  ultralytics.nn.modules.block.PSA             [512, 512]                    \n",
      " 11                  -1  1         0  torch.nn.modules.upsampling.Upsample         [None, 2, 'nearest']          \n",
      " 12             [-1, 6]  1         0  ultralytics.nn.modules.conv.Concat           [1]                           \n",
      " 13                  -1  1    591360  ultralytics.nn.modules.block.C2f             [768, 256, 1]                 \n",
      " 14                  -1  1         0  torch.nn.modules.upsampling.Upsample         [None, 2, 'nearest']          \n",
      " 15             [-1, 4]  1         0  ultralytics.nn.modules.conv.Concat           [1]                           \n",
      " 16                  -1  1    148224  ultralytics.nn.modules.block.C2f             [384, 128, 1]                 \n",
      " 17                  -1  1    147712  ultralytics.nn.modules.conv.Conv             [128, 128, 3, 2]              \n",
      " 18            [-1, 13]  1         0  ultralytics.nn.modules.conv.Concat           [1]                           \n",
      " 19                  -1  1    493056  ultralytics.nn.modules.block.C2f             [384, 256, 1]                 \n",
      " 20                  -1  1     68864  ultralytics.nn.modules.block.SCDown          [256, 256, 3, 2]              \n",
      " 21            [-1, 10]  1         0  ultralytics.nn.modules.conv.Concat           [1]                           \n",
      " 22                  -1  1   1089536  ultralytics.nn.modules.block.C2fCIB          [768, 512, 1, True, True]     \n",
      " 23        [16, 19, 22]  1   1658150  ultralytics.nn.modules.head.v10Detect        [25, [128, 256, 512]]         \n",
      "YOLOv10s summary: 402 layers, 8,085,702 parameters, 8,085,686 gradients, 24.9 GFLOPs\n",
      "\n",
      "Transferred 607/619 items from pretrained weights\n",
      "\u001b[34m\u001b[1mTensorBoard: \u001b[0mStart with 'tensorboard --logdir runs/detect/train', view at http://localhost:6006/\n",
      "Freezing layer 'model.23.dfl.conv.weight'\n",
      "\u001b[34m\u001b[1mAMP: \u001b[0mrunning Automatic Mixed Precision (AMP) checks...\n",
      "Downloading https://github.com/ultralytics/assets/releases/download/v8.3.0/yolo11n.pt to 'yolo11n.pt'...\n"
     ]
    },
    {
     "name": "stderr",
     "output_type": "stream",
     "text": [
      "100%|██████████| 5.35M/5.35M [00:00<00:00, 191MB/s]\n"
     ]
    },
    {
     "name": "stdout",
     "output_type": "stream",
     "text": [
      "\u001b[34m\u001b[1mAMP: \u001b[0mchecks passed ✅\n"
     ]
    },
    {
     "name": "stderr",
     "output_type": "stream",
     "text": [
      "\u001b[34m\u001b[1mtrain: \u001b[0mScanning /content/drive/MyDrive/Q3_2/train/labels... 5405 images, 12 backgrounds, 0 corrupt: 100%|██████████| 5405/5405 [01:13<00:00, 73.29it/s] \n"
     ]
    },
    {
     "name": "stdout",
     "output_type": "stream",
     "text": [
      "\u001b[34m\u001b[1mtrain: \u001b[0mNew cache created: /content/drive/MyDrive/Q3_2/train/labels.cache\n",
      "\u001b[34m\u001b[1malbumentations: \u001b[0mBlur(p=0.01, blur_limit=(3, 7)), MedianBlur(p=0.01, blur_limit=(3, 7)), ToGray(p=0.01, num_output_channels=3, method='weighted_average'), CLAHE(p=0.01, clip_limit=(1.0, 4.0), tile_grid_size=(8, 8))\n"
     ]
    },
    {
     "name": "stderr",
     "output_type": "stream",
     "text": [
      "\u001b[34m\u001b[1mval: \u001b[0mScanning /content/drive/MyDrive/Q3_2/valid/labels... 641 images, 1 backgrounds, 0 corrupt: 100%|██████████| 641/641 [00:04<00:00, 129.24it/s]\n"
     ]
    },
    {
     "name": "stdout",
     "output_type": "stream",
     "text": [
      "\u001b[34m\u001b[1mval: \u001b[0mNew cache created: /content/drive/MyDrive/Q3_2/valid/labels.cache\n",
      "Plotting labels to runs/detect/train/labels.jpg... \n",
      "\u001b[34m\u001b[1moptimizer:\u001b[0m 'optimizer=auto' found, ignoring 'lr0=0.01' and 'momentum=0.937' and determining best 'optimizer', 'lr0' and 'momentum' automatically... \n",
      "\u001b[34m\u001b[1moptimizer:\u001b[0m AdamW(lr=0.000345, momentum=0.9) with parameter groups 99 weight(decay=0.0), 112 weight(decay=0.0005), 111 bias(decay=0.0)\n",
      "\u001b[34m\u001b[1mTensorBoard: \u001b[0mmodel graph visualization added ✅\n",
      "Image sizes 640 train, 640 val\n",
      "Using 8 dataloader workers\n",
      "Logging results to \u001b[1mruns/detect/train\u001b[0m\n",
      "Starting training for 10 epochs...\n",
      "Closing dataloader mosaic\n",
      "\u001b[34m\u001b[1malbumentations: \u001b[0mBlur(p=0.01, blur_limit=(3, 7)), MedianBlur(p=0.01, blur_limit=(3, 7)), ToGray(p=0.01, num_output_channels=3, method='weighted_average'), CLAHE(p=0.01, clip_limit=(1.0, 4.0), tile_grid_size=(8, 8))\n",
      "\n",
      "      Epoch    GPU_mem   box_loss   cls_loss   dfl_loss  Instances       Size\n"
     ]
    },
    {
     "name": "stderr",
     "output_type": "stream",
     "text": [
      "       1/10      2.97G      1.595      70.28      2.514          0        640: 100%|██████████| 676/676 [01:31<00:00,  7.36it/s]\n",
      "                 Class     Images  Instances      Box(P          R      mAP50  mAP50-95): 100%|██████████| 41/41 [00:03<00:00, 10.63it/s]"
     ]
    },
    {
     "name": "stdout",
     "output_type": "stream",
     "text": [
      "                   all        641        124      0.807      0.398      0.413        0.3\n"
     ]
    },
    {
     "name": "stderr",
     "output_type": "stream",
     "text": [
      "\n"
     ]
    },
    {
     "name": "stdout",
     "output_type": "stream",
     "text": [
      "\n",
      "      Epoch    GPU_mem   box_loss   cls_loss   dfl_loss  Instances       Size\n"
     ]
    },
    {
     "name": "stderr",
     "output_type": "stream",
     "text": [
      "       2/10      2.95G      1.502      5.081      2.365          0        640: 100%|██████████| 676/676 [01:24<00:00,  7.96it/s]\n",
      "                 Class     Images  Instances      Box(P          R      mAP50  mAP50-95): 100%|██████████| 41/41 [00:02<00:00, 17.14it/s]"
     ]
    },
    {
     "name": "stdout",
     "output_type": "stream",
     "text": [
      "                   all        641        124      0.736      0.502       0.58      0.482\n"
     ]
    },
    {
     "name": "stderr",
     "output_type": "stream",
     "text": [
      "\n"
     ]
    },
    {
     "name": "stdout",
     "output_type": "stream",
     "text": [
      "\n",
      "      Epoch    GPU_mem   box_loss   cls_loss   dfl_loss  Instances       Size\n"
     ]
    },
    {
     "name": "stderr",
     "output_type": "stream",
     "text": [
      "       3/10      2.95G      1.515      3.158      2.327          1        640: 100%|██████████| 676/676 [01:22<00:00,  8.15it/s]\n",
      "                 Class     Images  Instances      Box(P          R      mAP50  mAP50-95): 100%|██████████| 41/41 [00:02<00:00, 17.53it/s]"
     ]
    },
    {
     "name": "stdout",
     "output_type": "stream",
     "text": [
      "                   all        641        124      0.756      0.541       0.58      0.455\n"
     ]
    },
    {
     "name": "stderr",
     "output_type": "stream",
     "text": [
      "\n"
     ]
    },
    {
     "name": "stdout",
     "output_type": "stream",
     "text": [
      "\n",
      "      Epoch    GPU_mem   box_loss   cls_loss   dfl_loss  Instances       Size\n"
     ]
    },
    {
     "name": "stderr",
     "output_type": "stream",
     "text": [
      "       4/10      2.89G      1.409      2.548      2.294          4        640: 100%|██████████| 676/676 [01:22<00:00,  8.16it/s]\n",
      "                 Class     Images  Instances      Box(P          R      mAP50  mAP50-95): 100%|██████████| 41/41 [00:02<00:00, 17.39it/s]"
     ]
    },
    {
     "name": "stdout",
     "output_type": "stream",
     "text": [
      "                   all        641        124      0.884      0.523      0.711      0.581\n"
     ]
    },
    {
     "name": "stderr",
     "output_type": "stream",
     "text": [
      "\n"
     ]
    },
    {
     "name": "stdout",
     "output_type": "stream",
     "text": [
      "\n",
      "      Epoch    GPU_mem   box_loss   cls_loss   dfl_loss  Instances       Size\n"
     ]
    },
    {
     "name": "stderr",
     "output_type": "stream",
     "text": [
      "       5/10      2.95G      1.384      2.137      2.263          1        640: 100%|██████████| 676/676 [01:22<00:00,  8.17it/s]\n",
      "                 Class     Images  Instances      Box(P          R      mAP50  mAP50-95): 100%|██████████| 41/41 [00:02<00:00, 17.24it/s]"
     ]
    },
    {
     "name": "stdout",
     "output_type": "stream",
     "text": [
      "                   all        641        124       0.61      0.677      0.691      0.568\n"
     ]
    },
    {
     "name": "stderr",
     "output_type": "stream",
     "text": [
      "\n"
     ]
    },
    {
     "name": "stdout",
     "output_type": "stream",
     "text": [
      "\n",
      "      Epoch    GPU_mem   box_loss   cls_loss   dfl_loss  Instances       Size\n"
     ]
    },
    {
     "name": "stderr",
     "output_type": "stream",
     "text": [
      "       6/10      2.95G      1.315      1.884      2.204          2        640: 100%|██████████| 676/676 [01:23<00:00,  8.14it/s]\n",
      "                 Class     Images  Instances      Box(P          R      mAP50  mAP50-95): 100%|██████████| 41/41 [00:02<00:00, 16.83it/s]"
     ]
    },
    {
     "name": "stdout",
     "output_type": "stream",
     "text": [
      "                   all        641        124      0.776      0.598      0.745       0.59\n"
     ]
    },
    {
     "name": "stderr",
     "output_type": "stream",
     "text": [
      "\n"
     ]
    },
    {
     "name": "stdout",
     "output_type": "stream",
     "text": [
      "\n",
      "      Epoch    GPU_mem   box_loss   cls_loss   dfl_loss  Instances       Size\n"
     ]
    },
    {
     "name": "stderr",
     "output_type": "stream",
     "text": [
      "       7/10      2.95G      1.177      1.466      2.064          1        640: 100%|██████████| 676/676 [01:21<00:00,  8.29it/s]\n",
      "                 Class     Images  Instances      Box(P          R      mAP50  mAP50-95): 100%|██████████| 41/41 [00:02<00:00, 17.02it/s]"
     ]
    },
    {
     "name": "stdout",
     "output_type": "stream",
     "text": [
      "                   all        641        124      0.666      0.677      0.754      0.612\n"
     ]
    },
    {
     "name": "stderr",
     "output_type": "stream",
     "text": [
      "\n"
     ]
    },
    {
     "name": "stdout",
     "output_type": "stream",
     "text": [
      "\n",
      "      Epoch    GPU_mem   box_loss   cls_loss   dfl_loss  Instances       Size\n"
     ]
    },
    {
     "name": "stderr",
     "output_type": "stream",
     "text": [
      "       8/10      2.95G      1.089      1.288      1.979          0        640: 100%|██████████| 676/676 [01:21<00:00,  8.27it/s]\n",
      "                 Class     Images  Instances      Box(P          R      mAP50  mAP50-95): 100%|██████████| 41/41 [00:02<00:00, 16.41it/s]"
     ]
    },
    {
     "name": "stdout",
     "output_type": "stream",
     "text": [
      "                   all        641        124      0.593      0.798      0.787      0.652\n"
     ]
    },
    {
     "name": "stderr",
     "output_type": "stream",
     "text": [
      "\n"
     ]
    },
    {
     "name": "stdout",
     "output_type": "stream",
     "text": [
      "\n",
      "      Epoch    GPU_mem   box_loss   cls_loss   dfl_loss  Instances       Size\n"
     ]
    },
    {
     "name": "stderr",
     "output_type": "stream",
     "text": [
      "       9/10      2.95G      1.076      1.079      2.016          0        640: 100%|██████████| 676/676 [01:22<00:00,  8.21it/s]\n",
      "                 Class     Images  Instances      Box(P          R      mAP50  mAP50-95): 100%|██████████| 41/41 [00:02<00:00, 17.48it/s]"
     ]
    },
    {
     "name": "stdout",
     "output_type": "stream",
     "text": [
      "                   all        641        124      0.689      0.782      0.781      0.658\n"
     ]
    },
    {
     "name": "stderr",
     "output_type": "stream",
     "text": [
      "\n"
     ]
    },
    {
     "name": "stdout",
     "output_type": "stream",
     "text": [
      "\n",
      "      Epoch    GPU_mem   box_loss   cls_loss   dfl_loss  Instances       Size\n"
     ]
    },
    {
     "name": "stderr",
     "output_type": "stream",
     "text": [
      "      10/10      2.89G      1.023     0.9813       1.97          0        640: 100%|██████████| 676/676 [01:22<00:00,  8.19it/s]\n",
      "                 Class     Images  Instances      Box(P          R      mAP50  mAP50-95): 100%|██████████| 41/41 [00:02<00:00, 18.01it/s]"
     ]
    },
    {
     "name": "stdout",
     "output_type": "stream",
     "text": [
      "                   all        641        124      0.721      0.802      0.801      0.678\n"
     ]
    },
    {
     "name": "stderr",
     "output_type": "stream",
     "text": [
      "\n"
     ]
    },
    {
     "name": "stdout",
     "output_type": "stream",
     "text": [
      "\n",
      "10 epochs completed in 0.254 hours.\n",
      "Optimizer stripped from runs/detect/train/weights/last.pt, 16.6MB\n",
      "Optimizer stripped from runs/detect/train/weights/best.pt, 16.6MB\n",
      "\n",
      "Validating runs/detect/train/weights/best.pt...\n",
      "Ultralytics 8.3.23 🚀 Python-3.10.12 torch-2.5.0+cu121 CUDA:0 (NVIDIA A100-SXM4-40GB, 40514MiB)\n",
      "YOLOv10s summary (fused): 293 layers, 8,054,310 parameters, 0 gradients, 24.5 GFLOPs\n"
     ]
    },
    {
     "name": "stderr",
     "output_type": "stream",
     "text": [
      "                 Class     Images  Instances      Box(P          R      mAP50  mAP50-95): 100%|██████████| 41/41 [00:02<00:00, 19.46it/s]\n"
     ]
    },
    {
     "name": "stdout",
     "output_type": "stream",
     "text": [
      "                   all        641        124      0.721      0.801      0.801      0.677\n",
      "          One way road         27         27      0.886      0.815      0.842      0.734\n",
      "    Speed limit 20 Kph         40         42      0.643      0.833       0.84      0.697\n",
      "    Speed limit 30 Kph         48         55      0.634      0.755       0.72      0.601\n",
      "Speed: 0.1ms preprocess, 1.3ms inference, 0.0ms loss, 0.1ms postprocess per image\n",
      "Results saved to \u001b[1mruns/detect/train\u001b[0m\n"
     ]
    }
   ],
   "source": [
    "results = model.train(data=data_yaml_path, epochs=10, batch=8, imgsz=640, dropout=0.1, classes = [9, 14, 15] ,cache=False) #training the model with data.yaml"
   ]
  },
  {
   "cell_type": "code",
   "execution_count": null,
   "metadata": {},
   "outputs": [],
   "source": [
    "#finetuning the model to handle specific classes of blur images"
   ]
  },
  {
   "cell_type": "code",
   "execution_count": null,
   "metadata": {
    "colab": {
     "base_uri": "https://localhost:8080/"
    },
    "id": "dCCmJ3QBMZm8",
    "outputId": "0855203c-f607-45ff-805e-32931098186c"
   },
   "outputs": [
    {
     "name": "stdout",
     "output_type": "stream",
     "text": [
      "Ultralytics 8.3.23 🚀 Python-3.10.12 torch-2.5.0+cu121 CUDA:0 (NVIDIA A100-SXM4-40GB, 40514MiB)\n",
      "\u001b[34m\u001b[1mengine/trainer: \u001b[0mtask=detect, mode=train, model=/content/runs/detect/train/weights/best.pt, data=/content/drive/MyDrive/Q3_2/data.yaml, epochs=10, time=None, patience=100, batch=8, imgsz=640, save=True, save_period=-1, cache=False, device=None, workers=8, project=None, name=train2, exist_ok=False, pretrained=True, optimizer=auto, verbose=True, seed=0, deterministic=True, single_cls=False, rect=False, cos_lr=False, close_mosaic=10, resume=False, amp=True, fraction=1.0, profile=False, freeze=None, multi_scale=False, overlap_mask=True, mask_ratio=4, dropout=0.1, val=True, split=val, save_json=False, save_hybrid=False, conf=None, iou=0.7, max_det=300, half=False, dnn=False, plots=True, source=None, vid_stride=1, stream_buffer=False, visualize=False, augment=False, agnostic_nms=False, classes=[0, 9, 14, 15], retina_masks=False, embed=None, show=False, save_frames=False, save_txt=False, save_conf=False, save_crop=False, show_labels=True, show_conf=True, show_boxes=True, line_width=None, format=torchscript, keras=False, optimize=False, int8=False, dynamic=False, simplify=True, opset=None, workspace=4, nms=False, lr0=0.01, lrf=0.01, momentum=0.937, weight_decay=0.0005, warmup_epochs=3.0, warmup_momentum=0.8, warmup_bias_lr=0.1, box=7.5, cls=0.5, dfl=1.5, pose=12.0, kobj=1.0, label_smoothing=0.0, nbs=64, hsv_h=0.015, hsv_s=0.7, hsv_v=0.4, degrees=0.0, translate=0.1, scale=0.5, shear=0.0, perspective=0.0, flipud=0.0, fliplr=0.5, bgr=0.0, mosaic=1.0, mixup=0.0, copy_paste=0.0, copy_paste_mode=flip, auto_augment=randaugment, erasing=0.4, crop_fraction=1.0, cfg=None, tracker=botsort.yaml, save_dir=runs/detect/train2\n",
      "\n",
      "                   from  n    params  module                                       arguments                     \n",
      "  0                  -1  1       928  ultralytics.nn.modules.conv.Conv             [3, 32, 3, 2]                 \n",
      "  1                  -1  1     18560  ultralytics.nn.modules.conv.Conv             [32, 64, 3, 2]                \n",
      "  2                  -1  1     29056  ultralytics.nn.modules.block.C2f             [64, 64, 1, True]             \n",
      "  3                  -1  1     73984  ultralytics.nn.modules.conv.Conv             [64, 128, 3, 2]               \n",
      "  4                  -1  2    197632  ultralytics.nn.modules.block.C2f             [128, 128, 2, True]           \n",
      "  5                  -1  1     36096  ultralytics.nn.modules.block.SCDown          [128, 256, 3, 2]              \n",
      "  6                  -1  2    788480  ultralytics.nn.modules.block.C2f             [256, 256, 2, True]           \n",
      "  7                  -1  1    137728  ultralytics.nn.modules.block.SCDown          [256, 512, 3, 2]              \n",
      "  8                  -1  1    958464  ultralytics.nn.modules.block.C2fCIB          [512, 512, 1, True, True]     \n",
      "  9                  -1  1    656896  ultralytics.nn.modules.block.SPPF            [512, 512, 5]                 \n",
      " 10                  -1  1    990976  ultralytics.nn.modules.block.PSA             [512, 512]                    \n",
      " 11                  -1  1         0  torch.nn.modules.upsampling.Upsample         [None, 2, 'nearest']          \n",
      " 12             [-1, 6]  1         0  ultralytics.nn.modules.conv.Concat           [1]                           \n",
      " 13                  -1  1    591360  ultralytics.nn.modules.block.C2f             [768, 256, 1]                 \n",
      " 14                  -1  1         0  torch.nn.modules.upsampling.Upsample         [None, 2, 'nearest']          \n",
      " 15             [-1, 4]  1         0  ultralytics.nn.modules.conv.Concat           [1]                           \n",
      " 16                  -1  1    148224  ultralytics.nn.modules.block.C2f             [384, 128, 1]                 \n",
      " 17                  -1  1    147712  ultralytics.nn.modules.conv.Conv             [128, 128, 3, 2]              \n",
      " 18            [-1, 13]  1         0  ultralytics.nn.modules.conv.Concat           [1]                           \n",
      " 19                  -1  1    493056  ultralytics.nn.modules.block.C2f             [384, 256, 1]                 \n",
      " 20                  -1  1     68864  ultralytics.nn.modules.block.SCDown          [256, 256, 3, 2]              \n",
      " 21            [-1, 10]  1         0  ultralytics.nn.modules.conv.Concat           [1]                           \n",
      " 22                  -1  1   1089536  ultralytics.nn.modules.block.C2fCIB          [768, 512, 1, True, True]     \n",
      " 23        [16, 19, 22]  1   1658150  ultralytics.nn.modules.head.v10Detect        [25, [128, 256, 512]]         \n",
      "YOLOv10s summary: 402 layers, 8,085,702 parameters, 8,085,686 gradients, 24.9 GFLOPs\n",
      "\n",
      "Transferred 619/619 items from pretrained weights\n",
      "\u001b[34m\u001b[1mTensorBoard: \u001b[0mStart with 'tensorboard --logdir runs/detect/train2', view at http://localhost:6006/\n",
      "Freezing layer 'model.23.dfl.conv.weight'\n",
      "\u001b[34m\u001b[1mAMP: \u001b[0mrunning Automatic Mixed Precision (AMP) checks...\n",
      "\u001b[34m\u001b[1mAMP: \u001b[0mchecks passed ✅\n"
     ]
    },
    {
     "name": "stderr",
     "output_type": "stream",
     "text": [
      "\u001b[34m\u001b[1mtrain: \u001b[0mScanning /content/drive/MyDrive/Q3_2/train/labels.cache... 5405 images, 12 backgrounds, 0 corrupt: 100%|██████████| 5405/5405 [00:00<?, ?it/s]"
     ]
    },
    {
     "name": "stdout",
     "output_type": "stream",
     "text": [
      "\u001b[34m\u001b[1malbumentations: \u001b[0mBlur(p=0.01, blur_limit=(3, 7)), MedianBlur(p=0.01, blur_limit=(3, 7)), ToGray(p=0.01, num_output_channels=3, method='weighted_average'), CLAHE(p=0.01, clip_limit=(1.0, 4.0), tile_grid_size=(8, 8))\n"
     ]
    },
    {
     "name": "stderr",
     "output_type": "stream",
     "text": [
      "\n",
      "\u001b[34m\u001b[1mval: \u001b[0mScanning /content/drive/MyDrive/Q3_2/valid/labels.cache... 641 images, 1 backgrounds, 0 corrupt: 100%|██████████| 641/641 [00:00<?, ?it/s]\n"
     ]
    },
    {
     "name": "stdout",
     "output_type": "stream",
     "text": [
      "Plotting labels to runs/detect/train2/labels.jpg... \n",
      "\u001b[34m\u001b[1moptimizer:\u001b[0m 'optimizer=auto' found, ignoring 'lr0=0.01' and 'momentum=0.937' and determining best 'optimizer', 'lr0' and 'momentum' automatically... \n",
      "\u001b[34m\u001b[1moptimizer:\u001b[0m AdamW(lr=0.000345, momentum=0.9) with parameter groups 99 weight(decay=0.0), 112 weight(decay=0.0005), 111 bias(decay=0.0)\n",
      "\u001b[34m\u001b[1mTensorBoard: \u001b[0mmodel graph visualization added ✅\n",
      "Image sizes 640 train, 640 val\n",
      "Using 8 dataloader workers\n",
      "Logging results to \u001b[1mruns/detect/train2\u001b[0m\n",
      "Starting training for 10 epochs...\n",
      "Closing dataloader mosaic\n",
      "\u001b[34m\u001b[1malbumentations: \u001b[0mBlur(p=0.01, blur_limit=(3, 7)), MedianBlur(p=0.01, blur_limit=(3, 7)), ToGray(p=0.01, num_output_channels=3, method='weighted_average'), CLAHE(p=0.01, clip_limit=(1.0, 4.0), tile_grid_size=(8, 8))\n",
      "\n",
      "      Epoch    GPU_mem   box_loss   cls_loss   dfl_loss  Instances       Size\n"
     ]
    },
    {
     "name": "stderr",
     "output_type": "stream",
     "text": [
      "       1/10      3.06G       1.12      1.637      2.169          0        640: 100%|██████████| 676/676 [01:34<00:00,  7.18it/s]\n",
      "                 Class     Images  Instances      Box(P          R      mAP50  mAP50-95): 100%|██████████| 41/41 [00:02<00:00, 16.31it/s]"
     ]
    },
    {
     "name": "stdout",
     "output_type": "stream",
     "text": [
      "                   all        641        139      0.746      0.697      0.782      0.635\n"
     ]
    },
    {
     "name": "stderr",
     "output_type": "stream",
     "text": [
      "\n"
     ]
    },
    {
     "name": "stdout",
     "output_type": "stream",
     "text": [
      "\n",
      "      Epoch    GPU_mem   box_loss   cls_loss   dfl_loss  Instances       Size\n"
     ]
    },
    {
     "name": "stderr",
     "output_type": "stream",
     "text": [
      "       2/10      2.96G      1.197       1.39      2.275          0        640: 100%|██████████| 676/676 [01:27<00:00,  7.73it/s]\n",
      "                 Class     Images  Instances      Box(P          R      mAP50  mAP50-95): 100%|██████████| 41/41 [00:02<00:00, 16.22it/s]"
     ]
    },
    {
     "name": "stdout",
     "output_type": "stream",
     "text": [
      "                   all        641        139      0.691      0.716      0.759        0.6\n"
     ]
    },
    {
     "name": "stderr",
     "output_type": "stream",
     "text": [
      "\n"
     ]
    },
    {
     "name": "stdout",
     "output_type": "stream",
     "text": [
      "\n",
      "      Epoch    GPU_mem   box_loss   cls_loss   dfl_loss  Instances       Size\n"
     ]
    },
    {
     "name": "stderr",
     "output_type": "stream",
     "text": [
      "       3/10      2.96G      1.198      1.478      2.199          1        640: 100%|██████████| 676/676 [01:24<00:00,  7.99it/s]\n",
      "                 Class     Images  Instances      Box(P          R      mAP50  mAP50-95): 100%|██████████| 41/41 [00:02<00:00, 17.10it/s]"
     ]
    },
    {
     "name": "stdout",
     "output_type": "stream",
     "text": [
      "                   all        641        139      0.879      0.609      0.766      0.621\n"
     ]
    },
    {
     "name": "stderr",
     "output_type": "stream",
     "text": [
      "\n"
     ]
    },
    {
     "name": "stdout",
     "output_type": "stream",
     "text": [
      "\n",
      "      Epoch    GPU_mem   box_loss   cls_loss   dfl_loss  Instances       Size\n"
     ]
    },
    {
     "name": "stderr",
     "output_type": "stream",
     "text": [
      "       4/10       2.9G      1.229      1.356      2.276          4        640: 100%|██████████| 676/676 [01:24<00:00,  8.00it/s]\n",
      "                 Class     Images  Instances      Box(P          R      mAP50  mAP50-95): 100%|██████████| 41/41 [00:02<00:00, 15.54it/s]"
     ]
    },
    {
     "name": "stdout",
     "output_type": "stream",
     "text": [
      "                   all        641        139      0.709      0.809      0.791      0.659\n"
     ]
    },
    {
     "name": "stderr",
     "output_type": "stream",
     "text": [
      "\n"
     ]
    },
    {
     "name": "stdout",
     "output_type": "stream",
     "text": [
      "\n",
      "      Epoch    GPU_mem   box_loss   cls_loss   dfl_loss  Instances       Size\n"
     ]
    },
    {
     "name": "stderr",
     "output_type": "stream",
     "text": [
      "       5/10      2.96G      1.173      1.345      2.202          2        640: 100%|██████████| 676/676 [01:24<00:00,  8.00it/s]\n",
      "                 Class     Images  Instances      Box(P          R      mAP50  mAP50-95): 100%|██████████| 41/41 [00:02<00:00, 15.94it/s]"
     ]
    },
    {
     "name": "stdout",
     "output_type": "stream",
     "text": [
      "                   all        641        139      0.771      0.723      0.775      0.655\n"
     ]
    },
    {
     "name": "stderr",
     "output_type": "stream",
     "text": [
      "\n"
     ]
    },
    {
     "name": "stdout",
     "output_type": "stream",
     "text": [
      "\n",
      "      Epoch    GPU_mem   box_loss   cls_loss   dfl_loss  Instances       Size\n"
     ]
    },
    {
     "name": "stderr",
     "output_type": "stream",
     "text": [
      "       6/10      2.95G       1.14      1.108       2.18          2        640: 100%|██████████| 676/676 [01:24<00:00,  8.02it/s]\n",
      "                 Class     Images  Instances      Box(P          R      mAP50  mAP50-95): 100%|██████████| 41/41 [00:02<00:00, 17.07it/s]"
     ]
    },
    {
     "name": "stdout",
     "output_type": "stream",
     "text": [
      "                   all        641        139      0.714      0.832      0.806       0.68\n"
     ]
    },
    {
     "name": "stderr",
     "output_type": "stream",
     "text": [
      "\n"
     ]
    },
    {
     "name": "stdout",
     "output_type": "stream",
     "text": [
      "\n",
      "      Epoch    GPU_mem   box_loss   cls_loss   dfl_loss  Instances       Size\n"
     ]
    },
    {
     "name": "stderr",
     "output_type": "stream",
     "text": [
      "       7/10      2.95G      1.066     0.9043      2.079          1        640: 100%|██████████| 676/676 [01:24<00:00,  8.01it/s]\n",
      "                 Class     Images  Instances      Box(P          R      mAP50  mAP50-95): 100%|██████████| 41/41 [00:02<00:00, 17.07it/s]"
     ]
    },
    {
     "name": "stdout",
     "output_type": "stream",
     "text": [
      "                   all        641        139      0.753       0.82      0.839      0.694\n"
     ]
    },
    {
     "name": "stderr",
     "output_type": "stream",
     "text": [
      "\n"
     ]
    },
    {
     "name": "stdout",
     "output_type": "stream",
     "text": [
      "\n",
      "      Epoch    GPU_mem   box_loss   cls_loss   dfl_loss  Instances       Size\n"
     ]
    },
    {
     "name": "stderr",
     "output_type": "stream",
     "text": [
      "       8/10      2.95G      1.023     0.8931      2.053          2        640: 100%|██████████| 676/676 [01:24<00:00,  8.00it/s]\n",
      "                 Class     Images  Instances      Box(P          R      mAP50  mAP50-95): 100%|██████████| 41/41 [00:02<00:00, 15.61it/s]"
     ]
    },
    {
     "name": "stdout",
     "output_type": "stream",
     "text": [
      "                   all        641        139      0.772      0.796      0.844      0.709\n"
     ]
    },
    {
     "name": "stderr",
     "output_type": "stream",
     "text": [
      "\n"
     ]
    },
    {
     "name": "stdout",
     "output_type": "stream",
     "text": [
      "\n",
      "      Epoch    GPU_mem   box_loss   cls_loss   dfl_loss  Instances       Size\n"
     ]
    },
    {
     "name": "stderr",
     "output_type": "stream",
     "text": [
      "       9/10      2.95G      1.005     0.7725      2.051          0        640: 100%|██████████| 676/676 [01:24<00:00,  7.99it/s]\n",
      "                 Class     Images  Instances      Box(P          R      mAP50  mAP50-95): 100%|██████████| 41/41 [00:02<00:00, 16.48it/s]"
     ]
    },
    {
     "name": "stdout",
     "output_type": "stream",
     "text": [
      "                   all        641        139      0.816      0.836      0.851      0.716\n"
     ]
    },
    {
     "name": "stderr",
     "output_type": "stream",
     "text": [
      "\n"
     ]
    },
    {
     "name": "stdout",
     "output_type": "stream",
     "text": [
      "\n",
      "      Epoch    GPU_mem   box_loss   cls_loss   dfl_loss  Instances       Size\n"
     ]
    },
    {
     "name": "stderr",
     "output_type": "stream",
     "text": [
      "      10/10       2.9G     0.9815     0.7041      2.058          1        640: 100%|██████████| 676/676 [01:24<00:00,  8.01it/s]\n",
      "                 Class     Images  Instances      Box(P          R      mAP50  mAP50-95): 100%|██████████| 41/41 [00:02<00:00, 17.32it/s]"
     ]
    },
    {
     "name": "stdout",
     "output_type": "stream",
     "text": [
      "                   all        641        139       0.84      0.815       0.85      0.731\n"
     ]
    },
    {
     "name": "stderr",
     "output_type": "stream",
     "text": [
      "\n"
     ]
    },
    {
     "name": "stdout",
     "output_type": "stream",
     "text": [
      "\n",
      "10 epochs completed in 0.273 hours.\n",
      "Optimizer stripped from runs/detect/train2/weights/last.pt, 16.6MB\n",
      "Optimizer stripped from runs/detect/train2/weights/best.pt, 16.6MB\n",
      "\n",
      "Validating runs/detect/train2/weights/best.pt...\n",
      "Ultralytics 8.3.23 🚀 Python-3.10.12 torch-2.5.0+cu121 CUDA:0 (NVIDIA A100-SXM4-40GB, 40514MiB)\n",
      "YOLOv10s summary (fused): 293 layers, 8,054,310 parameters, 0 gradients, 24.5 GFLOPs\n"
     ]
    },
    {
     "name": "stderr",
     "output_type": "stream",
     "text": [
      "                 Class     Images  Instances      Box(P          R      mAP50  mAP50-95): 100%|██████████| 41/41 [00:02<00:00, 19.73it/s]\n"
     ]
    },
    {
     "name": "stdout",
     "output_type": "stream",
     "text": [
      "                   all        641        139       0.84      0.815      0.851      0.732\n",
      "-Road narrows on right         15         15      0.926        0.8      0.904      0.778\n",
      "          One way road         27         27          1      0.802       0.84      0.743\n",
      "    Speed limit 20 Kph         40         42      0.761      0.857      0.897      0.764\n",
      "    Speed limit 30 Kph         48         55      0.673        0.8      0.765      0.644\n",
      "Speed: 0.1ms preprocess, 1.2ms inference, 0.0ms loss, 0.2ms postprocess per image\n",
      "Results saved to \u001b[1mruns/detect/train2\u001b[0m\n"
     ]
    }
   ],
   "source": [
    "model = YOLO(\"/content/runs/detect/train/weights/best.pt\")\n",
    "\n",
    "# Train the model\n",
    "results = model.train(data=data_yaml_path, epochs=10, batch=8, imgsz=640, dropout=0.1, classes = [0, 9, 14, 15], cache=False) #training the model with data.yaml"
   ]
  },
  {
   "cell_type": "code",
   "execution_count": null,
   "metadata": {},
   "outputs": [],
   "source": [
    "#further finetuning with different parameters for specific classes"
   ]
  },
  {
   "cell_type": "code",
   "execution_count": null,
   "metadata": {
    "colab": {
     "base_uri": "https://localhost:8080/"
    },
    "id": "GAl8TAbXMZkw",
    "outputId": "ca620d78-d931-47b7-e079-e8e818b531e8"
   },
   "outputs": [
    {
     "name": "stdout",
     "output_type": "stream",
     "text": [
      "Ultralytics 8.3.23 🚀 Python-3.10.12 torch-2.5.0+cu121 CUDA:0 (NVIDIA A100-SXM4-40GB, 40514MiB)\n",
      "\u001b[34m\u001b[1mengine/trainer: \u001b[0mtask=detect, mode=train, model=/content/runs/detect/train2/weights/best.pt, data=/content/drive/MyDrive/Q3_2/data_without_hsv.yaml, epochs=20, time=None, patience=100, batch=8, imgsz=640, save=True, save_period=-1, cache=False, device=None, workers=8, project=None, name=train3, exist_ok=False, pretrained=True, optimizer=auto, verbose=True, seed=0, deterministic=True, single_cls=False, rect=False, cos_lr=False, close_mosaic=10, resume=False, amp=True, fraction=1.0, profile=False, freeze=None, multi_scale=False, overlap_mask=True, mask_ratio=4, dropout=0.1, val=True, split=val, save_json=False, save_hybrid=False, conf=None, iou=0.7, max_det=300, half=False, dnn=False, plots=True, source=None, vid_stride=1, stream_buffer=False, visualize=False, augment=False, agnostic_nms=False, classes=[0, 8, 9, 14, 15], retina_masks=False, embed=None, show=False, save_frames=False, save_txt=False, save_conf=False, save_crop=False, show_labels=True, show_conf=True, show_boxes=True, line_width=None, format=torchscript, keras=False, optimize=False, int8=False, dynamic=False, simplify=True, opset=None, workspace=4, nms=False, lr0=0.01, lrf=0.01, momentum=0.937, weight_decay=0.0005, warmup_epochs=3.0, warmup_momentum=0.8, warmup_bias_lr=0.1, box=7.5, cls=0.5, dfl=1.5, pose=12.0, kobj=1.0, label_smoothing=0.0, nbs=64, hsv_h=0.015, hsv_s=0.7, hsv_v=0.4, degrees=0.0, translate=0.1, scale=0.5, shear=0.0, perspective=0.0, flipud=0.0, fliplr=0.5, bgr=0.0, mosaic=1.0, mixup=0.0, copy_paste=0.0, copy_paste_mode=flip, auto_augment=randaugment, erasing=0.4, crop_fraction=1.0, cfg=None, tracker=botsort.yaml, save_dir=runs/detect/train3\n",
      "\n",
      "                   from  n    params  module                                       arguments                     \n",
      "  0                  -1  1       928  ultralytics.nn.modules.conv.Conv             [3, 32, 3, 2]                 \n",
      "  1                  -1  1     18560  ultralytics.nn.modules.conv.Conv             [32, 64, 3, 2]                \n",
      "  2                  -1  1     29056  ultralytics.nn.modules.block.C2f             [64, 64, 1, True]             \n",
      "  3                  -1  1     73984  ultralytics.nn.modules.conv.Conv             [64, 128, 3, 2]               \n",
      "  4                  -1  2    197632  ultralytics.nn.modules.block.C2f             [128, 128, 2, True]           \n",
      "  5                  -1  1     36096  ultralytics.nn.modules.block.SCDown          [128, 256, 3, 2]              \n",
      "  6                  -1  2    788480  ultralytics.nn.modules.block.C2f             [256, 256, 2, True]           \n",
      "  7                  -1  1    137728  ultralytics.nn.modules.block.SCDown          [256, 512, 3, 2]              \n",
      "  8                  -1  1    958464  ultralytics.nn.modules.block.C2fCIB          [512, 512, 1, True, True]     \n",
      "  9                  -1  1    656896  ultralytics.nn.modules.block.SPPF            [512, 512, 5]                 \n",
      " 10                  -1  1    990976  ultralytics.nn.modules.block.PSA             [512, 512]                    \n",
      " 11                  -1  1         0  torch.nn.modules.upsampling.Upsample         [None, 2, 'nearest']          \n",
      " 12             [-1, 6]  1         0  ultralytics.nn.modules.conv.Concat           [1]                           \n",
      " 13                  -1  1    591360  ultralytics.nn.modules.block.C2f             [768, 256, 1]                 \n",
      " 14                  -1  1         0  torch.nn.modules.upsampling.Upsample         [None, 2, 'nearest']          \n",
      " 15             [-1, 4]  1         0  ultralytics.nn.modules.conv.Concat           [1]                           \n",
      " 16                  -1  1    148224  ultralytics.nn.modules.block.C2f             [384, 128, 1]                 \n",
      " 17                  -1  1    147712  ultralytics.nn.modules.conv.Conv             [128, 128, 3, 2]              \n",
      " 18            [-1, 13]  1         0  ultralytics.nn.modules.conv.Concat           [1]                           \n",
      " 19                  -1  1    493056  ultralytics.nn.modules.block.C2f             [384, 256, 1]                 \n",
      " 20                  -1  1     68864  ultralytics.nn.modules.block.SCDown          [256, 256, 3, 2]              \n",
      " 21            [-1, 10]  1         0  ultralytics.nn.modules.conv.Concat           [1]                           \n",
      " 22                  -1  1   1089536  ultralytics.nn.modules.block.C2fCIB          [768, 512, 1, True, True]     \n",
      " 23        [16, 19, 22]  1   1658150  ultralytics.nn.modules.head.v10Detect        [25, [128, 256, 512]]         \n",
      "YOLOv10s summary: 402 layers, 8,085,702 parameters, 8,085,686 gradients, 24.9 GFLOPs\n",
      "\n",
      "Transferred 619/619 items from pretrained weights\n",
      "\u001b[34m\u001b[1mTensorBoard: \u001b[0mStart with 'tensorboard --logdir runs/detect/train3', view at http://localhost:6006/\n",
      "Freezing layer 'model.23.dfl.conv.weight'\n",
      "\u001b[34m\u001b[1mAMP: \u001b[0mrunning Automatic Mixed Precision (AMP) checks...\n",
      "\u001b[34m\u001b[1mAMP: \u001b[0mchecks passed ✅\n"
     ]
    },
    {
     "name": "stderr",
     "output_type": "stream",
     "text": [
      "\u001b[34m\u001b[1mtrain: \u001b[0mScanning /content/drive/MyDrive/Q3_2/train/labels.cache... 5405 images, 12 backgrounds, 0 corrupt: 100%|██████████| 5405/5405 [00:00<?, ?it/s]"
     ]
    },
    {
     "name": "stdout",
     "output_type": "stream",
     "text": [
      "\u001b[34m\u001b[1malbumentations: \u001b[0mBlur(p=0.01, blur_limit=(3, 7)), MedianBlur(p=0.01, blur_limit=(3, 7)), ToGray(p=0.01, num_output_channels=3, method='weighted_average'), CLAHE(p=0.01, clip_limit=(1.0, 4.0), tile_grid_size=(8, 8))\n"
     ]
    },
    {
     "name": "stderr",
     "output_type": "stream",
     "text": [
      "\n",
      "\u001b[34m\u001b[1mval: \u001b[0mScanning /content/drive/MyDrive/Q3_2/valid/labels.cache... 641 images, 1 backgrounds, 0 corrupt: 100%|██████████| 641/641 [00:00<?, ?it/s]\n"
     ]
    },
    {
     "name": "stdout",
     "output_type": "stream",
     "text": [
      "Plotting labels to runs/detect/train3/labels.jpg... \n",
      "\u001b[34m\u001b[1moptimizer:\u001b[0m 'optimizer=auto' found, ignoring 'lr0=0.01' and 'momentum=0.937' and determining best 'optimizer', 'lr0' and 'momentum' automatically... \n",
      "\u001b[34m\u001b[1moptimizer:\u001b[0m AdamW(lr=0.000345, momentum=0.9) with parameter groups 99 weight(decay=0.0), 112 weight(decay=0.0005), 111 bias(decay=0.0)\n",
      "\u001b[34m\u001b[1mTensorBoard: \u001b[0mmodel graph visualization added ✅\n",
      "Image sizes 640 train, 640 val\n",
      "Using 8 dataloader workers\n",
      "Logging results to \u001b[1mruns/detect/train3\u001b[0m\n",
      "Starting training for 20 epochs...\n",
      "\n",
      "      Epoch    GPU_mem   box_loss   cls_loss   dfl_loss  Instances       Size\n"
     ]
    },
    {
     "name": "stderr",
     "output_type": "stream",
     "text": [
      "       1/20      3.08G      2.228       4.03      2.944          3        640: 100%|██████████| 676/676 [01:35<00:00,  7.05it/s]\n",
      "                 Class     Images  Instances      Box(P          R      mAP50  mAP50-95): 100%|██████████| 41/41 [00:02<00:00, 15.72it/s]"
     ]
    },
    {
     "name": "stdout",
     "output_type": "stream",
     "text": [
      "                   all        641        162      0.806      0.628      0.751      0.607\n"
     ]
    },
    {
     "name": "stderr",
     "output_type": "stream",
     "text": [
      "\n"
     ]
    },
    {
     "name": "stdout",
     "output_type": "stream",
     "text": [
      "\n",
      "      Epoch    GPU_mem   box_loss   cls_loss   dfl_loss  Instances       Size\n"
     ]
    },
    {
     "name": "stderr",
     "output_type": "stream",
     "text": [
      "       2/20      2.96G      1.715      2.487      2.597          8        640: 100%|██████████| 676/676 [01:29<00:00,  7.59it/s]\n",
      "                 Class     Images  Instances      Box(P          R      mAP50  mAP50-95): 100%|██████████| 41/41 [00:02<00:00, 15.23it/s]"
     ]
    },
    {
     "name": "stdout",
     "output_type": "stream",
     "text": [
      "                   all        641        162      0.648      0.632       0.73      0.581\n"
     ]
    },
    {
     "name": "stderr",
     "output_type": "stream",
     "text": [
      "\n"
     ]
    },
    {
     "name": "stdout",
     "output_type": "stream",
     "text": [
      "\n",
      "      Epoch    GPU_mem   box_loss   cls_loss   dfl_loss  Instances       Size\n"
     ]
    },
    {
     "name": "stderr",
     "output_type": "stream",
     "text": [
      "       3/20      2.95G      1.747      2.307      2.589          6        640: 100%|██████████| 676/676 [01:27<00:00,  7.75it/s]\n",
      "                 Class     Images  Instances      Box(P          R      mAP50  mAP50-95): 100%|██████████| 41/41 [00:02<00:00, 15.63it/s]"
     ]
    },
    {
     "name": "stdout",
     "output_type": "stream",
     "text": [
      "                   all        641        162      0.831      0.735      0.823      0.659\n"
     ]
    },
    {
     "name": "stderr",
     "output_type": "stream",
     "text": [
      "\n"
     ]
    },
    {
     "name": "stdout",
     "output_type": "stream",
     "text": [
      "\n",
      "      Epoch    GPU_mem   box_loss   cls_loss   dfl_loss  Instances       Size\n"
     ]
    },
    {
     "name": "stderr",
     "output_type": "stream",
     "text": [
      "       4/20      2.95G      1.686      2.177       2.54          4        640: 100%|██████████| 676/676 [01:26<00:00,  7.80it/s]\n",
      "                 Class     Images  Instances      Box(P          R      mAP50  mAP50-95): 100%|██████████| 41/41 [00:02<00:00, 15.01it/s]"
     ]
    },
    {
     "name": "stdout",
     "output_type": "stream",
     "text": [
      "                   all        641        162      0.837      0.694      0.777       0.62\n"
     ]
    },
    {
     "name": "stderr",
     "output_type": "stream",
     "text": [
      "\n"
     ]
    },
    {
     "name": "stdout",
     "output_type": "stream",
     "text": [
      "\n",
      "      Epoch    GPU_mem   box_loss   cls_loss   dfl_loss  Instances       Size\n"
     ]
    },
    {
     "name": "stderr",
     "output_type": "stream",
     "text": [
      "       5/20      2.95G      1.605      1.955      2.498          5        640: 100%|██████████| 676/676 [01:26<00:00,  7.78it/s]\n",
      "                 Class     Images  Instances      Box(P          R      mAP50  mAP50-95): 100%|██████████| 41/41 [00:02<00:00, 16.01it/s]\n"
     ]
    },
    {
     "name": "stdout",
     "output_type": "stream",
     "text": [
      "                   all        641        162      0.885      0.767      0.841      0.696\n",
      "\n",
      "      Epoch    GPU_mem   box_loss   cls_loss   dfl_loss  Instances       Size\n"
     ]
    },
    {
     "name": "stderr",
     "output_type": "stream",
     "text": [
      "       6/20      2.95G       1.59      1.867      2.489          3        640: 100%|██████████| 676/676 [01:26<00:00,  7.81it/s]\n",
      "                 Class     Images  Instances      Box(P          R      mAP50  mAP50-95): 100%|██████████| 41/41 [00:02<00:00, 16.37it/s]"
     ]
    },
    {
     "name": "stdout",
     "output_type": "stream",
     "text": [
      "                   all        641        162      0.821      0.811      0.862      0.699\n"
     ]
    },
    {
     "name": "stderr",
     "output_type": "stream",
     "text": [
      "\n"
     ]
    },
    {
     "name": "stdout",
     "output_type": "stream",
     "text": [
      "\n",
      "      Epoch    GPU_mem   box_loss   cls_loss   dfl_loss  Instances       Size\n"
     ]
    },
    {
     "name": "stderr",
     "output_type": "stream",
     "text": [
      "       7/20      2.95G      1.562      1.749      2.462          2        640: 100%|██████████| 676/676 [01:27<00:00,  7.75it/s]\n",
      "                 Class     Images  Instances      Box(P          R      mAP50  mAP50-95): 100%|██████████| 41/41 [00:02<00:00, 15.05it/s]"
     ]
    },
    {
     "name": "stdout",
     "output_type": "stream",
     "text": [
      "                   all        641        162      0.876      0.802       0.87      0.703\n"
     ]
    },
    {
     "name": "stderr",
     "output_type": "stream",
     "text": [
      "\n"
     ]
    },
    {
     "name": "stdout",
     "output_type": "stream",
     "text": [
      "\n",
      "      Epoch    GPU_mem   box_loss   cls_loss   dfl_loss  Instances       Size\n"
     ]
    },
    {
     "name": "stderr",
     "output_type": "stream",
     "text": [
      "       8/20      2.95G      1.512      1.659       2.42          2        640: 100%|██████████| 676/676 [01:26<00:00,  7.83it/s]\n",
      "                 Class     Images  Instances      Box(P          R      mAP50  mAP50-95): 100%|██████████| 41/41 [00:02<00:00, 15.96it/s]"
     ]
    },
    {
     "name": "stdout",
     "output_type": "stream",
     "text": [
      "                   all        641        162      0.878      0.833      0.872      0.714\n"
     ]
    },
    {
     "name": "stderr",
     "output_type": "stream",
     "text": [
      "\n"
     ]
    },
    {
     "name": "stdout",
     "output_type": "stream",
     "text": [
      "\n",
      "      Epoch    GPU_mem   box_loss   cls_loss   dfl_loss  Instances       Size\n"
     ]
    },
    {
     "name": "stderr",
     "output_type": "stream",
     "text": [
      "       9/20      2.95G      1.508      1.577      2.438          1        640: 100%|██████████| 676/676 [01:26<00:00,  7.81it/s]\n",
      "                 Class     Images  Instances      Box(P          R      mAP50  mAP50-95): 100%|██████████| 41/41 [00:02<00:00, 15.20it/s]"
     ]
    },
    {
     "name": "stdout",
     "output_type": "stream",
     "text": [
      "                   all        641        162      0.849      0.808      0.874       0.71\n"
     ]
    },
    {
     "name": "stderr",
     "output_type": "stream",
     "text": [
      "\n"
     ]
    },
    {
     "name": "stdout",
     "output_type": "stream",
     "text": [
      "\n",
      "      Epoch    GPU_mem   box_loss   cls_loss   dfl_loss  Instances       Size\n"
     ]
    },
    {
     "name": "stderr",
     "output_type": "stream",
     "text": [
      "      10/20      2.95G      1.458      1.518       2.36          2        640: 100%|██████████| 676/676 [01:27<00:00,  7.75it/s]\n",
      "                 Class     Images  Instances      Box(P          R      mAP50  mAP50-95): 100%|██████████| 41/41 [00:02<00:00, 15.68it/s]"
     ]
    },
    {
     "name": "stdout",
     "output_type": "stream",
     "text": [
      "                   all        641        162      0.913      0.757       0.89      0.722\n"
     ]
    },
    {
     "name": "stderr",
     "output_type": "stream",
     "text": [
      "\n"
     ]
    },
    {
     "name": "stdout",
     "output_type": "stream",
     "text": [
      "Closing dataloader mosaic\n",
      "\u001b[34m\u001b[1malbumentations: \u001b[0mBlur(p=0.01, blur_limit=(3, 7)), MedianBlur(p=0.01, blur_limit=(3, 7)), ToGray(p=0.01, num_output_channels=3, method='weighted_average'), CLAHE(p=0.01, clip_limit=(1.0, 4.0), tile_grid_size=(8, 8))\n",
      "\n",
      "      Epoch    GPU_mem   box_loss   cls_loss   dfl_loss  Instances       Size\n"
     ]
    },
    {
     "name": "stderr",
     "output_type": "stream",
     "text": [
      "      11/20      2.95G      1.108      0.819      2.195          2        640: 100%|██████████| 676/676 [01:25<00:00,  7.87it/s]\n",
      "                 Class     Images  Instances      Box(P          R      mAP50  mAP50-95): 100%|██████████| 41/41 [00:02<00:00, 15.90it/s]"
     ]
    },
    {
     "name": "stdout",
     "output_type": "stream",
     "text": [
      "                   all        641        162      0.882      0.835      0.882      0.713\n"
     ]
    },
    {
     "name": "stderr",
     "output_type": "stream",
     "text": [
      "\n"
     ]
    },
    {
     "name": "stdout",
     "output_type": "stream",
     "text": [
      "\n",
      "      Epoch    GPU_mem   box_loss   cls_loss   dfl_loss  Instances       Size\n"
     ]
    },
    {
     "name": "stderr",
     "output_type": "stream",
     "text": [
      "      12/20      2.95G      1.078     0.7378      2.133          2        640: 100%|██████████| 676/676 [01:25<00:00,  7.91it/s]\n",
      "                 Class     Images  Instances      Box(P          R      mAP50  mAP50-95): 100%|██████████| 41/41 [00:02<00:00, 15.24it/s]"
     ]
    },
    {
     "name": "stdout",
     "output_type": "stream",
     "text": [
      "                   all        641        162      0.868      0.865       0.89      0.736\n"
     ]
    },
    {
     "name": "stderr",
     "output_type": "stream",
     "text": [
      "\n"
     ]
    },
    {
     "name": "stdout",
     "output_type": "stream",
     "text": [
      "\n",
      "      Epoch    GPU_mem   box_loss   cls_loss   dfl_loss  Instances       Size\n"
     ]
    },
    {
     "name": "stderr",
     "output_type": "stream",
     "text": [
      "      13/20      2.95G       1.04     0.7645      2.131          2        640: 100%|██████████| 676/676 [01:25<00:00,  7.93it/s]\n",
      "                 Class     Images  Instances      Box(P          R      mAP50  mAP50-95): 100%|██████████| 41/41 [00:02<00:00, 15.50it/s]"
     ]
    },
    {
     "name": "stdout",
     "output_type": "stream",
     "text": [
      "                   all        641        162      0.891       0.82      0.893       0.71\n"
     ]
    },
    {
     "name": "stderr",
     "output_type": "stream",
     "text": [
      "\n"
     ]
    },
    {
     "name": "stdout",
     "output_type": "stream",
     "text": [
      "\n",
      "      Epoch    GPU_mem   box_loss   cls_loss   dfl_loss  Instances       Size\n"
     ]
    },
    {
     "name": "stderr",
     "output_type": "stream",
     "text": [
      "      14/20      2.95G      1.007     0.6347      2.096          1        640: 100%|██████████| 676/676 [01:25<00:00,  7.88it/s]\n",
      "                 Class     Images  Instances      Box(P          R      mAP50  mAP50-95): 100%|██████████| 41/41 [00:02<00:00, 16.30it/s]"
     ]
    },
    {
     "name": "stdout",
     "output_type": "stream",
     "text": [
      "                   all        641        162      0.908      0.849      0.897      0.741\n"
     ]
    },
    {
     "name": "stderr",
     "output_type": "stream",
     "text": [
      "\n"
     ]
    },
    {
     "name": "stdout",
     "output_type": "stream",
     "text": [
      "\n",
      "      Epoch    GPU_mem   box_loss   cls_loss   dfl_loss  Instances       Size\n"
     ]
    },
    {
     "name": "stderr",
     "output_type": "stream",
     "text": [
      "      15/20      2.95G     0.9954     0.5861        2.1          0        640: 100%|██████████| 676/676 [01:25<00:00,  7.90it/s]\n",
      "                 Class     Images  Instances      Box(P          R      mAP50  mAP50-95): 100%|██████████| 41/41 [00:02<00:00, 15.50it/s]"
     ]
    },
    {
     "name": "stdout",
     "output_type": "stream",
     "text": [
      "                   all        641        162       0.88      0.868      0.899      0.754\n"
     ]
    },
    {
     "name": "stderr",
     "output_type": "stream",
     "text": [
      "\n"
     ]
    },
    {
     "name": "stdout",
     "output_type": "stream",
     "text": [
      "\n",
      "      Epoch    GPU_mem   box_loss   cls_loss   dfl_loss  Instances       Size\n"
     ]
    },
    {
     "name": "stderr",
     "output_type": "stream",
     "text": [
      "      16/20      2.95G     0.9643     0.5525      2.072          0        640: 100%|██████████| 676/676 [01:25<00:00,  7.92it/s]\n",
      "                 Class     Images  Instances      Box(P          R      mAP50  mAP50-95): 100%|██████████| 41/41 [00:02<00:00, 15.27it/s]"
     ]
    },
    {
     "name": "stdout",
     "output_type": "stream",
     "text": [
      "                   all        641        162      0.882      0.873        0.9      0.755\n"
     ]
    },
    {
     "name": "stderr",
     "output_type": "stream",
     "text": [
      "\n"
     ]
    },
    {
     "name": "stdout",
     "output_type": "stream",
     "text": [
      "\n",
      "      Epoch    GPU_mem   box_loss   cls_loss   dfl_loss  Instances       Size\n"
     ]
    },
    {
     "name": "stderr",
     "output_type": "stream",
     "text": [
      "      17/20      2.95G     0.9308     0.5243      2.027          2        640: 100%|██████████| 676/676 [01:25<00:00,  7.93it/s]\n",
      "                 Class     Images  Instances      Box(P          R      mAP50  mAP50-95): 100%|██████████| 41/41 [00:02<00:00, 16.01it/s]"
     ]
    },
    {
     "name": "stdout",
     "output_type": "stream",
     "text": [
      "                   all        641        162      0.919      0.841       0.91      0.751\n"
     ]
    },
    {
     "name": "stderr",
     "output_type": "stream",
     "text": [
      "\n"
     ]
    },
    {
     "name": "stdout",
     "output_type": "stream",
     "text": [
      "\n",
      "      Epoch    GPU_mem   box_loss   cls_loss   dfl_loss  Instances       Size\n"
     ]
    },
    {
     "name": "stderr",
     "output_type": "stream",
     "text": [
      "      18/20      2.89G     0.8966     0.4639      2.019          2        640: 100%|██████████| 676/676 [01:25<00:00,  7.91it/s]\n",
      "                 Class     Images  Instances      Box(P          R      mAP50  mAP50-95): 100%|██████████| 41/41 [00:02<00:00, 15.66it/s]"
     ]
    },
    {
     "name": "stdout",
     "output_type": "stream",
     "text": [
      "                   all        641        162      0.921      0.893       0.92      0.763\n"
     ]
    },
    {
     "name": "stderr",
     "output_type": "stream",
     "text": [
      "\n"
     ]
    },
    {
     "name": "stdout",
     "output_type": "stream",
     "text": [
      "\n",
      "      Epoch    GPU_mem   box_loss   cls_loss   dfl_loss  Instances       Size\n"
     ]
    },
    {
     "name": "stderr",
     "output_type": "stream",
     "text": [
      "      19/20      2.95G     0.8764     0.4657      1.994          2        640: 100%|██████████| 676/676 [01:25<00:00,  7.92it/s]\n",
      "                 Class     Images  Instances      Box(P          R      mAP50  mAP50-95): 100%|██████████| 41/41 [00:02<00:00, 15.69it/s]"
     ]
    },
    {
     "name": "stdout",
     "output_type": "stream",
     "text": [
      "                   all        641        162      0.923      0.881      0.924      0.778\n"
     ]
    },
    {
     "name": "stderr",
     "output_type": "stream",
     "text": [
      "\n"
     ]
    },
    {
     "name": "stdout",
     "output_type": "stream",
     "text": [
      "\n",
      "      Epoch    GPU_mem   box_loss   cls_loss   dfl_loss  Instances       Size\n"
     ]
    },
    {
     "name": "stderr",
     "output_type": "stream",
     "text": [
      "      20/20      2.95G     0.8397     0.4484      1.943          1        640: 100%|██████████| 676/676 [01:25<00:00,  7.90it/s]\n",
      "                 Class     Images  Instances      Box(P          R      mAP50  mAP50-95): 100%|██████████| 41/41 [00:02<00:00, 16.05it/s]"
     ]
    },
    {
     "name": "stdout",
     "output_type": "stream",
     "text": [
      "                   all        641        162      0.929      0.884      0.918      0.769\n"
     ]
    },
    {
     "name": "stderr",
     "output_type": "stream",
     "text": [
      "\n"
     ]
    },
    {
     "name": "stdout",
     "output_type": "stream",
     "text": [
      "\n",
      "20 epochs completed in 0.544 hours.\n",
      "Optimizer stripped from runs/detect/train3/weights/last.pt, 16.6MB\n",
      "Optimizer stripped from runs/detect/train3/weights/best.pt, 16.6MB\n",
      "\n",
      "Validating runs/detect/train3/weights/best.pt...\n",
      "Ultralytics 8.3.23 🚀 Python-3.10.12 torch-2.5.0+cu121 CUDA:0 (NVIDIA A100-SXM4-40GB, 40514MiB)\n",
      "YOLOv10s summary (fused): 293 layers, 8,054,310 parameters, 0 gradients, 24.5 GFLOPs\n"
     ]
    },
    {
     "name": "stderr",
     "output_type": "stream",
     "text": [
      "                 Class     Images  Instances      Box(P          R      mAP50  mAP50-95): 100%|██████████| 41/41 [00:02<00:00, 18.70it/s]\n"
     ]
    },
    {
     "name": "stdout",
     "output_type": "stream",
     "text": [
      "                   all        641        162      0.923      0.881      0.924      0.777\n",
      "-Road narrows on right         15         15          1       0.93      0.949      0.836\n",
      "        No_Over_Taking         23         23          1      0.983      0.995      0.782\n",
      "          One way road         27         27          1      0.812       0.87      0.766\n",
      "    Speed limit 20 Kph         40         42      0.893      0.791      0.929      0.769\n",
      "    Speed limit 30 Kph         48         55      0.721      0.891      0.877      0.732\n",
      "Speed: 0.1ms preprocess, 1.3ms inference, 0.0ms loss, 0.1ms postprocess per image\n",
      "Results saved to \u001b[1mruns/detect/train3\u001b[0m\n"
     ]
    }
   ],
   "source": [
    "model = YOLO(\"/content/runs/detect/train2/weights/best.pt\")\n",
    "\n",
    "# Train the model\n",
    "results = model.train(data=data_yaml_without_hs_path, epochs=20, batch=8, imgsz=640, dropout=0.1, classes = [0, 8, 9, 14, 15], cache=False) #train the model with data without hs.yaml"
   ]
  },
  {
   "cell_type": "code",
   "execution_count": null,
   "metadata": {},
   "outputs": [],
   "source": [
    "#finetuning on the entire train dataset"
   ]
  },
  {
   "cell_type": "code",
   "execution_count": null,
   "metadata": {
    "colab": {
     "base_uri": "https://localhost:8080/"
    },
    "id": "oTlbgqUpMZh3",
    "outputId": "a862f632-5eae-42d9-e991-9638e4179fc7"
   },
   "outputs": [
    {
     "name": "stdout",
     "output_type": "stream",
     "text": [
      "Ultralytics 8.3.23 🚀 Python-3.10.12 torch-2.5.0+cu121 CUDA:0 (NVIDIA A100-SXM4-40GB, 40514MiB)\n",
      "\u001b[34m\u001b[1mengine/trainer: \u001b[0mtask=detect, mode=train, model=/content/runs/detect/train3/weights/best.pt, data=/content/drive/MyDrive/Q3_2/data_without_hsv.yaml, epochs=10, time=None, patience=100, batch=8, imgsz=640, save=True, save_period=-1, cache=False, device=None, workers=8, project=None, name=train4, exist_ok=False, pretrained=True, optimizer=auto, verbose=True, seed=0, deterministic=True, single_cls=False, rect=False, cos_lr=False, close_mosaic=10, resume=False, amp=True, fraction=1.0, profile=False, freeze=None, multi_scale=False, overlap_mask=True, mask_ratio=4, dropout=0.1, val=True, split=val, save_json=False, save_hybrid=False, conf=None, iou=0.7, max_det=300, half=False, dnn=False, plots=True, source=None, vid_stride=1, stream_buffer=False, visualize=False, augment=False, agnostic_nms=False, classes=None, retina_masks=False, embed=None, show=False, save_frames=False, save_txt=False, save_conf=False, save_crop=False, show_labels=True, show_conf=True, show_boxes=True, line_width=None, format=torchscript, keras=False, optimize=False, int8=False, dynamic=False, simplify=True, opset=None, workspace=4, nms=False, lr0=0.01, lrf=0.01, momentum=0.937, weight_decay=0.0005, warmup_epochs=3.0, warmup_momentum=0.8, warmup_bias_lr=0.1, box=7.5, cls=0.5, dfl=1.5, pose=12.0, kobj=1.0, label_smoothing=0.0, nbs=64, hsv_h=0.015, hsv_s=0.7, hsv_v=0.4, degrees=0.0, translate=0.1, scale=0.5, shear=0.0, perspective=0.0, flipud=0.0, fliplr=0.5, bgr=0.0, mosaic=1.0, mixup=0.0, copy_paste=0.0, copy_paste_mode=flip, auto_augment=randaugment, erasing=0.4, crop_fraction=1.0, cfg=None, tracker=botsort.yaml, save_dir=runs/detect/train4\n",
      "\n",
      "                   from  n    params  module                                       arguments                     \n",
      "  0                  -1  1       928  ultralytics.nn.modules.conv.Conv             [3, 32, 3, 2]                 \n",
      "  1                  -1  1     18560  ultralytics.nn.modules.conv.Conv             [32, 64, 3, 2]                \n",
      "  2                  -1  1     29056  ultralytics.nn.modules.block.C2f             [64, 64, 1, True]             \n",
      "  3                  -1  1     73984  ultralytics.nn.modules.conv.Conv             [64, 128, 3, 2]               \n",
      "  4                  -1  2    197632  ultralytics.nn.modules.block.C2f             [128, 128, 2, True]           \n",
      "  5                  -1  1     36096  ultralytics.nn.modules.block.SCDown          [128, 256, 3, 2]              \n",
      "  6                  -1  2    788480  ultralytics.nn.modules.block.C2f             [256, 256, 2, True]           \n",
      "  7                  -1  1    137728  ultralytics.nn.modules.block.SCDown          [256, 512, 3, 2]              \n",
      "  8                  -1  1    958464  ultralytics.nn.modules.block.C2fCIB          [512, 512, 1, True, True]     \n",
      "  9                  -1  1    656896  ultralytics.nn.modules.block.SPPF            [512, 512, 5]                 \n",
      " 10                  -1  1    990976  ultralytics.nn.modules.block.PSA             [512, 512]                    \n",
      " 11                  -1  1         0  torch.nn.modules.upsampling.Upsample         [None, 2, 'nearest']          \n",
      " 12             [-1, 6]  1         0  ultralytics.nn.modules.conv.Concat           [1]                           \n",
      " 13                  -1  1    591360  ultralytics.nn.modules.block.C2f             [768, 256, 1]                 \n",
      " 14                  -1  1         0  torch.nn.modules.upsampling.Upsample         [None, 2, 'nearest']          \n",
      " 15             [-1, 4]  1         0  ultralytics.nn.modules.conv.Concat           [1]                           \n",
      " 16                  -1  1    148224  ultralytics.nn.modules.block.C2f             [384, 128, 1]                 \n",
      " 17                  -1  1    147712  ultralytics.nn.modules.conv.Conv             [128, 128, 3, 2]              \n",
      " 18            [-1, 13]  1         0  ultralytics.nn.modules.conv.Concat           [1]                           \n",
      " 19                  -1  1    493056  ultralytics.nn.modules.block.C2f             [384, 256, 1]                 \n",
      " 20                  -1  1     68864  ultralytics.nn.modules.block.SCDown          [256, 256, 3, 2]              \n",
      " 21            [-1, 10]  1         0  ultralytics.nn.modules.conv.Concat           [1]                           \n",
      " 22                  -1  1   1089536  ultralytics.nn.modules.block.C2fCIB          [768, 512, 1, True, True]     \n",
      " 23        [16, 19, 22]  1   1658150  ultralytics.nn.modules.head.v10Detect        [25, [128, 256, 512]]         \n",
      "YOLOv10s summary: 402 layers, 8,085,702 parameters, 8,085,686 gradients, 24.9 GFLOPs\n",
      "\n",
      "Transferred 619/619 items from pretrained weights\n",
      "\u001b[34m\u001b[1mTensorBoard: \u001b[0mStart with 'tensorboard --logdir runs/detect/train4', view at http://localhost:6006/\n",
      "Freezing layer 'model.23.dfl.conv.weight'\n",
      "\u001b[34m\u001b[1mAMP: \u001b[0mrunning Automatic Mixed Precision (AMP) checks...\n",
      "\u001b[34m\u001b[1mAMP: \u001b[0mchecks passed ✅\n"
     ]
    },
    {
     "name": "stderr",
     "output_type": "stream",
     "text": [
      "\u001b[34m\u001b[1mtrain: \u001b[0mScanning /content/drive/MyDrive/Q3_2/train/labels.cache... 5405 images, 12 backgrounds, 0 corrupt: 100%|██████████| 5405/5405 [00:00<?, ?it/s]"
     ]
    },
    {
     "name": "stdout",
     "output_type": "stream",
     "text": [
      "\u001b[34m\u001b[1malbumentations: \u001b[0mBlur(p=0.01, blur_limit=(3, 7)), MedianBlur(p=0.01, blur_limit=(3, 7)), ToGray(p=0.01, num_output_channels=3, method='weighted_average'), CLAHE(p=0.01, clip_limit=(1.0, 4.0), tile_grid_size=(8, 8))\n"
     ]
    },
    {
     "name": "stderr",
     "output_type": "stream",
     "text": [
      "\n",
      "\u001b[34m\u001b[1mval: \u001b[0mScanning /content/drive/MyDrive/Q3_2/valid/labels.cache... 641 images, 1 backgrounds, 0 corrupt: 100%|██████████| 641/641 [00:00<?, ?it/s]\n"
     ]
    },
    {
     "name": "stdout",
     "output_type": "stream",
     "text": [
      "Plotting labels to runs/detect/train4/labels.jpg... \n",
      "\u001b[34m\u001b[1moptimizer:\u001b[0m 'optimizer=auto' found, ignoring 'lr0=0.01' and 'momentum=0.937' and determining best 'optimizer', 'lr0' and 'momentum' automatically... \n",
      "\u001b[34m\u001b[1moptimizer:\u001b[0m AdamW(lr=0.000345, momentum=0.9) with parameter groups 99 weight(decay=0.0), 112 weight(decay=0.0005), 111 bias(decay=0.0)\n",
      "\u001b[34m\u001b[1mTensorBoard: \u001b[0mmodel graph visualization added ✅\n",
      "Image sizes 640 train, 640 val\n",
      "Using 8 dataloader workers\n",
      "Logging results to \u001b[1mruns/detect/train4\u001b[0m\n",
      "Starting training for 10 epochs...\n",
      "Closing dataloader mosaic\n",
      "\u001b[34m\u001b[1malbumentations: \u001b[0mBlur(p=0.01, blur_limit=(3, 7)), MedianBlur(p=0.01, blur_limit=(3, 7)), ToGray(p=0.01, num_output_channels=3, method='weighted_average'), CLAHE(p=0.01, clip_limit=(1.0, 4.0), tile_grid_size=(8, 8))\n",
      "\n",
      "      Epoch    GPU_mem   box_loss   cls_loss   dfl_loss  Instances       Size\n"
     ]
    },
    {
     "name": "stderr",
     "output_type": "stream",
     "text": [
      "       1/10      3.18G      1.408      4.617      2.207          5        640: 100%|██████████| 676/676 [01:37<00:00,  6.94it/s]\n",
      "                 Class     Images  Instances      Box(P          R      mAP50  mAP50-95): 100%|██████████| 41/41 [00:03<00:00, 11.66it/s]"
     ]
    },
    {
     "name": "stdout",
     "output_type": "stream",
     "text": [
      "                   all        641        819      0.978      0.168      0.221       0.18\n"
     ]
    },
    {
     "name": "stderr",
     "output_type": "stream",
     "text": [
      "\n"
     ]
    },
    {
     "name": "stdout",
     "output_type": "stream",
     "text": [
      "\n",
      "      Epoch    GPU_mem   box_loss   cls_loss   dfl_loss  Instances       Size\n"
     ]
    },
    {
     "name": "stderr",
     "output_type": "stream",
     "text": [
      "       2/10      3.16G      1.339      4.045      2.184          7        640: 100%|██████████| 676/676 [01:30<00:00,  7.51it/s]\n",
      "                 Class     Images  Instances      Box(P          R      mAP50  mAP50-95): 100%|██████████| 41/41 [00:03<00:00, 11.11it/s]"
     ]
    },
    {
     "name": "stdout",
     "output_type": "stream",
     "text": [
      "                   all        641        819      0.929      0.208      0.278      0.224\n"
     ]
    },
    {
     "name": "stderr",
     "output_type": "stream",
     "text": [
      "\n"
     ]
    },
    {
     "name": "stdout",
     "output_type": "stream",
     "text": [
      "\n",
      "      Epoch    GPU_mem   box_loss   cls_loss   dfl_loss  Instances       Size\n"
     ]
    },
    {
     "name": "stderr",
     "output_type": "stream",
     "text": [
      "       3/10      3.17G      1.339      3.482      2.258          9        640: 100%|██████████| 676/676 [01:28<00:00,  7.67it/s]\n",
      "                 Class     Images  Instances      Box(P          R      mAP50  mAP50-95): 100%|██████████| 41/41 [00:03<00:00, 10.89it/s]"
     ]
    },
    {
     "name": "stdout",
     "output_type": "stream",
     "text": [
      "                   all        641        819      0.899      0.255      0.318      0.254\n"
     ]
    },
    {
     "name": "stderr",
     "output_type": "stream",
     "text": [
      "\n"
     ]
    },
    {
     "name": "stdout",
     "output_type": "stream",
     "text": [
      "\n",
      "      Epoch    GPU_mem   box_loss   cls_loss   dfl_loss  Instances       Size\n"
     ]
    },
    {
     "name": "stderr",
     "output_type": "stream",
     "text": [
      "       4/10      3.15G      1.312      3.115      2.287          9        640: 100%|██████████| 676/676 [01:27<00:00,  7.75it/s]\n",
      "                 Class     Images  Instances      Box(P          R      mAP50  mAP50-95): 100%|██████████| 41/41 [00:03<00:00, 11.02it/s]"
     ]
    },
    {
     "name": "stdout",
     "output_type": "stream",
     "text": [
      "                   all        641        819      0.917      0.307       0.39      0.304\n"
     ]
    },
    {
     "name": "stderr",
     "output_type": "stream",
     "text": [
      "\n"
     ]
    },
    {
     "name": "stdout",
     "output_type": "stream",
     "text": [
      "\n",
      "      Epoch    GPU_mem   box_loss   cls_loss   dfl_loss  Instances       Size\n"
     ]
    },
    {
     "name": "stderr",
     "output_type": "stream",
     "text": [
      "       5/10      3.15G      1.267      2.819      2.301          6        640: 100%|██████████| 676/676 [01:27<00:00,  7.73it/s]\n",
      "                 Class     Images  Instances      Box(P          R      mAP50  mAP50-95): 100%|██████████| 41/41 [00:03<00:00, 10.74it/s]"
     ]
    },
    {
     "name": "stdout",
     "output_type": "stream",
     "text": [
      "                   all        641        819      0.845      0.386      0.445      0.346\n"
     ]
    },
    {
     "name": "stderr",
     "output_type": "stream",
     "text": [
      "\n"
     ]
    },
    {
     "name": "stdout",
     "output_type": "stream",
     "text": [
      "\n",
      "      Epoch    GPU_mem   box_loss   cls_loss   dfl_loss  Instances       Size\n"
     ]
    },
    {
     "name": "stderr",
     "output_type": "stream",
     "text": [
      "       6/10      3.15G      1.236      2.548      2.304         10        640: 100%|██████████| 676/676 [01:27<00:00,  7.73it/s]\n",
      "                 Class     Images  Instances      Box(P          R      mAP50  mAP50-95): 100%|██████████| 41/41 [00:04<00:00, 10.11it/s]"
     ]
    },
    {
     "name": "stdout",
     "output_type": "stream",
     "text": [
      "                   all        641        819      0.898      0.407      0.486      0.383\n"
     ]
    },
    {
     "name": "stderr",
     "output_type": "stream",
     "text": [
      "\n"
     ]
    },
    {
     "name": "stdout",
     "output_type": "stream",
     "text": [
      "\n",
      "      Epoch    GPU_mem   box_loss   cls_loss   dfl_loss  Instances       Size\n"
     ]
    },
    {
     "name": "stderr",
     "output_type": "stream",
     "text": [
      "       7/10      3.15G      1.199      2.409      2.279          5        640: 100%|██████████| 676/676 [01:27<00:00,  7.73it/s]\n",
      "                 Class     Images  Instances      Box(P          R      mAP50  mAP50-95): 100%|██████████| 41/41 [00:03<00:00, 10.94it/s]"
     ]
    },
    {
     "name": "stdout",
     "output_type": "stream",
     "text": [
      "                   all        641        819      0.863      0.424      0.509      0.403\n"
     ]
    },
    {
     "name": "stderr",
     "output_type": "stream",
     "text": [
      "\n"
     ]
    },
    {
     "name": "stdout",
     "output_type": "stream",
     "text": [
      "\n",
      "      Epoch    GPU_mem   box_loss   cls_loss   dfl_loss  Instances       Size\n"
     ]
    },
    {
     "name": "stderr",
     "output_type": "stream",
     "text": [
      "       8/10      3.15G      1.169      2.307      2.272          6        640: 100%|██████████| 676/676 [01:27<00:00,  7.73it/s]\n",
      "                 Class     Images  Instances      Box(P          R      mAP50  mAP50-95): 100%|██████████| 41/41 [00:03<00:00, 10.89it/s]"
     ]
    },
    {
     "name": "stdout",
     "output_type": "stream",
     "text": [
      "                   all        641        819       0.87      0.451      0.528      0.418\n"
     ]
    },
    {
     "name": "stderr",
     "output_type": "stream",
     "text": [
      "\n"
     ]
    },
    {
     "name": "stdout",
     "output_type": "stream",
     "text": [
      "\n",
      "      Epoch    GPU_mem   box_loss   cls_loss   dfl_loss  Instances       Size\n"
     ]
    },
    {
     "name": "stderr",
     "output_type": "stream",
     "text": [
      "       9/10      3.15G      1.144      2.213       2.26          6        640: 100%|██████████| 676/676 [01:27<00:00,  7.72it/s]\n",
      "                 Class     Images  Instances      Box(P          R      mAP50  mAP50-95): 100%|██████████| 41/41 [00:03<00:00, 10.56it/s]"
     ]
    },
    {
     "name": "stdout",
     "output_type": "stream",
     "text": [
      "                   all        641        819      0.827      0.481      0.543      0.429\n"
     ]
    },
    {
     "name": "stderr",
     "output_type": "stream",
     "text": [
      "\n"
     ]
    },
    {
     "name": "stdout",
     "output_type": "stream",
     "text": [
      "\n",
      "      Epoch    GPU_mem   box_loss   cls_loss   dfl_loss  Instances       Size\n"
     ]
    },
    {
     "name": "stderr",
     "output_type": "stream",
     "text": [
      "      10/10      3.15G      1.111      2.156      2.246          7        640: 100%|██████████| 676/676 [01:27<00:00,  7.70it/s]\n",
      "                 Class     Images  Instances      Box(P          R      mAP50  mAP50-95): 100%|██████████| 41/41 [00:03<00:00, 10.70it/s]"
     ]
    },
    {
     "name": "stdout",
     "output_type": "stream",
     "text": [
      "                   all        641        819      0.706      0.533      0.555      0.442\n"
     ]
    },
    {
     "name": "stderr",
     "output_type": "stream",
     "text": [
      "\n"
     ]
    },
    {
     "name": "stdout",
     "output_type": "stream",
     "text": [
      "\n",
      "10 epochs completed in 0.291 hours.\n",
      "Optimizer stripped from runs/detect/train4/weights/last.pt, 16.6MB\n",
      "Optimizer stripped from runs/detect/train4/weights/best.pt, 16.6MB\n",
      "\n",
      "Validating runs/detect/train4/weights/best.pt...\n",
      "Ultralytics 8.3.23 🚀 Python-3.10.12 torch-2.5.0+cu121 CUDA:0 (NVIDIA A100-SXM4-40GB, 40514MiB)\n",
      "YOLOv10s summary (fused): 293 layers, 8,054,310 parameters, 0 gradients, 24.5 GFLOPs\n"
     ]
    },
    {
     "name": "stderr",
     "output_type": "stream",
     "text": [
      "                 Class     Images  Instances      Box(P          R      mAP50  mAP50-95): 100%|██████████| 41/41 [00:03<00:00, 11.35it/s]\n"
     ]
    },
    {
     "name": "stdout",
     "output_type": "stream",
     "text": [
      "                   all        641        819      0.704      0.533      0.553       0.44\n",
      "-Road narrows on right         15         15      0.938      0.933      0.991      0.858\n",
      "     Attention Please-         23         23          1          0       0.16      0.141\n",
      "    Beware of children         23         23      0.529      0.217       0.33      0.266\n",
      "CYCLE ROUTE AHEAD WARNING         29         29          1          0      0.124      0.112\n",
      "             Crosswalk         42         43      0.795      0.767      0.749      0.533\n",
      "Dangerous Left Curve Ahead         24         24      0.748     0.0833      0.168      0.134\n",
      "Dangerous Rright Curve Ahead         30         30          1          0       0.11     0.0971\n",
      "              No Entry         44         45          1          0     0.0662     0.0603\n",
      "        No_Over_Taking         23         23      0.866      0.957       0.97      0.707\n",
      "          One way road         27         27      0.679      0.889      0.896      0.772\n",
      "      Speed bump ahead         50         50      0.884          1      0.992       0.79\n",
      "           Speed limit         32         34      0.684      0.882      0.888       0.64\n",
      "   Speed limit 100 Kph         38         38      0.883      0.974      0.973      0.723\n",
      "   Speed limit 120 Kph         28         28      0.571       0.75      0.782      0.583\n",
      "    Speed limit 20 Kph         40         42      0.714      0.929      0.939      0.772\n",
      "    Speed limit 30 Kph         48         55      0.592      0.982      0.845      0.688\n",
      "    Speed limit 40 Kph         72         73      0.655      0.877      0.882      0.656\n",
      "    Speed limit 50 Kph         27         27      0.242      0.148      0.208      0.162\n",
      "    Speed limit 60 Kph         32         32          0          0     0.0715     0.0641\n",
      "    Speed limit 70 Kph         16         16      0.583        0.5      0.529      0.396\n",
      "    Speed limit 80 Kph         45         45      0.669      0.889      0.885      0.729\n",
      "    Speed limit 90 Kph         31         31       0.47      0.677      0.697      0.581\n",
      "             Stop_Sign         33         33      0.108      0.879      0.286      0.262\n",
      "           Uneven Road         23         23          1          0       0.25      0.223\n",
      "            roundabout         10         10          1          0     0.0419     0.0407\n",
      "Speed: 0.1ms preprocess, 1.3ms inference, 0.0ms loss, 0.1ms postprocess per image\n",
      "Results saved to \u001b[1mruns/detect/train4\u001b[0m\n"
     ]
    }
   ],
   "source": [
    "model = YOLO(\"/content/runs/detect/train3/weights/best.pt\")\n",
    "\n",
    "# Train the model\n",
    "results = model.train(data=data_yaml_without_hs_path, epochs=10, batch=8, imgsz=640, dropout=0.1, cache=False)"
   ]
  },
  {
   "cell_type": "code",
   "execution_count": null,
   "metadata": {},
   "outputs": [],
   "source": [
    "#further finetuning on entire dataset using differnet parameters"
   ]
  },
  {
   "cell_type": "code",
   "execution_count": null,
   "metadata": {
    "colab": {
     "base_uri": "https://localhost:8080/"
    },
    "id": "_ovKPg3qe25q",
    "outputId": "fb51e091-ea32-4c2d-a8cc-4feb74f5247f"
   },
   "outputs": [
    {
     "name": "stdout",
     "output_type": "stream",
     "text": [
      "Ultralytics 8.3.23 🚀 Python-3.10.12 torch-2.5.0+cu121 CUDA:0 (NVIDIA A100-SXM4-40GB, 40514MiB)\n",
      "\u001b[34m\u001b[1mengine/trainer: \u001b[0mtask=detect, mode=train, model=/content/runs/detect/train4/weights/best.pt, data=/content/drive/MyDrive/Q3_2/data_without_hsv.yaml, epochs=40, time=None, patience=100, batch=8, imgsz=640, save=True, save_period=-1, cache=False, device=None, workers=8, project=None, name=train5, exist_ok=False, pretrained=True, optimizer=auto, verbose=True, seed=0, deterministic=True, single_cls=False, rect=False, cos_lr=False, close_mosaic=10, resume=False, amp=True, fraction=1.0, profile=False, freeze=None, multi_scale=False, overlap_mask=True, mask_ratio=4, dropout=0.1, val=True, split=val, save_json=False, save_hybrid=False, conf=None, iou=0.7, max_det=300, half=False, dnn=False, plots=True, source=None, vid_stride=1, stream_buffer=False, visualize=False, augment=False, agnostic_nms=False, classes=None, retina_masks=False, embed=None, show=False, save_frames=False, save_txt=False, save_conf=False, save_crop=False, show_labels=True, show_conf=True, show_boxes=True, line_width=None, format=torchscript, keras=False, optimize=False, int8=False, dynamic=False, simplify=True, opset=None, workspace=4, nms=False, lr0=0.01, lrf=0.01, momentum=0.937, weight_decay=0.0005, warmup_epochs=3.0, warmup_momentum=0.8, warmup_bias_lr=0.1, box=7.5, cls=0.5, dfl=1.5, pose=12.0, kobj=1.0, label_smoothing=0.0, nbs=64, hsv_h=0.015, hsv_s=0.7, hsv_v=0.4, degrees=0.0, translate=0.1, scale=0.5, shear=0.0, perspective=0.0, flipud=0.0, fliplr=0.5, bgr=0.0, mosaic=1.0, mixup=0.0, copy_paste=0.0, copy_paste_mode=flip, auto_augment=randaugment, erasing=0.4, crop_fraction=1.0, cfg=None, tracker=botsort.yaml, save_dir=runs/detect/train5\n",
      "\n",
      "                   from  n    params  module                                       arguments                     \n",
      "  0                  -1  1       928  ultralytics.nn.modules.conv.Conv             [3, 32, 3, 2]                 \n",
      "  1                  -1  1     18560  ultralytics.nn.modules.conv.Conv             [32, 64, 3, 2]                \n",
      "  2                  -1  1     29056  ultralytics.nn.modules.block.C2f             [64, 64, 1, True]             \n",
      "  3                  -1  1     73984  ultralytics.nn.modules.conv.Conv             [64, 128, 3, 2]               \n",
      "  4                  -1  2    197632  ultralytics.nn.modules.block.C2f             [128, 128, 2, True]           \n",
      "  5                  -1  1     36096  ultralytics.nn.modules.block.SCDown          [128, 256, 3, 2]              \n",
      "  6                  -1  2    788480  ultralytics.nn.modules.block.C2f             [256, 256, 2, True]           \n",
      "  7                  -1  1    137728  ultralytics.nn.modules.block.SCDown          [256, 512, 3, 2]              \n",
      "  8                  -1  1    958464  ultralytics.nn.modules.block.C2fCIB          [512, 512, 1, True, True]     \n",
      "  9                  -1  1    656896  ultralytics.nn.modules.block.SPPF            [512, 512, 5]                 \n",
      " 10                  -1  1    990976  ultralytics.nn.modules.block.PSA             [512, 512]                    \n",
      " 11                  -1  1         0  torch.nn.modules.upsampling.Upsample         [None, 2, 'nearest']          \n",
      " 12             [-1, 6]  1         0  ultralytics.nn.modules.conv.Concat           [1]                           \n",
      " 13                  -1  1    591360  ultralytics.nn.modules.block.C2f             [768, 256, 1]                 \n",
      " 14                  -1  1         0  torch.nn.modules.upsampling.Upsample         [None, 2, 'nearest']          \n",
      " 15             [-1, 4]  1         0  ultralytics.nn.modules.conv.Concat           [1]                           \n",
      " 16                  -1  1    148224  ultralytics.nn.modules.block.C2f             [384, 128, 1]                 \n",
      " 17                  -1  1    147712  ultralytics.nn.modules.conv.Conv             [128, 128, 3, 2]              \n",
      " 18            [-1, 13]  1         0  ultralytics.nn.modules.conv.Concat           [1]                           \n",
      " 19                  -1  1    493056  ultralytics.nn.modules.block.C2f             [384, 256, 1]                 \n",
      " 20                  -1  1     68864  ultralytics.nn.modules.block.SCDown          [256, 256, 3, 2]              \n",
      " 21            [-1, 10]  1         0  ultralytics.nn.modules.conv.Concat           [1]                           \n",
      " 22                  -1  1   1089536  ultralytics.nn.modules.block.C2fCIB          [768, 512, 1, True, True]     \n",
      " 23        [16, 19, 22]  1   1658150  ultralytics.nn.modules.head.v10Detect        [25, [128, 256, 512]]         \n",
      "YOLOv10s summary: 402 layers, 8,085,702 parameters, 8,085,686 gradients, 24.9 GFLOPs\n",
      "\n",
      "Transferred 619/619 items from pretrained weights\n",
      "\u001b[34m\u001b[1mTensorBoard: \u001b[0mStart with 'tensorboard --logdir runs/detect/train5', view at http://localhost:6006/\n",
      "Freezing layer 'model.23.dfl.conv.weight'\n",
      "\u001b[34m\u001b[1mAMP: \u001b[0mrunning Automatic Mixed Precision (AMP) checks...\n",
      "\u001b[34m\u001b[1mAMP: \u001b[0mchecks passed ✅\n"
     ]
    },
    {
     "name": "stderr",
     "output_type": "stream",
     "text": [
      "\u001b[34m\u001b[1mtrain: \u001b[0mScanning /content/drive/MyDrive/Q3_2/train/labels.cache... 5405 images, 12 backgrounds, 0 corrupt: 100%|██████████| 5405/5405 [00:00<?, ?it/s]"
     ]
    },
    {
     "name": "stdout",
     "output_type": "stream",
     "text": [
      "\u001b[34m\u001b[1malbumentations: \u001b[0mBlur(p=0.01, blur_limit=(3, 7)), MedianBlur(p=0.01, blur_limit=(3, 7)), ToGray(p=0.01, num_output_channels=3, method='weighted_average'), CLAHE(p=0.01, clip_limit=(1.0, 4.0), tile_grid_size=(8, 8))\n"
     ]
    },
    {
     "name": "stderr",
     "output_type": "stream",
     "text": [
      "\n",
      "\u001b[34m\u001b[1mval: \u001b[0mScanning /content/drive/MyDrive/Q3_2/valid/labels.cache... 641 images, 1 backgrounds, 0 corrupt: 100%|██████████| 641/641 [00:00<?, ?it/s]\n"
     ]
    },
    {
     "name": "stdout",
     "output_type": "stream",
     "text": [
      "Plotting labels to runs/detect/train5/labels.jpg... \n",
      "\u001b[34m\u001b[1moptimizer:\u001b[0m 'optimizer=auto' found, ignoring 'lr0=0.01' and 'momentum=0.937' and determining best 'optimizer', 'lr0' and 'momentum' automatically... \n",
      "\u001b[34m\u001b[1moptimizer:\u001b[0m AdamW(lr=0.000345, momentum=0.9) with parameter groups 99 weight(decay=0.0), 112 weight(decay=0.0005), 111 bias(decay=0.0)\n",
      "\u001b[34m\u001b[1mTensorBoard: \u001b[0mmodel graph visualization added ✅\n",
      "Image sizes 640 train, 640 val\n",
      "Using 8 dataloader workers\n",
      "Logging results to \u001b[1mruns/detect/train5\u001b[0m\n",
      "Starting training for 40 epochs...\n",
      "\n",
      "      Epoch    GPU_mem   box_loss   cls_loss   dfl_loss  Instances       Size\n"
     ]
    },
    {
     "name": "stderr",
     "output_type": "stream",
     "text": [
      "       1/40      3.28G      1.536       3.06      2.432         17        640: 100%|██████████| 676/676 [01:39<00:00,  6.81it/s]\n",
      "                 Class     Images  Instances      Box(P          R      mAP50  mAP50-95): 100%|██████████| 41/41 [00:03<00:00, 11.40it/s]"
     ]
    },
    {
     "name": "stdout",
     "output_type": "stream",
     "text": [
      "                   all        641        819       0.87      0.458      0.539      0.418\n"
     ]
    },
    {
     "name": "stderr",
     "output_type": "stream",
     "text": [
      "\n"
     ]
    },
    {
     "name": "stdout",
     "output_type": "stream",
     "text": [
      "\n",
      "      Epoch    GPU_mem   box_loss   cls_loss   dfl_loss  Instances       Size\n"
     ]
    },
    {
     "name": "stderr",
     "output_type": "stream",
     "text": [
      "       2/40      3.17G      1.496      2.858      2.415         22        640: 100%|██████████| 676/676 [01:31<00:00,  7.36it/s]\n",
      "                 Class     Images  Instances      Box(P          R      mAP50  mAP50-95): 100%|██████████| 41/41 [00:03<00:00, 10.66it/s]"
     ]
    },
    {
     "name": "stdout",
     "output_type": "stream",
     "text": [
      "                   all        641        819      0.668      0.524      0.559      0.436\n"
     ]
    },
    {
     "name": "stderr",
     "output_type": "stream",
     "text": [
      "\n"
     ]
    },
    {
     "name": "stdout",
     "output_type": "stream",
     "text": [
      "\n",
      "      Epoch    GPU_mem   box_loss   cls_loss   dfl_loss  Instances       Size\n"
     ]
    },
    {
     "name": "stderr",
     "output_type": "stream",
     "text": [
      "       3/40      3.15G      1.495      2.691      2.412         15        640: 100%|██████████| 676/676 [01:29<00:00,  7.54it/s]\n",
      "                 Class     Images  Instances      Box(P          R      mAP50  mAP50-95): 100%|██████████| 41/41 [00:03<00:00, 10.91it/s]"
     ]
    },
    {
     "name": "stdout",
     "output_type": "stream",
     "text": [
      "                   all        641        819      0.712      0.556      0.585       0.46\n"
     ]
    },
    {
     "name": "stderr",
     "output_type": "stream",
     "text": [
      "\n"
     ]
    },
    {
     "name": "stdout",
     "output_type": "stream",
     "text": [
      "\n",
      "      Epoch    GPU_mem   box_loss   cls_loss   dfl_loss  Instances       Size\n"
     ]
    },
    {
     "name": "stderr",
     "output_type": "stream",
     "text": [
      "       4/40      3.16G      1.512      2.506      2.423         15        640: 100%|██████████| 676/676 [01:29<00:00,  7.59it/s]\n",
      "                 Class     Images  Instances      Box(P          R      mAP50  mAP50-95): 100%|██████████| 41/41 [00:03<00:00, 11.26it/s]"
     ]
    },
    {
     "name": "stdout",
     "output_type": "stream",
     "text": [
      "                   all        641        819       0.54        0.7      0.604      0.474\n"
     ]
    },
    {
     "name": "stderr",
     "output_type": "stream",
     "text": [
      "\n"
     ]
    },
    {
     "name": "stdout",
     "output_type": "stream",
     "text": [
      "\n",
      "      Epoch    GPU_mem   box_loss   cls_loss   dfl_loss  Instances       Size\n"
     ]
    },
    {
     "name": "stderr",
     "output_type": "stream",
     "text": [
      "       5/40      3.15G      1.479      2.329      2.415         14        640: 100%|██████████| 676/676 [01:29<00:00,  7.58it/s]\n",
      "                 Class     Images  Instances      Box(P          R      mAP50  mAP50-95): 100%|██████████| 41/41 [00:03<00:00, 10.59it/s]"
     ]
    },
    {
     "name": "stdout",
     "output_type": "stream",
     "text": [
      "                   all        641        819      0.583      0.761      0.661      0.527\n"
     ]
    },
    {
     "name": "stderr",
     "output_type": "stream",
     "text": [
      "\n"
     ]
    },
    {
     "name": "stdout",
     "output_type": "stream",
     "text": [
      "\n",
      "      Epoch    GPU_mem   box_loss   cls_loss   dfl_loss  Instances       Size\n"
     ]
    },
    {
     "name": "stderr",
     "output_type": "stream",
     "text": [
      "       6/40      3.15G      1.471      2.167      2.398          9        640: 100%|██████████| 676/676 [01:29<00:00,  7.58it/s]\n",
      "                 Class     Images  Instances      Box(P          R      mAP50  mAP50-95): 100%|██████████| 41/41 [00:03<00:00, 10.66it/s]"
     ]
    },
    {
     "name": "stdout",
     "output_type": "stream",
     "text": [
      "                   all        641        819      0.672        0.7      0.702      0.564\n"
     ]
    },
    {
     "name": "stderr",
     "output_type": "stream",
     "text": [
      "\n"
     ]
    },
    {
     "name": "stdout",
     "output_type": "stream",
     "text": [
      "\n",
      "      Epoch    GPU_mem   box_loss   cls_loss   dfl_loss  Instances       Size\n"
     ]
    },
    {
     "name": "stderr",
     "output_type": "stream",
     "text": [
      "       7/40      3.15G      1.452      2.017      2.377         11        640: 100%|██████████| 676/676 [01:28<00:00,  7.60it/s]\n",
      "                 Class     Images  Instances      Box(P          R      mAP50  mAP50-95): 100%|██████████| 41/41 [00:03<00:00, 11.37it/s]"
     ]
    },
    {
     "name": "stdout",
     "output_type": "stream",
     "text": [
      "                   all        641        819      0.673      0.784       0.75      0.602\n"
     ]
    },
    {
     "name": "stderr",
     "output_type": "stream",
     "text": [
      "\n"
     ]
    },
    {
     "name": "stdout",
     "output_type": "stream",
     "text": [
      "\n",
      "      Epoch    GPU_mem   box_loss   cls_loss   dfl_loss  Instances       Size\n"
     ]
    },
    {
     "name": "stderr",
     "output_type": "stream",
     "text": [
      "       8/40      3.14G      1.436       1.93      2.376          7        640: 100%|██████████| 676/676 [01:28<00:00,  7.60it/s]\n",
      "                 Class     Images  Instances      Box(P          R      mAP50  mAP50-95): 100%|██████████| 41/41 [00:03<00:00, 10.84it/s]"
     ]
    },
    {
     "name": "stdout",
     "output_type": "stream",
     "text": [
      "                   all        641        819      0.725      0.734      0.783      0.633\n"
     ]
    },
    {
     "name": "stderr",
     "output_type": "stream",
     "text": [
      "\n"
     ]
    },
    {
     "name": "stdout",
     "output_type": "stream",
     "text": [
      "\n",
      "      Epoch    GPU_mem   box_loss   cls_loss   dfl_loss  Instances       Size\n"
     ]
    },
    {
     "name": "stderr",
     "output_type": "stream",
     "text": [
      "       9/40      3.15G      1.428      1.825      2.373         10        640: 100%|██████████| 676/676 [01:28<00:00,  7.63it/s]\n",
      "                 Class     Images  Instances      Box(P          R      mAP50  mAP50-95): 100%|██████████| 41/41 [00:03<00:00, 11.26it/s]"
     ]
    },
    {
     "name": "stdout",
     "output_type": "stream",
     "text": [
      "                   all        641        819      0.713      0.838      0.844      0.695\n"
     ]
    },
    {
     "name": "stderr",
     "output_type": "stream",
     "text": [
      "\n"
     ]
    },
    {
     "name": "stdout",
     "output_type": "stream",
     "text": [
      "\n",
      "      Epoch    GPU_mem   box_loss   cls_loss   dfl_loss  Instances       Size\n"
     ]
    },
    {
     "name": "stderr",
     "output_type": "stream",
     "text": [
      "      10/40      3.16G      1.406      1.734      2.348         10        640: 100%|██████████| 676/676 [01:29<00:00,  7.58it/s]\n",
      "                 Class     Images  Instances      Box(P          R      mAP50  mAP50-95): 100%|██████████| 41/41 [00:03<00:00, 10.83it/s]"
     ]
    },
    {
     "name": "stdout",
     "output_type": "stream",
     "text": [
      "                   all        641        819      0.782      0.805      0.841      0.685\n"
     ]
    },
    {
     "name": "stderr",
     "output_type": "stream",
     "text": [
      "\n"
     ]
    },
    {
     "name": "stdout",
     "output_type": "stream",
     "text": [
      "\n",
      "      Epoch    GPU_mem   box_loss   cls_loss   dfl_loss  Instances       Size\n"
     ]
    },
    {
     "name": "stderr",
     "output_type": "stream",
     "text": [
      "      11/40      3.15G      1.419      1.667      2.358         12        640: 100%|██████████| 676/676 [01:29<00:00,  7.58it/s]\n",
      "                 Class     Images  Instances      Box(P          R      mAP50  mAP50-95): 100%|██████████| 41/41 [00:03<00:00, 10.94it/s]"
     ]
    },
    {
     "name": "stdout",
     "output_type": "stream",
     "text": [
      "                   all        641        819        0.8      0.805      0.841      0.688\n"
     ]
    },
    {
     "name": "stderr",
     "output_type": "stream",
     "text": [
      "\n"
     ]
    },
    {
     "name": "stdout",
     "output_type": "stream",
     "text": [
      "\n",
      "      Epoch    GPU_mem   box_loss   cls_loss   dfl_loss  Instances       Size\n"
     ]
    },
    {
     "name": "stderr",
     "output_type": "stream",
     "text": [
      "      12/40      3.15G      1.375      1.554      2.332         13        640: 100%|██████████| 676/676 [01:28<00:00,  7.60it/s]\n",
      "                 Class     Images  Instances      Box(P          R      mAP50  mAP50-95): 100%|██████████| 41/41 [00:03<00:00, 11.50it/s]"
     ]
    },
    {
     "name": "stdout",
     "output_type": "stream",
     "text": [
      "                   all        641        819      0.838      0.849      0.863      0.704\n"
     ]
    },
    {
     "name": "stderr",
     "output_type": "stream",
     "text": [
      "\n"
     ]
    },
    {
     "name": "stdout",
     "output_type": "stream",
     "text": [
      "\n",
      "      Epoch    GPU_mem   box_loss   cls_loss   dfl_loss  Instances       Size\n"
     ]
    },
    {
     "name": "stderr",
     "output_type": "stream",
     "text": [
      "      13/40      3.15G      1.382      1.534       2.33         11        640: 100%|██████████| 676/676 [01:28<00:00,  7.60it/s]\n",
      "                 Class     Images  Instances      Box(P          R      mAP50  mAP50-95): 100%|██████████| 41/41 [00:03<00:00, 10.92it/s]"
     ]
    },
    {
     "name": "stdout",
     "output_type": "stream",
     "text": [
      "                   all        641        819      0.827      0.825      0.848      0.698\n"
     ]
    },
    {
     "name": "stderr",
     "output_type": "stream",
     "text": [
      "\n"
     ]
    },
    {
     "name": "stdout",
     "output_type": "stream",
     "text": [
      "\n",
      "      Epoch    GPU_mem   box_loss   cls_loss   dfl_loss  Instances       Size\n"
     ]
    },
    {
     "name": "stderr",
     "output_type": "stream",
     "text": [
      "      14/40      3.15G      1.358      1.455      2.311         14        640: 100%|██████████| 676/676 [01:28<00:00,  7.60it/s]\n",
      "                 Class     Images  Instances      Box(P          R      mAP50  mAP50-95): 100%|██████████| 41/41 [00:03<00:00, 10.70it/s]"
     ]
    },
    {
     "name": "stdout",
     "output_type": "stream",
     "text": [
      "                   all        641        819      0.849      0.817      0.865      0.713\n"
     ]
    },
    {
     "name": "stderr",
     "output_type": "stream",
     "text": [
      "\n"
     ]
    },
    {
     "name": "stdout",
     "output_type": "stream",
     "text": [
      "\n",
      "      Epoch    GPU_mem   box_loss   cls_loss   dfl_loss  Instances       Size\n"
     ]
    },
    {
     "name": "stderr",
     "output_type": "stream",
     "text": [
      "      15/40      3.15G      1.343      1.429      2.308         15        640: 100%|██████████| 676/676 [01:29<00:00,  7.56it/s]\n",
      "                 Class     Images  Instances      Box(P          R      mAP50  mAP50-95): 100%|██████████| 41/41 [00:03<00:00, 11.41it/s]"
     ]
    },
    {
     "name": "stdout",
     "output_type": "stream",
     "text": [
      "                   all        641        819      0.851      0.839       0.89      0.733\n"
     ]
    },
    {
     "name": "stderr",
     "output_type": "stream",
     "text": [
      "\n"
     ]
    },
    {
     "name": "stdout",
     "output_type": "stream",
     "text": [
      "\n",
      "      Epoch    GPU_mem   box_loss   cls_loss   dfl_loss  Instances       Size\n"
     ]
    },
    {
     "name": "stderr",
     "output_type": "stream",
     "text": [
      "      16/40      3.15G       1.33      1.383        2.3         12        640: 100%|██████████| 676/676 [01:29<00:00,  7.59it/s]\n",
      "                 Class     Images  Instances      Box(P          R      mAP50  mAP50-95): 100%|██████████| 41/41 [00:03<00:00, 11.07it/s]"
     ]
    },
    {
     "name": "stdout",
     "output_type": "stream",
     "text": [
      "                   all        641        819      0.851      0.863      0.901      0.744\n"
     ]
    },
    {
     "name": "stderr",
     "output_type": "stream",
     "text": [
      "\n"
     ]
    },
    {
     "name": "stdout",
     "output_type": "stream",
     "text": [
      "\n",
      "      Epoch    GPU_mem   box_loss   cls_loss   dfl_loss  Instances       Size\n"
     ]
    },
    {
     "name": "stderr",
     "output_type": "stream",
     "text": [
      "      17/40      3.15G      1.335       1.34      2.291         13        640: 100%|██████████| 676/676 [01:28<00:00,  7.61it/s]\n",
      "                 Class     Images  Instances      Box(P          R      mAP50  mAP50-95): 100%|██████████| 41/41 [00:03<00:00, 11.26it/s]\n"
     ]
    },
    {
     "name": "stdout",
     "output_type": "stream",
     "text": [
      "                   all        641        819      0.892       0.83      0.901      0.739\n",
      "\n",
      "      Epoch    GPU_mem   box_loss   cls_loss   dfl_loss  Instances       Size\n"
     ]
    },
    {
     "name": "stderr",
     "output_type": "stream",
     "text": [
      "      18/40      3.15G      1.309      1.283      2.283         12        640: 100%|██████████| 676/676 [01:29<00:00,  7.55it/s]\n",
      "                 Class     Images  Instances      Box(P          R      mAP50  mAP50-95): 100%|██████████| 41/41 [00:03<00:00, 11.14it/s]"
     ]
    },
    {
     "name": "stdout",
     "output_type": "stream",
     "text": [
      "                   all        641        819      0.891      0.857      0.904      0.741\n"
     ]
    },
    {
     "name": "stderr",
     "output_type": "stream",
     "text": [
      "\n"
     ]
    },
    {
     "name": "stdout",
     "output_type": "stream",
     "text": [
      "\n",
      "      Epoch    GPU_mem   box_loss   cls_loss   dfl_loss  Instances       Size\n"
     ]
    },
    {
     "name": "stderr",
     "output_type": "stream",
     "text": [
      "      19/40      3.15G      1.296      1.247      2.271         15        640: 100%|██████████| 676/676 [01:29<00:00,  7.58it/s]\n",
      "                 Class     Images  Instances      Box(P          R      mAP50  mAP50-95): 100%|██████████| 41/41 [00:03<00:00, 10.41it/s]"
     ]
    },
    {
     "name": "stdout",
     "output_type": "stream",
     "text": [
      "                   all        641        819      0.918      0.827       0.91      0.757\n"
     ]
    },
    {
     "name": "stderr",
     "output_type": "stream",
     "text": [
      "\n"
     ]
    },
    {
     "name": "stdout",
     "output_type": "stream",
     "text": [
      "\n",
      "      Epoch    GPU_mem   box_loss   cls_loss   dfl_loss  Instances       Size\n"
     ]
    },
    {
     "name": "stderr",
     "output_type": "stream",
     "text": [
      "      20/40      3.14G      1.296      1.241      2.264         11        640: 100%|██████████| 676/676 [01:28<00:00,  7.60it/s]\n",
      "                 Class     Images  Instances      Box(P          R      mAP50  mAP50-95): 100%|██████████| 41/41 [00:03<00:00, 11.51it/s]"
     ]
    },
    {
     "name": "stdout",
     "output_type": "stream",
     "text": [
      "                   all        641        819      0.901      0.851      0.908      0.754\n"
     ]
    },
    {
     "name": "stderr",
     "output_type": "stream",
     "text": [
      "\n"
     ]
    },
    {
     "name": "stdout",
     "output_type": "stream",
     "text": [
      "\n",
      "      Epoch    GPU_mem   box_loss   cls_loss   dfl_loss  Instances       Size\n"
     ]
    },
    {
     "name": "stderr",
     "output_type": "stream",
     "text": [
      "      21/40      3.15G      1.276      1.181      2.258         13        640: 100%|██████████| 676/676 [01:29<00:00,  7.58it/s]\n",
      "                 Class     Images  Instances      Box(P          R      mAP50  mAP50-95): 100%|██████████| 41/41 [00:03<00:00, 10.65it/s]"
     ]
    },
    {
     "name": "stdout",
     "output_type": "stream",
     "text": [
      "                   all        641        819      0.879      0.876      0.912      0.754\n"
     ]
    },
    {
     "name": "stderr",
     "output_type": "stream",
     "text": [
      "\n"
     ]
    },
    {
     "name": "stdout",
     "output_type": "stream",
     "text": [
      "\n",
      "      Epoch    GPU_mem   box_loss   cls_loss   dfl_loss  Instances       Size\n"
     ]
    },
    {
     "name": "stderr",
     "output_type": "stream",
     "text": [
      "      22/40      3.15G      1.268      1.155      2.247         10        640: 100%|██████████| 676/676 [01:28<00:00,  7.60it/s]\n",
      "                 Class     Images  Instances      Box(P          R      mAP50  mAP50-95): 100%|██████████| 41/41 [00:03<00:00, 10.62it/s]"
     ]
    },
    {
     "name": "stdout",
     "output_type": "stream",
     "text": [
      "                   all        641        819       0.89      0.878      0.911      0.755\n"
     ]
    },
    {
     "name": "stderr",
     "output_type": "stream",
     "text": [
      "\n"
     ]
    },
    {
     "name": "stdout",
     "output_type": "stream",
     "text": [
      "\n",
      "      Epoch    GPU_mem   box_loss   cls_loss   dfl_loss  Instances       Size\n"
     ]
    },
    {
     "name": "stderr",
     "output_type": "stream",
     "text": [
      "      23/40      3.15G      1.257       1.14      2.247         11        640: 100%|██████████| 676/676 [01:28<00:00,  7.60it/s]\n",
      "                 Class     Images  Instances      Box(P          R      mAP50  mAP50-95): 100%|██████████| 41/41 [00:03<00:00, 11.35it/s]"
     ]
    },
    {
     "name": "stdout",
     "output_type": "stream",
     "text": [
      "                   all        641        819      0.908      0.879      0.923      0.763\n"
     ]
    },
    {
     "name": "stderr",
     "output_type": "stream",
     "text": [
      "\n"
     ]
    },
    {
     "name": "stdout",
     "output_type": "stream",
     "text": [
      "\n",
      "      Epoch    GPU_mem   box_loss   cls_loss   dfl_loss  Instances       Size\n"
     ]
    },
    {
     "name": "stderr",
     "output_type": "stream",
     "text": [
      "      24/40      3.14G      1.246      1.139      2.247         19        640: 100%|██████████| 676/676 [01:28<00:00,  7.60it/s]\n",
      "                 Class     Images  Instances      Box(P          R      mAP50  mAP50-95): 100%|██████████| 41/41 [00:03<00:00, 11.07it/s]"
     ]
    },
    {
     "name": "stdout",
     "output_type": "stream",
     "text": [
      "                   all        641        819       0.91      0.848      0.922      0.764\n"
     ]
    },
    {
     "name": "stderr",
     "output_type": "stream",
     "text": [
      "\n"
     ]
    },
    {
     "name": "stdout",
     "output_type": "stream",
     "text": [
      "\n",
      "      Epoch    GPU_mem   box_loss   cls_loss   dfl_loss  Instances       Size\n"
     ]
    },
    {
     "name": "stderr",
     "output_type": "stream",
     "text": [
      "      25/40      3.15G      1.233      1.085      2.215         15        640: 100%|██████████| 676/676 [01:29<00:00,  7.56it/s]\n",
      "                 Class     Images  Instances      Box(P          R      mAP50  mAP50-95): 100%|██████████| 41/41 [00:03<00:00, 11.26it/s]"
     ]
    },
    {
     "name": "stdout",
     "output_type": "stream",
     "text": [
      "                   all        641        819      0.899      0.878      0.924      0.766\n"
     ]
    },
    {
     "name": "stderr",
     "output_type": "stream",
     "text": [
      "\n"
     ]
    },
    {
     "name": "stdout",
     "output_type": "stream",
     "text": [
      "\n",
      "      Epoch    GPU_mem   box_loss   cls_loss   dfl_loss  Instances       Size\n"
     ]
    },
    {
     "name": "stderr",
     "output_type": "stream",
     "text": [
      "      26/40      3.16G      1.218      1.078      2.209         11        640: 100%|██████████| 676/676 [01:29<00:00,  7.54it/s]\n",
      "                 Class     Images  Instances      Box(P          R      mAP50  mAP50-95): 100%|██████████| 41/41 [00:03<00:00, 11.33it/s]"
     ]
    },
    {
     "name": "stdout",
     "output_type": "stream",
     "text": [
      "                   all        641        819        0.9      0.873      0.923       0.77\n"
     ]
    },
    {
     "name": "stderr",
     "output_type": "stream",
     "text": [
      "\n"
     ]
    },
    {
     "name": "stdout",
     "output_type": "stream",
     "text": [
      "\n",
      "      Epoch    GPU_mem   box_loss   cls_loss   dfl_loss  Instances       Size\n"
     ]
    },
    {
     "name": "stderr",
     "output_type": "stream",
     "text": [
      "      27/40      3.15G      1.196      1.049      2.206         12        640: 100%|██████████| 676/676 [01:29<00:00,  7.57it/s]\n",
      "                 Class     Images  Instances      Box(P          R      mAP50  mAP50-95): 100%|██████████| 41/41 [00:03<00:00, 10.63it/s]"
     ]
    },
    {
     "name": "stdout",
     "output_type": "stream",
     "text": [
      "                   all        641        819      0.935      0.861      0.926      0.769\n"
     ]
    },
    {
     "name": "stderr",
     "output_type": "stream",
     "text": [
      "\n"
     ]
    },
    {
     "name": "stdout",
     "output_type": "stream",
     "text": [
      "\n",
      "      Epoch    GPU_mem   box_loss   cls_loss   dfl_loss  Instances       Size\n"
     ]
    },
    {
     "name": "stderr",
     "output_type": "stream",
     "text": [
      "      28/40      3.15G      1.189      1.043      2.193         10        640: 100%|██████████| 676/676 [01:29<00:00,  7.59it/s]\n",
      "                 Class     Images  Instances      Box(P          R      mAP50  mAP50-95): 100%|██████████| 41/41 [00:03<00:00, 11.17it/s]"
     ]
    },
    {
     "name": "stdout",
     "output_type": "stream",
     "text": [
      "                   all        641        819      0.904      0.874      0.922      0.765\n"
     ]
    },
    {
     "name": "stderr",
     "output_type": "stream",
     "text": [
      "\n"
     ]
    },
    {
     "name": "stdout",
     "output_type": "stream",
     "text": [
      "\n",
      "      Epoch    GPU_mem   box_loss   cls_loss   dfl_loss  Instances       Size\n"
     ]
    },
    {
     "name": "stderr",
     "output_type": "stream",
     "text": [
      "      29/40      3.15G      1.182      1.018      2.199         11        640: 100%|██████████| 676/676 [01:29<00:00,  7.56it/s]\n",
      "                 Class     Images  Instances      Box(P          R      mAP50  mAP50-95): 100%|██████████| 41/41 [00:03<00:00, 10.84it/s]"
     ]
    },
    {
     "name": "stdout",
     "output_type": "stream",
     "text": [
      "                   all        641        819      0.897      0.896      0.927       0.77\n"
     ]
    },
    {
     "name": "stderr",
     "output_type": "stream",
     "text": [
      "\n"
     ]
    },
    {
     "name": "stdout",
     "output_type": "stream",
     "text": [
      "\n",
      "      Epoch    GPU_mem   box_loss   cls_loss   dfl_loss  Instances       Size\n"
     ]
    },
    {
     "name": "stderr",
     "output_type": "stream",
     "text": [
      "      30/40      3.15G      1.174      1.027      2.196         14        640: 100%|██████████| 676/676 [01:28<00:00,  7.61it/s]\n",
      "                 Class     Images  Instances      Box(P          R      mAP50  mAP50-95): 100%|██████████| 41/41 [00:03<00:00, 10.88it/s]"
     ]
    },
    {
     "name": "stdout",
     "output_type": "stream",
     "text": [
      "                   all        641        819      0.925      0.884      0.924      0.774\n"
     ]
    },
    {
     "name": "stderr",
     "output_type": "stream",
     "text": [
      "\n"
     ]
    },
    {
     "name": "stdout",
     "output_type": "stream",
     "text": [
      "Closing dataloader mosaic\n",
      "\u001b[34m\u001b[1malbumentations: \u001b[0mBlur(p=0.01, blur_limit=(3, 7)), MedianBlur(p=0.01, blur_limit=(3, 7)), ToGray(p=0.01, num_output_channels=3, method='weighted_average'), CLAHE(p=0.01, clip_limit=(1.0, 4.0), tile_grid_size=(8, 8))\n",
      "\n",
      "      Epoch    GPU_mem   box_loss   cls_loss   dfl_loss  Instances       Size\n"
     ]
    },
    {
     "name": "stderr",
     "output_type": "stream",
     "text": [
      "      31/40      3.15G     0.9758     0.5699      2.119          5        640: 100%|██████████| 676/676 [01:29<00:00,  7.54it/s]\n",
      "                 Class     Images  Instances      Box(P          R      mAP50  mAP50-95): 100%|██████████| 41/41 [00:03<00:00, 11.52it/s]"
     ]
    },
    {
     "name": "stdout",
     "output_type": "stream",
     "text": [
      "                   all        641        819      0.911      0.869      0.917      0.763\n"
     ]
    },
    {
     "name": "stderr",
     "output_type": "stream",
     "text": [
      "\n"
     ]
    },
    {
     "name": "stdout",
     "output_type": "stream",
     "text": [
      "\n",
      "      Epoch    GPU_mem   box_loss   cls_loss   dfl_loss  Instances       Size\n"
     ]
    },
    {
     "name": "stderr",
     "output_type": "stream",
     "text": [
      "      32/40      3.14G     0.9546     0.5516      2.103          6        640: 100%|██████████| 676/676 [01:29<00:00,  7.57it/s]\n",
      "                 Class     Images  Instances      Box(P          R      mAP50  mAP50-95): 100%|██████████| 41/41 [00:03<00:00, 10.68it/s]"
     ]
    },
    {
     "name": "stdout",
     "output_type": "stream",
     "text": [
      "                   all        641        819       0.92      0.881      0.925      0.775\n"
     ]
    },
    {
     "name": "stderr",
     "output_type": "stream",
     "text": [
      "\n"
     ]
    },
    {
     "name": "stdout",
     "output_type": "stream",
     "text": [
      "\n",
      "      Epoch    GPU_mem   box_loss   cls_loss   dfl_loss  Instances       Size\n"
     ]
    },
    {
     "name": "stderr",
     "output_type": "stream",
     "text": [
      "      33/40      3.15G     0.9322     0.5296      2.096          8        640: 100%|██████████| 676/676 [01:28<00:00,  7.61it/s]\n",
      "                 Class     Images  Instances      Box(P          R      mAP50  mAP50-95): 100%|██████████| 41/41 [00:03<00:00, 10.44it/s]"
     ]
    },
    {
     "name": "stdout",
     "output_type": "stream",
     "text": [
      "                   all        641        819      0.932      0.864      0.923       0.77\n"
     ]
    },
    {
     "name": "stderr",
     "output_type": "stream",
     "text": [
      "\n"
     ]
    },
    {
     "name": "stdout",
     "output_type": "stream",
     "text": [
      "\n",
      "      Epoch    GPU_mem   box_loss   cls_loss   dfl_loss  Instances       Size\n"
     ]
    },
    {
     "name": "stderr",
     "output_type": "stream",
     "text": [
      "      34/40      3.14G     0.9229     0.5185      2.073          6        640: 100%|██████████| 676/676 [01:29<00:00,  7.59it/s]\n",
      "                 Class     Images  Instances      Box(P          R      mAP50  mAP50-95): 100%|██████████| 41/41 [00:03<00:00, 11.46it/s]"
     ]
    },
    {
     "name": "stdout",
     "output_type": "stream",
     "text": [
      "                   all        641        819      0.904      0.884      0.925      0.773\n"
     ]
    },
    {
     "name": "stderr",
     "output_type": "stream",
     "text": [
      "\n"
     ]
    },
    {
     "name": "stdout",
     "output_type": "stream",
     "text": [
      "\n",
      "      Epoch    GPU_mem   box_loss   cls_loss   dfl_loss  Instances       Size\n"
     ]
    },
    {
     "name": "stderr",
     "output_type": "stream",
     "text": [
      "      35/40      3.15G     0.9048     0.5028      2.066          8        640: 100%|██████████| 676/676 [01:28<00:00,  7.60it/s]\n",
      "                 Class     Images  Instances      Box(P          R      mAP50  mAP50-95): 100%|██████████| 41/41 [00:03<00:00, 10.53it/s]"
     ]
    },
    {
     "name": "stdout",
     "output_type": "stream",
     "text": [
      "                   all        641        819       0.91       0.89      0.929      0.774\n"
     ]
    },
    {
     "name": "stderr",
     "output_type": "stream",
     "text": [
      "\n"
     ]
    },
    {
     "name": "stdout",
     "output_type": "stream",
     "text": [
      "\n",
      "      Epoch    GPU_mem   box_loss   cls_loss   dfl_loss  Instances       Size\n"
     ]
    },
    {
     "name": "stderr",
     "output_type": "stream",
     "text": [
      "      36/40      3.14G     0.8876     0.4812      2.055          5        640: 100%|██████████| 676/676 [01:28<00:00,  7.63it/s]\n",
      "                 Class     Images  Instances      Box(P          R      mAP50  mAP50-95): 100%|██████████| 41/41 [00:03<00:00, 10.82it/s]"
     ]
    },
    {
     "name": "stdout",
     "output_type": "stream",
     "text": [
      "                   all        641        819      0.919      0.885      0.929      0.778\n"
     ]
    },
    {
     "name": "stderr",
     "output_type": "stream",
     "text": [
      "\n"
     ]
    },
    {
     "name": "stdout",
     "output_type": "stream",
     "text": [
      "\n",
      "      Epoch    GPU_mem   box_loss   cls_loss   dfl_loss  Instances       Size\n"
     ]
    },
    {
     "name": "stderr",
     "output_type": "stream",
     "text": [
      "      37/40      3.15G     0.8747     0.4745      2.044          5        640: 100%|██████████| 676/676 [01:29<00:00,  7.56it/s]\n",
      "                 Class     Images  Instances      Box(P          R      mAP50  mAP50-95): 100%|██████████| 41/41 [00:03<00:00, 10.82it/s]"
     ]
    },
    {
     "name": "stdout",
     "output_type": "stream",
     "text": [
      "                   all        641        819      0.904      0.889       0.93      0.781\n"
     ]
    },
    {
     "name": "stderr",
     "output_type": "stream",
     "text": [
      "\n"
     ]
    },
    {
     "name": "stdout",
     "output_type": "stream",
     "text": [
      "\n",
      "      Epoch    GPU_mem   box_loss   cls_loss   dfl_loss  Instances       Size\n"
     ]
    },
    {
     "name": "stderr",
     "output_type": "stream",
     "text": [
      "      38/40      3.14G     0.8674     0.4596      2.032          5        640: 100%|██████████| 676/676 [01:28<00:00,  7.60it/s]\n",
      "                 Class     Images  Instances      Box(P          R      mAP50  mAP50-95): 100%|██████████| 41/41 [00:03<00:00, 10.41it/s]"
     ]
    },
    {
     "name": "stdout",
     "output_type": "stream",
     "text": [
      "                   all        641        819      0.911      0.899      0.932      0.781\n"
     ]
    },
    {
     "name": "stderr",
     "output_type": "stream",
     "text": [
      "\n"
     ]
    },
    {
     "name": "stdout",
     "output_type": "stream",
     "text": [
      "\n",
      "      Epoch    GPU_mem   box_loss   cls_loss   dfl_loss  Instances       Size\n"
     ]
    },
    {
     "name": "stderr",
     "output_type": "stream",
     "text": [
      "      39/40      3.15G     0.8569     0.4505      2.025          6        640: 100%|██████████| 676/676 [01:29<00:00,  7.59it/s]\n",
      "                 Class     Images  Instances      Box(P          R      mAP50  mAP50-95): 100%|██████████| 41/41 [00:03<00:00, 11.08it/s]"
     ]
    },
    {
     "name": "stdout",
     "output_type": "stream",
     "text": [
      "                   all        641        819      0.912      0.892      0.933      0.781\n"
     ]
    },
    {
     "name": "stderr",
     "output_type": "stream",
     "text": [
      "\n"
     ]
    },
    {
     "name": "stdout",
     "output_type": "stream",
     "text": [
      "\n",
      "      Epoch    GPU_mem   box_loss   cls_loss   dfl_loss  Instances       Size\n"
     ]
    },
    {
     "name": "stderr",
     "output_type": "stream",
     "text": [
      "      40/40      3.14G     0.8444      0.447      2.014          5        640: 100%|██████████| 676/676 [01:29<00:00,  7.58it/s]\n",
      "                 Class     Images  Instances      Box(P          R      mAP50  mAP50-95): 100%|██████████| 41/41 [00:03<00:00, 10.77it/s]"
     ]
    },
    {
     "name": "stdout",
     "output_type": "stream",
     "text": [
      "                   all        641        819       0.92      0.879      0.932      0.784\n"
     ]
    },
    {
     "name": "stderr",
     "output_type": "stream",
     "text": [
      "\n"
     ]
    },
    {
     "name": "stdout",
     "output_type": "stream",
     "text": [
      "\n",
      "40 epochs completed in 1.072 hours.\n",
      "Optimizer stripped from runs/detect/train5/weights/last.pt, 16.6MB\n",
      "Optimizer stripped from runs/detect/train5/weights/best.pt, 16.6MB\n",
      "\n",
      "Validating runs/detect/train5/weights/best.pt...\n",
      "Ultralytics 8.3.23 🚀 Python-3.10.12 torch-2.5.0+cu121 CUDA:0 (NVIDIA A100-SXM4-40GB, 40514MiB)\n",
      "YOLOv10s summary (fused): 293 layers, 8,054,310 parameters, 0 gradients, 24.5 GFLOPs\n"
     ]
    },
    {
     "name": "stderr",
     "output_type": "stream",
     "text": [
      "                 Class     Images  Instances      Box(P          R      mAP50  mAP50-95): 100%|██████████| 41/41 [00:03<00:00, 10.89it/s]\n"
     ]
    },
    {
     "name": "stdout",
     "output_type": "stream",
     "text": [
      "                   all        641        819      0.912      0.888      0.932      0.784\n",
      "-Road narrows on right         15         15       0.93      0.867      0.946      0.861\n",
      "     Attention Please-         23         23       0.96          1      0.995      0.893\n",
      "    Beware of children         23         23      0.934      0.913      0.954      0.869\n",
      "CYCLE ROUTE AHEAD WARNING         29         29          1      0.957       0.97       0.87\n",
      "             Crosswalk         42         43      0.891      0.884      0.953      0.729\n",
      "Dangerous Left Curve Ahead         24         24      0.705      0.798      0.807      0.677\n",
      "Dangerous Rright Curve Ahead         30         30      0.876      0.705      0.916      0.782\n",
      "              No Entry         44         45      0.963        0.6      0.659      0.607\n",
      "        No_Over_Taking         23         23      0.995          1      0.995      0.773\n",
      "          One way road         27         27      0.878      0.852      0.875      0.768\n",
      "      Speed bump ahead         50         50          1      0.979      0.995      0.809\n",
      "           Speed limit         32         34      0.911      0.906      0.953      0.684\n",
      "   Speed limit 100 Kph         38         38      0.972      0.947      0.989      0.716\n",
      "   Speed limit 120 Kph         28         28      0.856      0.786      0.937      0.694\n",
      "    Speed limit 20 Kph         40         42      0.925      0.905       0.96      0.802\n",
      "    Speed limit 30 Kph         48         55      0.667      0.911      0.811       0.69\n",
      "    Speed limit 40 Kph         72         73       0.97      0.872      0.947      0.728\n",
      "    Speed limit 50 Kph         27         27          1      0.963      0.972      0.819\n",
      "    Speed limit 60 Kph         32         32       0.85      0.938      0.934      0.829\n",
      "    Speed limit 70 Kph         16         16      0.928      0.809      0.957      0.776\n",
      "    Speed limit 80 Kph         45         45      0.974      0.848       0.98      0.784\n",
      "    Speed limit 90 Kph         31         31      0.888      0.903      0.966      0.841\n",
      "             Stop_Sign         33         33          1      0.855       0.94       0.83\n",
      "           Uneven Road         23         23       0.92          1      0.959      0.883\n",
      "            roundabout         10         10      0.809          1      0.922      0.889\n",
      "Speed: 0.1ms preprocess, 1.7ms inference, 0.0ms loss, 0.5ms postprocess per image\n",
      "Results saved to \u001b[1mruns/detect/train5\u001b[0m\n"
     ]
    }
   ],
   "source": [
    "model = YOLO(\"/content/runs/detect/train4/weights/best.pt\")\n",
    "\n",
    "# Train the model\n",
    "results = model.train(data=data_yaml_without_hs_path, epochs=40, batch=8, imgsz=640, dropout=0.1, cache=False) #training the model with data without hs.yaml"
   ]
  },
  {
   "cell_type": "code",
   "execution_count": null,
   "metadata": {
    "id": "J1U9DrYW14QV"
   },
   "outputs": [],
   "source": [
    "data_yaml_without_hs_mosaic_path = r'/content/drive/MyDrive/DP/code_yolov3/data_without_hs_mosaic.yaml'"
   ]
  },
  {
   "cell_type": "code",
   "execution_count": null,
   "metadata": {},
   "outputs": [],
   "source": [
    "#finetuning without mosaic augmentation"
   ]
  },
  {
   "cell_type": "code",
   "execution_count": null,
   "metadata": {
    "colab": {
     "base_uri": "https://localhost:8080/"
    },
    "id": "cfXW25Lfe231",
    "outputId": "228c6dac-5fe5-45c0-9b06-55db2adc542e"
   },
   "outputs": [
    {
     "name": "stdout",
     "output_type": "stream",
     "text": [
      "Ultralytics 8.3.23 🚀 Python-3.10.12 torch-2.5.0+cu121 CUDA:0 (NVIDIA A100-SXM4-40GB, 40514MiB)\n",
      "\u001b[34m\u001b[1mengine/trainer: \u001b[0mtask=detect, mode=train, model=/content/runs/detect/train5/weights/best.pt, data=/content/drive/MyDrive/Q3_2/data_without_hs_mosaic.yaml, epochs=10, time=None, patience=100, batch=8, imgsz=640, save=True, save_period=-1, cache=False, device=None, workers=8, project=None, name=train6, exist_ok=False, pretrained=True, optimizer=auto, verbose=True, seed=0, deterministic=True, single_cls=False, rect=False, cos_lr=False, close_mosaic=10, resume=False, amp=True, fraction=1.0, profile=False, freeze=None, multi_scale=False, overlap_mask=True, mask_ratio=4, dropout=0.1, val=True, split=val, save_json=False, save_hybrid=False, conf=None, iou=0.7, max_det=300, half=False, dnn=False, plots=True, source=None, vid_stride=1, stream_buffer=False, visualize=False, augment=False, agnostic_nms=False, classes=None, retina_masks=False, embed=None, show=False, save_frames=False, save_txt=False, save_conf=False, save_crop=False, show_labels=True, show_conf=True, show_boxes=True, line_width=None, format=torchscript, keras=False, optimize=False, int8=False, dynamic=False, simplify=True, opset=None, workspace=4, nms=False, lr0=0.01, lrf=0.01, momentum=0.937, weight_decay=0.0005, warmup_epochs=3.0, warmup_momentum=0.8, warmup_bias_lr=0.1, box=7.5, cls=0.5, dfl=1.5, pose=12.0, kobj=1.0, label_smoothing=0.0, nbs=64, hsv_h=0.015, hsv_s=0.7, hsv_v=0.4, degrees=0.0, translate=0.1, scale=0.5, shear=0.0, perspective=0.0, flipud=0.0, fliplr=0.5, bgr=0.0, mosaic=1.0, mixup=0.0, copy_paste=0.0, copy_paste_mode=flip, auto_augment=randaugment, erasing=0.4, crop_fraction=1.0, cfg=None, tracker=botsort.yaml, save_dir=runs/detect/train6\n",
      "\n",
      "                   from  n    params  module                                       arguments                     \n",
      "  0                  -1  1       928  ultralytics.nn.modules.conv.Conv             [3, 32, 3, 2]                 \n",
      "  1                  -1  1     18560  ultralytics.nn.modules.conv.Conv             [32, 64, 3, 2]                \n",
      "  2                  -1  1     29056  ultralytics.nn.modules.block.C2f             [64, 64, 1, True]             \n",
      "  3                  -1  1     73984  ultralytics.nn.modules.conv.Conv             [64, 128, 3, 2]               \n",
      "  4                  -1  2    197632  ultralytics.nn.modules.block.C2f             [128, 128, 2, True]           \n",
      "  5                  -1  1     36096  ultralytics.nn.modules.block.SCDown          [128, 256, 3, 2]              \n",
      "  6                  -1  2    788480  ultralytics.nn.modules.block.C2f             [256, 256, 2, True]           \n",
      "  7                  -1  1    137728  ultralytics.nn.modules.block.SCDown          [256, 512, 3, 2]              \n",
      "  8                  -1  1    958464  ultralytics.nn.modules.block.C2fCIB          [512, 512, 1, True, True]     \n",
      "  9                  -1  1    656896  ultralytics.nn.modules.block.SPPF            [512, 512, 5]                 \n",
      " 10                  -1  1    990976  ultralytics.nn.modules.block.PSA             [512, 512]                    \n",
      " 11                  -1  1         0  torch.nn.modules.upsampling.Upsample         [None, 2, 'nearest']          \n",
      " 12             [-1, 6]  1         0  ultralytics.nn.modules.conv.Concat           [1]                           \n",
      " 13                  -1  1    591360  ultralytics.nn.modules.block.C2f             [768, 256, 1]                 \n",
      " 14                  -1  1         0  torch.nn.modules.upsampling.Upsample         [None, 2, 'nearest']          \n",
      " 15             [-1, 4]  1         0  ultralytics.nn.modules.conv.Concat           [1]                           \n",
      " 16                  -1  1    148224  ultralytics.nn.modules.block.C2f             [384, 128, 1]                 \n",
      " 17                  -1  1    147712  ultralytics.nn.modules.conv.Conv             [128, 128, 3, 2]              \n",
      " 18            [-1, 13]  1         0  ultralytics.nn.modules.conv.Concat           [1]                           \n",
      " 19                  -1  1    493056  ultralytics.nn.modules.block.C2f             [384, 256, 1]                 \n",
      " 20                  -1  1     68864  ultralytics.nn.modules.block.SCDown          [256, 256, 3, 2]              \n",
      " 21            [-1, 10]  1         0  ultralytics.nn.modules.conv.Concat           [1]                           \n",
      " 22                  -1  1   1089536  ultralytics.nn.modules.block.C2fCIB          [768, 512, 1, True, True]     \n",
      " 23        [16, 19, 22]  1   1658150  ultralytics.nn.modules.head.v10Detect        [25, [128, 256, 512]]         \n",
      "YOLOv10s summary: 402 layers, 8,085,702 parameters, 8,085,686 gradients, 24.9 GFLOPs\n",
      "\n",
      "Transferred 619/619 items from pretrained weights\n",
      "\u001b[34m\u001b[1mTensorBoard: \u001b[0mStart with 'tensorboard --logdir runs/detect/train6', view at http://localhost:6006/\n",
      "Freezing layer 'model.23.dfl.conv.weight'\n",
      "\u001b[34m\u001b[1mAMP: \u001b[0mrunning Automatic Mixed Precision (AMP) checks...\n",
      "\u001b[34m\u001b[1mAMP: \u001b[0mchecks passed ✅\n"
     ]
    },
    {
     "name": "stderr",
     "output_type": "stream",
     "text": [
      "\u001b[34m\u001b[1mtrain: \u001b[0mScanning /content/drive/MyDrive/Q3_2/train/labels.cache... 5405 images, 12 backgrounds, 0 corrupt: 100%|██████████| 5405/5405 [00:00<?, ?it/s]"
     ]
    },
    {
     "name": "stdout",
     "output_type": "stream",
     "text": [
      "\u001b[34m\u001b[1malbumentations: \u001b[0mBlur(p=0.01, blur_limit=(3, 7)), MedianBlur(p=0.01, blur_limit=(3, 7)), ToGray(p=0.01, num_output_channels=3, method='weighted_average'), CLAHE(p=0.01, clip_limit=(1.0, 4.0), tile_grid_size=(8, 8))\n"
     ]
    },
    {
     "name": "stderr",
     "output_type": "stream",
     "text": [
      "\n",
      "\u001b[34m\u001b[1mval: \u001b[0mScanning /content/drive/MyDrive/Q3_2/valid/labels.cache... 641 images, 1 backgrounds, 0 corrupt: 100%|██████████| 641/641 [00:00<?, ?it/s]\n"
     ]
    },
    {
     "name": "stdout",
     "output_type": "stream",
     "text": [
      "Plotting labels to runs/detect/train6/labels.jpg... \n",
      "\u001b[34m\u001b[1moptimizer:\u001b[0m 'optimizer=auto' found, ignoring 'lr0=0.01' and 'momentum=0.937' and determining best 'optimizer', 'lr0' and 'momentum' automatically... \n",
      "\u001b[34m\u001b[1moptimizer:\u001b[0m AdamW(lr=0.000345, momentum=0.9) with parameter groups 99 weight(decay=0.0), 112 weight(decay=0.0005), 111 bias(decay=0.0)\n",
      "\u001b[34m\u001b[1mTensorBoard: \u001b[0mmodel graph visualization added ✅\n",
      "Image sizes 640 train, 640 val\n",
      "Using 8 dataloader workers\n",
      "Logging results to \u001b[1mruns/detect/train6\u001b[0m\n",
      "Starting training for 10 epochs...\n",
      "Closing dataloader mosaic\n",
      "\u001b[34m\u001b[1malbumentations: \u001b[0mBlur(p=0.01, blur_limit=(3, 7)), MedianBlur(p=0.01, blur_limit=(3, 7)), ToGray(p=0.01, num_output_channels=3, method='weighted_average'), CLAHE(p=0.01, clip_limit=(1.0, 4.0), tile_grid_size=(8, 8))\n",
      "\n",
      "      Epoch    GPU_mem   box_loss   cls_loss   dfl_loss  Instances       Size\n"
     ]
    },
    {
     "name": "stderr",
     "output_type": "stream",
     "text": [
      "       1/10      3.35G      0.893     0.4934      2.047          5        640: 100%|██████████| 676/676 [03:20<00:00,  3.38it/s]\n",
      "                 Class     Images  Instances      Box(P          R      mAP50  mAP50-95): 100%|██████████| 41/41 [00:03<00:00, 10.92it/s]"
     ]
    },
    {
     "name": "stdout",
     "output_type": "stream",
     "text": [
      "                   all        641        819      0.922      0.855      0.926      0.766\n"
     ]
    },
    {
     "name": "stderr",
     "output_type": "stream",
     "text": [
      "\n"
     ]
    },
    {
     "name": "stdout",
     "output_type": "stream",
     "text": [
      "\n",
      "      Epoch    GPU_mem   box_loss   cls_loss   dfl_loss  Instances       Size\n"
     ]
    },
    {
     "name": "stderr",
     "output_type": "stream",
     "text": [
      "       2/10      3.18G     0.9678     0.5927      2.114          7        640: 100%|██████████| 676/676 [01:31<00:00,  7.39it/s]\n",
      "                 Class     Images  Instances      Box(P          R      mAP50  mAP50-95): 100%|██████████| 41/41 [00:03<00:00, 10.76it/s]"
     ]
    },
    {
     "name": "stdout",
     "output_type": "stream",
     "text": [
      "                   all        641        819      0.917      0.847      0.921       0.76\n"
     ]
    },
    {
     "name": "stderr",
     "output_type": "stream",
     "text": [
      "\n"
     ]
    },
    {
     "name": "stdout",
     "output_type": "stream",
     "text": [
      "\n",
      "      Epoch    GPU_mem   box_loss   cls_loss   dfl_loss  Instances       Size\n"
     ]
    },
    {
     "name": "stderr",
     "output_type": "stream",
     "text": [
      "       3/10      3.18G      1.007     0.6294      2.133          9        640: 100%|██████████| 676/676 [01:29<00:00,  7.52it/s]\n",
      "                 Class     Images  Instances      Box(P          R      mAP50  mAP50-95): 100%|██████████| 41/41 [00:03<00:00, 11.52it/s]"
     ]
    },
    {
     "name": "stdout",
     "output_type": "stream",
     "text": [
      "                   all        641        819       0.88      0.862      0.905      0.748\n"
     ]
    },
    {
     "name": "stderr",
     "output_type": "stream",
     "text": [
      "\n"
     ]
    },
    {
     "name": "stdout",
     "output_type": "stream",
     "text": [
      "\n",
      "      Epoch    GPU_mem   box_loss   cls_loss   dfl_loss  Instances       Size\n"
     ]
    },
    {
     "name": "stderr",
     "output_type": "stream",
     "text": [
      "       4/10      3.18G       1.01       0.63      2.144          9        640: 100%|██████████| 676/676 [01:28<00:00,  7.64it/s]\n",
      "                 Class     Images  Instances      Box(P          R      mAP50  mAP50-95): 100%|██████████| 41/41 [00:03<00:00, 10.96it/s]"
     ]
    },
    {
     "name": "stdout",
     "output_type": "stream",
     "text": [
      "                   all        641        819      0.916      0.838      0.925      0.768\n"
     ]
    },
    {
     "name": "stderr",
     "output_type": "stream",
     "text": [
      "\n"
     ]
    },
    {
     "name": "stdout",
     "output_type": "stream",
     "text": [
      "\n",
      "      Epoch    GPU_mem   box_loss   cls_loss   dfl_loss  Instances       Size\n"
     ]
    },
    {
     "name": "stderr",
     "output_type": "stream",
     "text": [
      "       5/10      3.18G     0.9722     0.5776      2.123          6        640: 100%|██████████| 676/676 [01:28<00:00,  7.66it/s]\n",
      "                 Class     Images  Instances      Box(P          R      mAP50  mAP50-95): 100%|██████████| 41/41 [00:03<00:00, 11.68it/s]"
     ]
    },
    {
     "name": "stdout",
     "output_type": "stream",
     "text": [
      "                   all        641        819      0.897      0.893      0.922      0.771\n"
     ]
    },
    {
     "name": "stderr",
     "output_type": "stream",
     "text": [
      "\n"
     ]
    },
    {
     "name": "stdout",
     "output_type": "stream",
     "text": [
      "\n",
      "      Epoch    GPU_mem   box_loss   cls_loss   dfl_loss  Instances       Size\n"
     ]
    },
    {
     "name": "stderr",
     "output_type": "stream",
     "text": [
      "       6/10      3.18G      0.956     0.5411        2.1         10        640: 100%|██████████| 676/676 [01:29<00:00,  7.59it/s]\n",
      "                 Class     Images  Instances      Box(P          R      mAP50  mAP50-95): 100%|██████████| 41/41 [00:03<00:00, 10.67it/s]"
     ]
    },
    {
     "name": "stdout",
     "output_type": "stream",
     "text": [
      "                   all        641        819      0.906      0.887      0.934       0.78\n"
     ]
    },
    {
     "name": "stderr",
     "output_type": "stream",
     "text": [
      "\n"
     ]
    },
    {
     "name": "stdout",
     "output_type": "stream",
     "text": [
      "\n",
      "      Epoch    GPU_mem   box_loss   cls_loss   dfl_loss  Instances       Size\n"
     ]
    },
    {
     "name": "stderr",
     "output_type": "stream",
     "text": [
      "       7/10      3.18G     0.9214     0.4965      2.069          5        640: 100%|██████████| 676/676 [01:28<00:00,  7.61it/s]\n",
      "                 Class     Images  Instances      Box(P          R      mAP50  mAP50-95): 100%|██████████| 41/41 [00:03<00:00, 10.57it/s]"
     ]
    },
    {
     "name": "stdout",
     "output_type": "stream",
     "text": [
      "                   all        641        819      0.924      0.892      0.932      0.779\n"
     ]
    },
    {
     "name": "stderr",
     "output_type": "stream",
     "text": [
      "\n"
     ]
    },
    {
     "name": "stdout",
     "output_type": "stream",
     "text": [
      "\n",
      "      Epoch    GPU_mem   box_loss   cls_loss   dfl_loss  Instances       Size\n"
     ]
    },
    {
     "name": "stderr",
     "output_type": "stream",
     "text": [
      "       8/10      3.18G     0.8945     0.4815       2.05          6        640: 100%|██████████| 676/676 [01:28<00:00,  7.62it/s]\n",
      "                 Class     Images  Instances      Box(P          R      mAP50  mAP50-95): 100%|██████████| 41/41 [00:03<00:00, 11.65it/s]"
     ]
    },
    {
     "name": "stdout",
     "output_type": "stream",
     "text": [
      "                   all        641        819      0.899        0.9      0.933      0.785\n"
     ]
    },
    {
     "name": "stderr",
     "output_type": "stream",
     "text": [
      "\n"
     ]
    },
    {
     "name": "stdout",
     "output_type": "stream",
     "text": [
      "\n",
      "      Epoch    GPU_mem   box_loss   cls_loss   dfl_loss  Instances       Size\n"
     ]
    },
    {
     "name": "stderr",
     "output_type": "stream",
     "text": [
      "       9/10      3.18G     0.8618     0.4462      2.027          6        640: 100%|██████████| 676/676 [01:28<00:00,  7.64it/s]\n",
      "                 Class     Images  Instances      Box(P          R      mAP50  mAP50-95): 100%|██████████| 41/41 [00:03<00:00, 10.51it/s]"
     ]
    },
    {
     "name": "stdout",
     "output_type": "stream",
     "text": [
      "                   all        641        819      0.919      0.886      0.934      0.784\n"
     ]
    },
    {
     "name": "stderr",
     "output_type": "stream",
     "text": [
      "\n"
     ]
    },
    {
     "name": "stdout",
     "output_type": "stream",
     "text": [
      "\n",
      "      Epoch    GPU_mem   box_loss   cls_loss   dfl_loss  Instances       Size\n"
     ]
    },
    {
     "name": "stderr",
     "output_type": "stream",
     "text": [
      "      10/10      3.18G     0.8308      0.431      2.012          7        640: 100%|██████████| 676/676 [01:28<00:00,  7.66it/s]\n",
      "                 Class     Images  Instances      Box(P          R      mAP50  mAP50-95): 100%|██████████| 41/41 [00:03<00:00, 11.61it/s]"
     ]
    },
    {
     "name": "stdout",
     "output_type": "stream",
     "text": [
      "                   all        641        819      0.925      0.911      0.936      0.789\n"
     ]
    },
    {
     "name": "stderr",
     "output_type": "stream",
     "text": [
      "\n"
     ]
    },
    {
     "name": "stdout",
     "output_type": "stream",
     "text": [
      "\n",
      "10 epochs completed in 0.306 hours.\n",
      "Optimizer stripped from runs/detect/train6/weights/last.pt, 16.6MB\n",
      "Optimizer stripped from runs/detect/train6/weights/best.pt, 16.6MB\n",
      "\n",
      "Validating runs/detect/train6/weights/best.pt...\n",
      "Ultralytics 8.3.23 🚀 Python-3.10.12 torch-2.5.0+cu121 CUDA:0 (NVIDIA A100-SXM4-40GB, 40514MiB)\n",
      "YOLOv10s summary (fused): 293 layers, 8,054,310 parameters, 0 gradients, 24.5 GFLOPs\n"
     ]
    },
    {
     "name": "stderr",
     "output_type": "stream",
     "text": [
      "                 Class     Images  Instances      Box(P          R      mAP50  mAP50-95): 100%|██████████| 41/41 [00:03<00:00, 10.50it/s]\n"
     ]
    },
    {
     "name": "stdout",
     "output_type": "stream",
     "text": [
      "                   all        641        819      0.925      0.912      0.936      0.788\n",
      "-Road narrows on right         15         15      0.963      0.933      0.951      0.865\n",
      "     Attention Please-         23         23      0.979      0.957       0.99      0.885\n",
      "    Beware of children         23         23      0.888      0.913      0.957      0.871\n",
      "CYCLE ROUTE AHEAD WARNING         29         29          1      0.954      0.971      0.876\n",
      "             Crosswalk         42         43      0.891       0.95      0.968      0.729\n",
      "Dangerous Left Curve Ahead         24         24      0.679      0.794      0.827      0.693\n",
      "Dangerous Rright Curve Ahead         30         30      0.958        0.8       0.93      0.758\n",
      "              No Entry         44         45          1      0.568      0.675      0.613\n",
      "        No_Over_Taking         23         23          1      0.976      0.995      0.806\n",
      "          One way road         27         27      0.955      0.852       0.87      0.746\n",
      "      Speed bump ahead         50         50      0.961       0.99      0.993      0.784\n",
      "           Speed limit         32         34      0.908       0.87      0.885      0.655\n",
      "   Speed limit 100 Kph         38         38      0.991      0.947      0.987      0.717\n",
      "   Speed limit 120 Kph         28         28      0.918          1      0.988      0.745\n",
      "    Speed limit 20 Kph         40         42      0.922      0.905      0.954      0.796\n",
      "    Speed limit 30 Kph         48         55      0.659      0.873       0.72      0.599\n",
      "    Speed limit 40 Kph         72         73      0.974      0.904      0.968      0.738\n",
      "    Speed limit 50 Kph         27         27      0.967      0.963      0.978      0.842\n",
      "    Speed limit 60 Kph         32         32      0.985      0.906      0.967      0.863\n",
      "    Speed limit 70 Kph         16         16      0.941          1      0.984      0.843\n",
      "    Speed limit 80 Kph         45         45      0.977      0.929      0.988      0.808\n",
      "    Speed limit 90 Kph         31         31      0.894      0.968      0.976      0.854\n",
      "             Stop_Sign         33         33      0.984      0.939      0.952      0.834\n",
      "           Uneven Road         23         23      0.902          1      0.986      0.873\n",
      "            roundabout         10         10      0.835        0.9      0.948      0.916\n",
      "Speed: 0.1ms preprocess, 2.4ms inference, 0.0ms loss, 0.1ms postprocess per image\n",
      "Results saved to \u001b[1mruns/detect/train6\u001b[0m\n"
     ]
    }
   ],
   "source": [
    "model = YOLO(\"/content/runs/detect/train5/weights/best.pt\")\n",
    "\n",
    "# Train the model\n",
    "results = model.train(data=data_yaml_without_hs_mosaic_path, epochs=10, batch=8, imgsz=640, dropout=0.1, cache=False)"
   ]
  },
  {
   "cell_type": "code",
   "execution_count": null,
   "metadata": {
    "colab": {
     "base_uri": "https://localhost:8080/"
    },
    "id": "4b06ngEg3Ygr",
    "outputId": "0cdf7047-18e7-4fbe-8400-299b8a8ed96b"
   },
   "outputs": [
    {
     "name": "stdout",
     "output_type": "stream",
     "text": [
      "Ultralytics 8.3.24 🚀 Python-3.10.12 torch-2.5.0+cu121 CUDA:0 (NVIDIA A100-SXM4-40GB, 40514MiB)\n",
      "Model summary (fused): 268 layers, 68,147,643 parameters, 0 gradients, 257.5 GFLOPs\n"
     ]
    },
    {
     "name": "stderr",
     "output_type": "stream",
     "text": [
      "\u001b[34m\u001b[1mval: \u001b[0mScanning /content/drive/MyDrive/Q3_2/valid/labels.cache... 641 images, 1 backgrounds, 0 corrupt: 100%|██████████| 641/641 [00:00<?, ?it/s]\n",
      "                 Class     Images  Instances      Box(P          R      mAP50  mAP50-95): 100%|██████████| 81/81 [00:07<00:00, 10.19it/s]\n"
     ]
    },
    {
     "name": "stdout",
     "output_type": "stream",
     "text": [
      "                   all        641        819      0.919      0.868      0.922      0.769\n",
      "-Road narrows on right         15         15          1      0.838      0.937       0.86\n",
      "     Attention Please-         23         23       0.98          1      0.995      0.887\n",
      "    Beware of children         23         23      0.982       0.87      0.948      0.856\n",
      "CYCLE ROUTE AHEAD WARNING         29         29          1      0.951      0.995      0.863\n",
      "             Crosswalk         42         43      0.868      0.953      0.922      0.705\n",
      "Dangerous Left Curve Ahead         24         24      0.627      0.708      0.753      0.644\n",
      "Dangerous Rright Curve Ahead         30         30      0.951      0.645      0.911      0.781\n",
      "              No Entry         44         45       0.94        0.6      0.613      0.557\n",
      "        No_Over_Taking         23         23      0.994      0.957       0.99      0.728\n",
      "          One way road         27         27      0.963      0.815      0.874      0.768\n",
      "      Speed bump ahead         50         50      0.989          1      0.995      0.802\n",
      "           Speed limit         32         34      0.886      0.919      0.901      0.654\n",
      "   Speed limit 100 Kph         38         38      0.913      0.921      0.981      0.709\n",
      "   Speed limit 120 Kph         28         28      0.962      0.897      0.989      0.782\n",
      "    Speed limit 20 Kph         40         42      0.972      0.816      0.939      0.776\n",
      "    Speed limit 30 Kph         48         55      0.754      0.818      0.882      0.717\n",
      "    Speed limit 40 Kph         72         73      0.976      0.918      0.961      0.759\n",
      "    Speed limit 50 Kph         27         27      0.951      0.726      0.904      0.755\n",
      "    Speed limit 60 Kph         32         32      0.963      0.811      0.922      0.828\n",
      "    Speed limit 70 Kph         16         16      0.871      0.843      0.945      0.738\n",
      "    Speed limit 80 Kph         45         45      0.968      0.844      0.964      0.782\n",
      "    Speed limit 90 Kph         31         31        0.8      0.903      0.907      0.751\n",
      "             Stop_Sign         33         33      0.994      0.939      0.944      0.841\n",
      "           Uneven Road         23         23      0.881          1       0.99      0.896\n",
      "            roundabout         10         10      0.788          1      0.895      0.779\n",
      "Speed: 0.2ms preprocess, 6.2ms inference, 0.0ms loss, 1.0ms postprocess per image\n",
      "Results saved to \u001b[1mruns/detect/train22\u001b[0m\n"
     ]
    }
   ],
   "source": [
    "results = model.val()  # Run validation and return results"
   ]
  },
  {
   "cell_type": "code",
   "execution_count": null,
   "metadata": {
    "colab": {
     "base_uri": "https://localhost:8080/"
    },
    "id": "CqD98brv3YdY",
    "outputId": "4b3f16bb-6715-412c-ca0e-0cb1fea79993"
   },
   "outputs": [
    {
     "name": "stdout",
     "output_type": "stream",
     "text": [
      "\n",
      "image 1/308 /content/drive/MyDrive/Q3_2/test/00000_00000_00000_png_jpg.rf.fe38518f555b8b4d139ed0a31adee9fc.jpg: 640x640 1 Beware of children, 1 No_Over_Taking, 11.4ms\n",
      "image 2/308 /content/drive/MyDrive/Q3_2/test/00000_00000_00014_png_jpg.rf.da4d304ccb4fd7555f5c291bed572107.jpg: 640x640 1 Dangerous Rright Curve Ahead, 1 Speed limit 20 Kph, 11.3ms\n",
      "image 3/308 /content/drive/MyDrive/Q3_2/test/00000_00000_00018_png_jpg.rf.4eff8cf87317fad6622f1d00b81d575e.jpg: 640x640 1 Speed limit 20 Kph, 15.9ms\n",
      "image 4/308 /content/drive/MyDrive/Q3_2/test/00000_00000_00019_png_jpg.rf.923c0a404dce9e2518dcff1a64cd7e04.jpg: 640x640 1 Speed limit 20 Kph, 15.1ms\n",
      "image 5/308 /content/drive/MyDrive/Q3_2/test/00000_00000_00021_png_jpg.rf.f0f74c580fb71be6df258535e2d301af.jpg: 640x640 1 Speed limit 20 Kph, 1 Uneven Road, 12.3ms\n",
      "image 6/308 /content/drive/MyDrive/Q3_2/test/00000_00000_00022_png_jpg.rf.66ace55a624f81aacdd7c0e797a807ed.jpg: 640x640 1 Speed limit 20 Kph, 11.3ms\n",
      "image 7/308 /content/drive/MyDrive/Q3_2/test/00000_00000_00026_png_jpg.rf.74f42ba9f72a05021d3c69ae8f627443.jpg: 640x640 1 Speed limit 20 Kph, 11.3ms\n",
      "image 8/308 /content/drive/MyDrive/Q3_2/test/00000_00000_00027_png_jpg.rf.2e8daf471816f68d56e4c60af50a1fc1.jpg: 640x640 1 Speed limit 20 Kph, 11.5ms\n",
      "image 9/308 /content/drive/MyDrive/Q3_2/test/00000_00001_00009_png_jpg.rf.2148768d9db459fddaa733357aa511d8.jpg: 640x640 1 -Road narrows on right, 1 Dangerous Rright Curve Ahead, 1 Speed limit 20 Kph, 11.4ms\n",
      "image 10/308 /content/drive/MyDrive/Q3_2/test/00000_00001_00019_png_jpg.rf.4acf228bfbd18aac5850d9bc70d7bff2.jpg: 640x640 1 Speed limit 20 Kph, 1 Uneven Road, 11.3ms\n",
      "image 11/308 /content/drive/MyDrive/Q3_2/test/00000_00002_00003_png_jpg.rf.77cf53bb964a761a3a2a13073c0f352e.jpg: 640x640 (no detections), 11.3ms\n",
      "image 12/308 /content/drive/MyDrive/Q3_2/test/00000_00002_00004_png_jpg.rf.509aa4bd8f5811024613d4aebb2ad91d.jpg: 640x640 1 Speed limit 20 Kph, 11.8ms\n",
      "image 13/308 /content/drive/MyDrive/Q3_2/test/00000_00002_00006_png_jpg.rf.50c9b7f1f587879060ba298592bfce77.jpg: 640x640 1 Speed limit 20 Kph, 11.2ms\n",
      "image 14/308 /content/drive/MyDrive/Q3_2/test/00000_00002_00012_png_jpg.rf.b62bc5b3c9df35b5408952697df88d74.jpg: 640x640 1 Speed limit 20 Kph, 12.8ms\n",
      "image 15/308 /content/drive/MyDrive/Q3_2/test/00000_00002_00015_png_jpg.rf.ef76297605ed889f41569a1e1e3924d2.jpg: 640x640 1 Speed limit 20 Kph, 11.2ms\n",
      "image 16/308 /content/drive/MyDrive/Q3_2/test/00000_00002_00022_png_jpg.rf.e73d9cbf8f513cbf611d447b0e696385.jpg: 640x640 1 Speed limit 20 Kph, 11.3ms\n",
      "image 17/308 /content/drive/MyDrive/Q3_2/test/00000_00002_00029_png_jpg.rf.c4f12857b8783cdb7cc5c6346675c0a0.jpg: 640x640 1 Speed limit 20 Kph, 11.4ms\n",
      "image 18/308 /content/drive/MyDrive/Q3_2/test/00000_00003_00001_png_jpg.rf.641b885d9f5ecae387ec724ac331b743.jpg: 640x640 (no detections), 11.4ms\n",
      "image 19/308 /content/drive/MyDrive/Q3_2/test/00000_00003_00008_png_jpg.rf.14fd4eb2f715415eb09c571c240a1e43.jpg: 640x640 1 Speed limit 20 Kph, 11.2ms\n",
      "image 20/308 /content/drive/MyDrive/Q3_2/test/00001_00017_00023_png_jpg.rf.e87f9a462cfe012b8029a900e81af222.jpg: 640x640 1 Speed limit 30 Kph, 11.3ms\n",
      "image 21/308 /content/drive/MyDrive/Q3_2/test/00001_00017_00025_png_jpg.rf.e6855b3207475e09658480d8ff9df0b5.jpg: 640x640 1 Speed limit 30 Kph, 11.1ms\n",
      "image 22/308 /content/drive/MyDrive/Q3_2/test/00001_00017_00026_png_jpg.rf.5a0047279f9f590ae2b5985de359d1e9.jpg: 640x640 1 Speed limit 30 Kph, 11.1ms\n",
      "image 23/308 /content/drive/MyDrive/Q3_2/test/00001_00017_00027_png_jpg.rf.defc124e9ba6918bbfe6b75597a795e1.jpg: 640x640 1 Speed limit 30 Kph, 10.9ms\n",
      "image 24/308 /content/drive/MyDrive/Q3_2/test/00001_00017_00028_png_jpg.rf.bf785ae96529aafeda6d4c362d809c97.jpg: 640x640 1 Speed limit 30 Kph, 13.9ms\n",
      "image 25/308 /content/drive/MyDrive/Q3_2/test/00001_00017_00029_png_jpg.rf.3a77b5a7d17c2db087bdfe2325650a8a.jpg: 640x640 1 Speed limit 30 Kph, 11.2ms\n",
      "image 26/308 /content/drive/MyDrive/Q3_2/test/00001_00018_00015_png_jpg.rf.a211e8fcc4e23c2d902929a42ac8ef28.jpg: 640x640 1 Speed limit 30 Kph, 11.5ms\n",
      "image 27/308 /content/drive/MyDrive/Q3_2/test/00001_00018_00016_png_jpg.rf.0469c3ebc56ee39c382a4caf31687573.jpg: 640x640 1 Speed limit 30 Kph, 11.9ms\n",
      "image 28/308 /content/drive/MyDrive/Q3_2/test/00001_00018_00017_png_jpg.rf.d209854c13d95416f1ebf61e262b4a79.jpg: 640x640 1 Speed limit 30 Kph, 12.4ms\n",
      "image 29/308 /content/drive/MyDrive/Q3_2/test/00001_00018_00018_png_jpg.rf.ccbb307f1dc67d83d6309c83241caf3a.jpg: 640x640 1 Speed limit 30 Kph, 17.9ms\n",
      "image 30/308 /content/drive/MyDrive/Q3_2/test/00001_00018_00019_png_jpg.rf.59b7c69c86e7845aebaed3578beb8a09.jpg: 640x640 1 Speed limit 30 Kph, 12.2ms\n",
      "image 31/308 /content/drive/MyDrive/Q3_2/test/00001_00018_00020_png_jpg.rf.8e6f5da03d6ded4caabe323e2acc1a95.jpg: 640x640 1 Speed limit 30 Kph, 11.2ms\n",
      "image 32/308 /content/drive/MyDrive/Q3_2/test/00001_00018_00021_png_jpg.rf.8b1b78e80912c64af8986363755b2b8c.jpg: 640x640 1 Speed limit 30 Kph, 11.7ms\n",
      "image 33/308 /content/drive/MyDrive/Q3_2/test/00001_00018_00022_png_jpg.rf.d6752a0e4af4aa736aa70d19bd0f3462.jpg: 640x640 1 Speed limit 30 Kph, 11.3ms\n",
      "image 34/308 /content/drive/MyDrive/Q3_2/test/00001_00018_00023_png_jpg.rf.5b97a0b3fefd03df0b45bff42a65ee8d.jpg: 640x640 1 Speed limit 30 Kph, 11.3ms\n",
      "image 35/308 /content/drive/MyDrive/Q3_2/test/00001_00018_00024_png_jpg.rf.014c920f721df797ba8d57ef59d022b3.jpg: 640x640 1 Speed limit 30 Kph, 11.9ms\n",
      "image 36/308 /content/drive/MyDrive/Q3_2/test/00001_00018_00025_png_jpg.rf.2c3578962232b20fc4de0e52514fe805.jpg: 640x640 1 Speed limit 30 Kph, 11.3ms\n",
      "image 37/308 /content/drive/MyDrive/Q3_2/test/00001_00018_00026_png_jpg.rf.c9af647409ab7a4a762e293ecf64d27d.jpg: 640x640 1 Speed limit 30 Kph, 11.1ms\n",
      "image 38/308 /content/drive/MyDrive/Q3_2/test/00001_00018_00027_png_jpg.rf.5b8c1471f0469a2531141886f253a317.jpg: 640x640 1 Speed limit 30 Kph, 11.3ms\n",
      "image 39/308 /content/drive/MyDrive/Q3_2/test/00001_00018_00028_png_jpg.rf.c2e820ac847e0506349ffaf7a12f0893.jpg: 640x640 1 Speed limit 30 Kph, 11.6ms\n",
      "image 40/308 /content/drive/MyDrive/Q3_2/test/00001_00022_00000_png_jpg.rf.b051bc4b6a27efb7cd87bc8520832011.jpg: 640x640 1 Speed limit 30 Kph, 11.5ms\n",
      "image 41/308 /content/drive/MyDrive/Q3_2/test/00001_00022_00001_png_jpg.rf.4d855e845db96db92346b0a79e518049.jpg: 640x640 1 Speed limit 30 Kph, 11.7ms\n",
      "image 42/308 /content/drive/MyDrive/Q3_2/test/00001_00022_00002_png_jpg.rf.e40b266c9752bd5a5b94ad372fdc8914.jpg: 640x640 1 Speed limit 30 Kph, 11.3ms\n",
      "image 43/308 /content/drive/MyDrive/Q3_2/test/00001_00022_00003_png_jpg.rf.943bcec51e0351de4db0ef9a76c81f5a.jpg: 640x640 1 Speed limit 30 Kph, 11.8ms\n",
      "image 44/308 /content/drive/MyDrive/Q3_2/test/00001_00022_00005_png_jpg.rf.c7d723282aeca6b0cb903cd4a73e0f7e.jpg: 640x640 1 Speed limit 30 Kph, 12.4ms\n",
      "image 45/308 /content/drive/MyDrive/Q3_2/test/00001_00022_00007_png_jpg.rf.aba54c15b156bf358816ed6fb88e8579.jpg: 640x640 1 Speed limit 30 Kph, 12.1ms\n",
      "image 46/308 /content/drive/MyDrive/Q3_2/test/00001_00022_00008_png_jpg.rf.ec09f9bc2676fc934c71fa2897deb06a.jpg: 640x640 1 Speed limit 30 Kph, 12.3ms\n",
      "image 47/308 /content/drive/MyDrive/Q3_2/test/00001_00022_00009_png_jpg.rf.bfa1b52a5ca9d017719a707523cd7200.jpg: 640x640 1 Speed limit 30 Kph, 11.7ms\n",
      "image 48/308 /content/drive/MyDrive/Q3_2/test/00001_00022_00011_png_jpg.rf.af43f516d0e8c9e8d2729265dc82fb7e.jpg: 640x640 1 Speed limit 30 Kph, 12.0ms\n",
      "image 49/308 /content/drive/MyDrive/Q3_2/test/00001_00022_00013_png_jpg.rf.83afedf104acebfd35dba9d195776125.jpg: 640x640 1 Speed limit 30 Kph, 14.5ms\n",
      "image 50/308 /content/drive/MyDrive/Q3_2/test/00001_00022_00015_png_jpg.rf.4178502fcdcd2f9ff439e7cfeb54c119.jpg: 640x640 1 Speed limit 30 Kph, 11.6ms\n",
      "image 51/308 /content/drive/MyDrive/Q3_2/test/00001_00022_00016_png_jpg.rf.f6d001b66f997412c7c5d32188a5598b.jpg: 640x640 1 Speed limit 30 Kph, 11.8ms\n",
      "image 52/308 /content/drive/MyDrive/Q3_2/test/00001_00022_00017_png_jpg.rf.241d3581dcc3371d7d369a27d1049c1d.jpg: 640x640 1 Speed limit 30 Kph, 11.3ms\n",
      "image 53/308 /content/drive/MyDrive/Q3_2/test/00001_00022_00018_png_jpg.rf.e73be464c0c48210b7d01a9f48a32c5b.jpg: 640x640 1 Speed limit 30 Kph, 11.0ms\n",
      "image 54/308 /content/drive/MyDrive/Q3_2/test/00001_00022_00019_png_jpg.rf.e68b081cdee2783a2b69cf3255fe6428.jpg: 640x640 1 Speed limit 30 Kph, 10.9ms\n",
      "image 55/308 /content/drive/MyDrive/Q3_2/test/00001_00022_00021_png_jpg.rf.002462c4a72013a0449ca19e975e3120.jpg: 640x640 1 Speed limit 30 Kph, 10.9ms\n",
      "image 56/308 /content/drive/MyDrive/Q3_2/test/00001_00022_00022_png_jpg.rf.7a91d9c7fa4f09fcf6da10566350dbc4.jpg: 640x640 1 Speed limit 30 Kph, 10.8ms\n",
      "image 57/308 /content/drive/MyDrive/Q3_2/test/00001_00022_00024_png_jpg.rf.3879e6d2b9714e57aa6014b0bdbbe403.jpg: 640x640 1 Speed limit 30 Kph, 11.0ms\n",
      "image 58/308 /content/drive/MyDrive/Q3_2/test/00001_00022_00025_png_jpg.rf.bd160c2ec733f25a8247b698c46bb30a.jpg: 640x640 1 Speed limit 30 Kph, 11.3ms\n",
      "image 59/308 /content/drive/MyDrive/Q3_2/test/00001_00022_00026_png_jpg.rf.4932c87f6c4568c4f7616fa4b9f6027d.jpg: 640x640 1 Speed limit 30 Kph, 11.3ms\n",
      "image 60/308 /content/drive/MyDrive/Q3_2/test/00001_00022_00028_png_jpg.rf.d08ba75353c4d75d2d03e623db09da9c.jpg: 640x640 1 Speed limit 30 Kph, 11.1ms\n",
      "image 61/308 /content/drive/MyDrive/Q3_2/test/00001_00022_00029_png_jpg.rf.444e54096a8295b8e03495b68ba4a176.jpg: 640x640 1 Speed limit 30 Kph, 11.2ms\n",
      "image 62/308 /content/drive/MyDrive/Q3_2/test/00001_00025_00003_png_jpg.rf.70df4faaf44b96572d10f86f07c65578.jpg: 640x640 1 No_Over_Taking, 11.1ms\n",
      "image 63/308 /content/drive/MyDrive/Q3_2/test/00001_00025_00004_png_jpg.rf.d01066e3dfb61206395b04ee778353cb.jpg: 640x640 1 Speed limit 30 Kph, 11.0ms\n",
      "image 64/308 /content/drive/MyDrive/Q3_2/test/00001_00025_00005_png_jpg.rf.cfb4bd4081987fc6cd6c37d4704a205f.jpg: 640x640 (no detections), 11.3ms\n",
      "image 65/308 /content/drive/MyDrive/Q3_2/test/00001_00025_00008_png_jpg.rf.75157c267a406b2544c7392ed7cd5830.jpg: 640x640 (no detections), 11.4ms\n",
      "image 66/308 /content/drive/MyDrive/Q3_2/test/00001_00025_00010_png_jpg.rf.d27109af265c9e1bcfdf0cb3e76bf4b3.jpg: 640x640 1 Speed limit 50 Kph, 11.7ms\n",
      "image 67/308 /content/drive/MyDrive/Q3_2/test/00001_00025_00011_png_jpg.rf.b875f944adeb3305fc047a29e2bfcf92.jpg: 640x640 1 Speed limit 30 Kph, 11.3ms\n",
      "image 68/308 /content/drive/MyDrive/Q3_2/test/00001_00027_00024_png_jpg.rf.fa64c5d94cd2490db3d5b29d81e4e8de.jpg: 640x640 1 Speed limit 30 Kph, 12.8ms\n",
      "image 69/308 /content/drive/MyDrive/Q3_2/test/00001_00027_00025_png_jpg.rf.e3a64f9c3cc29b7e249ef5cc17f4ad0f.jpg: 640x640 1 Speed limit 30 Kph, 12.9ms\n",
      "image 70/308 /content/drive/MyDrive/Q3_2/test/00001_00027_00026_png_jpg.rf.a00a3a013a5c242ae88ebbff8012581b.jpg: 640x640 1 Speed limit 30 Kph, 11.4ms\n",
      "image 71/308 /content/drive/MyDrive/Q3_2/test/00001_00027_00028_png_jpg.rf.07716bb1d6ef22558d6c7436b0e69973.jpg: 640x640 1 Speed limit 30 Kph, 11.1ms\n",
      "image 72/308 /content/drive/MyDrive/Q3_2/test/00001_00027_00029_png_jpg.rf.04a2accee8e6d3a219f4875c71da527b.jpg: 640x640 1 Speed limit 30 Kph, 11.0ms\n",
      "image 73/308 /content/drive/MyDrive/Q3_2/test/00001_00028_00000_png_jpg.rf.8fb7b0ca979d727a9cd77feb9123c0fe.jpg: 640x640 1 Dangerous Rright Curve Ahead, 11.2ms\n",
      "image 74/308 /content/drive/MyDrive/Q3_2/test/00001_00028_00002_png_jpg.rf.c9daca45f5a6c1e86be87153be8bdba1.jpg: 640x640 1 Dangerous Rright Curve Ahead, 11.7ms\n",
      "image 75/308 /content/drive/MyDrive/Q3_2/test/00001_00028_00003_png_jpg.rf.5dcabfcdff562b7f27a592bd512444ca.jpg: 640x640 1 Dangerous Rright Curve Ahead, 11.3ms\n",
      "image 76/308 /content/drive/MyDrive/Q3_2/test/00001_00028_00004_png_jpg.rf.8c5c67ef3939a2413e5b6696d6e1ab35.jpg: 640x640 1 Dangerous Rright Curve Ahead, 11.5ms\n",
      "image 77/308 /content/drive/MyDrive/Q3_2/test/00001_00028_00006_png_jpg.rf.8b7a04b6b7dc70d4295c4a6ba71aeaad.jpg: 640x640 (no detections), 11.8ms\n",
      "image 78/308 /content/drive/MyDrive/Q3_2/test/00001_00028_00012_png_jpg.rf.50238028e270d2b53f0813abdff218bf.jpg: 640x640 1 -Road narrows on right, 1 Speed limit 30 Kph, 11.2ms\n",
      "image 79/308 /content/drive/MyDrive/Q3_2/test/00001_00028_00013_png_jpg.rf.5e21e218942d686b9c5cdf88d95be1f1.jpg: 640x640 1 Speed limit 30 Kph, 10.9ms\n",
      "image 80/308 /content/drive/MyDrive/Q3_2/test/00001_00028_00014_png_jpg.rf.cab9af8a88d212c6afdc678d2e6ddade.jpg: 640x640 1 Speed limit 30 Kph, 11.2ms\n",
      "image 81/308 /content/drive/MyDrive/Q3_2/test/00001_00028_00015_png_jpg.rf.91ccd37f12b32df6bd91e45f4abc6224.jpg: 640x640 1 Speed limit 30 Kph, 11.9ms\n",
      "image 82/308 /content/drive/MyDrive/Q3_2/test/00001_00028_00021_png_jpg.rf.03b51c482ca0726f56887791ea38537e.jpg: 640x640 1 Speed limit 30 Kph, 11.1ms\n",
      "image 83/308 /content/drive/MyDrive/Q3_2/test/00001_00028_00022_png_jpg.rf.bdfb4ad0e01149370e078381295ec228.jpg: 640x640 1 Speed limit 30 Kph, 11.1ms\n",
      "image 84/308 /content/drive/MyDrive/Q3_2/test/00001_00028_00023_png_jpg.rf.db8c75fbd3310033363c6fdc43d24858.jpg: 640x640 1 Speed limit 30 Kph, 11.1ms\n",
      "image 85/308 /content/drive/MyDrive/Q3_2/test/00001_00028_00024_png_jpg.rf.91d25dd1b87224ecd4af4a9994af9f5d.jpg: 640x640 1 Speed limit 30 Kph, 11.0ms\n",
      "image 86/308 /content/drive/MyDrive/Q3_2/test/00001_00028_00026_png_jpg.rf.e6e6adb5ff9245f06b61890c504691db.jpg: 640x640 1 Speed limit 30 Kph, 11.1ms\n",
      "image 87/308 /content/drive/MyDrive/Q3_2/test/00001_00028_00027_png_jpg.rf.32032904d1be7b81c55842f43cabe40f.jpg: 640x640 1 Speed limit 30 Kph, 10.9ms\n",
      "image 88/308 /content/drive/MyDrive/Q3_2/test/00001_00028_00028_png_jpg.rf.7f818e327eae8aa48427a39dc178b1bd.jpg: 640x640 1 Speed limit 30 Kph, 17.2ms\n",
      "image 89/308 /content/drive/MyDrive/Q3_2/test/00001_00029_00018_png_jpg.rf.c81741a775edc6ae9209295f8018399f.jpg: 640x640 1 Speed limit 30 Kph, 11.9ms\n",
      "image 90/308 /content/drive/MyDrive/Q3_2/test/00001_00029_00019_png_jpg.rf.79fee8e5787032ccfc60766f9cc2ca89.jpg: 640x640 1 Speed limit 30 Kph, 11.2ms\n",
      "image 91/308 /content/drive/MyDrive/Q3_2/test/00001_00029_00020_png_jpg.rf.61657c25961f827249886bfaec589279.jpg: 640x640 1 Speed limit 30 Kph, 11.2ms\n",
      "image 92/308 /content/drive/MyDrive/Q3_2/test/00001_00029_00021_png_jpg.rf.bf0ae7a4555b6170e53dd24a50e09652.jpg: 640x640 1 Speed limit 30 Kph, 11.0ms\n",
      "image 93/308 /content/drive/MyDrive/Q3_2/test/00001_00029_00022_png_jpg.rf.368527ab3f0e56ae4dd6b6f0f1ac2965.jpg: 640x640 1 Speed limit 30 Kph, 11.4ms\n",
      "image 94/308 /content/drive/MyDrive/Q3_2/test/00001_00029_00023_png_jpg.rf.62b6f8a3116cb28d95294e92a7145f49.jpg: 640x640 1 Speed limit 30 Kph, 13.2ms\n",
      "image 95/308 /content/drive/MyDrive/Q3_2/test/00001_00029_00024_png_jpg.rf.edb018b9ab3a820f824ca295863ed4a5.jpg: 640x640 1 Speed limit 30 Kph, 11.4ms\n",
      "image 96/308 /content/drive/MyDrive/Q3_2/test/00001_00029_00026_png_jpg.rf.e9a00e3de32f4339927167dfe18cc85f.jpg: 640x640 1 Speed limit 30 Kph, 11.9ms\n",
      "image 97/308 /content/drive/MyDrive/Q3_2/test/00001_00029_00027_png_jpg.rf.e95d03854768c054ffb32b1ce26de3de.jpg: 640x640 1 Speed limit 30 Kph, 11.4ms\n",
      "image 98/308 /content/drive/MyDrive/Q3_2/test/00001_00029_00028_png_jpg.rf.59612d014f24dbb494a52e5b66489305.jpg: 640x640 1 Speed limit 30 Kph, 11.3ms\n",
      "image 99/308 /content/drive/MyDrive/Q3_2/test/00001_00030_00001_png_jpg.rf.e64aadce2d681983d6e1e5e7ab62b331.jpg: 640x640 1 No_Over_Taking, 11.3ms\n",
      "image 100/308 /content/drive/MyDrive/Q3_2/test/00001_00030_00002_png_jpg.rf.7b18a7f5e435e0c0d543514e38b5668f.jpg: 640x640 1 No_Over_Taking, 11.3ms\n",
      "image 101/308 /content/drive/MyDrive/Q3_2/test/00001_00030_00005_png_jpg.rf.8207943924f8ccef80504d544a8a6886.jpg: 640x640 (no detections), 11.4ms\n",
      "image 102/308 /content/drive/MyDrive/Q3_2/test/00001_00030_00006_png_jpg.rf.67d0d454020beb7ed03df083570ba3ad.jpg: 640x640 (no detections), 11.6ms\n",
      "image 103/308 /content/drive/MyDrive/Q3_2/test/00001_00030_00009_png_jpg.rf.08152f2a24cd41ad2c9fc2152fa4bfe5.jpg: 640x640 1 Speed limit 30 Kph, 11.2ms\n",
      "image 104/308 /content/drive/MyDrive/Q3_2/test/00001_00030_00016_png_jpg.rf.e641f7321b61e38243df795f6db302f5.jpg: 640x640 1 Speed limit 30 Kph, 11.1ms\n",
      "image 105/308 /content/drive/MyDrive/Q3_2/test/00001_00030_00022_png_jpg.rf.e077a176b1d675747036f531c1853a2c.jpg: 640x640 1 Speed limit 30 Kph, 11.1ms\n",
      "image 106/308 /content/drive/MyDrive/Q3_2/test/00001_00030_00023_png_jpg.rf.503433889bb64688a95b9de3c388955c.jpg: 640x640 1 Speed limit 30 Kph, 11.1ms\n",
      "image 107/308 /content/drive/MyDrive/Q3_2/test/00001_00030_00024_png_jpg.rf.d063f3d9b724035f054b13de5ca2f3fc.jpg: 640x640 1 Speed limit 30 Kph, 11.0ms\n",
      "image 108/308 /content/drive/MyDrive/Q3_2/test/00001_00030_00025_png_jpg.rf.b11ce038412bcc2d3d3f7191d8c70302.jpg: 640x640 1 Speed limit 30 Kph, 11.1ms\n",
      "image 109/308 /content/drive/MyDrive/Q3_2/test/00001_00030_00026_png_jpg.rf.1e41363437328363c608af64873d5e37.jpg: 640x640 1 Speed limit 30 Kph, 10.9ms\n",
      "image 110/308 /content/drive/MyDrive/Q3_2/test/00001_00030_00028_png_jpg.rf.0b8cac524c846c8cc7ba62dbb9a20f48.jpg: 640x640 1 Speed limit 30 Kph, 11.3ms\n",
      "image 111/308 /content/drive/MyDrive/Q3_2/test/00001_00030_00029_png_jpg.rf.f1b88108f5b60a08efbec84c96838db0.jpg: 640x640 1 Speed limit 30 Kph, 10.9ms\n",
      "image 112/308 /content/drive/MyDrive/Q3_2/test/00001_00031_00022_png_jpg.rf.9ee3c2db3a9c40ca861834019741e02d.jpg: 640x640 1 Speed limit 30 Kph, 11.4ms\n",
      "image 113/308 /content/drive/MyDrive/Q3_2/test/00001_00031_00023_png_jpg.rf.e091674943d25f944da2007f9bc487cd.jpg: 640x640 1 Speed limit 30 Kph, 14.2ms\n",
      "image 114/308 /content/drive/MyDrive/Q3_2/test/00001_00031_00024_png_jpg.rf.9a9dcba1cc9e58c36838b6314074378f.jpg: 640x640 1 Speed limit 30 Kph, 11.7ms\n",
      "image 115/308 /content/drive/MyDrive/Q3_2/test/00001_00031_00025_png_jpg.rf.967760a07b26acd3f30535d8fa5b23d7.jpg: 640x640 1 Speed limit 30 Kph, 14.0ms\n",
      "image 116/308 /content/drive/MyDrive/Q3_2/test/00001_00031_00026_png_jpg.rf.8359d0e7d8507822671f0e3343471146.jpg: 640x640 1 Speed limit 30 Kph, 12.9ms\n",
      "image 117/308 /content/drive/MyDrive/Q3_2/test/00001_00031_00027_png_jpg.rf.ac4f9150a27019dbf8ebf772bc5fd37d.jpg: 640x640 1 Speed limit 30 Kph, 12.2ms\n",
      "image 118/308 /content/drive/MyDrive/Q3_2/test/00001_00031_00028_png_jpg.rf.469476702490efbffda872f58e404f37.jpg: 640x640 1 Speed limit 30 Kph, 12.1ms\n",
      "image 119/308 /content/drive/MyDrive/Q3_2/test/00001_00031_00029_png_jpg.rf.5e7891430d5535fcd160ba08928cf619.jpg: 640x640 1 Speed limit 30 Kph, 11.3ms\n",
      "image 120/308 /content/drive/MyDrive/Q3_2/test/00001_00032_00000_png_jpg.rf.2259a87e6d9092f6718e56ff7d2329e2.jpg: 640x640 (no detections), 11.1ms\n",
      "image 121/308 /content/drive/MyDrive/Q3_2/test/00001_00032_00001_png_jpg.rf.031b3902d2198eadcde873e876846d9f.jpg: 640x640 1 Speed limit 20 Kph, 11.1ms\n",
      "image 122/308 /content/drive/MyDrive/Q3_2/test/00001_00032_00002_png_jpg.rf.9ecf4d798701725a7243af056c21db8d.jpg: 640x640 1 No_Over_Taking, 11.7ms\n",
      "image 123/308 /content/drive/MyDrive/Q3_2/test/00001_00032_00003_png_jpg.rf.79a3b703875bd3ec1b099b3d5a4bdc1c.jpg: 640x640 1 Speed limit 30 Kph, 11.4ms\n",
      "image 124/308 /content/drive/MyDrive/Q3_2/test/00001_00032_00004_png_jpg.rf.9fbea6bf63dd626dff6eef2164525057.jpg: 640x640 1 Speed limit 30 Kph, 11.6ms\n",
      "image 125/308 /content/drive/MyDrive/Q3_2/test/00001_00032_00005_png_jpg.rf.fac6ffc264091df331d61d8581d5a034.jpg: 640x640 1 Speed limit 30 Kph, 11.3ms\n",
      "image 126/308 /content/drive/MyDrive/Q3_2/test/00001_00032_00006_png_jpg.rf.6fe66870b822bcc84089ab87f86cd1cb.jpg: 640x640 1 Speed limit 30 Kph, 11.3ms\n",
      "image 127/308 /content/drive/MyDrive/Q3_2/test/00001_00032_00007_png_jpg.rf.86ab478ecf62f3c02598129f42afc8c7.jpg: 640x640 1 Speed limit 30 Kph, 11.4ms\n",
      "image 128/308 /content/drive/MyDrive/Q3_2/test/00001_00032_00009_png_jpg.rf.406b99dc76cac2bfbc3029defa55abac.jpg: 640x640 1 Speed limit 30 Kph, 11.5ms\n",
      "image 129/308 /content/drive/MyDrive/Q3_2/test/00001_00032_00010_png_jpg.rf.57d936fb771faad2e3d9c9a2b956a69c.jpg: 640x640 1 Speed limit 30 Kph, 11.4ms\n",
      "image 130/308 /content/drive/MyDrive/Q3_2/test/00001_00032_00013_png_jpg.rf.e4e4518da37d091f8e376676a90b0276.jpg: 640x640 1 Speed limit 30 Kph, 11.4ms\n",
      "image 131/308 /content/drive/MyDrive/Q3_2/test/00001_00032_00014_png_jpg.rf.9ce787e3288bc2c0dd4f08ba49befe69.jpg: 640x640 1 Speed limit 30 Kph, 11.3ms\n",
      "image 132/308 /content/drive/MyDrive/Q3_2/test/00001_00032_00015_png_jpg.rf.fcfc78d4a89c51bd4b848eb425a75028.jpg: 640x640 1 Speed limit 30 Kph, 11.3ms\n",
      "image 133/308 /content/drive/MyDrive/Q3_2/test/00001_00032_00016_png_jpg.rf.b4b4e66189114a55f95b1664a482734e.jpg: 640x640 1 Speed limit 30 Kph, 11.1ms\n",
      "image 134/308 /content/drive/MyDrive/Q3_2/test/00001_00032_00017_png_jpg.rf.54f1ff9ae66d3f0ecbf746317e103fdc.jpg: 640x640 1 Speed limit 30 Kph, 12.7ms\n",
      "image 135/308 /content/drive/MyDrive/Q3_2/test/00001_00032_00019_png_jpg.rf.5d1f2122b98cecc893e651eccfc5de02.jpg: 640x640 1 Speed limit 30 Kph, 11.1ms\n",
      "image 136/308 /content/drive/MyDrive/Q3_2/test/00001_00032_00020_png_jpg.rf.193bb7e48e4d220e486023019bd3a2e5.jpg: 640x640 1 Speed limit 30 Kph, 11.8ms\n",
      "image 137/308 /content/drive/MyDrive/Q3_2/test/00001_00032_00021_png_jpg.rf.a48a86272c44e9a052b458eb6110b8ac.jpg: 640x640 1 Speed limit 30 Kph, 12.0ms\n",
      "image 138/308 /content/drive/MyDrive/Q3_2/test/00001_00032_00022_png_jpg.rf.31279153bf33e096a823d677533e0023.jpg: 640x640 1 Speed limit 30 Kph, 11.3ms\n",
      "image 139/308 /content/drive/MyDrive/Q3_2/test/00001_00032_00023_png_jpg.rf.3a35b8f38081e38f1af00bce008f4973.jpg: 640x640 1 Speed limit 30 Kph, 12.0ms\n",
      "image 140/308 /content/drive/MyDrive/Q3_2/test/00001_00032_00026_png_jpg.rf.6fc2ec40538c1c7246606e7400f738c2.jpg: 640x640 1 Speed limit 30 Kph, 11.3ms\n",
      "image 141/308 /content/drive/MyDrive/Q3_2/test/00001_00032_00027_png_jpg.rf.6999dbebff2d9d593e94b78aafe577b0.jpg: 640x640 1 Speed limit 30 Kph, 11.3ms\n",
      "image 142/308 /content/drive/MyDrive/Q3_2/test/00001_00032_00028_png_jpg.rf.3f45f035898a7395e886fbc515969c14.jpg: 640x640 1 Speed limit 30 Kph, 12.1ms\n",
      "image 143/308 /content/drive/MyDrive/Q3_2/test/00001_00032_00029_png_jpg.rf.71549c96cc98e5f9bc3e3690324e968c.jpg: 640x640 1 Speed limit 30 Kph, 11.5ms\n",
      "image 144/308 /content/drive/MyDrive/Q3_2/test/00001_00033_00024_png_jpg.rf.ad5ce4aa39421eecac79ba90d9e447ee.jpg: 640x640 1 Speed limit 30 Kph, 11.3ms\n",
      "image 145/308 /content/drive/MyDrive/Q3_2/test/00001_00033_00026_png_jpg.rf.93513f78d964ff8bee5b54135ea76900.jpg: 640x640 1 Speed limit 30 Kph, 11.4ms\n",
      "image 146/308 /content/drive/MyDrive/Q3_2/test/00001_00033_00027_png_jpg.rf.a01cc971fbbd3ad3c50c2a6be5125dc5.jpg: 640x640 1 Speed limit 30 Kph, 11.5ms\n",
      "image 147/308 /content/drive/MyDrive/Q3_2/test/00001_00033_00028_png_jpg.rf.1720cd07731e7341a38270b58a3e2edb.jpg: 640x640 1 Speed limit 30 Kph, 11.0ms\n",
      "image 148/308 /content/drive/MyDrive/Q3_2/test/00001_00034_00014_png_jpg.rf.93839c92e798a01dde0c1bd165bdaca0.jpg: 640x640 1 Speed limit 30 Kph, 11.2ms\n",
      "image 149/308 /content/drive/MyDrive/Q3_2/test/00001_00034_00015_png_jpg.rf.653fa007a9eb1f3c13b94c3e96c5a963.jpg: 640x640 1 Speed limit 30 Kph, 11.1ms\n",
      "image 150/308 /content/drive/MyDrive/Q3_2/test/00001_00034_00016_png_jpg.rf.11c56fa608372cb276772d6bba6ff175.jpg: 640x640 1 Speed limit 30 Kph, 11.1ms\n",
      "image 151/308 /content/drive/MyDrive/Q3_2/test/00001_00034_00017_png_jpg.rf.39418cf95e8754d21c9fcad4758c70dc.jpg: 640x640 1 Speed limit 30 Kph, 11.1ms\n",
      "image 152/308 /content/drive/MyDrive/Q3_2/test/00001_00034_00018_png_jpg.rf.d813b8ba50b58972fcc9004460eded12.jpg: 640x640 1 Speed limit 30 Kph, 10.9ms\n",
      "image 153/308 /content/drive/MyDrive/Q3_2/test/00001_00034_00020_png_jpg.rf.c6f3e91cd99d667e9cc923559f837e50.jpg: 640x640 1 Speed limit 30 Kph, 11.8ms\n",
      "image 154/308 /content/drive/MyDrive/Q3_2/test/00001_00034_00021_png_jpg.rf.c485612fbc3f08473edc546038727681.jpg: 640x640 1 Speed limit 30 Kph, 11.0ms\n",
      "image 155/308 /content/drive/MyDrive/Q3_2/test/00001_00034_00022_png_jpg.rf.9eb729eb202060ad5663076b41a3b8ed.jpg: 640x640 1 Speed limit 30 Kph, 11.0ms\n",
      "image 156/308 /content/drive/MyDrive/Q3_2/test/00001_00034_00023_png_jpg.rf.99347a568e3ab042bc3218208a8a6e9e.jpg: 640x640 1 Speed limit 30 Kph, 11.3ms\n",
      "image 157/308 /content/drive/MyDrive/Q3_2/test/00001_00034_00027_png_jpg.rf.fe61d5d7fce752dc3be6d6b8644d9091.jpg: 640x640 1 Speed limit 30 Kph, 10.9ms\n",
      "image 158/308 /content/drive/MyDrive/Q3_2/test/00001_00034_00028_png_jpg.rf.c01f4889a8bfa599467c074ceca9e082.jpg: 640x640 1 Speed limit 30 Kph, 10.9ms\n",
      "image 159/308 /content/drive/MyDrive/Q3_2/test/00001_00034_00029_png_jpg.rf.cd11fd8e2206c0b3faa65b1dc959f878.jpg: 640x640 1 Speed limit 30 Kph, 11.0ms\n",
      "image 160/308 /content/drive/MyDrive/Q3_2/test/00001_00035_00000_png_jpg.rf.764558b4a74b9d1ffea3b2f32506667e.jpg: 640x640 (no detections), 11.1ms\n",
      "image 161/308 /content/drive/MyDrive/Q3_2/test/00001_00035_00001_png_jpg.rf.d8d84c166d972520772c4239ae5d249b.jpg: 640x640 2 No_Over_Takings, 11.1ms\n",
      "image 162/308 /content/drive/MyDrive/Q3_2/test/00001_00035_00002_png_jpg.rf.cd19cbfbc8fb200af18344b8678a3f13.jpg: 640x640 (no detections), 11.2ms\n",
      "image 163/308 /content/drive/MyDrive/Q3_2/test/00001_00035_00009_png_jpg.rf.76adae238f78e8a9dd3dd09b4eaf4ad0.jpg: 640x640 1 Speed limit 20 Kph, 11.1ms\n",
      "image 164/308 /content/drive/MyDrive/Q3_2/test/00001_00035_00010_png_jpg.rf.ab34d736b41e87abb150e9491708f715.jpg: 640x640 1 Speed limit 20 Kph, 1 Speed limit 30 Kph, 11.3ms\n",
      "image 165/308 /content/drive/MyDrive/Q3_2/test/00001_00035_00011_png_jpg.rf.c716f8c3b2b2cab848f133eb40e26e9d.jpg: 640x640 1 Speed limit 30 Kph, 11.1ms\n",
      "image 166/308 /content/drive/MyDrive/Q3_2/test/00001_00035_00020_png_jpg.rf.4d1fd72997c55fc61d746e7a8f4f180c.jpg: 640x640 1 Speed limit 30 Kph, 11.1ms\n",
      "image 167/308 /content/drive/MyDrive/Q3_2/test/00001_00035_00021_png_jpg.rf.fecba84c21192fb9c02a0eb5c5e04582.jpg: 640x640 1 Speed limit 30 Kph, 10.9ms\n",
      "image 168/308 /content/drive/MyDrive/Q3_2/test/00001_00035_00022_png_jpg.rf.14839f4d8dc3b342237d719307cecec6.jpg: 640x640 1 Speed limit 30 Kph, 10.9ms\n",
      "image 169/308 /content/drive/MyDrive/Q3_2/test/00001_00035_00023_png_jpg.rf.31eb24e48eb65de0684e016462c31d58.jpg: 640x640 1 Speed limit 30 Kph, 10.9ms\n",
      "image 170/308 /content/drive/MyDrive/Q3_2/test/00001_00035_00024_png_jpg.rf.f9a586d2af484768b5dde533cdce0e94.jpg: 640x640 1 Speed limit 30 Kph, 11.3ms\n",
      "image 171/308 /content/drive/MyDrive/Q3_2/test/00001_00035_00026_png_jpg.rf.452783585a1401c27b4f057a8a1e9bdb.jpg: 640x640 1 Speed limit 30 Kph, 11.4ms\n",
      "image 172/308 /content/drive/MyDrive/Q3_2/test/00001_00035_00028_png_jpg.rf.f8f5f85448ea356a9bbbc529351b4410.jpg: 640x640 1 Speed limit 30 Kph, 11.3ms\n",
      "image 173/308 /content/drive/MyDrive/Q3_2/test/00001_00036_00017_png_jpg.rf.41aaf031360034dcaf3beacfb2f3156b.jpg: 640x640 1 Speed limit 30 Kph, 10.8ms\n",
      "image 174/308 /content/drive/MyDrive/Q3_2/test/00001_00036_00020_png_jpg.rf.bf8dc90b187d90867fbc2c4af481c522.jpg: 640x640 1 Speed limit 30 Kph, 11.1ms\n",
      "image 175/308 /content/drive/MyDrive/Q3_2/test/00001_00036_00021_png_jpg.rf.3c9d2e8df206c87e8d2f16a92c15603e.jpg: 640x640 1 Speed limit 30 Kph, 13.4ms\n",
      "image 176/308 /content/drive/MyDrive/Q3_2/test/00001_00036_00023_png_jpg.rf.627727321816ea3fba311102ab8f180a.jpg: 640x640 1 Speed limit 30 Kph, 12.9ms\n",
      "image 177/308 /content/drive/MyDrive/Q3_2/test/00001_00036_00027_png_jpg.rf.a890f9053c2a9b723fc3d4979eda0f7d.jpg: 640x640 1 Speed limit 30 Kph, 11.6ms\n",
      "image 178/308 /content/drive/MyDrive/Q3_2/test/00001_00036_00028_png_jpg.rf.e58e031215f4e90c019f0403402a416f.jpg: 640x640 1 Speed limit 30 Kph, 11.7ms\n",
      "image 179/308 /content/drive/MyDrive/Q3_2/test/00001_00036_00029_png_jpg.rf.59846331b42bddc25efe493b33854b72.jpg: 640x640 1 Speed limit 30 Kph, 12.0ms\n",
      "image 180/308 /content/drive/MyDrive/Q3_2/test/00001_00037_00000_png_jpg.rf.9fbb999374c9485bd079da37169e17bb.jpg: 640x640 1 No_Over_Taking, 11.8ms\n",
      "image 181/308 /content/drive/MyDrive/Q3_2/test/00001_00037_00001_png_jpg.rf.c73f519b911aab2c09cd5681070531df.jpg: 640x640 (no detections), 11.6ms\n",
      "image 182/308 /content/drive/MyDrive/Q3_2/test/00001_00037_00002_png_jpg.rf.204f7978a11bd8b18f925a902b124322.jpg: 640x640 1 Dangerous Rright Curve Ahead, 12.0ms\n",
      "image 183/308 /content/drive/MyDrive/Q3_2/test/00001_00037_00003_png_jpg.rf.8d1b2b93436d10e053987b3b2d5546c7.jpg: 640x640 (no detections), 11.3ms\n",
      "image 184/308 /content/drive/MyDrive/Q3_2/test/00001_00037_00004_png_jpg.rf.25f2a3a8c689980c3c8cb93ba8df120c.jpg: 640x640 (no detections), 11.7ms\n",
      "image 185/308 /content/drive/MyDrive/Q3_2/test/00001_00037_00005_png_jpg.rf.a59b374ea3d51439e2c0d237d5e36155.jpg: 640x640 (no detections), 11.4ms\n",
      "image 186/308 /content/drive/MyDrive/Q3_2/test/00001_00037_00006_png_jpg.rf.6a136c44ff5d0eb660c3d04d5a8521f2.jpg: 640x640 1 Speed limit 30 Kph, 11.8ms\n",
      "image 187/308 /content/drive/MyDrive/Q3_2/test/00001_00037_00007_png_jpg.rf.3b16db90ce7ee555138dc0cf8ff7cf6d.jpg: 640x640 (no detections), 11.6ms\n",
      "image 188/308 /content/drive/MyDrive/Q3_2/test/00001_00037_00008_png_jpg.rf.c8cef0af446f2c891baa5ce196844125.jpg: 640x640 (no detections), 11.0ms\n",
      "image 189/308 /content/drive/MyDrive/Q3_2/test/00001_00037_00010_png_jpg.rf.2d4cc8e449ee68fbc0fe79fb3eebce34.jpg: 640x640 1 Speed limit 30 Kph, 11.7ms\n",
      "image 190/308 /content/drive/MyDrive/Q3_2/test/00001_00037_00011_png_jpg.rf.0556568b917ef8eb6b7811d5f97d6ee5.jpg: 640x640 1 Speed limit 30 Kph, 11.4ms\n",
      "image 191/308 /content/drive/MyDrive/Q3_2/test/00001_00037_00012_png_jpg.rf.4fd22cfbc188f4c05bc7a075484941c4.jpg: 640x640 1 Speed limit 30 Kph, 11.7ms\n",
      "image 192/308 /content/drive/MyDrive/Q3_2/test/00001_00037_00013_png_jpg.rf.eafd5b0cae62f5148a41ee888eb55d89.jpg: 640x640 1 Speed limit 30 Kph, 11.3ms\n",
      "image 193/308 /content/drive/MyDrive/Q3_2/test/00001_00037_00020_png_jpg.rf.85de20ddcad014c86a9a93048a1ff875.jpg: 640x640 1 Speed limit 30 Kph, 11.1ms\n",
      "image 194/308 /content/drive/MyDrive/Q3_2/test/00001_00037_00021_png_jpg.rf.6581eabecc31f9b965eebfa670bb3101.jpg: 640x640 1 Speed limit 30 Kph, 12.6ms\n",
      "image 195/308 /content/drive/MyDrive/Q3_2/test/00001_00037_00022_png_jpg.rf.56e2ba834d3f957978eae75be9f6b812.jpg: 640x640 1 Speed limit 30 Kph, 11.1ms\n",
      "image 196/308 /content/drive/MyDrive/Q3_2/test/00001_00037_00023_png_jpg.rf.3ee94cda71783f531963886d36e22c3d.jpg: 640x640 1 Speed limit 30 Kph, 11.0ms\n",
      "image 197/308 /content/drive/MyDrive/Q3_2/test/00001_00037_00024_png_jpg.rf.1e605f451bebc87ad17d3a9d66b0bd17.jpg: 640x640 1 Speed limit 30 Kph, 10.9ms\n",
      "image 198/308 /content/drive/MyDrive/Q3_2/test/00001_00037_00025_png_jpg.rf.1001b596fb6db1f0c696c937ec7ca36e.jpg: 640x640 1 Speed limit 30 Kph, 11.0ms\n",
      "image 199/308 /content/drive/MyDrive/Q3_2/test/00001_00037_00027_png_jpg.rf.0856ae0ae28abcc7aaa4570523792f02.jpg: 640x640 1 Speed limit 30 Kph, 11.4ms\n",
      "image 200/308 /content/drive/MyDrive/Q3_2/test/00001_00037_00028_png_jpg.rf.ebfb0a524ec407287efc10fcc0fbd0f9.jpg: 640x640 1 Speed limit 30 Kph, 11.1ms\n",
      "image 201/308 /content/drive/MyDrive/Q3_2/test/00001_00037_00029_png_jpg.rf.58d5e04c7a9d06064b4e534b18e7e047.jpg: 640x640 1 Speed limit 30 Kph, 11.2ms\n",
      "image 202/308 /content/drive/MyDrive/Q3_2/test/00001_00038_00000_png_jpg.rf.92dac6487dd3ed2d728274b7026000d0.jpg: 640x640 1 No_Over_Taking, 13.4ms\n",
      "image 203/308 /content/drive/MyDrive/Q3_2/test/00001_00038_00001_png_jpg.rf.4844e6bebc3dbaffcd1368858fc59782.jpg: 640x640 1 No_Over_Taking, 13.4ms\n",
      "image 204/308 /content/drive/MyDrive/Q3_2/test/00001_00038_00002_png_jpg.rf.d280f551b0833cebfe33098c428e4cad.jpg: 640x640 (no detections), 13.5ms\n",
      "image 205/308 /content/drive/MyDrive/Q3_2/test/00001_00038_00003_png_jpg.rf.15fc7e73b941ae5c6d8cbf046f7951af.jpg: 640x640 1 No_Over_Taking, 11.1ms\n",
      "image 206/308 /content/drive/MyDrive/Q3_2/test/00001_00038_00004_png_jpg.rf.84de64bf5e13b8ea16687e9d2f22ec88.jpg: 640x640 (no detections), 11.1ms\n",
      "image 207/308 /content/drive/MyDrive/Q3_2/test/00001_00038_00006_png_jpg.rf.ad7b99548efe9c8dafee27b9eca5a8f1.jpg: 640x640 1 Speed limit 50 Kph, 11.2ms\n",
      "image 208/308 /content/drive/MyDrive/Q3_2/test/00001_00038_00007_png_jpg.rf.00687ba43cf95bf7b5fc0a5b4a6b33fd.jpg: 640x640 (no detections), 11.5ms\n",
      "image 209/308 /content/drive/MyDrive/Q3_2/test/00001_00038_00008_png_jpg.rf.19139993c56c1abd9a7cbc8759a4ce39.jpg: 640x640 (no detections), 11.1ms\n",
      "image 210/308 /content/drive/MyDrive/Q3_2/test/00001_00038_00016_png_jpg.rf.f694f3727ae3afd0bdf898d2deee41db.jpg: 640x640 1 Speed limit 50 Kph, 11.1ms\n",
      "image 211/308 /content/drive/MyDrive/Q3_2/test/00001_00038_00017_png_jpg.rf.e37da44a5074e2023cc499fc19cd1d88.jpg: 640x640 1 Speed limit 30 Kph, 11.1ms\n",
      "image 212/308 /content/drive/MyDrive/Q3_2/test/00001_00038_00024_png_jpg.rf.11f62f29281e5fb5b8f1b3863f216e31.jpg: 640x640 1 Speed limit 30 Kph, 11.1ms\n",
      "image 213/308 /content/drive/MyDrive/Q3_2/test/00001_00038_00028_png_jpg.rf.0b022cbcbfd14329b2c73156f8eac91f.jpg: 640x640 1 Speed limit 30 Kph, 11.3ms\n",
      "image 214/308 /content/drive/MyDrive/Q3_2/test/00001_00039_00001_png_jpg.rf.5b93cd8eaf3273bab51b6a817023f495.jpg: 640x640 1 -Road narrows on right, 1 Dangerous Rright Curve Ahead, 1 Speed limit 30 Kph, 1 Speed limit 50 Kph, 11.1ms\n",
      "image 215/308 /content/drive/MyDrive/Q3_2/test/00001_00039_00002_png_jpg.rf.05d0c7ffaaf30fd3333c79240df0c6a4.jpg: 640x640 1 Dangerous Rright Curve Ahead, 1 Speed limit 30 Kph, 11.2ms\n",
      "image 216/308 /content/drive/MyDrive/Q3_2/test/00001_00039_00004_png_jpg.rf.bba62b0c0aae57fd2725f60163e4f393.jpg: 640x640 1 -Road narrows on right, 1 Speed limit 30 Kph, 10.9ms\n",
      "image 217/308 /content/drive/MyDrive/Q3_2/test/00001_00039_00005_png_jpg.rf.f07a16623549284827146073d7e7db74.jpg: 640x640 1 -Road narrows on right, 1 Speed limit 30 Kph, 11.1ms\n",
      "image 218/308 /content/drive/MyDrive/Q3_2/test/00001_00039_00013_png_jpg.rf.e1ee08875df5b872fdf5350e8a0d11d5.jpg: 640x640 1 -Road narrows on right, 1 Speed limit 30 Kph, 11.0ms\n",
      "image 219/308 /content/drive/MyDrive/Q3_2/test/00001_00039_00014_png_jpg.rf.00c6221fd94fdfadc3fd2eed73749554.jpg: 640x640 1 -Road narrows on right, 1 Speed limit 30 Kph, 11.0ms\n",
      "image 220/308 /content/drive/MyDrive/Q3_2/test/00022_00005_00028_png_jpg.rf.fc3a84982e1f029edbf89b64420f4fc4.jpg: 640x640 1 Uneven Road, 11.1ms\n",
      "image 221/308 /content/drive/MyDrive/Q3_2/test/00022_00006_00011_png_jpg.rf.8000842fc66e1dadddd8a1403a9a0d04.jpg: 640x640 1 Uneven Road, 11.1ms\n",
      "image 222/308 /content/drive/MyDrive/Q3_2/test/00022_00007_00005_png_jpg.rf.0da72592c528d0ad0a166fdf85657250.jpg: 640x640 1 Uneven Road, 11.0ms\n",
      "image 223/308 /content/drive/MyDrive/Q3_2/test/00022_00007_00012_png_jpg.rf.b74656a9c851e3a4c87b9b17d86721e2.jpg: 640x640 1 Uneven Road, 11.0ms\n",
      "image 224/308 /content/drive/MyDrive/Q3_2/test/00022_00007_00021_png_jpg.rf.8e40bacfc7ade02e07a5c716d58ea7dc.jpg: 640x640 1 Uneven Road, 11.0ms\n",
      "image 225/308 /content/drive/MyDrive/Q3_2/test/00041_00000_00005_png_jpg.rf.1f281ba92a999eab4b18c99e6af40415.jpg: 640x640 1 No_Over_Taking, 11.8ms\n",
      "image 226/308 /content/drive/MyDrive/Q3_2/test/00041_00000_00007_png_jpg.rf.ba98ef78150f84a4fe7f82e4fe6c2102.jpg: 640x640 1 No_Over_Taking, 11.8ms\n",
      "image 227/308 /content/drive/MyDrive/Q3_2/test/00041_00000_00011_png_jpg.rf.a97d98db7096c66f40ddbb7fe25fa66c.jpg: 640x640 1 No_Over_Taking, 11.0ms\n",
      "image 228/308 /content/drive/MyDrive/Q3_2/test/00041_00000_00016_png_jpg.rf.6395e3883526af4085f6c5aa2b083e6d.jpg: 640x640 1 No_Over_Taking, 11.5ms\n",
      "image 229/308 /content/drive/MyDrive/Q3_2/test/00041_00000_00020_png_jpg.rf.0b64a37932e4132d238716ec81bada08.jpg: 640x640 1 No_Over_Taking, 10.9ms\n",
      "image 230/308 /content/drive/MyDrive/Q3_2/test/00041_00000_00026_png_jpg.rf.69d2df7979c7b170236421a88cdc057b.jpg: 640x640 1 No_Over_Taking, 10.9ms\n",
      "image 231/308 /content/drive/MyDrive/Q3_2/test/00041_00001_00004_png_jpg.rf.7c6e9a55221f6f9d54dbccbdfb0d642d.jpg: 640x640 1 No_Over_Taking, 10.9ms\n",
      "image 232/308 /content/drive/MyDrive/Q3_2/test/road109_png.rf.2a782d451b47d5a1e81df530364c41b4.jpg: 640x640 1 Dangerous Left Curve Ahead, 1 Dangerous Rright Curve Ahead, 1 Speed limit 40 Kph, 11.3ms\n",
      "image 233/308 /content/drive/MyDrive/Q3_2/test/road112_png.rf.07f5ff2bfe60e2ca4ad52db55cf4fdd3.jpg: 640x640 1 Speed limit 120 Kph, 11.3ms\n",
      "image 234/308 /content/drive/MyDrive/Q3_2/test/road125_png.rf.3fe28e75e9fbaee1152fda2c9d4dbf46.jpg: 640x640 1 Crosswalk, 11.0ms\n",
      "image 235/308 /content/drive/MyDrive/Q3_2/test/road130_png.rf.945f1128ba0f3c9be5126b81c4672a8e.jpg: 640x640 2 Crosswalks, 11.2ms\n",
      "image 236/308 /content/drive/MyDrive/Q3_2/test/road171_png.rf.7ea8e3a9c28cf4814fd579e188044049.jpg: 640x640 1 Crosswalk, 11.2ms\n",
      "image 237/308 /content/drive/MyDrive/Q3_2/test/road201_png.rf.b7610e2896fa0a14445b56bf14535254.jpg: 640x640 1 Speed limit 40 Kph, 11.3ms\n",
      "image 238/308 /content/drive/MyDrive/Q3_2/test/road215_png.rf.4edc0cb4d47865736d30f91c0c7b2ffb.jpg: 640x640 (no detections), 11.2ms\n",
      "image 239/308 /content/drive/MyDrive/Q3_2/test/road233_png.rf.0de0b579d8cdfed521c9c71a2ba9be19.jpg: 640x640 1 Beware of children, 1 Speed limit 100 Kph, 1 Speed limit 120 Kph, 11.2ms\n",
      "image 240/308 /content/drive/MyDrive/Q3_2/test/road266_png.rf.6758128516cb31bc59fc9f45f92223ab.jpg: 640x640 1 Speed bump ahead, 1 Speed limit 40 Kph, 11.5ms\n",
      "image 241/308 /content/drive/MyDrive/Q3_2/test/road267_png.rf.e816cfdb18e7f74212774c62e394ab10.jpg: 640x640 1 Speed bump ahead, 1 Speed limit 40 Kph, 11.2ms\n",
      "image 242/308 /content/drive/MyDrive/Q3_2/test/road277_png.rf.d450897af73e8b0e85aa3188d9ff3b4d.jpg: 640x640 1 Speed bump ahead, 1 Speed limit 40 Kph, 11.2ms\n",
      "image 243/308 /content/drive/MyDrive/Q3_2/test/road279_png.rf.0af18c4eaad5c115ce2eec0dc4534a77.jpg: 640x640 1 Speed bump ahead, 1 Speed limit 40 Kph, 10.9ms\n",
      "image 244/308 /content/drive/MyDrive/Q3_2/test/road284_png.rf.6efca33c41e8e828bd97ef2a70f940c2.jpg: 640x640 1 Speed bump ahead, 1 Speed limit 40 Kph, 11.0ms\n",
      "image 245/308 /content/drive/MyDrive/Q3_2/test/road289_png.rf.a99894307ed2b64ec9d32eb8614aca7b.jpg: 640x640 1 Stop_Sign, 11.2ms\n",
      "image 246/308 /content/drive/MyDrive/Q3_2/test/road298_png.rf.c2c2d5befdc3a3525eb2021a308cf6a0.jpg: 640x640 1 Speed bump ahead, 1 Speed limit 40 Kph, 11.2ms\n",
      "image 247/308 /content/drive/MyDrive/Q3_2/test/road319_png.rf.068f2884e6f108e7f7ac422b23e909d6.jpg: 640x640 1 CYCLE ROUTE AHEAD WARNING, 1 Speed limit 40 Kph, 1 Speed limit 60 Kph, 12.5ms\n",
      "image 248/308 /content/drive/MyDrive/Q3_2/test/road321_png.rf.2dc77646db116bfe951462b4ab709b3f.jpg: 640x640 1 Crosswalk, 1 One way road, 1 Speed bump ahead, 2 Speed limits, 1 Speed limit 40 Kph, 12.4ms\n",
      "image 249/308 /content/drive/MyDrive/Q3_2/test/road330_png.rf.1d6e7d058302d1e79c36d3bfed8c4279.jpg: 640x640 1 Speed limit 40 Kph, 12.5ms\n",
      "image 250/308 /content/drive/MyDrive/Q3_2/test/road333_png.rf.fb07c232c6b378aec370eaf7e1d46680.jpg: 640x640 1 Dangerous Left Curve Ahead, 1 Speed limit, 1 Speed limit 40 Kph, 13.4ms\n",
      "image 251/308 /content/drive/MyDrive/Q3_2/test/road351_png.rf.b573a808371ff05c5097774b90a3beab.jpg: 640x640 1 Speed limit 40 Kph, 11.3ms\n",
      "image 252/308 /content/drive/MyDrive/Q3_2/test/road376_png.rf.1d33089515b18b4d206a7ea12693e78b.jpg: 640x640 1 Speed bump ahead, 1 Speed limit 30 Kph, 11.7ms\n",
      "image 253/308 /content/drive/MyDrive/Q3_2/test/road383_png.rf.baab6bd1cfaf7d8f129ec8304c1b9c5a.jpg: 640x640 1 Speed limit 70 Kph, 11.6ms\n",
      "image 254/308 /content/drive/MyDrive/Q3_2/test/road392_png.rf.9032a56398f09ffebe6ff2c6c3b744c2.jpg: 640x640 1 Speed limit 100 Kph, 11.7ms\n",
      "image 255/308 /content/drive/MyDrive/Q3_2/test/road393_png.rf.23b3ecf5a3b9a37adf433b36b5e4065e.jpg: 640x640 1 Speed limit 100 Kph, 11.1ms\n",
      "image 256/308 /content/drive/MyDrive/Q3_2/test/road403_png.rf.ef063bb381b542ac8cf86fe5b0d47f76.jpg: 640x640 1 Speed limit 90 Kph, 11.3ms\n",
      "image 257/308 /content/drive/MyDrive/Q3_2/test/road406_png.rf.921b5382a173a9f6bc4beec7df62a249.jpg: 640x640 1 Speed limit 100 Kph, 11.3ms\n",
      "image 258/308 /content/drive/MyDrive/Q3_2/test/road410_png.rf.124096a5e6484db855245a6a1f259794.jpg: 640x640 1 Speed limit 100 Kph, 11.4ms\n",
      "image 259/308 /content/drive/MyDrive/Q3_2/test/road413_png.rf.8107b72aa82733b2f205542a988ffbf8.jpg: 640x640 1 Speed limit 100 Kph, 11.0ms\n",
      "image 260/308 /content/drive/MyDrive/Q3_2/test/road416_png.rf.d49f1e6abf43088d87f8b1431c50370a.jpg: 640x640 1 Speed limit 100 Kph, 11.0ms\n",
      "image 261/308 /content/drive/MyDrive/Q3_2/test/road420_png.rf.52972fac434c2d14645d2f53a2c6f541.jpg: 640x640 1 Speed limit 90 Kph, 10.9ms\n",
      "image 262/308 /content/drive/MyDrive/Q3_2/test/road425_png.rf.4d460fd58840b62a9180f61f10cd784f.jpg: 640x640 1 Speed limit, 1 Speed limit 90 Kph, 11.3ms\n",
      "image 263/308 /content/drive/MyDrive/Q3_2/test/road430_png.rf.3678ffb1c1b414d09fa1e23e9a30287a.jpg: 640x640 1 Speed limit 90 Kph, 10.9ms\n",
      "image 264/308 /content/drive/MyDrive/Q3_2/test/road437_png.rf.c9d2c73213e8768c3b0fdb7afe51e43e.jpg: 640x640 1 Speed limit 40 Kph, 1 Speed limit 90 Kph, 11.1ms\n",
      "image 265/308 /content/drive/MyDrive/Q3_2/test/road438_png.rf.0e638938f62dc69ec51709138888c391.jpg: 640x640 1 Speed limit 40 Kph, 1 Speed limit 90 Kph, 13.5ms\n",
      "image 266/308 /content/drive/MyDrive/Q3_2/test/road443_png.rf.461b56a1996dd50d589d5aa1eea42ea8.jpg: 640x640 1 Speed limit 90 Kph, 11.4ms\n",
      "image 267/308 /content/drive/MyDrive/Q3_2/test/road466_png.rf.a02d89dd10a63824f243e5d4d86c61b1.jpg: 640x640 1 Crosswalk, 1 Speed limit, 1 Speed limit 80 Kph, 11.3ms\n",
      "image 268/308 /content/drive/MyDrive/Q3_2/test/road470_png.rf.393768fbd6c3a257bccf6668592c971d.jpg: 640x640 1 Speed limit, 1 Speed limit 80 Kph, 11.0ms\n",
      "image 269/308 /content/drive/MyDrive/Q3_2/test/road484_png.rf.f07f08fe32f5e6f71eee4d0a6593f898.jpg: 640x640 1 Speed limit, 1 Speed limit 80 Kph, 11.0ms\n",
      "image 270/308 /content/drive/MyDrive/Q3_2/test/road488_png.rf.b74cd7bac178d0061c18224f05efa8af.jpg: 640x640 1 Speed limit, 1 Speed limit 80 Kph, 11.1ms\n",
      "image 271/308 /content/drive/MyDrive/Q3_2/test/road494_png.rf.a31e2be1660d61e99ffe486e299de4c6.jpg: 640x640 2 Speed limits, 1 Speed limit 80 Kph, 10.9ms\n",
      "image 272/308 /content/drive/MyDrive/Q3_2/test/road514_png.rf.78759e85566d6aee5e7e5ca3c74022e6.jpg: 640x640 1 Speed limit 80 Kph, 11.2ms\n",
      "image 273/308 /content/drive/MyDrive/Q3_2/test/road538_png.rf.3331f1deb0e4a735027475de5b485a8f.jpg: 640x640 1 Speed bump ahead, 1 Speed limit 40 Kph, 11.3ms\n",
      "image 274/308 /content/drive/MyDrive/Q3_2/test/road541_png.rf.1de72c3119c0c5bebdb35bd061058379.jpg: 640x640 1 Speed bump ahead, 1 Speed limit 40 Kph, 11.1ms\n",
      "image 275/308 /content/drive/MyDrive/Q3_2/test/road562_png.rf.6fd467ce4361233c4a2646292b4f0408.jpg: 640x640 1 Crosswalk, 1 Speed bump ahead, 1 Speed limit 40 Kph, 11.3ms\n",
      "image 276/308 /content/drive/MyDrive/Q3_2/test/road591_png.rf.993a6ce7d1c689f7cbde504439b525d1.jpg: 640x640 1 Speed limit, 1 Speed limit 80 Kph, 11.0ms\n",
      "image 277/308 /content/drive/MyDrive/Q3_2/test/road606_png.rf.47e9be9e9dd6697ee32693b7c9ea8222.jpg: 640x640 1 Speed limit 80 Kph, 11.4ms\n",
      "image 278/308 /content/drive/MyDrive/Q3_2/test/road614_png.rf.f9136199e512975d6f23cb453eb2806e.jpg: 640x640 1 Speed limit 60 Kph, 11.6ms\n",
      "image 279/308 /content/drive/MyDrive/Q3_2/test/road620_png.rf.8c9161c8dd2eb089bd115c3bb86cc669.jpg: 640x640 (no detections), 11.4ms\n",
      "image 280/308 /content/drive/MyDrive/Q3_2/test/road625_png.rf.aa4d63babeccaf2cf927a092dba48e7c.jpg: 640x640 1 Speed limit 50 Kph, 11.0ms\n",
      "image 281/308 /content/drive/MyDrive/Q3_2/test/road670_png.rf.fc8fb8c9a4e933b50ebc0c35296ef7c1.jpg: 640x640 1 Speed bump ahead, 1 Speed limit 40 Kph, 11.0ms\n",
      "image 282/308 /content/drive/MyDrive/Q3_2/test/road681_png.rf.f4f6a279ee139c9a315240fcd0f5fcf2.jpg: 640x640 1 Crosswalk, 1 Speed bump ahead, 1 Speed limit, 1 Speed limit 40 Kph, 11.4ms\n",
      "image 283/308 /content/drive/MyDrive/Q3_2/test/road686_png.rf.7c70de69c74a8959b0aae34aea41895c.jpg: 640x640 1 Speed bump ahead, 1 Speed limit 40 Kph, 11.1ms\n",
      "image 284/308 /content/drive/MyDrive/Q3_2/test/road68_png.rf.61f05ca760167ffd7ca6125f64fd3714.jpg: 640x640 1 Stop_Sign, 11.0ms\n",
      "image 285/308 /content/drive/MyDrive/Q3_2/test/road709_png.rf.98da38a3ee3f68314c5705541f8a27e1.jpg: 640x640 1 Speed limit 100 Kph, 2 Speed limit 120 Kphs, 11.0ms\n",
      "image 286/308 /content/drive/MyDrive/Q3_2/test/road712_png.rf.acedb4d7b9d0091236a1cf61181ae2b8.jpg: 640x640 1 Speed limit 100 Kph, 1 Speed limit 120 Kph, 12.9ms\n",
      "image 287/308 /content/drive/MyDrive/Q3_2/test/road718_png.rf.d12729d1856c1e49278b79c29c8f3c0b.jpg: 640x640 1 Speed limit, 2 Speed limit 100 Kphs, 1 Speed limit 120 Kph, 11.6ms\n",
      "image 288/308 /content/drive/MyDrive/Q3_2/test/road719_png.rf.519e8c0de79711dccbe027e6ac9129f1.jpg: 640x640 1 No_Over_Taking, 1 Speed limit 40 Kph, 11.5ms\n",
      "image 289/308 /content/drive/MyDrive/Q3_2/test/road720_png.rf.c1f1eb0e218d9a2b9a595a024450b0e6.jpg: 640x640 1 Crosswalk, 1 No_Over_Taking, 1 Speed limit 40 Kph, 11.2ms\n",
      "image 290/308 /content/drive/MyDrive/Q3_2/test/road722_png.rf.1a3e372cef1e23e229a38c917ccb1291.jpg: 640x640 1 No_Over_Taking, 1 Speed limit 40 Kph, 11.5ms\n",
      "image 291/308 /content/drive/MyDrive/Q3_2/test/road732_png.rf.7e863f296711e65ca87098e1c93549c3.jpg: 640x640 1 Speed limit 100 Kph, 1 Speed limit 120 Kph, 65.2ms\n",
      "image 292/308 /content/drive/MyDrive/Q3_2/test/road753_png.rf.2c26562189293e926a1c42cf9e8d5177.jpg: 640x640 1 Speed limit 100 Kph, 1 Speed limit 120 Kph, 11.3ms\n",
      "image 293/308 /content/drive/MyDrive/Q3_2/test/road757_png.rf.5fdb5d8bee58b87d74a8779f3e4f51d0.jpg: 640x640 1 Speed limit 100 Kph, 11.2ms\n",
      "image 294/308 /content/drive/MyDrive/Q3_2/test/road772_png.rf.6cfd05de0ab893efe5ccc7ba7930bc0a.jpg: 640x640 (no detections), 11.1ms\n",
      "image 295/308 /content/drive/MyDrive/Q3_2/test/road779_png.rf.a2844475bbd44dcbb08d27b85632d41c.jpg: 640x640 1 Speed limit 60 Kph, 1 Uneven Road, 11.4ms\n",
      "image 296/308 /content/drive/MyDrive/Q3_2/test/road809_png.rf.0cb5ed459ddd434d53733fd9895acb17.jpg: 640x640 1 Speed limit 90 Kph, 11.2ms\n",
      "image 297/308 /content/drive/MyDrive/Q3_2/test/road80_png.rf.921c118a58822ee7089b07d9b461e09b.jpg: 640x640 1 Stop_Sign, 11.1ms\n",
      "image 298/308 /content/drive/MyDrive/Q3_2/test/road819_png.rf.02f9894c07257a2754b3dbe195d84409.jpg: 640x640 1 One way road, 1 Stop_Sign, 11.3ms\n",
      "image 299/308 /content/drive/MyDrive/Q3_2/test/road829_png.rf.ab16e0808c4acb667175dce8fdd32f7f.jpg: 640x640 1 Speed limit 80 Kph, 11.1ms\n",
      "image 300/308 /content/drive/MyDrive/Q3_2/test/road831_png.rf.e68a2d245ba60bca05f713b2d8238752.jpg: 640x640 1 Speed limit 80 Kph, 11.5ms\n",
      "image 301/308 /content/drive/MyDrive/Q3_2/test/road835_png.rf.75b32e186fe98ef5a598dd4d9629ee45.jpg: 640x640 1 Speed limit 80 Kph, 11.0ms\n",
      "image 302/308 /content/drive/MyDrive/Q3_2/test/road837_png.rf.89825d33b22fcbc470ea54429a536de3.jpg: 640x640 1 Speed limit 80 Kph, 10.9ms\n",
      "image 303/308 /content/drive/MyDrive/Q3_2/test/road856_png.rf.1bad31c3be4aad985dd51bc567c020d3.jpg: 640x640 1 Speed limit 80 Kph, 11.5ms\n",
      "image 304/308 /content/drive/MyDrive/Q3_2/test/road859_png.rf.2eeb834aca6185ad23a69f58c585edb2.jpg: 640x640 1 Speed limit 80 Kph, 11.2ms\n",
      "image 305/308 /content/drive/MyDrive/Q3_2/test/road863_png.rf.e1354b63dc3d014174598fb9f071c932.jpg: 640x640 1 Speed limit 80 Kph, 1 Speed limit 90 Kph, 11.1ms\n",
      "image 306/308 /content/drive/MyDrive/Q3_2/test/road871_png.rf.b8d3a3ec98ee98a5985eb04d79f7307b.jpg: 640x640 1 Speed bump ahead, 1 Speed limit 40 Kph, 11.5ms\n",
      "image 307/308 /content/drive/MyDrive/Q3_2/test/road88_png.rf.6e8b93fc30f2728edd53a5ae1c11df77.jpg: 640x640 1 Stop_Sign, 11.6ms\n",
      "image 308/308 /content/drive/MyDrive/Q3_2/test/road95_png.rf.8c3d9f6c296d773e57228a520d7e11b2.jpg: 640x640 1 Stop_Sign, 11.1ms\n",
      "Speed: 2.0ms preprocess, 11.7ms inference, 1.2ms postprocess per image at shape (1, 3, 640, 640)\n",
      "Results saved to \u001b[1mruns/detect/train23\u001b[0m\n"
     ]
    }
   ],
   "source": [
    "# Make predictions on the test set\n",
    "predictions = model.predict(source=r'/content/drive/MyDrive/DP/code_yolov3/test', save=True)"
   ]
  },
  {
   "cell_type": "code",
   "execution_count": null,
   "metadata": {},
   "outputs": [],
   "source": [
    "#predicting images using the trained model"
   ]
  },
  {
   "cell_type": "code",
   "execution_count": null,
   "metadata": {
    "colab": {
     "base_uri": "https://localhost:8080/",
     "height": 1000
    },
    "id": "tVT9RyDahJD-",
    "outputId": "c34cf45e-aabd-4d3d-a566-8951c1b72435"
   },
   "outputs": [],
   "source": [
    "import matplotlib.pyplot as plt\n",
    "import matplotlib.patches as patches\n",
    "from PIL import Image\n",
    "import random\n",
    "import os\n",
    "\n",
    "output_dir = r'/content/drive/MyDrive/DP/code_yolov3/predicted_images'\n",
    "os.makedirs(output_dir, exist_ok=True)  \n",
    "\n",
    "# Function to visualize, save, and print image with predicted bounding boxes\n",
    "def visualize_and_save_predictions(image_path, predictions, save_path):\n",
    "    # Open the image\n",
    "    img = Image.open(image_path)\n",
    "    plt.figure(figsize=(10, 10))\n",
    "    plt.imshow(img)\n",
    "    ax = plt.gca()\n",
    "\n",
    "    # Iterating through the predictions and drawing the boxes\n",
    "    for box in predictions.boxes:\n",
    "        x1, y1, x2, y2 = box.xyxy[0].tolist() \n",
    "        conf = box.conf[0].item()\n",
    "        cls = int(box.cls[0].item()) \n",
    "\n",
    "        # Rectangle patch for the bounding box\n",
    "        rect = patches.Rectangle((x1, y1), x2 - x1, y2 - y1, linewidth=2, edgecolor='r', facecolor='none')\n",
    "        ax.add_patch(rect)\n",
    "\n",
    "        # Annotating the bounding box with class and confidence\n",
    "        plt.text(x1, y1 - 10, f'Class: {cls}, Conf: {conf:.2f}', color='white', bbox=dict(facecolor='red', alpha=0.5))\n",
    "\n",
    "    plt.axis('off')\n",
    "    plt.savefig(save_path, bbox_inches='tight', pad_inches=0)\n",
    "    plt.show()\n",
    "\n",
    "    plt.close()  \n",
    "\n",
    "# Directory where test images are stored\n",
    "test_image_dir = r'/content/drive/MyDrive/Q3_2/test'\n",
    "\n",
    "# Getting a list of all test image filenames\n",
    "test_image_files = [f for f in os.listdir(test_image_dir) if f.endswith('.jpg')]\n",
    "\n",
    "# Random test images to visualize, save, and print\n",
    "num_images_to_visualize = 5\n",
    "random_image_files = random.sample(test_image_files, num_images_to_visualize)\n",
    "\n",
    "# Looping through the selected random images, predicting, saving, and printing the visualized images\n",
    "for image_file in random_image_files:\n",
    "    image_path = os.path.join(test_image_dir, image_file)\n",
    "    prediction = model.predict(source=image_path) \n",
    "    save_path = os.path.join(output_dir, f\"predicted_{image_file}\")\n",
    "    visualize_and_save_predictions(image_path, prediction[0], save_path) \n",
    "\n",
    "print(f\"Predicted images saved to: {output_dir}\")"
   ]
  },
  {
   "cell_type": "code",
   "execution_count": null,
   "metadata": {},
   "outputs": [],
   "source": [
    "#generating submission file by predicting classes for each image of test dataset"
   ]
  },
  {
   "cell_type": "code",
   "execution_count": null,
   "metadata": {
    "colab": {
     "base_uri": "https://localhost:8080/"
    },
    "id": "VzjdaiPC63BK",
    "outputId": "1bb387e1-583d-4453-b010-b7b0b21294dd"
   },
   "outputs": [
    {
     "name": "stdout",
     "output_type": "stream",
     "text": [
      "\n",
      "image 1/1 /content/drive/MyDrive/Q3_2/test/00001_00032_00000_png_jpg.rf.2259a87e6d9092f6718e56ff7d2329e2.jpg: 640x640 (no detections), 14.5ms\n",
      "Speed: 2.3ms preprocess, 14.5ms inference, 0.8ms postprocess per image at shape (1, 3, 640, 640)\n",
      "\n",
      "image 1/1 /content/drive/MyDrive/Q3_2/test/road712_png.rf.acedb4d7b9d0091236a1cf61181ae2b8.jpg: 640x640 1 Speed limit 100 Kph, 1 Speed limit 120 Kph, 11.7ms\n",
      "Speed: 1.6ms preprocess, 11.7ms inference, 1.9ms postprocess per image at shape (1, 3, 640, 640)\n",
      "\n",
      "image 1/1 /content/drive/MyDrive/Q3_2/test/00001_00025_00011_png_jpg.rf.b875f944adeb3305fc047a29e2bfcf92.jpg: 640x640 1 Speed limit 30 Kph, 12.0ms\n",
      "Speed: 1.5ms preprocess, 12.0ms inference, 1.6ms postprocess per image at shape (1, 3, 640, 640)\n",
      "\n",
      "image 1/1 /content/drive/MyDrive/Q3_2/test/road779_png.rf.a2844475bbd44dcbb08d27b85632d41c.jpg: 640x640 1 Speed limit 60 Kph, 1 Uneven Road, 14.9ms\n",
      "Speed: 1.5ms preprocess, 14.9ms inference, 1.6ms postprocess per image at shape (1, 3, 640, 640)\n",
      "\n",
      "image 1/1 /content/drive/MyDrive/Q3_2/test/00001_00030_00005_png_jpg.rf.8207943924f8ccef80504d544a8a6886.jpg: 640x640 (no detections), 12.7ms\n",
      "Speed: 1.8ms preprocess, 12.7ms inference, 0.6ms postprocess per image at shape (1, 3, 640, 640)\n",
      "\n",
      "image 1/1 /content/drive/MyDrive/Q3_2/test/00001_00018_00015_png_jpg.rf.a211e8fcc4e23c2d902929a42ac8ef28.jpg: 640x640 1 Speed limit 30 Kph, 12.9ms\n",
      "Speed: 1.6ms preprocess, 12.9ms inference, 1.5ms postprocess per image at shape (1, 3, 640, 640)\n",
      "\n",
      "image 1/1 /content/drive/MyDrive/Q3_2/test/00001_00018_00025_png_jpg.rf.2c3578962232b20fc4de0e52514fe805.jpg: 640x640 1 Speed limit 30 Kph, 11.7ms\n",
      "Speed: 1.5ms preprocess, 11.7ms inference, 1.4ms postprocess per image at shape (1, 3, 640, 640)\n",
      "\n",
      "image 1/1 /content/drive/MyDrive/Q3_2/test/00001_00034_00028_png_jpg.rf.c01f4889a8bfa599467c074ceca9e082.jpg: 640x640 1 Speed limit 30 Kph, 13.2ms\n",
      "Speed: 1.6ms preprocess, 13.2ms inference, 1.5ms postprocess per image at shape (1, 3, 640, 640)\n",
      "\n",
      "image 1/1 /content/drive/MyDrive/Q3_2/test/00001_00037_00012_png_jpg.rf.4fd22cfbc188f4c05bc7a075484941c4.jpg: 640x640 1 Speed limit 30 Kph, 12.5ms\n",
      "Speed: 1.6ms preprocess, 12.5ms inference, 1.5ms postprocess per image at shape (1, 3, 640, 640)\n",
      "\n",
      "image 1/1 /content/drive/MyDrive/Q3_2/test/00001_00018_00026_png_jpg.rf.c9af647409ab7a4a762e293ecf64d27d.jpg: 640x640 1 Speed limit 30 Kph, 13.2ms\n",
      "Speed: 1.6ms preprocess, 13.2ms inference, 1.7ms postprocess per image at shape (1, 3, 640, 640)\n",
      "\n",
      "image 1/1 /content/drive/MyDrive/Q3_2/test/road383_png.rf.baab6bd1cfaf7d8f129ec8304c1b9c5a.jpg: 640x640 1 Speed limit 70 Kph, 12.2ms\n",
      "Speed: 1.6ms preprocess, 12.2ms inference, 1.5ms postprocess per image at shape (1, 3, 640, 640)\n",
      "\n",
      "image 1/1 /content/drive/MyDrive/Q3_2/test/00001_00032_00001_png_jpg.rf.031b3902d2198eadcde873e876846d9f.jpg: 640x640 1 Speed limit 20 Kph, 12.5ms\n",
      "Speed: 1.6ms preprocess, 12.5ms inference, 1.5ms postprocess per image at shape (1, 3, 640, 640)\n",
      "\n",
      "image 1/1 /content/drive/MyDrive/Q3_2/test/00001_00034_00023_png_jpg.rf.99347a568e3ab042bc3218208a8a6e9e.jpg: 640x640 1 Speed limit 30 Kph, 12.9ms\n",
      "Speed: 1.7ms preprocess, 12.9ms inference, 1.5ms postprocess per image at shape (1, 3, 640, 640)\n",
      "\n",
      "image 1/1 /content/drive/MyDrive/Q3_2/test/road125_png.rf.3fe28e75e9fbaee1152fda2c9d4dbf46.jpg: 640x640 1 Crosswalk, 13.1ms\n",
      "Speed: 1.8ms preprocess, 13.1ms inference, 1.5ms postprocess per image at shape (1, 3, 640, 640)\n",
      "\n",
      "image 1/1 /content/drive/MyDrive/Q3_2/test/road416_png.rf.d49f1e6abf43088d87f8b1431c50370a.jpg: 640x640 1 Speed limit 100 Kph, 12.9ms\n",
      "Speed: 1.6ms preprocess, 12.9ms inference, 1.4ms postprocess per image at shape (1, 3, 640, 640)\n",
      "\n",
      "image 1/1 /content/drive/MyDrive/Q3_2/test/00001_00038_00003_png_jpg.rf.15fc7e73b941ae5c6d8cbf046f7951af.jpg: 640x640 1 No_Over_Taking, 12.7ms\n",
      "Speed: 1.5ms preprocess, 12.7ms inference, 1.4ms postprocess per image at shape (1, 3, 640, 640)\n",
      "\n",
      "image 1/1 /content/drive/MyDrive/Q3_2/test/00001_00032_00019_png_jpg.rf.5d1f2122b98cecc893e651eccfc5de02.jpg: 640x640 1 Speed limit 30 Kph, 11.9ms\n",
      "Speed: 1.5ms preprocess, 11.9ms inference, 1.4ms postprocess per image at shape (1, 3, 640, 640)\n",
      "\n",
      "image 1/1 /content/drive/MyDrive/Q3_2/test/00001_00031_00027_png_jpg.rf.ac4f9150a27019dbf8ebf772bc5fd37d.jpg: 640x640 1 Speed limit 30 Kph, 12.4ms\n",
      "Speed: 1.6ms preprocess, 12.4ms inference, 1.5ms postprocess per image at shape (1, 3, 640, 640)\n",
      "\n",
      "image 1/1 /content/drive/MyDrive/Q3_2/test/00001_00039_00005_png_jpg.rf.f07a16623549284827146073d7e7db74.jpg: 640x640 1 -Road narrows on right, 1 Speed limit 30 Kph, 12.3ms\n",
      "Speed: 1.5ms preprocess, 12.3ms inference, 1.5ms postprocess per image at shape (1, 3, 640, 640)\n",
      "\n",
      "image 1/1 /content/drive/MyDrive/Q3_2/test/road514_png.rf.78759e85566d6aee5e7e5ca3c74022e6.jpg: 640x640 1 Speed limit 80 Kph, 12.6ms\n",
      "Speed: 1.5ms preprocess, 12.6ms inference, 1.4ms postprocess per image at shape (1, 3, 640, 640)\n",
      "\n",
      "image 1/1 /content/drive/MyDrive/Q3_2/test/road488_png.rf.b74cd7bac178d0061c18224f05efa8af.jpg: 640x640 1 Speed limit, 1 Speed limit 80 Kph, 12.3ms\n",
      "Speed: 1.7ms preprocess, 12.3ms inference, 1.5ms postprocess per image at shape (1, 3, 640, 640)\n",
      "\n",
      "image 1/1 /content/drive/MyDrive/Q3_2/test/road298_png.rf.c2c2d5befdc3a3525eb2021a308cf6a0.jpg: 640x640 1 Speed bump ahead, 1 Speed limit 40 Kph, 11.7ms\n",
      "Speed: 1.6ms preprocess, 11.7ms inference, 1.4ms postprocess per image at shape (1, 3, 640, 640)\n",
      "\n",
      "image 1/1 /content/drive/MyDrive/Q3_2/test/00001_00037_00022_png_jpg.rf.56e2ba834d3f957978eae75be9f6b812.jpg: 640x640 1 Speed limit 30 Kph, 11.8ms\n",
      "Speed: 1.6ms preprocess, 11.8ms inference, 1.4ms postprocess per image at shape (1, 3, 640, 640)\n",
      "\n",
      "image 1/1 /content/drive/MyDrive/Q3_2/test/00001_00031_00029_png_jpg.rf.5e7891430d5535fcd160ba08928cf619.jpg: 640x640 1 Speed limit 30 Kph, 11.6ms\n",
      "Speed: 1.5ms preprocess, 11.6ms inference, 1.4ms postprocess per image at shape (1, 3, 640, 640)\n",
      "\n",
      "image 1/1 /content/drive/MyDrive/Q3_2/test/00000_00000_00022_png_jpg.rf.66ace55a624f81aacdd7c0e797a807ed.jpg: 640x640 1 Speed limit 20 Kph, 11.7ms\n",
      "Speed: 1.5ms preprocess, 11.7ms inference, 1.4ms postprocess per image at shape (1, 3, 640, 640)\n",
      "\n",
      "image 1/1 /content/drive/MyDrive/Q3_2/test/00001_00032_00027_png_jpg.rf.6999dbebff2d9d593e94b78aafe577b0.jpg: 640x640 1 Speed limit 30 Kph, 11.7ms\n",
      "Speed: 1.5ms preprocess, 11.7ms inference, 1.4ms postprocess per image at shape (1, 3, 640, 640)\n",
      "\n",
      "image 1/1 /content/drive/MyDrive/Q3_2/test/00001_00036_00021_png_jpg.rf.3c9d2e8df206c87e8d2f16a92c15603e.jpg: 640x640 1 Speed limit 30 Kph, 12.0ms\n",
      "Speed: 1.5ms preprocess, 12.0ms inference, 1.4ms postprocess per image at shape (1, 3, 640, 640)\n",
      "\n",
      "image 1/1 /content/drive/MyDrive/Q3_2/test/00001_00035_00023_png_jpg.rf.31eb24e48eb65de0684e016462c31d58.jpg: 640x640 1 Speed limit 30 Kph, 11.8ms\n",
      "Speed: 1.5ms preprocess, 11.8ms inference, 1.4ms postprocess per image at shape (1, 3, 640, 640)\n",
      "\n",
      "image 1/1 /content/drive/MyDrive/Q3_2/test/00001_00029_00020_png_jpg.rf.61657c25961f827249886bfaec589279.jpg: 640x640 1 Speed limit 30 Kph, 15.6ms\n",
      "Speed: 1.6ms preprocess, 15.6ms inference, 1.8ms postprocess per image at shape (1, 3, 640, 640)\n",
      "\n",
      "image 1/1 /content/drive/MyDrive/Q3_2/test/00001_00032_00007_png_jpg.rf.86ab478ecf62f3c02598129f42afc8c7.jpg: 640x640 1 Speed limit 30 Kph, 15.8ms\n",
      "Speed: 1.7ms preprocess, 15.8ms inference, 1.9ms postprocess per image at shape (1, 3, 640, 640)\n",
      "\n",
      "image 1/1 /content/drive/MyDrive/Q3_2/test/00001_00037_00011_png_jpg.rf.0556568b917ef8eb6b7811d5f97d6ee5.jpg: 640x640 1 Speed limit 30 Kph, 12.3ms\n",
      "Speed: 1.5ms preprocess, 12.3ms inference, 1.4ms postprocess per image at shape (1, 3, 640, 640)\n",
      "\n",
      "image 1/1 /content/drive/MyDrive/Q3_2/test/00001_00028_00014_png_jpg.rf.cab9af8a88d212c6afdc678d2e6ddade.jpg: 640x640 1 Speed limit 30 Kph, 13.7ms\n",
      "Speed: 1.6ms preprocess, 13.7ms inference, 1.6ms postprocess per image at shape (1, 3, 640, 640)\n",
      "\n",
      "image 1/1 /content/drive/MyDrive/Q3_2/test/road420_png.rf.52972fac434c2d14645d2f53a2c6f541.jpg: 640x640 1 Speed limit 90 Kph, 12.7ms\n",
      "Speed: 1.6ms preprocess, 12.7ms inference, 1.5ms postprocess per image at shape (1, 3, 640, 640)\n",
      "\n",
      "image 1/1 /content/drive/MyDrive/Q3_2/test/road719_png.rf.519e8c0de79711dccbe027e6ac9129f1.jpg: 640x640 1 No_Over_Taking, 1 Speed limit 40 Kph, 12.3ms\n",
      "Speed: 1.5ms preprocess, 12.3ms inference, 1.4ms postprocess per image at shape (1, 3, 640, 640)\n",
      "\n",
      "image 1/1 /content/drive/MyDrive/Q3_2/test/00000_00000_00018_png_jpg.rf.4eff8cf87317fad6622f1d00b81d575e.jpg: 640x640 1 Speed limit 20 Kph, 12.1ms\n",
      "Speed: 1.6ms preprocess, 12.1ms inference, 1.3ms postprocess per image at shape (1, 3, 640, 640)\n",
      "\n",
      "image 1/1 /content/drive/MyDrive/Q3_2/test/00001_00034_00015_png_jpg.rf.653fa007a9eb1f3c13b94c3e96c5a963.jpg: 640x640 1 Speed limit 30 Kph, 12.1ms\n",
      "Speed: 1.5ms preprocess, 12.1ms inference, 1.4ms postprocess per image at shape (1, 3, 640, 640)\n",
      "\n",
      "image 1/1 /content/drive/MyDrive/Q3_2/test/road425_png.rf.4d460fd58840b62a9180f61f10cd784f.jpg: 640x640 1 Speed limit, 1 Speed limit 90 Kph, 11.9ms\n",
      "Speed: 1.4ms preprocess, 11.9ms inference, 1.5ms postprocess per image at shape (1, 3, 640, 640)\n",
      "\n",
      "image 1/1 /content/drive/MyDrive/Q3_2/test/00000_00000_00021_png_jpg.rf.f0f74c580fb71be6df258535e2d301af.jpg: 640x640 1 Speed limit 20 Kph, 1 Uneven Road, 13.0ms\n",
      "Speed: 1.6ms preprocess, 13.0ms inference, 1.5ms postprocess per image at shape (1, 3, 640, 640)\n",
      "\n",
      "image 1/1 /content/drive/MyDrive/Q3_2/test/road722_png.rf.1a3e372cef1e23e229a38c917ccb1291.jpg: 640x640 1 No_Over_Taking, 1 Speed limit 40 Kph, 12.2ms\n",
      "Speed: 2.5ms preprocess, 12.2ms inference, 1.4ms postprocess per image at shape (1, 3, 640, 640)\n",
      "\n",
      "image 1/1 /content/drive/MyDrive/Q3_2/test/00001_00027_00029_png_jpg.rf.04a2accee8e6d3a219f4875c71da527b.jpg: 640x640 1 Speed limit 30 Kph, 12.5ms\n",
      "Speed: 1.6ms preprocess, 12.5ms inference, 1.7ms postprocess per image at shape (1, 3, 640, 640)\n",
      "\n",
      "image 1/1 /content/drive/MyDrive/Q3_2/test/road88_png.rf.6e8b93fc30f2728edd53a5ae1c11df77.jpg: 640x640 1 Stop_Sign, 13.3ms\n",
      "Speed: 1.6ms preprocess, 13.3ms inference, 1.5ms postprocess per image at shape (1, 3, 640, 640)\n",
      "\n",
      "image 1/1 /content/drive/MyDrive/Q3_2/test/road819_png.rf.02f9894c07257a2754b3dbe195d84409.jpg: 640x640 1 One way road, 1 Stop_Sign, 12.3ms\n",
      "Speed: 1.5ms preprocess, 12.3ms inference, 1.5ms postprocess per image at shape (1, 3, 640, 640)\n",
      "\n",
      "image 1/1 /content/drive/MyDrive/Q3_2/test/00022_00006_00011_png_jpg.rf.8000842fc66e1dadddd8a1403a9a0d04.jpg: 640x640 1 Uneven Road, 12.6ms\n",
      "Speed: 1.5ms preprocess, 12.6ms inference, 1.5ms postprocess per image at shape (1, 3, 640, 640)\n",
      "\n",
      "image 1/1 /content/drive/MyDrive/Q3_2/test/00000_00002_00022_png_jpg.rf.e73d9cbf8f513cbf611d447b0e696385.jpg: 640x640 1 Speed limit 20 Kph, 12.5ms\n",
      "Speed: 1.6ms preprocess, 12.5ms inference, 1.5ms postprocess per image at shape (1, 3, 640, 640)\n",
      "\n",
      "image 1/1 /content/drive/MyDrive/Q3_2/test/00000_00000_00000_png_jpg.rf.fe38518f555b8b4d139ed0a31adee9fc.jpg: 640x640 1 Beware of children, 1 No_Over_Taking, 12.6ms\n",
      "Speed: 1.6ms preprocess, 12.6ms inference, 1.5ms postprocess per image at shape (1, 3, 640, 640)\n",
      "\n",
      "image 1/1 /content/drive/MyDrive/Q3_2/test/road625_png.rf.aa4d63babeccaf2cf927a092dba48e7c.jpg: 640x640 1 Speed limit 50 Kph, 12.6ms\n",
      "Speed: 1.6ms preprocess, 12.6ms inference, 1.4ms postprocess per image at shape (1, 3, 640, 640)\n",
      "\n",
      "image 1/1 /content/drive/MyDrive/Q3_2/test/00001_00032_00016_png_jpg.rf.b4b4e66189114a55f95b1664a482734e.jpg: 640x640 1 Speed limit 30 Kph, 12.6ms\n",
      "Speed: 1.5ms preprocess, 12.6ms inference, 1.4ms postprocess per image at shape (1, 3, 640, 640)\n",
      "\n",
      "image 1/1 /content/drive/MyDrive/Q3_2/test/00001_00029_00023_png_jpg.rf.62b6f8a3116cb28d95294e92a7145f49.jpg: 640x640 1 Speed limit 30 Kph, 12.8ms\n",
      "Speed: 1.6ms preprocess, 12.8ms inference, 1.5ms postprocess per image at shape (1, 3, 640, 640)\n",
      "\n",
      "image 1/1 /content/drive/MyDrive/Q3_2/test/00001_00018_00021_png_jpg.rf.8b1b78e80912c64af8986363755b2b8c.jpg: 640x640 1 Speed limit 30 Kph, 12.4ms\n",
      "Speed: 1.6ms preprocess, 12.4ms inference, 1.5ms postprocess per image at shape (1, 3, 640, 640)\n",
      "\n",
      "image 1/1 /content/drive/MyDrive/Q3_2/test/00001_00038_00024_png_jpg.rf.11f62f29281e5fb5b8f1b3863f216e31.jpg: 640x640 1 Speed limit 30 Kph, 12.4ms\n",
      "Speed: 1.6ms preprocess, 12.4ms inference, 1.8ms postprocess per image at shape (1, 3, 640, 640)\n",
      "\n",
      "image 1/1 /content/drive/MyDrive/Q3_2/test/00001_00022_00011_png_jpg.rf.af43f516d0e8c9e8d2729265dc82fb7e.jpg: 640x640 1 Speed limit 30 Kph, 13.3ms\n",
      "Speed: 1.6ms preprocess, 13.3ms inference, 1.5ms postprocess per image at shape (1, 3, 640, 640)\n",
      "\n",
      "image 1/1 /content/drive/MyDrive/Q3_2/test/road437_png.rf.c9d2c73213e8768c3b0fdb7afe51e43e.jpg: 640x640 1 Speed limit 40 Kph, 1 Speed limit 90 Kph, 12.7ms\n",
      "Speed: 1.6ms preprocess, 12.7ms inference, 1.5ms postprocess per image at shape (1, 3, 640, 640)\n",
      "\n",
      "image 1/1 /content/drive/MyDrive/Q3_2/test/00001_00018_00024_png_jpg.rf.014c920f721df797ba8d57ef59d022b3.jpg: 640x640 1 Speed limit 30 Kph, 14.1ms\n",
      "Speed: 1.6ms preprocess, 14.1ms inference, 1.5ms postprocess per image at shape (1, 3, 640, 640)\n",
      "\n",
      "image 1/1 /content/drive/MyDrive/Q3_2/test/road538_png.rf.3331f1deb0e4a735027475de5b485a8f.jpg: 640x640 1 Speed bump ahead, 1 Speed limit 40 Kph, 12.7ms\n",
      "Speed: 1.6ms preprocess, 12.7ms inference, 1.4ms postprocess per image at shape (1, 3, 640, 640)\n",
      "\n",
      "image 1/1 /content/drive/MyDrive/Q3_2/test/00001_00037_00013_png_jpg.rf.eafd5b0cae62f5148a41ee888eb55d89.jpg: 640x640 1 Speed limit 30 Kph, 12.2ms\n",
      "Speed: 1.6ms preprocess, 12.2ms inference, 1.4ms postprocess per image at shape (1, 3, 640, 640)\n",
      "\n",
      "image 1/1 /content/drive/MyDrive/Q3_2/test/00001_00025_00008_png_jpg.rf.75157c267a406b2544c7392ed7cd5830.jpg: 640x640 (no detections), 12.2ms\n",
      "Speed: 1.5ms preprocess, 12.2ms inference, 0.6ms postprocess per image at shape (1, 3, 640, 640)\n",
      "\n",
      "image 1/1 /content/drive/MyDrive/Q3_2/test/road470_png.rf.393768fbd6c3a257bccf6668592c971d.jpg: 640x640 1 Speed limit, 1 Speed limit 80 Kph, 12.5ms\n",
      "Speed: 1.5ms preprocess, 12.5ms inference, 1.5ms postprocess per image at shape (1, 3, 640, 640)\n",
      "\n",
      "image 1/1 /content/drive/MyDrive/Q3_2/test/road215_png.rf.4edc0cb4d47865736d30f91c0c7b2ffb.jpg: 640x640 (no detections), 14.2ms\n",
      "Speed: 1.5ms preprocess, 14.2ms inference, 0.6ms postprocess per image at shape (1, 3, 640, 640)\n",
      "\n",
      "image 1/1 /content/drive/MyDrive/Q3_2/test/00001_00025_00010_png_jpg.rf.d27109af265c9e1bcfdf0cb3e76bf4b3.jpg: 640x640 1 Speed limit 50 Kph, 13.2ms\n",
      "Speed: 2.0ms preprocess, 13.2ms inference, 1.5ms postprocess per image at shape (1, 3, 640, 640)\n",
      "\n",
      "image 1/1 /content/drive/MyDrive/Q3_2/test/road201_png.rf.b7610e2896fa0a14445b56bf14535254.jpg: 640x640 1 Speed limit 40 Kph, 12.3ms\n",
      "Speed: 1.5ms preprocess, 12.3ms inference, 1.6ms postprocess per image at shape (1, 3, 640, 640)\n",
      "\n",
      "image 1/1 /content/drive/MyDrive/Q3_2/test/road753_png.rf.2c26562189293e926a1c42cf9e8d5177.jpg: 640x640 1 Speed limit 100 Kph, 1 Speed limit 120 Kph, 12.4ms\n",
      "Speed: 1.6ms preprocess, 12.4ms inference, 1.5ms postprocess per image at shape (1, 3, 640, 640)\n",
      "\n",
      "image 1/1 /content/drive/MyDrive/Q3_2/test/00000_00002_00004_png_jpg.rf.509aa4bd8f5811024613d4aebb2ad91d.jpg: 640x640 1 Speed limit 20 Kph, 14.3ms\n",
      "Speed: 1.5ms preprocess, 14.3ms inference, 1.4ms postprocess per image at shape (1, 3, 640, 640)\n",
      "\n",
      "image 1/1 /content/drive/MyDrive/Q3_2/test/00001_00022_00003_png_jpg.rf.943bcec51e0351de4db0ef9a76c81f5a.jpg: 640x640 1 Speed limit 30 Kph, 12.3ms\n",
      "Speed: 1.5ms preprocess, 12.3ms inference, 1.5ms postprocess per image at shape (1, 3, 640, 640)\n",
      "\n",
      "image 1/1 /content/drive/MyDrive/Q3_2/test/00001_00029_00027_png_jpg.rf.e95d03854768c054ffb32b1ce26de3de.jpg: 640x640 1 Speed limit 30 Kph, 12.3ms\n",
      "Speed: 1.6ms preprocess, 12.3ms inference, 1.4ms postprocess per image at shape (1, 3, 640, 640)\n",
      "\n",
      "image 1/1 /content/drive/MyDrive/Q3_2/test/road321_png.rf.2dc77646db116bfe951462b4ab709b3f.jpg: 640x640 1 Crosswalk, 1 One way road, 1 Speed bump ahead, 2 Speed limits, 1 Speed limit 40 Kph, 11.8ms\n",
      "Speed: 1.5ms preprocess, 11.8ms inference, 1.4ms postprocess per image at shape (1, 3, 640, 640)\n",
      "\n",
      "image 1/1 /content/drive/MyDrive/Q3_2/test/00001_00027_00024_png_jpg.rf.fa64c5d94cd2490db3d5b29d81e4e8de.jpg: 640x640 1 Speed limit 30 Kph, 12.5ms\n",
      "Speed: 1.6ms preprocess, 12.5ms inference, 1.4ms postprocess per image at shape (1, 3, 640, 640)\n",
      "\n",
      "image 1/1 /content/drive/MyDrive/Q3_2/test/00001_00028_00003_png_jpg.rf.5dcabfcdff562b7f27a592bd512444ca.jpg: 640x640 1 Dangerous Rright Curve Ahead, 12.3ms\n",
      "Speed: 1.5ms preprocess, 12.3ms inference, 1.4ms postprocess per image at shape (1, 3, 640, 640)\n",
      "\n",
      "image 1/1 /content/drive/MyDrive/Q3_2/test/road289_png.rf.a99894307ed2b64ec9d32eb8614aca7b.jpg: 640x640 1 Stop_Sign, 15.8ms\n",
      "Speed: 1.9ms preprocess, 15.8ms inference, 1.7ms postprocess per image at shape (1, 3, 640, 640)\n",
      "\n",
      "image 1/1 /content/drive/MyDrive/Q3_2/test/00001_00017_00028_png_jpg.rf.bf785ae96529aafeda6d4c362d809c97.jpg: 640x640 1 Speed limit 30 Kph, 12.7ms\n",
      "Speed: 1.6ms preprocess, 12.7ms inference, 1.5ms postprocess per image at shape (1, 3, 640, 640)\n",
      "\n",
      "image 1/1 /content/drive/MyDrive/Q3_2/test/00001_00039_00001_png_jpg.rf.5b93cd8eaf3273bab51b6a817023f495.jpg: 640x640 1 -Road narrows on right, 1 Dangerous Rright Curve Ahead, 1 Speed limit 30 Kph, 1 Speed limit 50 Kph, 15.4ms\n",
      "Speed: 1.7ms preprocess, 15.4ms inference, 1.6ms postprocess per image at shape (1, 3, 640, 640)\n",
      "\n",
      "image 1/1 /content/drive/MyDrive/Q3_2/test/00001_00031_00028_png_jpg.rf.469476702490efbffda872f58e404f37.jpg: 640x640 1 Speed limit 30 Kph, 12.4ms\n",
      "Speed: 1.6ms preprocess, 12.4ms inference, 1.5ms postprocess per image at shape (1, 3, 640, 640)\n",
      "\n",
      "image 1/1 /content/drive/MyDrive/Q3_2/test/road720_png.rf.c1f1eb0e218d9a2b9a595a024450b0e6.jpg: 640x640 1 Crosswalk, 1 No_Over_Taking, 1 Speed limit 40 Kph, 12.5ms\n",
      "Speed: 2.0ms preprocess, 12.5ms inference, 1.4ms postprocess per image at shape (1, 3, 640, 640)\n",
      "\n",
      "image 1/1 /content/drive/MyDrive/Q3_2/test/road562_png.rf.6fd467ce4361233c4a2646292b4f0408.jpg: 640x640 1 Crosswalk, 1 Speed bump ahead, 1 Speed limit 40 Kph, 12.4ms\n",
      "Speed: 1.8ms preprocess, 12.4ms inference, 1.9ms postprocess per image at shape (1, 3, 640, 640)\n",
      "\n",
      "image 1/1 /content/drive/MyDrive/Q3_2/test/road438_png.rf.0e638938f62dc69ec51709138888c391.jpg: 640x640 1 Speed limit 40 Kph, 1 Speed limit 90 Kph, 16.0ms\n",
      "Speed: 1.7ms preprocess, 16.0ms inference, 1.7ms postprocess per image at shape (1, 3, 640, 640)\n",
      "\n",
      "image 1/1 /content/drive/MyDrive/Q3_2/test/00001_00028_00006_png_jpg.rf.8b7a04b6b7dc70d4295c4a6ba71aeaad.jpg: 640x640 (no detections), 12.3ms\n",
      "Speed: 1.5ms preprocess, 12.3ms inference, 0.6ms postprocess per image at shape (1, 3, 640, 640)\n",
      "\n",
      "image 1/1 /content/drive/MyDrive/Q3_2/test/road68_png.rf.61f05ca760167ffd7ca6125f64fd3714.jpg: 640x640 1 Stop_Sign, 18.8ms\n",
      "Speed: 2.2ms preprocess, 18.8ms inference, 2.0ms postprocess per image at shape (1, 3, 640, 640)\n",
      "\n",
      "image 1/1 /content/drive/MyDrive/Q3_2/test/00001_00028_00002_png_jpg.rf.c9daca45f5a6c1e86be87153be8bdba1.jpg: 640x640 1 Dangerous Rright Curve Ahead, 13.4ms\n",
      "Speed: 1.6ms preprocess, 13.4ms inference, 1.5ms postprocess per image at shape (1, 3, 640, 640)\n",
      "\n",
      "image 1/1 /content/drive/MyDrive/Q3_2/test/road277_png.rf.d450897af73e8b0e85aa3188d9ff3b4d.jpg: 640x640 1 Speed bump ahead, 1 Speed limit 40 Kph, 11.7ms\n",
      "Speed: 1.4ms preprocess, 11.7ms inference, 1.3ms postprocess per image at shape (1, 3, 640, 640)\n",
      "\n",
      "image 1/1 /content/drive/MyDrive/Q3_2/test/00001_00022_00000_png_jpg.rf.b051bc4b6a27efb7cd87bc8520832011.jpg: 640x640 1 Speed limit 30 Kph, 14.8ms\n",
      "Speed: 1.6ms preprocess, 14.8ms inference, 1.5ms postprocess per image at shape (1, 3, 640, 640)\n",
      "\n",
      "image 1/1 /content/drive/MyDrive/Q3_2/test/00001_00028_00013_png_jpg.rf.5e21e218942d686b9c5cdf88d95be1f1.jpg: 640x640 1 Speed limit 30 Kph, 12.5ms\n",
      "Speed: 1.5ms preprocess, 12.5ms inference, 1.4ms postprocess per image at shape (1, 3, 640, 640)\n",
      "\n",
      "image 1/1 /content/drive/MyDrive/Q3_2/test/00001_00025_00005_png_jpg.rf.cfb4bd4081987fc6cd6c37d4704a205f.jpg: 640x640 (no detections), 13.3ms\n",
      "Speed: 1.7ms preprocess, 13.3ms inference, 0.6ms postprocess per image at shape (1, 3, 640, 640)\n",
      "\n",
      "image 1/1 /content/drive/MyDrive/Q3_2/test/road620_png.rf.8c9161c8dd2eb089bd115c3bb86cc669.jpg: 640x640 (no detections), 13.3ms\n",
      "Speed: 1.5ms preprocess, 13.3ms inference, 0.6ms postprocess per image at shape (1, 3, 640, 640)\n",
      "\n",
      "image 1/1 /content/drive/MyDrive/Q3_2/test/00001_00032_00006_png_jpg.rf.6fe66870b822bcc84089ab87f86cd1cb.jpg: 640x640 1 Speed limit 30 Kph, 12.2ms\n",
      "Speed: 1.7ms preprocess, 12.2ms inference, 1.5ms postprocess per image at shape (1, 3, 640, 640)\n",
      "\n",
      "image 1/1 /content/drive/MyDrive/Q3_2/test/road333_png.rf.fb07c232c6b378aec370eaf7e1d46680.jpg: 640x640 1 Dangerous Left Curve Ahead, 1 Speed limit, 1 Speed limit 40 Kph, 12.3ms\n",
      "Speed: 2.2ms preprocess, 12.3ms inference, 1.4ms postprocess per image at shape (1, 3, 640, 640)\n",
      "\n",
      "image 1/1 /content/drive/MyDrive/Q3_2/test/00000_00002_00003_png_jpg.rf.77cf53bb964a761a3a2a13073c0f352e.jpg: 640x640 (no detections), 11.9ms\n",
      "Speed: 1.5ms preprocess, 11.9ms inference, 0.5ms postprocess per image at shape (1, 3, 640, 640)\n",
      "\n",
      "image 1/1 /content/drive/MyDrive/Q3_2/test/00001_00039_00014_png_jpg.rf.00c6221fd94fdfadc3fd2eed73749554.jpg: 640x640 1 -Road narrows on right, 1 Speed limit 30 Kph, 11.7ms\n",
      "Speed: 1.4ms preprocess, 11.7ms inference, 1.4ms postprocess per image at shape (1, 3, 640, 640)\n",
      "\n",
      "image 1/1 /content/drive/MyDrive/Q3_2/test/00001_00028_00021_png_jpg.rf.03b51c482ca0726f56887791ea38537e.jpg: 640x640 1 Speed limit 30 Kph, 11.8ms\n",
      "Speed: 1.5ms preprocess, 11.8ms inference, 1.4ms postprocess per image at shape (1, 3, 640, 640)\n",
      "\n",
      "image 1/1 /content/drive/MyDrive/Q3_2/test/road709_png.rf.98da38a3ee3f68314c5705541f8a27e1.jpg: 640x640 1 Speed limit 100 Kph, 2 Speed limit 120 Kphs, 11.6ms\n",
      "Speed: 1.5ms preprocess, 11.6ms inference, 1.3ms postprocess per image at shape (1, 3, 640, 640)\n",
      "\n",
      "image 1/1 /content/drive/MyDrive/Q3_2/test/00001_00022_00022_png_jpg.rf.7a91d9c7fa4f09fcf6da10566350dbc4.jpg: 640x640 1 Speed limit 30 Kph, 11.7ms\n",
      "Speed: 1.5ms preprocess, 11.7ms inference, 1.4ms postprocess per image at shape (1, 3, 640, 640)\n",
      "\n",
      "image 1/1 /content/drive/MyDrive/Q3_2/test/00001_00022_00026_png_jpg.rf.4932c87f6c4568c4f7616fa4b9f6027d.jpg: 640x640 1 Speed limit 30 Kph, 11.9ms\n",
      "Speed: 1.5ms preprocess, 11.9ms inference, 1.4ms postprocess per image at shape (1, 3, 640, 640)\n",
      "\n",
      "image 1/1 /content/drive/MyDrive/Q3_2/test/00022_00007_00012_png_jpg.rf.b74656a9c851e3a4c87b9b17d86721e2.jpg: 640x640 1 Uneven Road, 11.7ms\n",
      "Speed: 1.5ms preprocess, 11.7ms inference, 1.4ms postprocess per image at shape (1, 3, 640, 640)\n",
      "\n",
      "image 1/1 /content/drive/MyDrive/Q3_2/test/road376_png.rf.1d33089515b18b4d206a7ea12693e78b.jpg: 640x640 1 Speed bump ahead, 1 Speed limit 30 Kph, 12.2ms\n",
      "Speed: 1.5ms preprocess, 12.2ms inference, 1.4ms postprocess per image at shape (1, 3, 640, 640)\n",
      "\n",
      "image 1/1 /content/drive/MyDrive/Q3_2/test/00001_00032_00003_png_jpg.rf.79a3b703875bd3ec1b099b3d5a4bdc1c.jpg: 640x640 1 Speed limit 30 Kph, 12.1ms\n",
      "Speed: 1.4ms preprocess, 12.1ms inference, 1.4ms postprocess per image at shape (1, 3, 640, 640)\n",
      "\n",
      "image 1/1 /content/drive/MyDrive/Q3_2/test/00001_00032_00004_png_jpg.rf.9fbea6bf63dd626dff6eef2164525057.jpg: 640x640 1 Speed limit 30 Kph, 12.0ms\n",
      "Speed: 1.5ms preprocess, 12.0ms inference, 1.5ms postprocess per image at shape (1, 3, 640, 640)\n",
      "\n",
      "image 1/1 /content/drive/MyDrive/Q3_2/test/00001_00036_00028_png_jpg.rf.e58e031215f4e90c019f0403402a416f.jpg: 640x640 1 Speed limit 30 Kph, 11.6ms\n",
      "Speed: 1.4ms preprocess, 11.6ms inference, 1.5ms postprocess per image at shape (1, 3, 640, 640)\n",
      "\n",
      "image 1/1 /content/drive/MyDrive/Q3_2/test/00001_00030_00024_png_jpg.rf.d063f3d9b724035f054b13de5ca2f3fc.jpg: 640x640 1 Speed limit 30 Kph, 12.8ms\n",
      "Speed: 1.9ms preprocess, 12.8ms inference, 1.4ms postprocess per image at shape (1, 3, 640, 640)\n",
      "\n",
      "image 1/1 /content/drive/MyDrive/Q3_2/test/road330_png.rf.1d6e7d058302d1e79c36d3bfed8c4279.jpg: 640x640 1 Speed limit 40 Kph, 12.7ms\n",
      "Speed: 2.0ms preprocess, 12.7ms inference, 1.4ms postprocess per image at shape (1, 3, 640, 640)\n",
      "\n",
      "image 1/1 /content/drive/MyDrive/Q3_2/test/00022_00005_00028_png_jpg.rf.fc3a84982e1f029edbf89b64420f4fc4.jpg: 640x640 1 Uneven Road, 11.9ms\n",
      "Speed: 1.4ms preprocess, 11.9ms inference, 1.4ms postprocess per image at shape (1, 3, 640, 640)\n",
      "\n",
      "image 1/1 /content/drive/MyDrive/Q3_2/test/00001_00032_00005_png_jpg.rf.fac6ffc264091df331d61d8581d5a034.jpg: 640x640 1 Speed limit 30 Kph, 12.1ms\n",
      "Speed: 1.5ms preprocess, 12.1ms inference, 1.4ms postprocess per image at shape (1, 3, 640, 640)\n",
      "\n",
      "image 1/1 /content/drive/MyDrive/Q3_2/test/road670_png.rf.fc8fb8c9a4e933b50ebc0c35296ef7c1.jpg: 640x640 1 Speed bump ahead, 1 Speed limit 40 Kph, 12.1ms\n",
      "Speed: 1.4ms preprocess, 12.1ms inference, 1.4ms postprocess per image at shape (1, 3, 640, 640)\n",
      "\n",
      "image 1/1 /content/drive/MyDrive/Q3_2/test/00022_00007_00021_png_jpg.rf.8e40bacfc7ade02e07a5c716d58ea7dc.jpg: 640x640 1 Uneven Road, 11.7ms\n",
      "Speed: 1.4ms preprocess, 11.7ms inference, 1.4ms postprocess per image at shape (1, 3, 640, 640)\n",
      "\n",
      "image 1/1 /content/drive/MyDrive/Q3_2/test/00001_00032_00009_png_jpg.rf.406b99dc76cac2bfbc3029defa55abac.jpg: 640x640 1 Speed limit 30 Kph, 11.6ms\n",
      "Speed: 1.4ms preprocess, 11.6ms inference, 1.6ms postprocess per image at shape (1, 3, 640, 640)\n",
      "\n",
      "image 1/1 /content/drive/MyDrive/Q3_2/test/00001_00036_00017_png_jpg.rf.41aaf031360034dcaf3beacfb2f3156b.jpg: 640x640 1 Speed limit 30 Kph, 11.8ms\n",
      "Speed: 1.5ms preprocess, 11.8ms inference, 1.4ms postprocess per image at shape (1, 3, 640, 640)\n",
      "\n",
      "image 1/1 /content/drive/MyDrive/Q3_2/test/00001_00018_00019_png_jpg.rf.59b7c69c86e7845aebaed3578beb8a09.jpg: 640x640 1 Speed limit 30 Kph, 12.2ms\n",
      "Speed: 1.5ms preprocess, 12.2ms inference, 1.4ms postprocess per image at shape (1, 3, 640, 640)\n",
      "\n",
      "image 1/1 /content/drive/MyDrive/Q3_2/test/00001_00028_00028_png_jpg.rf.7f818e327eae8aa48427a39dc178b1bd.jpg: 640x640 1 Speed limit 30 Kph, 11.7ms\n",
      "Speed: 1.5ms preprocess, 11.7ms inference, 1.3ms postprocess per image at shape (1, 3, 640, 640)\n",
      "\n",
      "image 1/1 /content/drive/MyDrive/Q3_2/test/00001_00037_00027_png_jpg.rf.0856ae0ae28abcc7aaa4570523792f02.jpg: 640x640 1 Speed limit 30 Kph, 12.0ms\n",
      "Speed: 1.5ms preprocess, 12.0ms inference, 1.4ms postprocess per image at shape (1, 3, 640, 640)\n",
      "\n",
      "image 1/1 /content/drive/MyDrive/Q3_2/test/00001_00035_00001_png_jpg.rf.d8d84c166d972520772c4239ae5d249b.jpg: 640x640 2 No_Over_Takings, 18.5ms\n",
      "Speed: 2.1ms preprocess, 18.5ms inference, 2.1ms postprocess per image at shape (1, 3, 640, 640)\n",
      "\n",
      "image 1/1 /content/drive/MyDrive/Q3_2/test/road443_png.rf.461b56a1996dd50d589d5aa1eea42ea8.jpg: 640x640 1 Speed limit 90 Kph, 12.2ms\n",
      "Speed: 1.5ms preprocess, 12.2ms inference, 1.6ms postprocess per image at shape (1, 3, 640, 640)\n",
      "\n",
      "image 1/1 /content/drive/MyDrive/Q3_2/test/00001_00035_00022_png_jpg.rf.14839f4d8dc3b342237d719307cecec6.jpg: 640x640 1 Speed limit 30 Kph, 14.6ms\n",
      "Speed: 1.7ms preprocess, 14.6ms inference, 1.7ms postprocess per image at shape (1, 3, 640, 640)\n",
      "\n",
      "image 1/1 /content/drive/MyDrive/Q3_2/test/00001_00033_00027_png_jpg.rf.a01cc971fbbd3ad3c50c2a6be5125dc5.jpg: 640x640 1 Speed limit 30 Kph, 17.3ms\n",
      "Speed: 2.1ms preprocess, 17.3ms inference, 1.9ms postprocess per image at shape (1, 3, 640, 640)\n",
      "\n",
      "image 1/1 /content/drive/MyDrive/Q3_2/test/00001_00028_00027_png_jpg.rf.32032904d1be7b81c55842f43cabe40f.jpg: 640x640 1 Speed limit 30 Kph, 12.4ms\n",
      "Speed: 1.6ms preprocess, 12.4ms inference, 1.8ms postprocess per image at shape (1, 3, 640, 640)\n",
      "\n",
      "image 1/1 /content/drive/MyDrive/Q3_2/test/road591_png.rf.993a6ce7d1c689f7cbde504439b525d1.jpg: 640x640 1 Speed limit, 1 Speed limit 80 Kph, 12.0ms\n",
      "Speed: 1.6ms preprocess, 12.0ms inference, 1.4ms postprocess per image at shape (1, 3, 640, 640)\n",
      "\n",
      "image 1/1 /content/drive/MyDrive/Q3_2/test/00001_00025_00004_png_jpg.rf.d01066e3dfb61206395b04ee778353cb.jpg: 640x640 1 Speed limit 30 Kph, 11.9ms\n",
      "Speed: 1.5ms preprocess, 11.9ms inference, 1.8ms postprocess per image at shape (1, 3, 640, 640)\n",
      "\n",
      "image 1/1 /content/drive/MyDrive/Q3_2/test/00001_00037_00028_png_jpg.rf.ebfb0a524ec407287efc10fcc0fbd0f9.jpg: 640x640 1 Speed limit 30 Kph, 18.2ms\n",
      "Speed: 2.1ms preprocess, 18.2ms inference, 2.1ms postprocess per image at shape (1, 3, 640, 640)\n",
      "\n",
      "image 1/1 /content/drive/MyDrive/Q3_2/test/00001_00029_00019_png_jpg.rf.79fee8e5787032ccfc60766f9cc2ca89.jpg: 640x640 1 Speed limit 30 Kph, 18.2ms\n",
      "Speed: 2.0ms preprocess, 18.2ms inference, 2.0ms postprocess per image at shape (1, 3, 640, 640)\n",
      "\n",
      "image 1/1 /content/drive/MyDrive/Q3_2/test/00001_00035_00024_png_jpg.rf.f9a586d2af484768b5dde533cdce0e94.jpg: 640x640 1 Speed limit 30 Kph, 13.8ms\n",
      "Speed: 1.6ms preprocess, 13.8ms inference, 1.5ms postprocess per image at shape (1, 3, 640, 640)\n",
      "\n",
      "image 1/1 /content/drive/MyDrive/Q3_2/test/00001_00031_00024_png_jpg.rf.9a9dcba1cc9e58c36838b6314074378f.jpg: 640x640 1 Speed limit 30 Kph, 14.0ms\n",
      "Speed: 1.9ms preprocess, 14.0ms inference, 1.8ms postprocess per image at shape (1, 3, 640, 640)\n",
      "\n",
      "image 1/1 /content/drive/MyDrive/Q3_2/test/00001_00022_00009_png_jpg.rf.bfa1b52a5ca9d017719a707523cd7200.jpg: 640x640 1 Speed limit 30 Kph, 14.5ms\n",
      "Speed: 2.1ms preprocess, 14.5ms inference, 1.6ms postprocess per image at shape (1, 3, 640, 640)\n",
      "\n",
      "image 1/1 /content/drive/MyDrive/Q3_2/test/00001_00035_00000_png_jpg.rf.764558b4a74b9d1ffea3b2f32506667e.jpg: 640x640 (no detections), 12.6ms\n",
      "Speed: 1.6ms preprocess, 12.6ms inference, 0.6ms postprocess per image at shape (1, 3, 640, 640)\n",
      "\n",
      "image 1/1 /content/drive/MyDrive/Q3_2/test/road863_png.rf.e1354b63dc3d014174598fb9f071c932.jpg: 640x640 1 Speed limit 80 Kph, 1 Speed limit 90 Kph, 12.6ms\n",
      "Speed: 1.7ms preprocess, 12.6ms inference, 1.5ms postprocess per image at shape (1, 3, 640, 640)\n",
      "\n",
      "image 1/1 /content/drive/MyDrive/Q3_2/test/road95_png.rf.8c3d9f6c296d773e57228a520d7e11b2.jpg: 640x640 1 Stop_Sign, 11.9ms\n",
      "Speed: 1.5ms preprocess, 11.9ms inference, 1.4ms postprocess per image at shape (1, 3, 640, 640)\n",
      "\n",
      "image 1/1 /content/drive/MyDrive/Q3_2/test/road859_png.rf.2eeb834aca6185ad23a69f58c585edb2.jpg: 640x640 1 Speed limit 80 Kph, 12.4ms\n",
      "Speed: 1.4ms preprocess, 12.4ms inference, 1.4ms postprocess per image at shape (1, 3, 640, 640)\n",
      "\n",
      "image 1/1 /content/drive/MyDrive/Q3_2/test/00000_00003_00001_png_jpg.rf.641b885d9f5ecae387ec724ac331b743.jpg: 640x640 (no detections), 16.7ms\n",
      "Speed: 2.0ms preprocess, 16.7ms inference, 0.8ms postprocess per image at shape (1, 3, 640, 640)\n",
      "\n",
      "image 1/1 /content/drive/MyDrive/Q3_2/test/00001_00031_00022_png_jpg.rf.9ee3c2db3a9c40ca861834019741e02d.jpg: 640x640 1 Speed limit 30 Kph, 12.7ms\n",
      "Speed: 1.5ms preprocess, 12.7ms inference, 1.5ms postprocess per image at shape (1, 3, 640, 640)\n",
      "\n",
      "image 1/1 /content/drive/MyDrive/Q3_2/test/00001_00034_00017_png_jpg.rf.39418cf95e8754d21c9fcad4758c70dc.jpg: 640x640 1 Speed limit 30 Kph, 11.9ms\n",
      "Speed: 1.5ms preprocess, 11.9ms inference, 1.3ms postprocess per image at shape (1, 3, 640, 640)\n",
      "\n",
      "image 1/1 /content/drive/MyDrive/Q3_2/test/road606_png.rf.47e9be9e9dd6697ee32693b7c9ea8222.jpg: 640x640 1 Speed limit 80 Kph, 12.6ms\n",
      "Speed: 1.5ms preprocess, 12.6ms inference, 1.5ms postprocess per image at shape (1, 3, 640, 640)\n",
      "\n",
      "image 1/1 /content/drive/MyDrive/Q3_2/test/00001_00030_00006_png_jpg.rf.67d0d454020beb7ed03df083570ba3ad.jpg: 640x640 (no detections), 12.6ms\n",
      "Speed: 1.5ms preprocess, 12.6ms inference, 0.6ms postprocess per image at shape (1, 3, 640, 640)\n",
      "\n",
      "image 1/1 /content/drive/MyDrive/Q3_2/test/00001_00038_00002_png_jpg.rf.d280f551b0833cebfe33098c428e4cad.jpg: 640x640 (no detections), 13.1ms\n",
      "Speed: 2.0ms preprocess, 13.1ms inference, 0.6ms postprocess per image at shape (1, 3, 640, 640)\n",
      "\n",
      "image 1/1 /content/drive/MyDrive/Q3_2/test/00001_00030_00026_png_jpg.rf.1e41363437328363c608af64873d5e37.jpg: 640x640 1 Speed limit 30 Kph, 19.0ms\n",
      "Speed: 2.2ms preprocess, 19.0ms inference, 2.0ms postprocess per image at shape (1, 3, 640, 640)\n",
      "\n",
      "image 1/1 /content/drive/MyDrive/Q3_2/test/00001_00022_00007_png_jpg.rf.aba54c15b156bf358816ed6fb88e8579.jpg: 640x640 1 Speed limit 30 Kph, 18.3ms\n",
      "Speed: 2.0ms preprocess, 18.3ms inference, 1.9ms postprocess per image at shape (1, 3, 640, 640)\n",
      "\n",
      "image 1/1 /content/drive/MyDrive/Q3_2/test/00001_00039_00004_png_jpg.rf.bba62b0c0aae57fd2725f60163e4f393.jpg: 640x640 1 -Road narrows on right, 1 Speed limit 30 Kph, 15.7ms\n",
      "Speed: 2.1ms preprocess, 15.7ms inference, 1.5ms postprocess per image at shape (1, 3, 640, 640)\n",
      "\n",
      "image 1/1 /content/drive/MyDrive/Q3_2/test/road831_png.rf.e68a2d245ba60bca05f713b2d8238752.jpg: 640x640 1 Speed limit 80 Kph, 12.2ms\n",
      "Speed: 1.6ms preprocess, 12.2ms inference, 1.4ms postprocess per image at shape (1, 3, 640, 640)\n",
      "\n",
      "image 1/1 /content/drive/MyDrive/Q3_2/test/00001_00017_00025_png_jpg.rf.e6855b3207475e09658480d8ff9df0b5.jpg: 640x640 1 Speed limit 30 Kph, 12.1ms\n",
      "Speed: 1.6ms preprocess, 12.1ms inference, 1.4ms postprocess per image at shape (1, 3, 640, 640)\n",
      "\n",
      "image 1/1 /content/drive/MyDrive/Q3_2/test/00001_00035_00010_png_jpg.rf.ab34d736b41e87abb150e9491708f715.jpg: 640x640 1 Speed limit 20 Kph, 1 Speed limit 30 Kph, 12.3ms\n",
      "Speed: 1.6ms preprocess, 12.3ms inference, 1.4ms postprocess per image at shape (1, 3, 640, 640)\n",
      "\n",
      "image 1/1 /content/drive/MyDrive/Q3_2/test/00000_00000_00027_png_jpg.rf.2e8daf471816f68d56e4c60af50a1fc1.jpg: 640x640 1 Speed limit 20 Kph, 11.9ms\n",
      "Speed: 1.4ms preprocess, 11.9ms inference, 1.4ms postprocess per image at shape (1, 3, 640, 640)\n",
      "\n",
      "image 1/1 /content/drive/MyDrive/Q3_2/test/00001_00022_00019_png_jpg.rf.e68b081cdee2783a2b69cf3255fe6428.jpg: 640x640 1 Speed limit 30 Kph, 16.9ms\n",
      "Speed: 2.0ms preprocess, 16.9ms inference, 1.9ms postprocess per image at shape (1, 3, 640, 640)\n",
      "\n",
      "image 1/1 /content/drive/MyDrive/Q3_2/test/road171_png.rf.7ea8e3a9c28cf4814fd579e188044049.jpg: 640x640 1 Crosswalk, 12.2ms\n",
      "Speed: 1.6ms preprocess, 12.2ms inference, 1.4ms postprocess per image at shape (1, 3, 640, 640)\n",
      "\n",
      "image 1/1 /content/drive/MyDrive/Q3_2/test/road233_png.rf.0de0b579d8cdfed521c9c71a2ba9be19.jpg: 640x640 1 Beware of children, 1 Speed limit 100 Kph, 1 Speed limit 120 Kph, 12.1ms\n",
      "Speed: 1.4ms preprocess, 12.1ms inference, 1.4ms postprocess per image at shape (1, 3, 640, 640)\n",
      "\n",
      "image 1/1 /content/drive/MyDrive/Q3_2/test/road284_png.rf.6efca33c41e8e828bd97ef2a70f940c2.jpg: 640x640 1 Speed bump ahead, 1 Speed limit 40 Kph, 12.2ms\n",
      "Speed: 1.5ms preprocess, 12.2ms inference, 1.6ms postprocess per image at shape (1, 3, 640, 640)\n",
      "\n",
      "image 1/1 /content/drive/MyDrive/Q3_2/test/00001_00029_00021_png_jpg.rf.bf0ae7a4555b6170e53dd24a50e09652.jpg: 640x640 1 Speed limit 30 Kph, 12.7ms\n",
      "Speed: 1.5ms preprocess, 12.7ms inference, 1.9ms postprocess per image at shape (1, 3, 640, 640)\n",
      "\n",
      "image 1/1 /content/drive/MyDrive/Q3_2/test/road856_png.rf.1bad31c3be4aad985dd51bc567c020d3.jpg: 640x640 1 Speed limit 80 Kph, 12.7ms\n",
      "Speed: 1.6ms preprocess, 12.7ms inference, 1.5ms postprocess per image at shape (1, 3, 640, 640)\n",
      "\n",
      "image 1/1 /content/drive/MyDrive/Q3_2/test/00001_00018_00028_png_jpg.rf.c2e820ac847e0506349ffaf7a12f0893.jpg: 640x640 1 Speed limit 30 Kph, 18.7ms\n",
      "Speed: 2.2ms preprocess, 18.7ms inference, 2.0ms postprocess per image at shape (1, 3, 640, 640)\n",
      "\n",
      "image 1/1 /content/drive/MyDrive/Q3_2/test/00001_00030_00029_png_jpg.rf.f1b88108f5b60a08efbec84c96838db0.jpg: 640x640 1 Speed limit 30 Kph, 18.4ms\n",
      "Speed: 2.1ms preprocess, 18.4ms inference, 2.0ms postprocess per image at shape (1, 3, 640, 640)\n",
      "\n",
      "image 1/1 /content/drive/MyDrive/Q3_2/test/00000_00001_00009_png_jpg.rf.2148768d9db459fddaa733357aa511d8.jpg: 640x640 1 -Road narrows on right, 1 Dangerous Rright Curve Ahead, 1 Speed limit 20 Kph, 12.1ms\n",
      "Speed: 1.6ms preprocess, 12.1ms inference, 1.5ms postprocess per image at shape (1, 3, 640, 640)\n",
      "\n",
      "image 1/1 /content/drive/MyDrive/Q3_2/test/road732_png.rf.7e863f296711e65ca87098e1c93549c3.jpg: 640x640 1 Speed limit 100 Kph, 1 Speed limit 120 Kph, 13.7ms\n",
      "Speed: 1.6ms preprocess, 13.7ms inference, 1.6ms postprocess per image at shape (1, 3, 640, 640)\n",
      "\n",
      "image 1/1 /content/drive/MyDrive/Q3_2/test/road430_png.rf.3678ffb1c1b414d09fa1e23e9a30287a.jpg: 640x640 1 Speed limit 90 Kph, 11.9ms\n",
      "Speed: 1.5ms preprocess, 11.9ms inference, 1.4ms postprocess per image at shape (1, 3, 640, 640)\n",
      "\n",
      "image 1/1 /content/drive/MyDrive/Q3_2/test/00001_00018_00027_png_jpg.rf.5b8c1471f0469a2531141886f253a317.jpg: 640x640 1 Speed limit 30 Kph, 12.4ms\n",
      "Speed: 1.5ms preprocess, 12.4ms inference, 1.6ms postprocess per image at shape (1, 3, 640, 640)\n",
      "\n",
      "image 1/1 /content/drive/MyDrive/Q3_2/test/00001_00035_00009_png_jpg.rf.76adae238f78e8a9dd3dd09b4eaf4ad0.jpg: 640x640 1 Speed limit 20 Kph, 12.2ms\n",
      "Speed: 1.5ms preprocess, 12.2ms inference, 1.5ms postprocess per image at shape (1, 3, 640, 640)\n",
      "\n",
      "image 1/1 /content/drive/MyDrive/Q3_2/test/00001_00027_00026_png_jpg.rf.a00a3a013a5c242ae88ebbff8012581b.jpg: 640x640 1 Speed limit 30 Kph, 12.5ms\n",
      "Speed: 1.5ms preprocess, 12.5ms inference, 1.4ms postprocess per image at shape (1, 3, 640, 640)\n",
      "\n",
      "image 1/1 /content/drive/MyDrive/Q3_2/test/00001_00028_00022_png_jpg.rf.bdfb4ad0e01149370e078381295ec228.jpg: 640x640 1 Speed limit 30 Kph, 18.3ms\n",
      "Speed: 2.0ms preprocess, 18.3ms inference, 1.9ms postprocess per image at shape (1, 3, 640, 640)\n",
      "\n",
      "image 1/1 /content/drive/MyDrive/Q3_2/test/00001_00033_00026_png_jpg.rf.93513f78d964ff8bee5b54135ea76900.jpg: 640x640 1 Speed limit 30 Kph, 18.2ms\n",
      "Speed: 2.3ms preprocess, 18.2ms inference, 1.9ms postprocess per image at shape (1, 3, 640, 640)\n",
      "\n",
      "image 1/1 /content/drive/MyDrive/Q3_2/test/00001_00031_00023_png_jpg.rf.e091674943d25f944da2007f9bc487cd.jpg: 640x640 1 Speed limit 30 Kph, 18.1ms\n",
      "Speed: 2.0ms preprocess, 18.1ms inference, 1.5ms postprocess per image at shape (1, 3, 640, 640)\n",
      "\n",
      "image 1/1 /content/drive/MyDrive/Q3_2/test/road614_png.rf.f9136199e512975d6f23cb453eb2806e.jpg: 640x640 1 Speed limit 60 Kph, 12.1ms\n",
      "Speed: 1.6ms preprocess, 12.1ms inference, 1.4ms postprocess per image at shape (1, 3, 640, 640)\n",
      "\n",
      "image 1/1 /content/drive/MyDrive/Q3_2/test/road80_png.rf.921c118a58822ee7089b07d9b461e09b.jpg: 640x640 1 Stop_Sign, 11.7ms\n",
      "Speed: 1.5ms preprocess, 11.7ms inference, 1.4ms postprocess per image at shape (1, 3, 640, 640)\n",
      "\n",
      "image 1/1 /content/drive/MyDrive/Q3_2/test/00000_00003_00008_png_jpg.rf.14fd4eb2f715415eb09c571c240a1e43.jpg: 640x640 1 Speed limit 20 Kph, 11.5ms\n",
      "Speed: 1.5ms preprocess, 11.5ms inference, 1.3ms postprocess per image at shape (1, 3, 640, 640)\n",
      "\n",
      "image 1/1 /content/drive/MyDrive/Q3_2/test/00022_00007_00005_png_jpg.rf.0da72592c528d0ad0a166fdf85657250.jpg: 640x640 1 Uneven Road, 11.8ms\n",
      "Speed: 1.5ms preprocess, 11.8ms inference, 1.3ms postprocess per image at shape (1, 3, 640, 640)\n",
      "\n",
      "image 1/1 /content/drive/MyDrive/Q3_2/test/00001_00036_00023_png_jpg.rf.627727321816ea3fba311102ab8f180a.jpg: 640x640 1 Speed limit 30 Kph, 11.9ms\n",
      "Speed: 1.5ms preprocess, 11.9ms inference, 1.3ms postprocess per image at shape (1, 3, 640, 640)\n",
      "\n",
      "image 1/1 /content/drive/MyDrive/Q3_2/test/00001_00035_00021_png_jpg.rf.fecba84c21192fb9c02a0eb5c5e04582.jpg: 640x640 1 Speed limit 30 Kph, 18.5ms\n",
      "Speed: 2.0ms preprocess, 18.5ms inference, 1.9ms postprocess per image at shape (1, 3, 640, 640)\n",
      "\n",
      "image 1/1 /content/drive/MyDrive/Q3_2/test/00001_00018_00016_png_jpg.rf.0469c3ebc56ee39c382a4caf31687573.jpg: 640x640 1 Speed limit 30 Kph, 12.0ms\n",
      "Speed: 1.6ms preprocess, 12.0ms inference, 1.3ms postprocess per image at shape (1, 3, 640, 640)\n",
      "\n",
      "image 1/1 /content/drive/MyDrive/Q3_2/test/road541_png.rf.1de72c3119c0c5bebdb35bd061058379.jpg: 640x640 1 Speed bump ahead, 1 Speed limit 40 Kph, 12.2ms\n",
      "Speed: 1.5ms preprocess, 12.2ms inference, 1.4ms postprocess per image at shape (1, 3, 640, 640)\n",
      "\n",
      "image 1/1 /content/drive/MyDrive/Q3_2/test/00001_00022_00025_png_jpg.rf.bd160c2ec733f25a8247b698c46bb30a.jpg: 640x640 1 Speed limit 30 Kph, 14.0ms\n",
      "Speed: 1.6ms preprocess, 14.0ms inference, 1.4ms postprocess per image at shape (1, 3, 640, 640)\n",
      "\n",
      "image 1/1 /content/drive/MyDrive/Q3_2/test/00001_00036_00020_png_jpg.rf.bf8dc90b187d90867fbc2c4af481c522.jpg: 640x640 1 Speed limit 30 Kph, 13.0ms\n",
      "Speed: 1.4ms preprocess, 13.0ms inference, 1.4ms postprocess per image at shape (1, 3, 640, 640)\n",
      "\n",
      "image 1/1 /content/drive/MyDrive/Q3_2/test/00001_00035_00026_png_jpg.rf.452783585a1401c27b4f057a8a1e9bdb.jpg: 640x640 1 Speed limit 30 Kph, 12.3ms\n",
      "Speed: 1.5ms preprocess, 12.3ms inference, 1.4ms postprocess per image at shape (1, 3, 640, 640)\n",
      "\n",
      "image 1/1 /content/drive/MyDrive/Q3_2/test/00001_00037_00020_png_jpg.rf.85de20ddcad014c86a9a93048a1ff875.jpg: 640x640 1 Speed limit 30 Kph, 12.3ms\n",
      "Speed: 1.4ms preprocess, 12.3ms inference, 1.4ms postprocess per image at shape (1, 3, 640, 640)\n",
      "\n",
      "image 1/1 /content/drive/MyDrive/Q3_2/test/00001_00022_00017_png_jpg.rf.241d3581dcc3371d7d369a27d1049c1d.jpg: 640x640 1 Speed limit 30 Kph, 12.8ms\n",
      "Speed: 1.5ms preprocess, 12.8ms inference, 1.4ms postprocess per image at shape (1, 3, 640, 640)\n",
      "\n",
      "image 1/1 /content/drive/MyDrive/Q3_2/test/road829_png.rf.ab16e0808c4acb667175dce8fdd32f7f.jpg: 640x640 1 Speed limit 80 Kph, 11.6ms\n",
      "Speed: 1.4ms preprocess, 11.6ms inference, 1.3ms postprocess per image at shape (1, 3, 640, 640)\n",
      "\n",
      "image 1/1 /content/drive/MyDrive/Q3_2/test/road837_png.rf.89825d33b22fcbc470ea54429a536de3.jpg: 640x640 1 Speed limit 80 Kph, 11.9ms\n",
      "Speed: 1.6ms preprocess, 11.9ms inference, 1.4ms postprocess per image at shape (1, 3, 640, 640)\n",
      "\n",
      "image 1/1 /content/drive/MyDrive/Q3_2/test/00001_00022_00013_png_jpg.rf.83afedf104acebfd35dba9d195776125.jpg: 640x640 1 Speed limit 30 Kph, 12.4ms\n",
      "Speed: 1.5ms preprocess, 12.4ms inference, 1.5ms postprocess per image at shape (1, 3, 640, 640)\n",
      "\n",
      "image 1/1 /content/drive/MyDrive/Q3_2/test/00001_00035_00020_png_jpg.rf.4d1fd72997c55fc61d746e7a8f4f180c.jpg: 640x640 1 Speed limit 30 Kph, 12.7ms\n",
      "Speed: 1.5ms preprocess, 12.7ms inference, 1.7ms postprocess per image at shape (1, 3, 640, 640)\n",
      "\n",
      "image 1/1 /content/drive/MyDrive/Q3_2/test/00001_00032_00020_png_jpg.rf.193bb7e48e4d220e486023019bd3a2e5.jpg: 640x640 1 Speed limit 30 Kph, 13.0ms\n",
      "Speed: 1.5ms preprocess, 13.0ms inference, 1.8ms postprocess per image at shape (1, 3, 640, 640)\n",
      "\n",
      "image 1/1 /content/drive/MyDrive/Q3_2/test/road718_png.rf.d12729d1856c1e49278b79c29c8f3c0b.jpg: 640x640 1 Speed limit, 2 Speed limit 100 Kphs, 1 Speed limit 120 Kph, 12.1ms\n",
      "Speed: 1.5ms preprocess, 12.1ms inference, 1.3ms postprocess per image at shape (1, 3, 640, 640)\n",
      "\n",
      "image 1/1 /content/drive/MyDrive/Q3_2/test/00001_00039_00002_png_jpg.rf.05d0c7ffaaf30fd3333c79240df0c6a4.jpg: 640x640 1 Dangerous Rright Curve Ahead, 1 Speed limit 30 Kph, 12.0ms\n",
      "Speed: 1.4ms preprocess, 12.0ms inference, 1.4ms postprocess per image at shape (1, 3, 640, 640)\n",
      "\n",
      "image 1/1 /content/drive/MyDrive/Q3_2/test/00001_00030_00023_png_jpg.rf.503433889bb64688a95b9de3c388955c.jpg: 640x640 1 Speed limit 30 Kph, 12.1ms\n",
      "Speed: 1.5ms preprocess, 12.1ms inference, 1.3ms postprocess per image at shape (1, 3, 640, 640)\n",
      "\n",
      "image 1/1 /content/drive/MyDrive/Q3_2/test/00001_00037_00024_png_jpg.rf.1e605f451bebc87ad17d3a9d66b0bd17.jpg: 640x640 1 Speed limit 30 Kph, 11.6ms\n",
      "Speed: 1.4ms preprocess, 11.6ms inference, 1.3ms postprocess per image at shape (1, 3, 640, 640)\n",
      "\n",
      "image 1/1 /content/drive/MyDrive/Q3_2/test/00000_00000_00019_png_jpg.rf.923c0a404dce9e2518dcff1a64cd7e04.jpg: 640x640 1 Speed limit 20 Kph, 12.1ms\n",
      "Speed: 1.5ms preprocess, 12.1ms inference, 1.3ms postprocess per image at shape (1, 3, 640, 640)\n",
      "\n",
      "image 1/1 /content/drive/MyDrive/Q3_2/test/00001_00038_00004_png_jpg.rf.84de64bf5e13b8ea16687e9d2f22ec88.jpg: 640x640 (no detections), 11.5ms\n",
      "Speed: 1.4ms preprocess, 11.5ms inference, 0.6ms postprocess per image at shape (1, 3, 640, 640)\n",
      "\n",
      "image 1/1 /content/drive/MyDrive/Q3_2/test/00001_00032_00015_png_jpg.rf.fcfc78d4a89c51bd4b848eb425a75028.jpg: 640x640 1 Speed limit 30 Kph, 12.0ms\n",
      "Speed: 1.5ms preprocess, 12.0ms inference, 1.4ms postprocess per image at shape (1, 3, 640, 640)\n",
      "\n",
      "image 1/1 /content/drive/MyDrive/Q3_2/test/00001_00028_00024_png_jpg.rf.91d25dd1b87224ecd4af4a9994af9f5d.jpg: 640x640 1 Speed limit 30 Kph, 11.9ms\n",
      "Speed: 1.4ms preprocess, 11.9ms inference, 1.3ms postprocess per image at shape (1, 3, 640, 640)\n",
      "\n",
      "image 1/1 /content/drive/MyDrive/Q3_2/test/road466_png.rf.a02d89dd10a63824f243e5d4d86c61b1.jpg: 640x640 1 Crosswalk, 1 Speed limit, 1 Speed limit 80 Kph, 13.0ms\n",
      "Speed: 1.5ms preprocess, 13.0ms inference, 1.4ms postprocess per image at shape (1, 3, 640, 640)\n",
      "\n",
      "image 1/1 /content/drive/MyDrive/Q3_2/test/00001_00038_00001_png_jpg.rf.4844e6bebc3dbaffcd1368858fc59782.jpg: 640x640 1 No_Over_Taking, 12.2ms\n",
      "Speed: 1.4ms preprocess, 12.2ms inference, 1.4ms postprocess per image at shape (1, 3, 640, 640)\n",
      "\n",
      "image 1/1 /content/drive/MyDrive/Q3_2/test/00041_00000_00020_png_jpg.rf.0b64a37932e4132d238716ec81bada08.jpg: 640x640 1 No_Over_Taking, 11.4ms\n",
      "Speed: 1.5ms preprocess, 11.4ms inference, 1.3ms postprocess per image at shape (1, 3, 640, 640)\n",
      "\n",
      "image 1/1 /content/drive/MyDrive/Q3_2/test/00001_00037_00000_png_jpg.rf.9fbb999374c9485bd079da37169e17bb.jpg: 640x640 1 No_Over_Taking, 11.6ms\n",
      "Speed: 1.4ms preprocess, 11.6ms inference, 1.3ms postprocess per image at shape (1, 3, 640, 640)\n",
      "\n",
      "image 1/1 /content/drive/MyDrive/Q3_2/test/00000_00000_00014_png_jpg.rf.da4d304ccb4fd7555f5c291bed572107.jpg: 640x640 1 Dangerous Rright Curve Ahead, 1 Speed limit 20 Kph, 12.7ms\n",
      "Speed: 2.1ms preprocess, 12.7ms inference, 1.4ms postprocess per image at shape (1, 3, 640, 640)\n",
      "\n",
      "image 1/1 /content/drive/MyDrive/Q3_2/test/00001_00017_00027_png_jpg.rf.defc124e9ba6918bbfe6b75597a795e1.jpg: 640x640 1 Speed limit 30 Kph, 18.1ms\n",
      "Speed: 2.1ms preprocess, 18.1ms inference, 1.9ms postprocess per image at shape (1, 3, 640, 640)\n",
      "\n",
      "image 1/1 /content/drive/MyDrive/Q3_2/test/00001_00038_00008_png_jpg.rf.19139993c56c1abd9a7cbc8759a4ce39.jpg: 640x640 (no detections), 12.9ms\n",
      "Speed: 1.5ms preprocess, 12.9ms inference, 0.6ms postprocess per image at shape (1, 3, 640, 640)\n",
      "\n",
      "image 1/1 /content/drive/MyDrive/Q3_2/test/00001_00037_00023_png_jpg.rf.3ee94cda71783f531963886d36e22c3d.jpg: 640x640 1 Speed limit 30 Kph, 13.5ms\n",
      "Speed: 1.5ms preprocess, 13.5ms inference, 1.5ms postprocess per image at shape (1, 3, 640, 640)\n",
      "\n",
      "image 1/1 /content/drive/MyDrive/Q3_2/test/road266_png.rf.6758128516cb31bc59fc9f45f92223ab.jpg: 640x640 1 Speed bump ahead, 1 Speed limit 40 Kph, 13.5ms\n",
      "Speed: 1.4ms preprocess, 13.5ms inference, 1.4ms postprocess per image at shape (1, 3, 640, 640)\n",
      "\n",
      "image 1/1 /content/drive/MyDrive/Q3_2/test/00001_00032_00029_png_jpg.rf.71549c96cc98e5f9bc3e3690324e968c.jpg: 640x640 1 Speed limit 30 Kph, 17.9ms\n",
      "Speed: 2.0ms preprocess, 17.9ms inference, 1.8ms postprocess per image at shape (1, 3, 640, 640)\n",
      "\n",
      "image 1/1 /content/drive/MyDrive/Q3_2/test/00001_00032_00023_png_jpg.rf.3a35b8f38081e38f1af00bce008f4973.jpg: 640x640 1 Speed limit 30 Kph, 11.8ms\n",
      "Speed: 1.5ms preprocess, 11.8ms inference, 1.3ms postprocess per image at shape (1, 3, 640, 640)\n",
      "\n",
      "image 1/1 /content/drive/MyDrive/Q3_2/test/00001_00037_00002_png_jpg.rf.204f7978a11bd8b18f925a902b124322.jpg: 640x640 1 Dangerous Rright Curve Ahead, 15.3ms\n",
      "Speed: 1.5ms preprocess, 15.3ms inference, 1.8ms postprocess per image at shape (1, 3, 640, 640)\n",
      "\n",
      "image 1/1 /content/drive/MyDrive/Q3_2/test/00001_00018_00018_png_jpg.rf.ccbb307f1dc67d83d6309c83241caf3a.jpg: 640x640 1 Speed limit 30 Kph, 13.0ms\n",
      "Speed: 1.6ms preprocess, 13.0ms inference, 1.4ms postprocess per image at shape (1, 3, 640, 640)\n",
      "\n",
      "image 1/1 /content/drive/MyDrive/Q3_2/test/00001_00028_00023_png_jpg.rf.db8c75fbd3310033363c6fdc43d24858.jpg: 640x640 1 Speed limit 30 Kph, 13.8ms\n",
      "Speed: 1.5ms preprocess, 13.8ms inference, 1.5ms postprocess per image at shape (1, 3, 640, 640)\n",
      "\n",
      "image 1/1 /content/drive/MyDrive/Q3_2/test/00001_00037_00004_png_jpg.rf.25f2a3a8c689980c3c8cb93ba8df120c.jpg: 640x640 (no detections), 13.0ms\n",
      "Speed: 1.6ms preprocess, 13.0ms inference, 0.6ms postprocess per image at shape (1, 3, 640, 640)\n",
      "\n",
      "image 1/1 /content/drive/MyDrive/Q3_2/test/00001_00028_00012_png_jpg.rf.50238028e270d2b53f0813abdff218bf.jpg: 640x640 1 -Road narrows on right, 1 Speed limit 30 Kph, 12.8ms\n",
      "Speed: 1.5ms preprocess, 12.8ms inference, 1.4ms postprocess per image at shape (1, 3, 640, 640)\n",
      "\n",
      "image 1/1 /content/drive/MyDrive/Q3_2/test/00041_00000_00016_png_jpg.rf.6395e3883526af4085f6c5aa2b083e6d.jpg: 640x640 1 No_Over_Taking, 12.4ms\n",
      "Speed: 1.4ms preprocess, 12.4ms inference, 1.3ms postprocess per image at shape (1, 3, 640, 640)\n",
      "\n",
      "image 1/1 /content/drive/MyDrive/Q3_2/test/road351_png.rf.b573a808371ff05c5097774b90a3beab.jpg: 640x640 1 Speed limit 40 Kph, 13.6ms\n",
      "Speed: 1.5ms preprocess, 13.6ms inference, 1.5ms postprocess per image at shape (1, 3, 640, 640)\n",
      "\n",
      "image 1/1 /content/drive/MyDrive/Q3_2/test/00001_00038_00006_png_jpg.rf.ad7b99548efe9c8dafee27b9eca5a8f1.jpg: 640x640 1 Speed limit 50 Kph, 12.3ms\n",
      "Speed: 1.4ms preprocess, 12.3ms inference, 1.3ms postprocess per image at shape (1, 3, 640, 640)\n",
      "\n",
      "image 1/1 /content/drive/MyDrive/Q3_2/test/road279_png.rf.0af18c4eaad5c115ce2eec0dc4534a77.jpg: 640x640 1 Speed bump ahead, 1 Speed limit 40 Kph, 18.0ms\n",
      "Speed: 2.0ms preprocess, 18.0ms inference, 1.8ms postprocess per image at shape (1, 3, 640, 640)\n",
      "\n",
      "image 1/1 /content/drive/MyDrive/Q3_2/test/00001_00032_00028_png_jpg.rf.3f45f035898a7395e886fbc515969c14.jpg: 640x640 1 Speed limit 30 Kph, 14.8ms\n",
      "Speed: 1.9ms preprocess, 14.8ms inference, 1.4ms postprocess per image at shape (1, 3, 640, 640)\n",
      "\n",
      "image 1/1 /content/drive/MyDrive/Q3_2/test/00001_00022_00001_png_jpg.rf.4d855e845db96db92346b0a79e518049.jpg: 640x640 1 Speed limit 30 Kph, 12.0ms\n",
      "Speed: 1.4ms preprocess, 12.0ms inference, 1.3ms postprocess per image at shape (1, 3, 640, 640)\n",
      "\n",
      "image 1/1 /content/drive/MyDrive/Q3_2/test/00001_00022_00015_png_jpg.rf.4178502fcdcd2f9ff439e7cfeb54c119.jpg: 640x640 1 Speed limit 30 Kph, 12.2ms\n",
      "Speed: 1.5ms preprocess, 12.2ms inference, 1.4ms postprocess per image at shape (1, 3, 640, 640)\n",
      "\n",
      "image 1/1 /content/drive/MyDrive/Q3_2/test/00001_00029_00028_png_jpg.rf.59612d014f24dbb494a52e5b66489305.jpg: 640x640 1 Speed limit 30 Kph, 12.1ms\n",
      "Speed: 1.5ms preprocess, 12.1ms inference, 1.3ms postprocess per image at shape (1, 3, 640, 640)\n",
      "\n",
      "image 1/1 /content/drive/MyDrive/Q3_2/test/00001_00022_00024_png_jpg.rf.3879e6d2b9714e57aa6014b0bdbbe403.jpg: 640x640 1 Speed limit 30 Kph, 11.5ms\n",
      "Speed: 1.4ms preprocess, 11.5ms inference, 1.3ms postprocess per image at shape (1, 3, 640, 640)\n",
      "\n",
      "image 1/1 /content/drive/MyDrive/Q3_2/test/road686_png.rf.7c70de69c74a8959b0aae34aea41895c.jpg: 640x640 1 Speed bump ahead, 1 Speed limit 40 Kph, 12.2ms\n",
      "Speed: 1.5ms preprocess, 12.2ms inference, 1.3ms postprocess per image at shape (1, 3, 640, 640)\n",
      "\n",
      "image 1/1 /content/drive/MyDrive/Q3_2/test/00001_00037_00008_png_jpg.rf.c8cef0af446f2c891baa5ce196844125.jpg: 640x640 (no detections), 12.4ms\n",
      "Speed: 1.4ms preprocess, 12.4ms inference, 0.5ms postprocess per image at shape (1, 3, 640, 640)\n",
      "\n",
      "image 1/1 /content/drive/MyDrive/Q3_2/test/00001_00022_00029_png_jpg.rf.444e54096a8295b8e03495b68ba4a176.jpg: 640x640 1 Speed limit 30 Kph, 12.3ms\n",
      "Speed: 1.4ms preprocess, 12.3ms inference, 1.4ms postprocess per image at shape (1, 3, 640, 640)\n",
      "\n",
      "image 1/1 /content/drive/MyDrive/Q3_2/test/00001_00029_00022_png_jpg.rf.368527ab3f0e56ae4dd6b6f0f1ac2965.jpg: 640x640 1 Speed limit 30 Kph, 16.7ms\n",
      "Speed: 1.9ms preprocess, 16.7ms inference, 1.8ms postprocess per image at shape (1, 3, 640, 640)\n",
      "\n",
      "image 1/1 /content/drive/MyDrive/Q3_2/test/00001_00035_00028_png_jpg.rf.f8f5f85448ea356a9bbbc529351b4410.jpg: 640x640 1 Speed limit 30 Kph, 13.3ms\n",
      "Speed: 1.5ms preprocess, 13.3ms inference, 1.4ms postprocess per image at shape (1, 3, 640, 640)\n",
      "\n",
      "image 1/1 /content/drive/MyDrive/Q3_2/test/road809_png.rf.0cb5ed459ddd434d53733fd9895acb17.jpg: 640x640 1 Speed limit 90 Kph, 14.5ms\n",
      "Speed: 1.5ms preprocess, 14.5ms inference, 1.5ms postprocess per image at shape (1, 3, 640, 640)\n",
      "\n",
      "image 1/1 /content/drive/MyDrive/Q3_2/test/00001_00022_00005_png_jpg.rf.c7d723282aeca6b0cb903cd4a73e0f7e.jpg: 640x640 1 Speed limit 30 Kph, 11.9ms\n",
      "Speed: 1.7ms preprocess, 11.9ms inference, 1.3ms postprocess per image at shape (1, 3, 640, 640)\n",
      "\n",
      "image 1/1 /content/drive/MyDrive/Q3_2/test/00041_00000_00011_png_jpg.rf.a97d98db7096c66f40ddbb7fe25fa66c.jpg: 640x640 1 No_Over_Taking, 12.7ms\n",
      "Speed: 1.4ms preprocess, 12.7ms inference, 1.4ms postprocess per image at shape (1, 3, 640, 640)\n",
      "\n",
      "image 1/1 /content/drive/MyDrive/Q3_2/test/00001_00032_00021_png_jpg.rf.a48a86272c44e9a052b458eb6110b8ac.jpg: 640x640 1 Speed limit 30 Kph, 11.5ms\n",
      "Speed: 1.5ms preprocess, 11.5ms inference, 1.3ms postprocess per image at shape (1, 3, 640, 640)\n",
      "\n",
      "image 1/1 /content/drive/MyDrive/Q3_2/test/road319_png.rf.068f2884e6f108e7f7ac422b23e909d6.jpg: 640x640 1 CYCLE ROUTE AHEAD WARNING, 1 Speed limit 40 Kph, 1 Speed limit 60 Kph, 16.5ms\n",
      "Speed: 1.9ms preprocess, 16.5ms inference, 1.8ms postprocess per image at shape (1, 3, 640, 640)\n",
      "\n",
      "image 1/1 /content/drive/MyDrive/Q3_2/test/00001_00028_00000_png_jpg.rf.8fb7b0ca979d727a9cd77feb9123c0fe.jpg: 640x640 1 Dangerous Rright Curve Ahead, 11.8ms\n",
      "Speed: 1.6ms preprocess, 11.8ms inference, 1.3ms postprocess per image at shape (1, 3, 640, 640)\n",
      "\n",
      "image 1/1 /content/drive/MyDrive/Q3_2/test/00001_00018_00022_png_jpg.rf.d6752a0e4af4aa736aa70d19bd0f3462.jpg: 640x640 1 Speed limit 30 Kph, 15.5ms\n",
      "Speed: 1.9ms preprocess, 15.5ms inference, 1.4ms postprocess per image at shape (1, 3, 640, 640)\n",
      "\n",
      "image 1/1 /content/drive/MyDrive/Q3_2/test/00001_00032_00013_png_jpg.rf.e4e4518da37d091f8e376676a90b0276.jpg: 640x640 1 Speed limit 30 Kph, 12.2ms\n",
      "Speed: 1.5ms preprocess, 12.2ms inference, 1.3ms postprocess per image at shape (1, 3, 640, 640)\n",
      "\n",
      "image 1/1 /content/drive/MyDrive/Q3_2/test/00001_00038_00016_png_jpg.rf.f694f3727ae3afd0bdf898d2deee41db.jpg: 640x640 1 Speed limit 50 Kph, 13.2ms\n",
      "Speed: 1.4ms preprocess, 13.2ms inference, 1.4ms postprocess per image at shape (1, 3, 640, 640)\n",
      "\n",
      "image 1/1 /content/drive/MyDrive/Q3_2/test/00001_00031_00026_png_jpg.rf.8359d0e7d8507822671f0e3343471146.jpg: 640x640 1 Speed limit 30 Kph, 11.8ms\n",
      "Speed: 1.5ms preprocess, 11.8ms inference, 1.3ms postprocess per image at shape (1, 3, 640, 640)\n",
      "\n",
      "image 1/1 /content/drive/MyDrive/Q3_2/test/00001_00030_00025_png_jpg.rf.b11ce038412bcc2d3d3f7191d8c70302.jpg: 640x640 1 Speed limit 30 Kph, 11.8ms\n",
      "Speed: 1.4ms preprocess, 11.8ms inference, 1.3ms postprocess per image at shape (1, 3, 640, 640)\n",
      "\n",
      "image 1/1 /content/drive/MyDrive/Q3_2/test/00000_00001_00019_png_jpg.rf.4acf228bfbd18aac5850d9bc70d7bff2.jpg: 640x640 1 Speed limit 20 Kph, 1 Uneven Road, 12.3ms\n",
      "Speed: 1.8ms preprocess, 12.3ms inference, 1.4ms postprocess per image at shape (1, 3, 640, 640)\n",
      "\n",
      "image 1/1 /content/drive/MyDrive/Q3_2/test/00001_00032_00010_png_jpg.rf.57d936fb771faad2e3d9c9a2b956a69c.jpg: 640x640 1 Speed limit 30 Kph, 13.3ms\n",
      "Speed: 1.5ms preprocess, 13.3ms inference, 1.5ms postprocess per image at shape (1, 3, 640, 640)\n",
      "\n",
      "image 1/1 /content/drive/MyDrive/Q3_2/test/road484_png.rf.f07f08fe32f5e6f71eee4d0a6593f898.jpg: 640x640 1 Speed limit, 1 Speed limit 80 Kph, 12.0ms\n",
      "Speed: 1.6ms preprocess, 12.0ms inference, 1.5ms postprocess per image at shape (1, 3, 640, 640)\n",
      "\n",
      "image 1/1 /content/drive/MyDrive/Q3_2/test/00001_00029_00024_png_jpg.rf.edb018b9ab3a820f824ca295863ed4a5.jpg: 640x640 1 Speed limit 30 Kph, 13.9ms\n",
      "Speed: 1.8ms preprocess, 13.9ms inference, 1.5ms postprocess per image at shape (1, 3, 640, 640)\n",
      "\n",
      "image 1/1 /content/drive/MyDrive/Q3_2/test/00001_00028_00004_png_jpg.rf.8c5c67ef3939a2413e5b6696d6e1ab35.jpg: 640x640 1 Dangerous Rright Curve Ahead, 12.2ms\n",
      "Speed: 1.5ms preprocess, 12.2ms inference, 1.6ms postprocess per image at shape (1, 3, 640, 640)\n",
      "\n",
      "image 1/1 /content/drive/MyDrive/Q3_2/test/00001_00032_00014_png_jpg.rf.9ce787e3288bc2c0dd4f08ba49befe69.jpg: 640x640 1 Speed limit 30 Kph, 12.0ms\n",
      "Speed: 1.5ms preprocess, 12.0ms inference, 1.4ms postprocess per image at shape (1, 3, 640, 640)\n",
      "\n",
      "image 1/1 /content/drive/MyDrive/Q3_2/test/road406_png.rf.921b5382a173a9f6bc4beec7df62a249.jpg: 640x640 1 Speed limit 100 Kph, 12.1ms\n",
      "Speed: 1.5ms preprocess, 12.1ms inference, 1.5ms postprocess per image at shape (1, 3, 640, 640)\n",
      "\n",
      "image 1/1 /content/drive/MyDrive/Q3_2/test/00001_00017_00029_png_jpg.rf.3a77b5a7d17c2db087bdfe2325650a8a.jpg: 640x640 1 Speed limit 30 Kph, 12.9ms\n",
      "Speed: 1.6ms preprocess, 12.9ms inference, 1.5ms postprocess per image at shape (1, 3, 640, 640)\n",
      "\n",
      "image 1/1 /content/drive/MyDrive/Q3_2/test/road757_png.rf.5fdb5d8bee58b87d74a8779f3e4f51d0.jpg: 640x640 1 Speed limit 100 Kph, 15.7ms\n",
      "Speed: 1.9ms preprocess, 15.7ms inference, 1.7ms postprocess per image at shape (1, 3, 640, 640)\n",
      "\n",
      "image 1/1 /content/drive/MyDrive/Q3_2/test/00001_00037_00007_png_jpg.rf.3b16db90ce7ee555138dc0cf8ff7cf6d.jpg: 640x640 (no detections), 12.2ms\n",
      "Speed: 1.5ms preprocess, 12.2ms inference, 0.6ms postprocess per image at shape (1, 3, 640, 640)\n",
      "\n",
      "image 1/1 /content/drive/MyDrive/Q3_2/test/00001_00037_00025_png_jpg.rf.1001b596fb6db1f0c696c937ec7ca36e.jpg: 640x640 1 Speed limit 30 Kph, 17.6ms\n",
      "Speed: 1.6ms preprocess, 17.6ms inference, 1.5ms postprocess per image at shape (1, 3, 640, 640)\n",
      "\n",
      "image 1/1 /content/drive/MyDrive/Q3_2/test/00001_00028_00015_png_jpg.rf.91ccd37f12b32df6bd91e45f4abc6224.jpg: 640x640 1 Speed limit 30 Kph, 12.3ms\n",
      "Speed: 1.5ms preprocess, 12.3ms inference, 1.4ms postprocess per image at shape (1, 3, 640, 640)\n",
      "\n",
      "image 1/1 /content/drive/MyDrive/Q3_2/test/00001_00029_00026_png_jpg.rf.e9a00e3de32f4339927167dfe18cc85f.jpg: 640x640 1 Speed limit 30 Kph, 12.0ms\n",
      "Speed: 1.6ms preprocess, 12.0ms inference, 1.4ms postprocess per image at shape (1, 3, 640, 640)\n",
      "\n",
      "image 1/1 /content/drive/MyDrive/Q3_2/test/00001_00018_00020_png_jpg.rf.8e6f5da03d6ded4caabe323e2acc1a95.jpg: 640x640 1 Speed limit 30 Kph, 12.6ms\n",
      "Speed: 1.5ms preprocess, 12.6ms inference, 1.5ms postprocess per image at shape (1, 3, 640, 640)\n",
      "\n",
      "image 1/1 /content/drive/MyDrive/Q3_2/test/00001_00034_00014_png_jpg.rf.93839c92e798a01dde0c1bd165bdaca0.jpg: 640x640 1 Speed limit 30 Kph, 13.0ms\n",
      "Speed: 1.7ms preprocess, 13.0ms inference, 1.4ms postprocess per image at shape (1, 3, 640, 640)\n",
      "\n",
      "image 1/1 /content/drive/MyDrive/Q3_2/test/00000_00000_00026_png_jpg.rf.74f42ba9f72a05021d3c69ae8f627443.jpg: 640x640 1 Speed limit 20 Kph, 12.7ms\n",
      "Speed: 1.6ms preprocess, 12.7ms inference, 1.4ms postprocess per image at shape (1, 3, 640, 640)\n",
      "\n",
      "image 1/1 /content/drive/MyDrive/Q3_2/test/00001_00034_00029_png_jpg.rf.cd11fd8e2206c0b3faa65b1dc959f878.jpg: 640x640 1 Speed limit 30 Kph, 12.7ms\n",
      "Speed: 1.6ms preprocess, 12.7ms inference, 1.4ms postprocess per image at shape (1, 3, 640, 640)\n",
      "\n",
      "image 1/1 /content/drive/MyDrive/Q3_2/test/00001_00036_00029_png_jpg.rf.59846331b42bddc25efe493b33854b72.jpg: 640x640 1 Speed limit 30 Kph, 12.6ms\n",
      "Speed: 1.6ms preprocess, 12.6ms inference, 1.4ms postprocess per image at shape (1, 3, 640, 640)\n",
      "\n",
      "image 1/1 /content/drive/MyDrive/Q3_2/test/00000_00002_00015_png_jpg.rf.ef76297605ed889f41569a1e1e3924d2.jpg: 640x640 1 Speed limit 20 Kph, 12.2ms\n",
      "Speed: 1.5ms preprocess, 12.2ms inference, 1.4ms postprocess per image at shape (1, 3, 640, 640)\n",
      "\n",
      "image 1/1 /content/drive/MyDrive/Q3_2/test/00001_00037_00010_png_jpg.rf.2d4cc8e449ee68fbc0fe79fb3eebce34.jpg: 640x640 1 Speed limit 30 Kph, 11.8ms\n",
      "Speed: 1.5ms preprocess, 11.8ms inference, 1.5ms postprocess per image at shape (1, 3, 640, 640)\n",
      "\n",
      "image 1/1 /content/drive/MyDrive/Q3_2/test/00001_00033_00024_png_jpg.rf.ad5ce4aa39421eecac79ba90d9e447ee.jpg: 640x640 1 Speed limit 30 Kph, 12.5ms\n",
      "Speed: 1.5ms preprocess, 12.5ms inference, 1.6ms postprocess per image at shape (1, 3, 640, 640)\n",
      "\n",
      "image 1/1 /content/drive/MyDrive/Q3_2/test/00001_00032_00022_png_jpg.rf.31279153bf33e096a823d677533e0023.jpg: 640x640 1 Speed limit 30 Kph, 12.6ms\n",
      "Speed: 1.6ms preprocess, 12.6ms inference, 1.5ms postprocess per image at shape (1, 3, 640, 640)\n",
      "\n",
      "image 1/1 /content/drive/MyDrive/Q3_2/test/00001_00018_00023_png_jpg.rf.5b97a0b3fefd03df0b45bff42a65ee8d.jpg: 640x640 1 Speed limit 30 Kph, 12.9ms\n",
      "Speed: 1.6ms preprocess, 12.9ms inference, 1.5ms postprocess per image at shape (1, 3, 640, 640)\n",
      "\n",
      "image 1/1 /content/drive/MyDrive/Q3_2/test/road403_png.rf.ef063bb381b542ac8cf86fe5b0d47f76.jpg: 640x640 1 Speed limit 90 Kph, 12.9ms\n",
      "Speed: 1.9ms preprocess, 12.9ms inference, 1.4ms postprocess per image at shape (1, 3, 640, 640)\n",
      "\n",
      "image 1/1 /content/drive/MyDrive/Q3_2/test/00001_00028_00026_png_jpg.rf.e6e6adb5ff9245f06b61890c504691db.jpg: 640x640 1 Speed limit 30 Kph, 12.3ms\n",
      "Speed: 1.4ms preprocess, 12.3ms inference, 1.4ms postprocess per image at shape (1, 3, 640, 640)\n",
      "\n",
      "image 1/1 /content/drive/MyDrive/Q3_2/test/00001_00034_00020_png_jpg.rf.c6f3e91cd99d667e9cc923559f837e50.jpg: 640x640 1 Speed limit 30 Kph, 12.5ms\n",
      "Speed: 1.5ms preprocess, 12.5ms inference, 1.4ms postprocess per image at shape (1, 3, 640, 640)\n",
      "\n",
      "image 1/1 /content/drive/MyDrive/Q3_2/test/00001_00022_00016_png_jpg.rf.f6d001b66f997412c7c5d32188a5598b.jpg: 640x640 1 Speed limit 30 Kph, 12.9ms\n",
      "Speed: 1.5ms preprocess, 12.9ms inference, 1.4ms postprocess per image at shape (1, 3, 640, 640)\n",
      "\n",
      "image 1/1 /content/drive/MyDrive/Q3_2/test/00001_00022_00002_png_jpg.rf.e40b266c9752bd5a5b94ad372fdc8914.jpg: 640x640 1 Speed limit 30 Kph, 12.6ms\n",
      "Speed: 1.6ms preprocess, 12.6ms inference, 1.5ms postprocess per image at shape (1, 3, 640, 640)\n",
      "\n",
      "image 1/1 /content/drive/MyDrive/Q3_2/test/00001_00034_00027_png_jpg.rf.fe61d5d7fce752dc3be6d6b8644d9091.jpg: 640x640 1 Speed limit 30 Kph, 12.4ms\n",
      "Speed: 1.6ms preprocess, 12.4ms inference, 1.4ms postprocess per image at shape (1, 3, 640, 640)\n",
      "\n",
      "image 1/1 /content/drive/MyDrive/Q3_2/test/road413_png.rf.8107b72aa82733b2f205542a988ffbf8.jpg: 640x640 1 Speed limit 100 Kph, 12.1ms\n",
      "Speed: 1.6ms preprocess, 12.1ms inference, 1.4ms postprocess per image at shape (1, 3, 640, 640)\n",
      "\n",
      "image 1/1 /content/drive/MyDrive/Q3_2/test/road681_png.rf.f4f6a279ee139c9a315240fcd0f5fcf2.jpg: 640x640 1 Crosswalk, 1 Speed bump ahead, 1 Speed limit, 1 Speed limit 40 Kph, 12.7ms\n",
      "Speed: 1.5ms preprocess, 12.7ms inference, 1.4ms postprocess per image at shape (1, 3, 640, 640)\n",
      "\n",
      "image 1/1 /content/drive/MyDrive/Q3_2/test/00001_00017_00026_png_jpg.rf.5a0047279f9f590ae2b5985de359d1e9.jpg: 640x640 1 Speed limit 30 Kph, 12.3ms\n",
      "Speed: 1.6ms preprocess, 12.3ms inference, 1.4ms postprocess per image at shape (1, 3, 640, 640)\n",
      "\n",
      "image 1/1 /content/drive/MyDrive/Q3_2/test/00001_00038_00017_png_jpg.rf.e37da44a5074e2023cc499fc19cd1d88.jpg: 640x640 1 Speed limit 30 Kph, 12.1ms\n",
      "Speed: 1.5ms preprocess, 12.1ms inference, 1.5ms postprocess per image at shape (1, 3, 640, 640)\n",
      "\n",
      "image 1/1 /content/drive/MyDrive/Q3_2/test/00000_00002_00012_png_jpg.rf.b62bc5b3c9df35b5408952697df88d74.jpg: 640x640 1 Speed limit 20 Kph, 12.2ms\n",
      "Speed: 1.5ms preprocess, 12.2ms inference, 1.4ms postprocess per image at shape (1, 3, 640, 640)\n",
      "\n",
      "image 1/1 /content/drive/MyDrive/Q3_2/test/00001_00033_00028_png_jpg.rf.1720cd07731e7341a38270b58a3e2edb.jpg: 640x640 1 Speed limit 30 Kph, 12.2ms\n",
      "Speed: 1.5ms preprocess, 12.2ms inference, 1.5ms postprocess per image at shape (1, 3, 640, 640)\n",
      "\n",
      "image 1/1 /content/drive/MyDrive/Q3_2/test/00001_00037_00005_png_jpg.rf.a59b374ea3d51439e2c0d237d5e36155.jpg: 640x640 (no detections), 12.5ms\n",
      "Speed: 1.6ms preprocess, 12.5ms inference, 0.8ms postprocess per image at shape (1, 3, 640, 640)\n",
      "\n",
      "image 1/1 /content/drive/MyDrive/Q3_2/test/00001_00025_00003_png_jpg.rf.70df4faaf44b96572d10f86f07c65578.jpg: 640x640 1 No_Over_Taking, 12.2ms\n",
      "Speed: 1.6ms preprocess, 12.2ms inference, 1.4ms postprocess per image at shape (1, 3, 640, 640)\n",
      "\n",
      "image 1/1 /content/drive/MyDrive/Q3_2/test/road393_png.rf.23b3ecf5a3b9a37adf433b36b5e4065e.jpg: 640x640 1 Speed limit 100 Kph, 14.0ms\n",
      "Speed: 1.5ms preprocess, 14.0ms inference, 1.6ms postprocess per image at shape (1, 3, 640, 640)\n",
      "\n",
      "image 1/1 /content/drive/MyDrive/Q3_2/test/00001_00022_00028_png_jpg.rf.d08ba75353c4d75d2d03e623db09da9c.jpg: 640x640 1 Speed limit 30 Kph, 13.1ms\n",
      "Speed: 2.1ms preprocess, 13.1ms inference, 1.5ms postprocess per image at shape (1, 3, 640, 640)\n",
      "\n",
      "image 1/1 /content/drive/MyDrive/Q3_2/test/00001_00022_00008_png_jpg.rf.ec09f9bc2676fc934c71fa2897deb06a.jpg: 640x640 1 Speed limit 30 Kph, 12.2ms\n",
      "Speed: 1.5ms preprocess, 12.2ms inference, 1.4ms postprocess per image at shape (1, 3, 640, 640)\n",
      "\n",
      "image 1/1 /content/drive/MyDrive/Q3_2/test/00001_00018_00017_png_jpg.rf.d209854c13d95416f1ebf61e262b4a79.jpg: 640x640 1 Speed limit 30 Kph, 12.4ms\n",
      "Speed: 1.5ms preprocess, 12.4ms inference, 1.5ms postprocess per image at shape (1, 3, 640, 640)\n",
      "\n",
      "image 1/1 /content/drive/MyDrive/Q3_2/test/00000_00002_00006_png_jpg.rf.50c9b7f1f587879060ba298592bfce77.jpg: 640x640 1 Speed limit 20 Kph, 12.8ms\n",
      "Speed: 1.6ms preprocess, 12.8ms inference, 1.4ms postprocess per image at shape (1, 3, 640, 640)\n",
      "\n",
      "image 1/1 /content/drive/MyDrive/Q3_2/test/00041_00000_00007_png_jpg.rf.ba98ef78150f84a4fe7f82e4fe6c2102.jpg: 640x640 1 No_Over_Taking, 13.5ms\n",
      "Speed: 1.5ms preprocess, 13.5ms inference, 1.5ms postprocess per image at shape (1, 3, 640, 640)\n",
      "\n",
      "image 1/1 /content/drive/MyDrive/Q3_2/test/00001_00037_00003_png_jpg.rf.8d1b2b93436d10e053987b3b2d5546c7.jpg: 640x640 (no detections), 12.1ms\n",
      "Speed: 1.5ms preprocess, 12.1ms inference, 0.6ms postprocess per image at shape (1, 3, 640, 640)\n",
      "\n",
      "image 1/1 /content/drive/MyDrive/Q3_2/test/00001_00037_00029_png_jpg.rf.58d5e04c7a9d06064b4e534b18e7e047.jpg: 640x640 1 Speed limit 30 Kph, 12.6ms\n",
      "Speed: 1.5ms preprocess, 12.6ms inference, 1.4ms postprocess per image at shape (1, 3, 640, 640)\n",
      "\n",
      "image 1/1 /content/drive/MyDrive/Q3_2/test/00001_00032_00002_png_jpg.rf.9ecf4d798701725a7243af056c21db8d.jpg: 640x640 1 No_Over_Taking, 12.0ms\n",
      "Speed: 1.5ms preprocess, 12.0ms inference, 1.4ms postprocess per image at shape (1, 3, 640, 640)\n",
      "\n",
      "image 1/1 /content/drive/MyDrive/Q3_2/test/00001_00032_00017_png_jpg.rf.54f1ff9ae66d3f0ecbf746317e103fdc.jpg: 640x640 1 Speed limit 30 Kph, 12.1ms\n",
      "Speed: 1.5ms preprocess, 12.1ms inference, 1.4ms postprocess per image at shape (1, 3, 640, 640)\n",
      "\n",
      "image 1/1 /content/drive/MyDrive/Q3_2/test/road267_png.rf.e816cfdb18e7f74212774c62e394ab10.jpg: 640x640 1 Speed bump ahead, 1 Speed limit 40 Kph, 15.1ms\n",
      "Speed: 1.8ms preprocess, 15.1ms inference, 1.7ms postprocess per image at shape (1, 3, 640, 640)\n",
      "\n",
      "image 1/1 /content/drive/MyDrive/Q3_2/test/00001_00031_00025_png_jpg.rf.967760a07b26acd3f30535d8fa5b23d7.jpg: 640x640 1 Speed limit 30 Kph, 13.0ms\n",
      "Speed: 1.5ms preprocess, 13.0ms inference, 1.4ms postprocess per image at shape (1, 3, 640, 640)\n",
      "\n",
      "image 1/1 /content/drive/MyDrive/Q3_2/test/00001_00029_00018_png_jpg.rf.c81741a775edc6ae9209295f8018399f.jpg: 640x640 1 Speed limit 30 Kph, 13.5ms\n",
      "Speed: 1.6ms preprocess, 13.5ms inference, 1.5ms postprocess per image at shape (1, 3, 640, 640)\n",
      "\n",
      "image 1/1 /content/drive/MyDrive/Q3_2/test/00001_00017_00023_png_jpg.rf.e87f9a462cfe012b8029a900e81af222.jpg: 640x640 1 Speed limit 30 Kph, 13.4ms\n",
      "Speed: 1.5ms preprocess, 13.4ms inference, 1.5ms postprocess per image at shape (1, 3, 640, 640)\n",
      "\n",
      "image 1/1 /content/drive/MyDrive/Q3_2/test/00001_00030_00016_png_jpg.rf.e641f7321b61e38243df795f6db302f5.jpg: 640x640 1 Speed limit 30 Kph, 12.0ms\n",
      "Speed: 1.5ms preprocess, 12.0ms inference, 1.3ms postprocess per image at shape (1, 3, 640, 640)\n",
      "\n",
      "image 1/1 /content/drive/MyDrive/Q3_2/test/00001_00038_00028_png_jpg.rf.0b022cbcbfd14329b2c73156f8eac91f.jpg: 640x640 1 Speed limit 30 Kph, 11.9ms\n",
      "Speed: 1.5ms preprocess, 11.9ms inference, 1.4ms postprocess per image at shape (1, 3, 640, 640)\n",
      "\n",
      "image 1/1 /content/drive/MyDrive/Q3_2/test/00001_00034_00022_png_jpg.rf.9eb729eb202060ad5663076b41a3b8ed.jpg: 640x640 1 Speed limit 30 Kph, 12.7ms\n",
      "Speed: 1.6ms preprocess, 12.7ms inference, 1.5ms postprocess per image at shape (1, 3, 640, 640)\n",
      "\n",
      "image 1/1 /content/drive/MyDrive/Q3_2/test/road392_png.rf.9032a56398f09ffebe6ff2c6c3b744c2.jpg: 640x640 1 Speed limit 100 Kph, 12.1ms\n",
      "Speed: 1.6ms preprocess, 12.1ms inference, 1.4ms postprocess per image at shape (1, 3, 640, 640)\n",
      "\n",
      "image 1/1 /content/drive/MyDrive/Q3_2/test/00001_00022_00018_png_jpg.rf.e73be464c0c48210b7d01a9f48a32c5b.jpg: 640x640 1 Speed limit 30 Kph, 13.5ms\n",
      "Speed: 1.6ms preprocess, 13.5ms inference, 1.6ms postprocess per image at shape (1, 3, 640, 640)\n",
      "\n",
      "image 1/1 /content/drive/MyDrive/Q3_2/test/00041_00000_00026_png_jpg.rf.69d2df7979c7b170236421a88cdc057b.jpg: 640x640 1 No_Over_Taking, 12.0ms\n",
      "Speed: 1.5ms preprocess, 12.0ms inference, 1.5ms postprocess per image at shape (1, 3, 640, 640)\n",
      "\n",
      "image 1/1 /content/drive/MyDrive/Q3_2/test/00001_00027_00025_png_jpg.rf.e3a64f9c3cc29b7e249ef5cc17f4ad0f.jpg: 640x640 1 Speed limit 30 Kph, 12.0ms\n",
      "Speed: 1.5ms preprocess, 12.0ms inference, 1.4ms postprocess per image at shape (1, 3, 640, 640)\n",
      "\n",
      "image 1/1 /content/drive/MyDrive/Q3_2/test/00001_00039_00013_png_jpg.rf.e1ee08875df5b872fdf5350e8a0d11d5.jpg: 640x640 1 -Road narrows on right, 1 Speed limit 30 Kph, 11.8ms\n",
      "Speed: 1.5ms preprocess, 11.8ms inference, 1.4ms postprocess per image at shape (1, 3, 640, 640)\n",
      "\n",
      "image 1/1 /content/drive/MyDrive/Q3_2/test/00001_00037_00021_png_jpg.rf.6581eabecc31f9b965eebfa670bb3101.jpg: 640x640 1 Speed limit 30 Kph, 18.1ms\n",
      "Speed: 2.0ms preprocess, 18.1ms inference, 1.9ms postprocess per image at shape (1, 3, 640, 640)\n",
      "\n",
      "image 1/1 /content/drive/MyDrive/Q3_2/test/road130_png.rf.945f1128ba0f3c9be5126b81c4672a8e.jpg: 640x640 2 Crosswalks, 17.1ms\n",
      "Speed: 2.0ms preprocess, 17.1ms inference, 1.7ms postprocess per image at shape (1, 3, 640, 640)\n",
      "\n",
      "image 1/1 /content/drive/MyDrive/Q3_2/test/road835_png.rf.75b32e186fe98ef5a598dd4d9629ee45.jpg: 640x640 1 Speed limit 80 Kph, 12.1ms\n",
      "Speed: 1.4ms preprocess, 12.1ms inference, 1.3ms postprocess per image at shape (1, 3, 640, 640)\n",
      "\n",
      "image 1/1 /content/drive/MyDrive/Q3_2/test/00001_00027_00028_png_jpg.rf.07716bb1d6ef22558d6c7436b0e69973.jpg: 640x640 1 Speed limit 30 Kph, 11.8ms\n",
      "Speed: 1.4ms preprocess, 11.8ms inference, 1.3ms postprocess per image at shape (1, 3, 640, 640)\n",
      "\n",
      "image 1/1 /content/drive/MyDrive/Q3_2/test/00000_00002_00029_png_jpg.rf.c4f12857b8783cdb7cc5c6346675c0a0.jpg: 640x640 1 Speed limit 20 Kph, 12.2ms\n",
      "Speed: 1.5ms preprocess, 12.2ms inference, 1.4ms postprocess per image at shape (1, 3, 640, 640)\n",
      "\n",
      "image 1/1 /content/drive/MyDrive/Q3_2/test/00001_00037_00006_png_jpg.rf.6a136c44ff5d0eb660c3d04d5a8521f2.jpg: 640x640 1 Speed limit 30 Kph, 13.4ms\n",
      "Speed: 1.5ms preprocess, 13.4ms inference, 1.4ms postprocess per image at shape (1, 3, 640, 640)\n",
      "\n",
      "image 1/1 /content/drive/MyDrive/Q3_2/test/00001_00038_00007_png_jpg.rf.00687ba43cf95bf7b5fc0a5b4a6b33fd.jpg: 640x640 (no detections), 12.2ms\n",
      "Speed: 1.4ms preprocess, 12.2ms inference, 0.6ms postprocess per image at shape (1, 3, 640, 640)\n",
      "\n",
      "image 1/1 /content/drive/MyDrive/Q3_2/test/00001_00022_00021_png_jpg.rf.002462c4a72013a0449ca19e975e3120.jpg: 640x640 1 Speed limit 30 Kph, 12.4ms\n",
      "Speed: 1.6ms preprocess, 12.4ms inference, 1.4ms postprocess per image at shape (1, 3, 640, 640)\n",
      "\n",
      "image 1/1 /content/drive/MyDrive/Q3_2/test/road410_png.rf.124096a5e6484db855245a6a1f259794.jpg: 640x640 1 Speed limit 100 Kph, 11.8ms\n",
      "Speed: 1.5ms preprocess, 11.8ms inference, 1.3ms postprocess per image at shape (1, 3, 640, 640)\n",
      "\n",
      "image 1/1 /content/drive/MyDrive/Q3_2/test/road871_png.rf.b8d3a3ec98ee98a5985eb04d79f7307b.jpg: 640x640 1 Speed bump ahead, 1 Speed limit 40 Kph, 12.5ms\n",
      "Speed: 1.4ms preprocess, 12.5ms inference, 1.4ms postprocess per image at shape (1, 3, 640, 640)\n",
      "\n",
      "image 1/1 /content/drive/MyDrive/Q3_2/test/road494_png.rf.a31e2be1660d61e99ffe486e299de4c6.jpg: 640x640 2 Speed limits, 1 Speed limit 80 Kph, 11.7ms\n",
      "Speed: 1.4ms preprocess, 11.7ms inference, 1.3ms postprocess per image at shape (1, 3, 640, 640)\n",
      "\n",
      "image 1/1 /content/drive/MyDrive/Q3_2/test/00001_00034_00016_png_jpg.rf.11c56fa608372cb276772d6bba6ff175.jpg: 640x640 1 Speed limit 30 Kph, 12.0ms\n",
      "Speed: 1.5ms preprocess, 12.0ms inference, 1.3ms postprocess per image at shape (1, 3, 640, 640)\n",
      "\n",
      "image 1/1 /content/drive/MyDrive/Q3_2/test/00001_00037_00001_png_jpg.rf.c73f519b911aab2c09cd5681070531df.jpg: 640x640 (no detections), 12.2ms\n",
      "Speed: 1.4ms preprocess, 12.2ms inference, 0.5ms postprocess per image at shape (1, 3, 640, 640)\n",
      "\n",
      "image 1/1 /content/drive/MyDrive/Q3_2/test/road772_png.rf.6cfd05de0ab893efe5ccc7ba7930bc0a.jpg: 640x640 (no detections), 12.0ms\n",
      "Speed: 1.5ms preprocess, 12.0ms inference, 0.6ms postprocess per image at shape (1, 3, 640, 640)\n",
      "\n",
      "image 1/1 /content/drive/MyDrive/Q3_2/test/00041_00000_00005_png_jpg.rf.1f281ba92a999eab4b18c99e6af40415.jpg: 640x640 1 No_Over_Taking, 13.0ms\n",
      "Speed: 1.6ms preprocess, 13.0ms inference, 1.5ms postprocess per image at shape (1, 3, 640, 640)\n",
      "\n",
      "image 1/1 /content/drive/MyDrive/Q3_2/test/00001_00034_00018_png_jpg.rf.d813b8ba50b58972fcc9004460eded12.jpg: 640x640 1 Speed limit 30 Kph, 13.1ms\n",
      "Speed: 1.5ms preprocess, 13.1ms inference, 1.4ms postprocess per image at shape (1, 3, 640, 640)\n",
      "\n",
      "image 1/1 /content/drive/MyDrive/Q3_2/test/00001_00035_00011_png_jpg.rf.c716f8c3b2b2cab848f133eb40e26e9d.jpg: 640x640 1 Speed limit 30 Kph, 12.9ms\n",
      "Speed: 1.5ms preprocess, 12.9ms inference, 1.5ms postprocess per image at shape (1, 3, 640, 640)\n",
      "\n",
      "image 1/1 /content/drive/MyDrive/Q3_2/test/00001_00038_00000_png_jpg.rf.92dac6487dd3ed2d728274b7026000d0.jpg: 640x640 1 No_Over_Taking, 14.5ms\n",
      "Speed: 1.7ms preprocess, 14.5ms inference, 1.4ms postprocess per image at shape (1, 3, 640, 640)\n",
      "\n",
      "image 1/1 /content/drive/MyDrive/Q3_2/test/00001_00030_00001_png_jpg.rf.e64aadce2d681983d6e1e5e7ab62b331.jpg: 640x640 1 No_Over_Taking, 12.8ms\n",
      "Speed: 1.5ms preprocess, 12.8ms inference, 1.4ms postprocess per image at shape (1, 3, 640, 640)\n",
      "\n",
      "image 1/1 /content/drive/MyDrive/Q3_2/test/00001_00030_00009_png_jpg.rf.08152f2a24cd41ad2c9fc2152fa4bfe5.jpg: 640x640 1 Speed limit 30 Kph, 12.1ms\n",
      "Speed: 1.5ms preprocess, 12.1ms inference, 1.6ms postprocess per image at shape (1, 3, 640, 640)\n",
      "\n",
      "image 1/1 /content/drive/MyDrive/Q3_2/test/00001_00030_00028_png_jpg.rf.0b8cac524c846c8cc7ba62dbb9a20f48.jpg: 640x640 1 Speed limit 30 Kph, 11.9ms\n",
      "Speed: 1.5ms preprocess, 11.9ms inference, 1.5ms postprocess per image at shape (1, 3, 640, 640)\n",
      "\n",
      "image 1/1 /content/drive/MyDrive/Q3_2/test/00041_00001_00004_png_jpg.rf.7c6e9a55221f6f9d54dbccbdfb0d642d.jpg: 640x640 1 No_Over_Taking, 13.8ms\n",
      "Speed: 1.4ms preprocess, 13.8ms inference, 1.4ms postprocess per image at shape (1, 3, 640, 640)\n",
      "\n",
      "image 1/1 /content/drive/MyDrive/Q3_2/test/road109_png.rf.2a782d451b47d5a1e81df530364c41b4.jpg: 640x640 1 Dangerous Left Curve Ahead, 1 Dangerous Rright Curve Ahead, 1 Speed limit 40 Kph, 13.2ms\n",
      "Speed: 1.5ms preprocess, 13.2ms inference, 1.4ms postprocess per image at shape (1, 3, 640, 640)\n",
      "\n",
      "image 1/1 /content/drive/MyDrive/Q3_2/test/00001_00034_00021_png_jpg.rf.c485612fbc3f08473edc546038727681.jpg: 640x640 1 Speed limit 30 Kph, 12.8ms\n",
      "Speed: 1.6ms preprocess, 12.8ms inference, 1.5ms postprocess per image at shape (1, 3, 640, 640)\n",
      "\n",
      "image 1/1 /content/drive/MyDrive/Q3_2/test/00001_00030_00022_png_jpg.rf.e077a176b1d675747036f531c1853a2c.jpg: 640x640 1 Speed limit 30 Kph, 12.7ms\n",
      "Speed: 1.7ms preprocess, 12.7ms inference, 1.4ms postprocess per image at shape (1, 3, 640, 640)\n",
      "\n",
      "image 1/1 /content/drive/MyDrive/Q3_2/test/00001_00035_00002_png_jpg.rf.cd19cbfbc8fb200af18344b8678a3f13.jpg: 640x640 (no detections), 12.5ms\n",
      "Speed: 1.6ms preprocess, 12.5ms inference, 0.6ms postprocess per image at shape (1, 3, 640, 640)\n",
      "\n",
      "image 1/1 /content/drive/MyDrive/Q3_2/test/00001_00032_00026_png_jpg.rf.6fc2ec40538c1c7246606e7400f738c2.jpg: 640x640 1 Speed limit 30 Kph, 12.3ms\n",
      "Speed: 1.6ms preprocess, 12.3ms inference, 1.6ms postprocess per image at shape (1, 3, 640, 640)\n",
      "\n",
      "image 1/1 /content/drive/MyDrive/Q3_2/test/road112_png.rf.07f5ff2bfe60e2ca4ad52db55cf4fdd3.jpg: 640x640 1 Speed limit 120 Kph, 12.4ms\n",
      "Speed: 1.6ms preprocess, 12.4ms inference, 1.4ms postprocess per image at shape (1, 3, 640, 640)\n",
      "\n",
      "image 1/1 /content/drive/MyDrive/Q3_2/test/00001_00030_00002_png_jpg.rf.7b18a7f5e435e0c0d543514e38b5668f.jpg: 640x640 1 No_Over_Taking, 14.9ms\n",
      "Speed: 1.6ms preprocess, 14.9ms inference, 1.9ms postprocess per image at shape (1, 3, 640, 640)\n",
      "\n",
      "image 1/1 /content/drive/MyDrive/Q3_2/test/00001_00036_00027_png_jpg.rf.a890f9053c2a9b723fc3d4979eda0f7d.jpg: 640x640 1 Speed limit 30 Kph, 11.9ms\n",
      "Speed: 1.5ms preprocess, 11.9ms inference, 1.4ms postprocess per image at shape (1, 3, 640, 640)\n",
      "Predictions saved to /content/drive/MyDrive/Q3_2/submission_m10.csv\n"
     ]
    }
   ],
   "source": [
    "import csv\n",
    "import os\n",
    "\n",
    "test_image_dir = r'/content/drive/MyDrive/DP/code_yolov3/test'\n",
    "\n",
    "# CSV file for saving predictions\n",
    "output_csv = r'/content/drive/MyDrive/DP/code_yolov3/submission_m10.csv'\n",
    "\n",
    "with open(output_csv, mode='w', newline='') as file:\n",
    "    writer = csv.writer(file)\n",
    "    writer.writerow(['filename', 'class'])\n",
    "\n",
    "    # Looping through all the test images\n",
    "    for image_name in os.listdir(test_image_dir):\n",
    "        image_path = os.path.join(test_image_dir, image_name)\n",
    "\n",
    "        # Predicting bounding boxes for the test image\n",
    "        predictions = model.predict(source=image_path)\n",
    "        class_names = set()\n",
    "\n",
    "        # Extracting the predicted classes for the image\n",
    "        for box in predictions[0].boxes:\n",
    "            cls = int(box.cls[0].item())\n",
    "            class_name = model.names[cls] \n",
    "            class_names.add(class_name) \n",
    "\n",
    "        class_names_list = ', '.join(class_names)\n",
    "\n",
    "        # Writing the image_id and the list of class names to the CSV\n",
    "        writer.writerow([image_name, class_names_list])\n",
    "\n",
    "print(f\"Predictions saved to {output_csv}\")\n"
   ]
  },
  {
   "cell_type": "code",
   "execution_count": null,
   "metadata": {},
   "outputs": [],
   "source": [
    "#IOU calculation"
   ]
  },
  {
   "cell_type": "code",
   "execution_count": null,
   "metadata": {
    "colab": {
     "base_uri": "https://localhost:8080/"
    },
    "id": "1X3b7Ruc62_Q",
    "outputId": "672d5127-7aa1-49ef-8d7a-ca459076de82"
   },
   "outputs": [
    {
     "name": "stdout",
     "output_type": "stream",
     "text": [
      "\n",
      "image 1/1 /content/drive/MyDrive/Q3_2/valid/images/00000_00000_00018_png_jpg.rf.f707cbdaf4d44b31e41ee7d604b558de.jpg: 640x640 1 Speed limit 20 Kph, 14.0ms\n",
      "Speed: 1.8ms preprocess, 14.0ms inference, 1.5ms postprocess per image at shape (1, 3, 640, 640)\n",
      "\n",
      "image 1/1 /content/drive/MyDrive/Q3_2/valid/images/00000_00000_00019_png_jpg.rf.0caa91836417583be08013d5f095bcdc.jpg: 640x640 1 Speed limit 20 Kph, 13.9ms\n",
      "Speed: 2.1ms preprocess, 13.9ms inference, 1.4ms postprocess per image at shape (1, 3, 640, 640)\n",
      "\n",
      "image 1/1 /content/drive/MyDrive/Q3_2/valid/images/00000_00000_00021_png_jpg.rf.76273d6def41e680b11585baf2c5060f.jpg: 640x640 1 Speed limit 20 Kph, 1 Uneven Road, 11.7ms\n",
      "Speed: 1.5ms preprocess, 11.7ms inference, 1.4ms postprocess per image at shape (1, 3, 640, 640)\n",
      "\n",
      "image 1/1 /content/drive/MyDrive/Q3_2/valid/images/00000_00000_00022_png_jpg.rf.6747813c922976c163aa5f9881eed31b.jpg: 640x640 1 Speed limit 20 Kph, 11.7ms\n",
      "Speed: 1.4ms preprocess, 11.7ms inference, 1.3ms postprocess per image at shape (1, 3, 640, 640)\n",
      "\n",
      "image 1/1 /content/drive/MyDrive/Q3_2/valid/images/00000_00000_00023_png_jpg.rf.efc023deb9916aff496897eb8302ffa4.jpg: 640x640 1 Speed limit 20 Kph, 12.2ms\n",
      "Speed: 1.5ms preprocess, 12.2ms inference, 1.4ms postprocess per image at shape (1, 3, 640, 640)\n",
      "\n",
      "image 1/1 /content/drive/MyDrive/Q3_2/valid/images/00000_00000_00025_png_jpg.rf.aa258a0fac9e2841fe01e5989fe56e71.jpg: 640x640 1 Speed limit 20 Kph, 11.7ms\n",
      "Speed: 1.5ms preprocess, 11.7ms inference, 1.4ms postprocess per image at shape (1, 3, 640, 640)\n",
      "\n",
      "image 1/1 /content/drive/MyDrive/Q3_2/valid/images/00000_00000_00026_png_jpg.rf.d55303f5dec85ec6c9393b98d10f02f8.jpg: 640x640 1 Speed limit 20 Kph, 12.1ms\n",
      "Speed: 1.6ms preprocess, 12.1ms inference, 1.4ms postprocess per image at shape (1, 3, 640, 640)\n",
      "\n",
      "image 1/1 /content/drive/MyDrive/Q3_2/valid/images/00000_00000_00027_png_jpg.rf.eb3961f015c22bfdb98b4747cdc353eb.jpg: 640x640 1 Speed limit 20 Kph, 12.2ms\n",
      "Speed: 1.7ms preprocess, 12.2ms inference, 1.5ms postprocess per image at shape (1, 3, 640, 640)\n",
      "\n",
      "image 1/1 /content/drive/MyDrive/Q3_2/valid/images/00000_00000_00029_png_jpg.rf.841431497a19d1415a0f9441fde56740.jpg: 640x640 1 Speed limit 20 Kph, 17.1ms\n",
      "Speed: 2.1ms preprocess, 17.1ms inference, 1.8ms postprocess per image at shape (1, 3, 640, 640)\n",
      "\n",
      "image 1/1 /content/drive/MyDrive/Q3_2/valid/images/00000_00001_00026_png_jpg.rf.924cb7e58a712f526feee8e8d0396b3e.jpg: 640x640 1 Speed limit 20 Kph, 16.7ms\n",
      "Speed: 1.9ms preprocess, 16.7ms inference, 1.7ms postprocess per image at shape (1, 3, 640, 640)\n",
      "\n",
      "image 1/1 /content/drive/MyDrive/Q3_2/valid/images/00000_00001_00029_png_jpg.rf.2146719c831b4d6bffe1d1d8143e9140.jpg: 640x640 1 Speed limit 20 Kph, 18.5ms\n",
      "Speed: 2.0ms preprocess, 18.5ms inference, 1.9ms postprocess per image at shape (1, 3, 640, 640)\n",
      "\n",
      "image 1/1 /content/drive/MyDrive/Q3_2/valid/images/00000_00002_00022_png_jpg.rf.c12ac5502005ddc0a1d0dc53f86484c6.jpg: 640x640 1 Speed limit 20 Kph, 11.5ms\n",
      "Speed: 1.4ms preprocess, 11.5ms inference, 1.4ms postprocess per image at shape (1, 3, 640, 640)\n",
      "\n",
      "image 1/1 /content/drive/MyDrive/Q3_2/valid/images/00000_00002_00023_png_jpg.rf.ac2caff8eb4c5857f3249fc3b3823b2b.jpg: 640x640 1 Speed limit 20 Kph, 12.0ms\n",
      "Speed: 1.4ms preprocess, 12.0ms inference, 1.4ms postprocess per image at shape (1, 3, 640, 640)\n",
      "\n",
      "image 1/1 /content/drive/MyDrive/Q3_2/valid/images/00000_00002_00028_png_jpg.rf.b93076d4ffc91ed19292f1d91b4e6430.jpg: 640x640 1 Speed limit 20 Kph, 11.3ms\n",
      "Speed: 1.4ms preprocess, 11.3ms inference, 1.3ms postprocess per image at shape (1, 3, 640, 640)\n",
      "\n",
      "image 1/1 /content/drive/MyDrive/Q3_2/valid/images/00000_00002_00029_png_jpg.rf.49589eaba0973f348eb99ce9fd8974f6.jpg: 640x640 1 Speed limit 20 Kph, 12.0ms\n",
      "Speed: 1.4ms preprocess, 12.0ms inference, 1.4ms postprocess per image at shape (1, 3, 640, 640)\n",
      "\n",
      "image 1/1 /content/drive/MyDrive/Q3_2/valid/images/00000_00004_00004_png_jpg.rf.1ab5c337690d31e53019b77c02ec4eec.jpg: 640x640 1 Speed limit 20 Kph, 13.4ms\n",
      "Speed: 1.4ms preprocess, 13.4ms inference, 1.6ms postprocess per image at shape (1, 3, 640, 640)\n",
      "\n",
      "image 1/1 /content/drive/MyDrive/Q3_2/valid/images/00000_00004_00010_png_jpg.rf.67635bc5792a1669c42ffe397feb58ab.jpg: 640x640 1 Speed limit 20 Kph, 11.9ms\n",
      "Speed: 1.5ms preprocess, 11.9ms inference, 1.4ms postprocess per image at shape (1, 3, 640, 640)\n",
      "\n",
      "image 1/1 /content/drive/MyDrive/Q3_2/valid/images/00000_00004_00015_png_jpg.rf.983b059b7a212a876bea5fc190c0b898.jpg: 640x640 1 Speed limit 20 Kph, 14.0ms\n",
      "Speed: 1.6ms preprocess, 14.0ms inference, 1.5ms postprocess per image at shape (1, 3, 640, 640)\n",
      "\n",
      "image 1/1 /content/drive/MyDrive/Q3_2/valid/images/00000_00004_00016_png_jpg.rf.1c91bd94eba9adbf2e3cf5faeebac386.jpg: 640x640 1 Speed limit 20 Kph, 13.0ms\n",
      "Speed: 1.5ms preprocess, 13.0ms inference, 1.4ms postprocess per image at shape (1, 3, 640, 640)\n",
      "\n",
      "image 1/1 /content/drive/MyDrive/Q3_2/valid/images/00000_00004_00020_png_jpg.rf.aaf0f662f07f7ea289bea58e5c6cc840.jpg: 640x640 1 Speed limit 20 Kph, 11.9ms\n",
      "Speed: 1.5ms preprocess, 11.9ms inference, 1.4ms postprocess per image at shape (1, 3, 640, 640)\n",
      "\n",
      "image 1/1 /content/drive/MyDrive/Q3_2/valid/images/00001_00004_00003_png.rf.806b4f93884a4afa323c90f720993988.jpg: 640x640 1 Speed limit 30 Kph, 12.3ms\n",
      "Speed: 2.3ms preprocess, 12.3ms inference, 1.4ms postprocess per image at shape (1, 3, 640, 640)\n",
      "\n",
      "image 1/1 /content/drive/MyDrive/Q3_2/valid/images/00001_00004_00017_png.rf.59c17684b246375c90a66c80185ac3f6.jpg: 640x640 1 Speed limit 50 Kph, 14.8ms\n",
      "Speed: 2.7ms preprocess, 14.8ms inference, 1.6ms postprocess per image at shape (1, 3, 640, 640)\n",
      "\n",
      "image 1/1 /content/drive/MyDrive/Q3_2/valid/images/00001_00005_00008_png.rf.40d0da91ea6cc55d098dfc3e32176ed4.jpg: 640x640 1 Speed limit 30 Kph, 17.9ms\n",
      "Speed: 3.4ms preprocess, 17.9ms inference, 1.8ms postprocess per image at shape (1, 3, 640, 640)\n",
      "\n",
      "image 1/1 /content/drive/MyDrive/Q3_2/valid/images/00001_00011_00007_png.rf.5a1e3a0bff0fdeddae8d3884cc1d0a55.jpg: 640x640 1 Speed limit 30 Kph, 1 Speed limit 50 Kph, 17.5ms\n",
      "Speed: 3.4ms preprocess, 17.5ms inference, 1.8ms postprocess per image at shape (1, 3, 640, 640)\n",
      "\n",
      "image 1/1 /content/drive/MyDrive/Q3_2/valid/images/00001_00017_00027_png_jpg.rf.41afec612c2ed669046d8740827692a6.jpg: 640x640 1 Speed limit 30 Kph, 12.9ms\n",
      "Speed: 1.5ms preprocess, 12.9ms inference, 1.4ms postprocess per image at shape (1, 3, 640, 640)\n",
      "\n",
      "image 1/1 /content/drive/MyDrive/Q3_2/valid/images/00001_00017_00028_png_jpg.rf.8eecf9f1a6d7b6a667868e17d74e8a9a.jpg: 640x640 1 Speed limit 30 Kph, 11.5ms\n",
      "Speed: 1.4ms preprocess, 11.5ms inference, 1.3ms postprocess per image at shape (1, 3, 640, 640)\n",
      "\n",
      "image 1/1 /content/drive/MyDrive/Q3_2/valid/images/00001_00018_00015_png_jpg.rf.a7349c9830b2b44928d153c3bb362b02.jpg: 640x640 1 Speed limit 30 Kph, 11.7ms\n",
      "Speed: 1.5ms preprocess, 11.7ms inference, 1.3ms postprocess per image at shape (1, 3, 640, 640)\n",
      "\n",
      "image 1/1 /content/drive/MyDrive/Q3_2/valid/images/00001_00018_00016_png_jpg.rf.3f063a35f2e4d3ba7ecdbb281d1efd34.jpg: 640x640 1 Speed limit 30 Kph, 11.8ms\n",
      "Speed: 1.3ms preprocess, 11.8ms inference, 1.3ms postprocess per image at shape (1, 3, 640, 640)\n",
      "\n",
      "image 1/1 /content/drive/MyDrive/Q3_2/valid/images/00001_00018_00017_png_jpg.rf.cef50554c24a1635111677dfd3b9a398.jpg: 640x640 1 Speed limit 30 Kph, 11.6ms\n",
      "Speed: 1.4ms preprocess, 11.6ms inference, 1.3ms postprocess per image at shape (1, 3, 640, 640)\n",
      "\n",
      "image 1/1 /content/drive/MyDrive/Q3_2/valid/images/00001_00018_00018_png_jpg.rf.daa22ba47e02b53a211a05a600db7ad0.jpg: 640x640 1 Speed limit 30 Kph, 11.4ms\n",
      "Speed: 1.4ms preprocess, 11.4ms inference, 1.3ms postprocess per image at shape (1, 3, 640, 640)\n",
      "\n",
      "image 1/1 /content/drive/MyDrive/Q3_2/valid/images/00001_00018_00019_png_jpg.rf.6895bd5ebb34b3874d9146d63e9eb16e.jpg: 640x640 1 Speed limit 30 Kph, 16.5ms\n",
      "Speed: 1.9ms preprocess, 16.5ms inference, 1.7ms postprocess per image at shape (1, 3, 640, 640)\n",
      "\n",
      "image 1/1 /content/drive/MyDrive/Q3_2/valid/images/00001_00018_00022_png_jpg.rf.012a9a72893fc1dbeb57dd112878915e.jpg: 640x640 1 Speed limit 30 Kph, 16.1ms\n",
      "Speed: 1.9ms preprocess, 16.1ms inference, 1.8ms postprocess per image at shape (1, 3, 640, 640)\n",
      "\n",
      "image 1/1 /content/drive/MyDrive/Q3_2/valid/images/00001_00018_00023_png_jpg.rf.68200a95bfbbd11f2197ee21d043a394.jpg: 640x640 1 Speed limit 30 Kph, 11.7ms\n",
      "Speed: 1.5ms preprocess, 11.7ms inference, 1.3ms postprocess per image at shape (1, 3, 640, 640)\n",
      "\n",
      "image 1/1 /content/drive/MyDrive/Q3_2/valid/images/00001_00018_00024_png_jpg.rf.c57378115f3455c888749445098c5f4f.jpg: 640x640 1 Speed limit 30 Kph, 11.3ms\n",
      "Speed: 1.4ms preprocess, 11.3ms inference, 1.3ms postprocess per image at shape (1, 3, 640, 640)\n",
      "\n",
      "image 1/1 /content/drive/MyDrive/Q3_2/valid/images/00001_00018_00025_png_jpg.rf.eb0523f8e2d9eb878f6710715604b8be.jpg: 640x640 1 Speed limit 30 Kph, 11.2ms\n",
      "Speed: 1.3ms preprocess, 11.2ms inference, 1.2ms postprocess per image at shape (1, 3, 640, 640)\n",
      "\n",
      "image 1/1 /content/drive/MyDrive/Q3_2/valid/images/00001_00018_00026_png_jpg.rf.b6e9af6b92b0dce1adb64ff72bf140cb.jpg: 640x640 1 Speed limit 30 Kph, 11.6ms\n",
      "Speed: 1.4ms preprocess, 11.6ms inference, 1.3ms postprocess per image at shape (1, 3, 640, 640)\n",
      "\n",
      "image 1/1 /content/drive/MyDrive/Q3_2/valid/images/00001_00018_00027_png_jpg.rf.3e0f03e98b37636baa89185c53b96907.jpg: 640x640 1 Speed limit 30 Kph, 11.6ms\n",
      "Speed: 1.4ms preprocess, 11.6ms inference, 1.3ms postprocess per image at shape (1, 3, 640, 640)\n",
      "\n",
      "image 1/1 /content/drive/MyDrive/Q3_2/valid/images/00001_00018_00028_png_jpg.rf.daacd374bfb728ee173799bba0aefddb.jpg: 640x640 1 Speed limit 30 Kph, 11.7ms\n",
      "Speed: 1.4ms preprocess, 11.7ms inference, 1.3ms postprocess per image at shape (1, 3, 640, 640)\n",
      "\n",
      "image 1/1 /content/drive/MyDrive/Q3_2/valid/images/00001_00020_00012_png.rf.0c2732ec2a3ed93214b1e41395ad7a2b.jpg: 640x640 1 Speed limit 30 Kph, 11.8ms\n",
      "Speed: 2.3ms preprocess, 11.8ms inference, 1.3ms postprocess per image at shape (1, 3, 640, 640)\n",
      "\n",
      "image 1/1 /content/drive/MyDrive/Q3_2/valid/images/00001_00022_00026_png_jpg.rf.b5bf43b040b4121560243874fcb92184.jpg: 640x640 1 Speed limit 30 Kph, 16.2ms\n",
      "Speed: 1.8ms preprocess, 16.2ms inference, 1.7ms postprocess per image at shape (1, 3, 640, 640)\n",
      "\n",
      "image 1/1 /content/drive/MyDrive/Q3_2/valid/images/00001_00022_00028_png_jpg.rf.9608aab553bda8e62e963110b0e3a65e.jpg: 640x640 1 Speed limit 30 Kph, 16.2ms\n",
      "Speed: 2.0ms preprocess, 16.2ms inference, 1.7ms postprocess per image at shape (1, 3, 640, 640)\n",
      "\n",
      "image 1/1 /content/drive/MyDrive/Q3_2/valid/images/00001_00022_00029_png_jpg.rf.b4be2eacb45ae913a85bdfba2db5957c.jpg: 640x640 1 Speed limit 30 Kph, 12.3ms\n",
      "Speed: 1.4ms preprocess, 12.3ms inference, 1.3ms postprocess per image at shape (1, 3, 640, 640)\n",
      "\n",
      "image 1/1 /content/drive/MyDrive/Q3_2/valid/images/00001_00023_00025_png.rf.2626b0368405fa35ce5519d212ab019c.jpg: 640x640 1 Speed limit 50 Kph, 11.7ms\n",
      "Speed: 2.3ms preprocess, 11.7ms inference, 1.3ms postprocess per image at shape (1, 3, 640, 640)\n",
      "\n",
      "image 1/1 /content/drive/MyDrive/Q3_2/valid/images/00001_00025_00010_png.rf.4647a0ab875d1ff161faaeb4eef72b27.jpg: 640x640 (no detections), 11.8ms\n",
      "Speed: 2.4ms preprocess, 11.8ms inference, 0.6ms postprocess per image at shape (1, 3, 640, 640)\n",
      "\n",
      "image 1/1 /content/drive/MyDrive/Q3_2/valid/images/00001_00027_00024_png_jpg.rf.495a004c589bea8f13a11adffdcd5ef7.jpg: 640x640 1 Speed limit 30 Kph, 11.7ms\n",
      "Speed: 1.4ms preprocess, 11.7ms inference, 1.3ms postprocess per image at shape (1, 3, 640, 640)\n",
      "\n",
      "image 1/1 /content/drive/MyDrive/Q3_2/valid/images/00001_00027_00025_png_jpg.rf.bf1f7971ab71f66945c7f0f1d86956dc.jpg: 640x640 1 Speed limit 30 Kph, 12.1ms\n",
      "Speed: 1.5ms preprocess, 12.1ms inference, 1.3ms postprocess per image at shape (1, 3, 640, 640)\n",
      "\n",
      "image 1/1 /content/drive/MyDrive/Q3_2/valid/images/00001_00027_00026_png_jpg.rf.c0a87bde7608bc08c2a57e9f0f7c408b.jpg: 640x640 1 Speed limit 30 Kph, 11.3ms\n",
      "Speed: 1.4ms preprocess, 11.3ms inference, 1.3ms postprocess per image at shape (1, 3, 640, 640)\n",
      "\n",
      "image 1/1 /content/drive/MyDrive/Q3_2/valid/images/00001_00027_00028_png_jpg.rf.b995df26430759968e0e606ad57aba38.jpg: 640x640 1 Speed limit 30 Kph, 12.1ms\n",
      "Speed: 1.4ms preprocess, 12.1ms inference, 1.4ms postprocess per image at shape (1, 3, 640, 640)\n",
      "\n",
      "image 1/1 /content/drive/MyDrive/Q3_2/valid/images/00001_00028_00021_png_jpg.rf.fcf026573cbd6fc175c109d4fc8e6d83.jpg: 640x640 1 Speed limit 30 Kph, 11.3ms\n",
      "Speed: 1.4ms preprocess, 11.3ms inference, 1.3ms postprocess per image at shape (1, 3, 640, 640)\n",
      "\n",
      "image 1/1 /content/drive/MyDrive/Q3_2/valid/images/00001_00034_00017_png.rf.6ba1b8dfc5d3a83dfc305f8421532d46.jpg: 640x640 1 Speed limit 30 Kph, 11.8ms\n",
      "Speed: 2.4ms preprocess, 11.8ms inference, 1.4ms postprocess per image at shape (1, 3, 640, 640)\n",
      "\n",
      "image 1/1 /content/drive/MyDrive/Q3_2/valid/images/00001_00037_00009_png.rf.98442136f1fcf52990902250291c48e9.jpg: 640x640 (no detections), 15.1ms\n",
      "Speed: 3.7ms preprocess, 15.1ms inference, 0.6ms postprocess per image at shape (1, 3, 640, 640)\n",
      "\n",
      "image 1/1 /content/drive/MyDrive/Q3_2/valid/images/00001_00040_00008_png.rf.5f47667bf822034a38b87b869d4996a0.jpg: 640x640 1 Speed limit 30 Kph, 11.7ms\n",
      "Speed: 2.4ms preprocess, 11.7ms inference, 1.4ms postprocess per image at shape (1, 3, 640, 640)\n",
      "\n",
      "image 1/1 /content/drive/MyDrive/Q3_2/valid/images/00001_00041_00006_png.rf.492993b80ba8dce4cc3c8ba55b79cb31.jpg: 640x640 1 Speed limit 30 Kph, 15.3ms\n",
      "Speed: 2.8ms preprocess, 15.3ms inference, 1.5ms postprocess per image at shape (1, 3, 640, 640)\n",
      "\n",
      "image 1/1 /content/drive/MyDrive/Q3_2/valid/images/00001_00056_00005_png.rf.e3e2afe6d8714eeb65b9fe81bffb8533.jpg: 640x640 1 Speed limit 30 Kph, 1 Speed limit 50 Kph, 14.8ms\n",
      "Speed: 2.6ms preprocess, 14.8ms inference, 1.5ms postprocess per image at shape (1, 3, 640, 640)\n",
      "\n",
      "image 1/1 /content/drive/MyDrive/Q3_2/valid/images/00001_00059_00001_png.rf.f0c4ab06e4825e6f85bd1aa7045bf7c2.jpg: 640x640 1 Speed limit 20 Kph, 12.7ms\n",
      "Speed: 2.4ms preprocess, 12.7ms inference, 1.4ms postprocess per image at shape (1, 3, 640, 640)\n",
      "\n",
      "image 1/1 /content/drive/MyDrive/Q3_2/valid/images/00001_00066_00018_png.rf.ea5065ed23c168fe2b63e7a8f5d839c1.jpg: 640x640 1 Speed limit 30 Kph, 12.4ms\n",
      "Speed: 2.5ms preprocess, 12.4ms inference, 1.4ms postprocess per image at shape (1, 3, 640, 640)\n",
      "\n",
      "image 1/1 /content/drive/MyDrive/Q3_2/valid/images/00001_00067_00009_png.rf.ae479bfc362a2451572b0f16535561b0.jpg: 640x640 1 Speed limit 30 Kph, 15.3ms\n",
      "Speed: 2.8ms preprocess, 15.3ms inference, 1.6ms postprocess per image at shape (1, 3, 640, 640)\n",
      "\n",
      "image 1/1 /content/drive/MyDrive/Q3_2/valid/images/00001_00067_00010_png.rf.90dbae774974b5231715ab3e1c331c14.jpg: 640x640 1 Speed limit 30 Kph, 13.7ms\n",
      "Speed: 2.7ms preprocess, 13.7ms inference, 1.7ms postprocess per image at shape (1, 3, 640, 640)\n",
      "\n",
      "image 1/1 /content/drive/MyDrive/Q3_2/valid/images/00001_00068_00006_png.rf.cdc0829f9edf6c7730f639bede108a4e.jpg: 640x640 1 Speed limit 30 Kph, 12.1ms\n",
      "Speed: 2.4ms preprocess, 12.1ms inference, 1.3ms postprocess per image at shape (1, 3, 640, 640)\n",
      "\n",
      "image 1/1 /content/drive/MyDrive/Q3_2/valid/images/00001_00070_00012_png.rf.eba0ec2077e1a2951e7ba846ebc3f97d.jpg: 640x640 1 Speed limit 30 Kph, 13.2ms\n",
      "Speed: 2.5ms preprocess, 13.2ms inference, 1.4ms postprocess per image at shape (1, 3, 640, 640)\n",
      "\n",
      "image 1/1 /content/drive/MyDrive/Q3_2/valid/images/00002_00035_00021_png_jpg.rf.61ca80dafd6e488de9ff264a252e03b8.jpg: 640x640 1 Speed limit 50 Kph, 11.9ms\n",
      "Speed: 1.4ms preprocess, 11.9ms inference, 1.3ms postprocess per image at shape (1, 3, 640, 640)\n",
      "\n",
      "image 1/1 /content/drive/MyDrive/Q3_2/valid/images/00002_00035_00022_png_jpg.rf.0d3503669fbfa6eac5e95b5ad32e9d37.jpg: 640x640 1 Speed limit 50 Kph, 12.3ms\n",
      "Speed: 1.5ms preprocess, 12.3ms inference, 1.3ms postprocess per image at shape (1, 3, 640, 640)\n",
      "\n",
      "image 1/1 /content/drive/MyDrive/Q3_2/valid/images/00002_00035_00024_png_jpg.rf.3ded3ebaa4874e52de64a5a94eb2c8fa.jpg: 640x640 1 Speed limit 50 Kph, 11.8ms\n",
      "Speed: 1.5ms preprocess, 11.8ms inference, 1.3ms postprocess per image at shape (1, 3, 640, 640)\n",
      "\n",
      "image 1/1 /content/drive/MyDrive/Q3_2/valid/images/00002_00046_00018_png_jpg.rf.c1ceebcd506c09a7e07ad6f183040c18.jpg: 640x640 1 Speed limit 50 Kph, 12.2ms\n",
      "Speed: 1.4ms preprocess, 12.2ms inference, 1.4ms postprocess per image at shape (1, 3, 640, 640)\n",
      "\n",
      "image 1/1 /content/drive/MyDrive/Q3_2/valid/images/00002_00046_00028_png_jpg.rf.11783ed43ef842dafaf3d32ce3b6bbbe.jpg: 640x640 1 Speed limit 50 Kph, 11.9ms\n",
      "Speed: 1.4ms preprocess, 11.9ms inference, 1.3ms postprocess per image at shape (1, 3, 640, 640)\n",
      "\n",
      "image 1/1 /content/drive/MyDrive/Q3_2/valid/images/00002_00068_00019_png_jpg.rf.d5a5cc8a9f164a57b0957dddf3232fb1.jpg: 640x640 1 Speed limit 50 Kph, 11.7ms\n",
      "Speed: 1.4ms preprocess, 11.7ms inference, 1.3ms postprocess per image at shape (1, 3, 640, 640)\n",
      "\n",
      "image 1/1 /content/drive/MyDrive/Q3_2/valid/images/00002_00068_00020_png_jpg.rf.38d83b6d228d8b85194a40deace5a46c.jpg: 640x640 1 Speed limit 50 Kph, 11.9ms\n",
      "Speed: 1.4ms preprocess, 11.9ms inference, 1.3ms postprocess per image at shape (1, 3, 640, 640)\n",
      "\n",
      "image 1/1 /content/drive/MyDrive/Q3_2/valid/images/00002_00068_00024_png_jpg.rf.abcdc436f1ed23cd5b070326e17b5143.jpg: 640x640 1 Speed limit 50 Kph, 11.8ms\n",
      "Speed: 1.4ms preprocess, 11.8ms inference, 1.3ms postprocess per image at shape (1, 3, 640, 640)\n",
      "\n",
      "image 1/1 /content/drive/MyDrive/Q3_2/valid/images/00002_00071_00027_png_jpg.rf.2a274e6b84846bbca6d7c4d111757ba2.jpg: 640x640 1 Speed limit 50 Kph, 12.0ms\n",
      "Speed: 1.5ms preprocess, 12.0ms inference, 1.3ms postprocess per image at shape (1, 3, 640, 640)\n",
      "\n",
      "image 1/1 /content/drive/MyDrive/Q3_2/valid/images/00002_00072_00028_png_jpg.rf.327431e50bbc7d05ef75bdc83ec23183.jpg: 640x640 1 Speed limit 50 Kph, 11.4ms\n",
      "Speed: 1.3ms preprocess, 11.4ms inference, 1.2ms postprocess per image at shape (1, 3, 640, 640)\n",
      "\n",
      "image 1/1 /content/drive/MyDrive/Q3_2/valid/images/00014_00004_00016_png_jpg.rf.5a74ba6716d1dbff09c3130aaff99fd8.jpg: 640x640 1 Stop_Sign, 11.4ms\n",
      "Speed: 1.3ms preprocess, 11.4ms inference, 1.2ms postprocess per image at shape (1, 3, 640, 640)\n",
      "\n",
      "image 1/1 /content/drive/MyDrive/Q3_2/valid/images/00014_00004_00022_png_jpg.rf.860011155d263f2cd7e72fecdfe75431.jpg: 640x640 1 Stop_Sign, 11.6ms\n",
      "Speed: 1.4ms preprocess, 11.6ms inference, 1.3ms postprocess per image at shape (1, 3, 640, 640)\n",
      "\n",
      "image 1/1 /content/drive/MyDrive/Q3_2/valid/images/00014_00007_00018_png_jpg.rf.d62fcad09c04da6d1f4e8f18969cc6d9.jpg: 640x640 1 Stop_Sign, 11.3ms\n",
      "Speed: 1.4ms preprocess, 11.3ms inference, 1.2ms postprocess per image at shape (1, 3, 640, 640)\n",
      "\n",
      "image 1/1 /content/drive/MyDrive/Q3_2/valid/images/00018_00003_00018_png_jpg.rf.f63372fe5c0a1240ac9e9c3db883e531.jpg: 640x640 1 Attention Please-, 11.5ms\n",
      "Speed: 1.3ms preprocess, 11.5ms inference, 1.3ms postprocess per image at shape (1, 3, 640, 640)\n",
      "\n",
      "image 1/1 /content/drive/MyDrive/Q3_2/valid/images/00018_00003_00019_png_jpg.rf.dc59446b7e194f6f99d1a301fbc5f863.jpg: 640x640 1 Attention Please-, 11.4ms\n",
      "Speed: 1.3ms preprocess, 11.4ms inference, 1.2ms postprocess per image at shape (1, 3, 640, 640)\n",
      "\n",
      "image 1/1 /content/drive/MyDrive/Q3_2/valid/images/00018_00003_00023_png_jpg.rf.269386ed04b3d01cd037586bc2d18a53.jpg: 640x640 1 Attention Please-, 11.7ms\n",
      "Speed: 1.4ms preprocess, 11.7ms inference, 1.3ms postprocess per image at shape (1, 3, 640, 640)\n",
      "\n",
      "image 1/1 /content/drive/MyDrive/Q3_2/valid/images/00018_00003_00027_png_jpg.rf.01be6e517e158e1d4586bc16bb125305.jpg: 640x640 1 Attention Please-, 12.2ms\n",
      "Speed: 1.4ms preprocess, 12.2ms inference, 1.3ms postprocess per image at shape (1, 3, 640, 640)\n",
      "\n",
      "image 1/1 /content/drive/MyDrive/Q3_2/valid/images/00018_00003_00028_png_jpg.rf.a2fb27abbd55281eaca48445367ca989.jpg: 640x640 1 Attention Please-, 11.6ms\n",
      "Speed: 1.4ms preprocess, 11.6ms inference, 1.3ms postprocess per image at shape (1, 3, 640, 640)\n",
      "\n",
      "image 1/1 /content/drive/MyDrive/Q3_2/valid/images/00018_00004_00004_png_jpg.rf.1218283cdcbdb6121a1aa3c6b8c172d6.jpg: 640x640 1 Attention Please-, 11.9ms\n",
      "Speed: 1.5ms preprocess, 11.9ms inference, 1.3ms postprocess per image at shape (1, 3, 640, 640)\n",
      "\n",
      "image 1/1 /content/drive/MyDrive/Q3_2/valid/images/00018_00004_00009_png_jpg.rf.6e75b71dc9660e9b91c4e356a7eea19c.jpg: 640x640 1 Attention Please-, 11.8ms\n",
      "Speed: 1.5ms preprocess, 11.8ms inference, 1.3ms postprocess per image at shape (1, 3, 640, 640)\n",
      "\n",
      "image 1/1 /content/drive/MyDrive/Q3_2/valid/images/00018_00004_00011_png_jpg.rf.03a6390862f7d75d05e9b7e8bc28b80a.jpg: 640x640 1 Attention Please-, 11.7ms\n",
      "Speed: 1.4ms preprocess, 11.7ms inference, 1.3ms postprocess per image at shape (1, 3, 640, 640)\n",
      "\n",
      "image 1/1 /content/drive/MyDrive/Q3_2/valid/images/00018_00004_00012_png_jpg.rf.5c9bd8b0fc2503f64631cfe25200c37d.jpg: 640x640 1 Attention Please-, 11.6ms\n",
      "Speed: 1.4ms preprocess, 11.6ms inference, 1.3ms postprocess per image at shape (1, 3, 640, 640)\n",
      "\n",
      "image 1/1 /content/drive/MyDrive/Q3_2/valid/images/00018_00004_00013_png_jpg.rf.8e2afa288dbc2b7d995798f5312c11f3.jpg: 640x640 1 Attention Please-, 11.9ms\n",
      "Speed: 1.5ms preprocess, 11.9ms inference, 1.3ms postprocess per image at shape (1, 3, 640, 640)\n",
      "\n",
      "image 1/1 /content/drive/MyDrive/Q3_2/valid/images/00018_00004_00023_png_jpg.rf.e82c745ebc4fe7fc0617b5e0edb418bc.jpg: 640x640 1 Attention Please-, 11.6ms\n",
      "Speed: 1.5ms preprocess, 11.6ms inference, 1.3ms postprocess per image at shape (1, 3, 640, 640)\n",
      "\n",
      "image 1/1 /content/drive/MyDrive/Q3_2/valid/images/00018_00004_00029_png_jpg.rf.282521b8e5218c6d3fd73b63131a3e80.jpg: 640x640 1 Attention Please-, 12.1ms\n",
      "Speed: 1.4ms preprocess, 12.1ms inference, 1.4ms postprocess per image at shape (1, 3, 640, 640)\n",
      "\n",
      "image 1/1 /content/drive/MyDrive/Q3_2/valid/images/00018_00005_00011_png_jpg.rf.8b8f7f8610685b3f2310cf004f1ab708.jpg: 640x640 1 Attention Please-, 11.6ms\n",
      "Speed: 1.4ms preprocess, 11.6ms inference, 1.3ms postprocess per image at shape (1, 3, 640, 640)\n",
      "\n",
      "image 1/1 /content/drive/MyDrive/Q3_2/valid/images/00018_00005_00019_png_jpg.rf.270e03ab993feca725e33674d4ab3f33.jpg: 640x640 1 Attention Please-, 13.1ms\n",
      "Speed: 1.5ms preprocess, 13.1ms inference, 1.4ms postprocess per image at shape (1, 3, 640, 640)\n",
      "\n",
      "image 1/1 /content/drive/MyDrive/Q3_2/valid/images/00018_00005_00024_png_jpg.rf.18522ea6ffb8ac63250874cfab0f460c.jpg: 640x640 1 Attention Please-, 11.8ms\n",
      "Speed: 1.4ms preprocess, 11.8ms inference, 1.3ms postprocess per image at shape (1, 3, 640, 640)\n",
      "\n",
      "image 1/1 /content/drive/MyDrive/Q3_2/valid/images/00018_00006_00024_png_jpg.rf.836653c9ec63d92457665c5137864f78.jpg: 640x640 1 Attention Please-, 11.8ms\n",
      "Speed: 1.4ms preprocess, 11.8ms inference, 1.3ms postprocess per image at shape (1, 3, 640, 640)\n",
      "\n",
      "image 1/1 /content/drive/MyDrive/Q3_2/valid/images/00018_00007_00015_png_jpg.rf.93b29bb130a7e82d77c4fdf923ce2720.jpg: 640x640 1 Attention Please-, 11.8ms\n",
      "Speed: 1.4ms preprocess, 11.8ms inference, 1.3ms postprocess per image at shape (1, 3, 640, 640)\n",
      "\n",
      "image 1/1 /content/drive/MyDrive/Q3_2/valid/images/00018_00007_00020_png_jpg.rf.065e2400fe4374ffb1c1ad46f3bb6459.jpg: 640x640 1 Attention Please-, 11.6ms\n",
      "Speed: 1.4ms preprocess, 11.6ms inference, 1.3ms postprocess per image at shape (1, 3, 640, 640)\n",
      "\n",
      "image 1/1 /content/drive/MyDrive/Q3_2/valid/images/00018_00007_00021_png_jpg.rf.2edc1d1abfbd0d908901eb8d3d8c6226.jpg: 640x640 1 Attention Please-, 13.1ms\n",
      "Speed: 1.4ms preprocess, 13.1ms inference, 1.3ms postprocess per image at shape (1, 3, 640, 640)\n",
      "\n",
      "image 1/1 /content/drive/MyDrive/Q3_2/valid/images/00018_00007_00023_png_jpg.rf.df12c0db206c4b0ca6de2602aa6384ca.jpg: 640x640 1 Attention Please-, 14.3ms\n",
      "Speed: 1.7ms preprocess, 14.3ms inference, 1.5ms postprocess per image at shape (1, 3, 640, 640)\n",
      "\n",
      "image 1/1 /content/drive/MyDrive/Q3_2/valid/images/00019_00001_00023_png_jpg.rf.e704674387c69074d017729712ad3b7f.jpg: 640x640 1 Dangerous Left Curve Ahead, 13.2ms\n",
      "Speed: 1.5ms preprocess, 13.2ms inference, 1.5ms postprocess per image at shape (1, 3, 640, 640)\n",
      "\n",
      "image 1/1 /content/drive/MyDrive/Q3_2/valid/images/00019_00001_00025_png_jpg.rf.f76ba485239b68d52dffa8e5cc70e2cc.jpg: 640x640 1 Dangerous Left Curve Ahead, 13.1ms\n",
      "Speed: 1.5ms preprocess, 13.1ms inference, 1.4ms postprocess per image at shape (1, 3, 640, 640)\n",
      "\n",
      "image 1/1 /content/drive/MyDrive/Q3_2/valid/images/00019_00005_00018_png_jpg.rf.f0f3ab06cf518f00db2a3541cc7e4125.jpg: 640x640 1 Dangerous Left Curve Ahead, 11.8ms\n",
      "Speed: 1.4ms preprocess, 11.8ms inference, 1.3ms postprocess per image at shape (1, 3, 640, 640)\n",
      "\n",
      "image 1/1 /content/drive/MyDrive/Q3_2/valid/images/00019_00005_00021_png_jpg.rf.b335ccd4a345217e02d3229a51c5bf19.jpg: 640x640 1 Dangerous Left Curve Ahead, 11.4ms\n",
      "Speed: 1.4ms preprocess, 11.4ms inference, 1.4ms postprocess per image at shape (1, 3, 640, 640)\n",
      "\n",
      "image 1/1 /content/drive/MyDrive/Q3_2/valid/images/00019_00005_00024_png_jpg.rf.992fb60c080c14de80841e8f2e1055fb.jpg: 640x640 1 Dangerous Left Curve Ahead, 11.5ms\n",
      "Speed: 1.4ms preprocess, 11.5ms inference, 1.3ms postprocess per image at shape (1, 3, 640, 640)\n",
      "\n",
      "image 1/1 /content/drive/MyDrive/Q3_2/valid/images/00019_00006_00024_png_jpg.rf.d84e19e40ad1e155c4ceea589ee2f218.jpg: 640x640 1 Dangerous Left Curve Ahead, 11.3ms\n",
      "Speed: 1.4ms preprocess, 11.3ms inference, 1.3ms postprocess per image at shape (1, 3, 640, 640)\n",
      "\n",
      "image 1/1 /content/drive/MyDrive/Q3_2/valid/images/00020_00005_00027_png_jpg.rf.cd94276ce12e94e85f832478222524f1.jpg: 640x640 1 Dangerous Rright Curve Ahead, 11.2ms\n",
      "Speed: 1.5ms preprocess, 11.2ms inference, 1.3ms postprocess per image at shape (1, 3, 640, 640)\n",
      "\n",
      "image 1/1 /content/drive/MyDrive/Q3_2/valid/images/00020_00005_00029_png_jpg.rf.5bcf0c5d61db0cc40901a2197ad812bc.jpg: 640x640 1 Dangerous Rright Curve Ahead, 11.7ms\n",
      "Speed: 1.4ms preprocess, 11.7ms inference, 1.3ms postprocess per image at shape (1, 3, 640, 640)\n",
      "\n",
      "image 1/1 /content/drive/MyDrive/Q3_2/valid/images/00020_00006_00016_png_jpg.rf.881aabcf54a98aff1d1544f90b364fb0.jpg: 640x640 1 Dangerous Rright Curve Ahead, 11.5ms\n",
      "Speed: 1.4ms preprocess, 11.5ms inference, 1.3ms postprocess per image at shape (1, 3, 640, 640)\n",
      "\n",
      "image 1/1 /content/drive/MyDrive/Q3_2/valid/images/00020_00006_00017_png_jpg.rf.05d0ae0053050c284361c9db1e4827ad.jpg: 640x640 1 Dangerous Rright Curve Ahead, 11.9ms\n",
      "Speed: 1.4ms preprocess, 11.9ms inference, 1.3ms postprocess per image at shape (1, 3, 640, 640)\n",
      "\n",
      "image 1/1 /content/drive/MyDrive/Q3_2/valid/images/00020_00006_00020_png_jpg.rf.6a7db71edd8d8d372b759f93df56464f.jpg: 640x640 1 Dangerous Rright Curve Ahead, 11.5ms\n",
      "Speed: 1.8ms preprocess, 11.5ms inference, 1.3ms postprocess per image at shape (1, 3, 640, 640)\n",
      "\n",
      "image 1/1 /content/drive/MyDrive/Q3_2/valid/images/00020_00006_00022_png_jpg.rf.3c493a53c272c9954a1d4f6e2d0c1851.jpg: 640x640 1 Dangerous Rright Curve Ahead, 11.5ms\n",
      "Speed: 1.4ms preprocess, 11.5ms inference, 1.3ms postprocess per image at shape (1, 3, 640, 640)\n",
      "\n",
      "image 1/1 /content/drive/MyDrive/Q3_2/valid/images/00020_00006_00023_png_jpg.rf.ac9d9f3818c7a32dc71fbe94656b81f9.jpg: 640x640 1 Dangerous Rright Curve Ahead, 11.6ms\n",
      "Speed: 1.4ms preprocess, 11.6ms inference, 1.3ms postprocess per image at shape (1, 3, 640, 640)\n",
      "\n",
      "image 1/1 /content/drive/MyDrive/Q3_2/valid/images/00020_00006_00024_png_jpg.rf.268c2a2958af96f1f15cb517ce980f89.jpg: 640x640 1 Dangerous Rright Curve Ahead, 11.6ms\n",
      "Speed: 1.4ms preprocess, 11.6ms inference, 1.3ms postprocess per image at shape (1, 3, 640, 640)\n",
      "\n",
      "image 1/1 /content/drive/MyDrive/Q3_2/valid/images/00020_00006_00027_png_jpg.rf.9da88dc446d8692907690c7796be1f5c.jpg: 640x640 1 Dangerous Rright Curve Ahead, 13.4ms\n",
      "Speed: 2.2ms preprocess, 13.4ms inference, 1.7ms postprocess per image at shape (1, 3, 640, 640)\n",
      "\n",
      "image 1/1 /content/drive/MyDrive/Q3_2/valid/images/00020_00006_00029_png_jpg.rf.03c80b5827ff9e264911cd2198c83307.jpg: 640x640 1 Dangerous Left Curve Ahead, 1 Dangerous Rright Curve Ahead, 11.4ms\n",
      "Speed: 1.5ms preprocess, 11.4ms inference, 1.3ms postprocess per image at shape (1, 3, 640, 640)\n",
      "\n",
      "image 1/1 /content/drive/MyDrive/Q3_2/valid/images/00020_00007_00015_png_jpg.rf.92cfb21c521c4cb573b55317237edce9.jpg: 640x640 1 Dangerous Rright Curve Ahead, 11.3ms\n",
      "Speed: 1.4ms preprocess, 11.3ms inference, 1.3ms postprocess per image at shape (1, 3, 640, 640)\n",
      "\n",
      "image 1/1 /content/drive/MyDrive/Q3_2/valid/images/00020_00007_00017_png_jpg.rf.b353be04cdf20f2ce5b1a4cf5ea97d0b.jpg: 640x640 1 Dangerous Rright Curve Ahead, 11.6ms\n",
      "Speed: 1.4ms preprocess, 11.6ms inference, 1.3ms postprocess per image at shape (1, 3, 640, 640)\n",
      "\n",
      "image 1/1 /content/drive/MyDrive/Q3_2/valid/images/00020_00007_00023_png_jpg.rf.f3e20e0ca46013e8ab66d0818e8165df.jpg: 640x640 1 Dangerous Rright Curve Ahead, 11.3ms\n",
      "Speed: 1.4ms preprocess, 11.3ms inference, 1.3ms postprocess per image at shape (1, 3, 640, 640)\n",
      "\n",
      "image 1/1 /content/drive/MyDrive/Q3_2/valid/images/00020_00007_00024_png_jpg.rf.75c12a695ed351c0bb4276850094a64b.jpg: 640x640 1 Dangerous Rright Curve Ahead, 11.0ms\n",
      "Speed: 1.4ms preprocess, 11.0ms inference, 1.3ms postprocess per image at shape (1, 3, 640, 640)\n",
      "\n",
      "image 1/1 /content/drive/MyDrive/Q3_2/valid/images/00020_00007_00026_png_jpg.rf.854de66cd6ee43cafeb963d6fc5dec03.jpg: 640x640 1 Dangerous Rright Curve Ahead, 11.0ms\n",
      "Speed: 1.4ms preprocess, 11.0ms inference, 1.3ms postprocess per image at shape (1, 3, 640, 640)\n",
      "\n",
      "image 1/1 /content/drive/MyDrive/Q3_2/valid/images/00020_00007_00028_png_jpg.rf.ab17878b81370177c0f8ab9d75e50fdf.jpg: 640x640 1 Dangerous Rright Curve Ahead, 11.4ms\n",
      "Speed: 1.5ms preprocess, 11.4ms inference, 1.3ms postprocess per image at shape (1, 3, 640, 640)\n",
      "\n",
      "image 1/1 /content/drive/MyDrive/Q3_2/valid/images/00022_00005_00019_png_jpg.rf.1763121913d0f17a3cef28b82987c130.jpg: 640x640 1 Uneven Road, 11.7ms\n",
      "Speed: 1.4ms preprocess, 11.7ms inference, 1.3ms postprocess per image at shape (1, 3, 640, 640)\n",
      "\n",
      "image 1/1 /content/drive/MyDrive/Q3_2/valid/images/00022_00005_00022_png_jpg.rf.792a795bb219a32544b62716f9adceb1.jpg: 640x640 1 Uneven Road, 11.7ms\n",
      "Speed: 1.4ms preprocess, 11.7ms inference, 1.3ms postprocess per image at shape (1, 3, 640, 640)\n",
      "\n",
      "image 1/1 /content/drive/MyDrive/Q3_2/valid/images/00022_00005_00024_png_jpg.rf.0927e628f78b2b0e1da78916eb222bc2.jpg: 640x640 1 Uneven Road, 11.8ms\n",
      "Speed: 1.4ms preprocess, 11.8ms inference, 1.3ms postprocess per image at shape (1, 3, 640, 640)\n",
      "\n",
      "image 1/1 /content/drive/MyDrive/Q3_2/valid/images/00022_00005_00025_png_jpg.rf.2650afe7d32193bb7209e73a0c144f94.jpg: 640x640 1 Uneven Road, 12.0ms\n",
      "Speed: 1.4ms preprocess, 12.0ms inference, 1.3ms postprocess per image at shape (1, 3, 640, 640)\n",
      "\n",
      "image 1/1 /content/drive/MyDrive/Q3_2/valid/images/00022_00005_00028_png_jpg.rf.5acdf3222d8ca5b2be422eb500f913bf.jpg: 640x640 1 Uneven Road, 12.2ms\n",
      "Speed: 1.4ms preprocess, 12.2ms inference, 1.3ms postprocess per image at shape (1, 3, 640, 640)\n",
      "\n",
      "image 1/1 /content/drive/MyDrive/Q3_2/valid/images/00022_00006_00019_png_jpg.rf.de7d36e172df225156f49ca95c07e6ae.jpg: 640x640 1 Uneven Road, 11.8ms\n",
      "Speed: 1.4ms preprocess, 11.8ms inference, 1.3ms postprocess per image at shape (1, 3, 640, 640)\n",
      "\n",
      "image 1/1 /content/drive/MyDrive/Q3_2/valid/images/00022_00006_00021_png_jpg.rf.f2257a5269b144f058934cbc9f74c7f1.jpg: 640x640 1 Uneven Road, 11.8ms\n",
      "Speed: 1.4ms preprocess, 11.8ms inference, 1.3ms postprocess per image at shape (1, 3, 640, 640)\n",
      "\n",
      "image 1/1 /content/drive/MyDrive/Q3_2/valid/images/00022_00006_00022_png_jpg.rf.1885edc5faa851597722a021e57235ce.jpg: 640x640 1 Uneven Road, 11.5ms\n",
      "Speed: 1.6ms preprocess, 11.5ms inference, 1.3ms postprocess per image at shape (1, 3, 640, 640)\n",
      "\n",
      "image 1/1 /content/drive/MyDrive/Q3_2/valid/images/00022_00006_00023_png_jpg.rf.0a40b2497d387fd784e734904b033b98.jpg: 640x640 1 Uneven Road, 12.0ms\n",
      "Speed: 1.4ms preprocess, 12.0ms inference, 1.3ms postprocess per image at shape (1, 3, 640, 640)\n",
      "\n",
      "image 1/1 /content/drive/MyDrive/Q3_2/valid/images/00022_00006_00025_png_jpg.rf.d429638afb5145fbb15530f2286a7baa.jpg: 640x640 1 Uneven Road, 12.7ms\n",
      "Speed: 1.5ms preprocess, 12.7ms inference, 1.4ms postprocess per image at shape (1, 3, 640, 640)\n",
      "\n",
      "image 1/1 /content/drive/MyDrive/Q3_2/valid/images/00022_00006_00028_png_jpg.rf.9e6c70d04374a2c838f8671bf22fc217.jpg: 640x640 1 Uneven Road, 12.1ms\n",
      "Speed: 1.4ms preprocess, 12.1ms inference, 1.3ms postprocess per image at shape (1, 3, 640, 640)\n",
      "\n",
      "image 1/1 /content/drive/MyDrive/Q3_2/valid/images/00022_00006_00029_png_jpg.rf.2a10408154deaaa70646fa0ef7395f19.jpg: 640x640 1 Uneven Road, 11.8ms\n",
      "Speed: 1.4ms preprocess, 11.8ms inference, 1.3ms postprocess per image at shape (1, 3, 640, 640)\n",
      "\n",
      "image 1/1 /content/drive/MyDrive/Q3_2/valid/images/00022_00007_00012_png_jpg.rf.f08b9ddc9732dc75c844f2888f4271d7.jpg: 640x640 1 Uneven Road, 11.7ms\n",
      "Speed: 1.4ms preprocess, 11.7ms inference, 1.3ms postprocess per image at shape (1, 3, 640, 640)\n",
      "\n",
      "image 1/1 /content/drive/MyDrive/Q3_2/valid/images/00022_00007_00016_png_jpg.rf.10037ca7e53bad14e5efa8dc36385c91.jpg: 640x640 1 Uneven Road, 11.5ms\n",
      "Speed: 1.4ms preprocess, 11.5ms inference, 1.3ms postprocess per image at shape (1, 3, 640, 640)\n",
      "\n",
      "image 1/1 /content/drive/MyDrive/Q3_2/valid/images/00022_00007_00019_png_jpg.rf.bb74936264ad99eaccb3598bf943d673.jpg: 640x640 1 Uneven Road, 11.5ms\n",
      "Speed: 1.5ms preprocess, 11.5ms inference, 1.3ms postprocess per image at shape (1, 3, 640, 640)\n",
      "\n",
      "image 1/1 /content/drive/MyDrive/Q3_2/valid/images/00022_00007_00021_png_jpg.rf.a9b2bbd474513446293550d1cf8e7f45.jpg: 640x640 1 Uneven Road, 11.5ms\n",
      "Speed: 1.3ms preprocess, 11.5ms inference, 1.3ms postprocess per image at shape (1, 3, 640, 640)\n",
      "\n",
      "image 1/1 /content/drive/MyDrive/Q3_2/valid/images/00022_00007_00022_png_jpg.rf.b67c6463f75d57d3742f222b06f35a25.jpg: 640x640 1 Uneven Road, 13.2ms\n",
      "Speed: 1.5ms preprocess, 13.2ms inference, 1.3ms postprocess per image at shape (1, 3, 640, 640)\n",
      "\n",
      "image 1/1 /content/drive/MyDrive/Q3_2/valid/images/00022_00007_00024_png_jpg.rf.a9c7dcb8000efc344a6e6b3b1594741d.jpg: 640x640 1 Uneven Road, 11.7ms\n",
      "Speed: 1.4ms preprocess, 11.7ms inference, 1.3ms postprocess per image at shape (1, 3, 640, 640)\n",
      "\n",
      "image 1/1 /content/drive/MyDrive/Q3_2/valid/images/00022_00007_00029_png_jpg.rf.f19f7837533972ef6daa5c99412f9883.jpg: 640x640 1 Uneven Road, 11.6ms\n",
      "Speed: 1.4ms preprocess, 11.6ms inference, 1.3ms postprocess per image at shape (1, 3, 640, 640)\n",
      "\n",
      "image 1/1 /content/drive/MyDrive/Q3_2/valid/images/00024_00003_00026_png_jpg.rf.5c21d520ad14f7ae455e82894c4ab027.jpg: 640x640 1 -Road narrows on right, 11.3ms\n",
      "Speed: 1.4ms preprocess, 11.3ms inference, 1.3ms postprocess per image at shape (1, 3, 640, 640)\n",
      "\n",
      "image 1/1 /content/drive/MyDrive/Q3_2/valid/images/00024_00004_00019_png_jpg.rf.38456c4bcf14eaf8f4576e89774b9bac.jpg: 640x640 1 -Road narrows on right, 11.6ms\n",
      "Speed: 1.4ms preprocess, 11.6ms inference, 1.4ms postprocess per image at shape (1, 3, 640, 640)\n",
      "\n",
      "image 1/1 /content/drive/MyDrive/Q3_2/valid/images/00024_00004_00020_png_jpg.rf.04e5819bdead427c7990582057b6ed30.jpg: 640x640 1 -Road narrows on right, 11.6ms\n",
      "Speed: 1.4ms preprocess, 11.6ms inference, 1.4ms postprocess per image at shape (1, 3, 640, 640)\n",
      "\n",
      "image 1/1 /content/drive/MyDrive/Q3_2/valid/images/00024_00004_00022_png_jpg.rf.7e269cd9a50c499a01441b08d0da7a03.jpg: 640x640 1 -Road narrows on right, 11.3ms\n",
      "Speed: 1.4ms preprocess, 11.3ms inference, 1.3ms postprocess per image at shape (1, 3, 640, 640)\n",
      "\n",
      "image 1/1 /content/drive/MyDrive/Q3_2/valid/images/00024_00004_00023_png_jpg.rf.6302ed57e3d092fb0d89ac8a459ff539.jpg: 640x640 1 -Road narrows on right, 12.1ms\n",
      "Speed: 1.4ms preprocess, 12.1ms inference, 1.3ms postprocess per image at shape (1, 3, 640, 640)\n",
      "\n",
      "image 1/1 /content/drive/MyDrive/Q3_2/valid/images/00024_00004_00026_png_jpg.rf.19c8f1bb4592feb6356c844b2ac38eb5.jpg: 640x640 1 -Road narrows on right, 11.6ms\n",
      "Speed: 1.4ms preprocess, 11.6ms inference, 1.3ms postprocess per image at shape (1, 3, 640, 640)\n",
      "\n",
      "image 1/1 /content/drive/MyDrive/Q3_2/valid/images/00024_00004_00029_png_jpg.rf.d3060558fff114e1d428aeaf4e2d400d.jpg: 640x640 1 -Road narrows on right, 12.8ms\n",
      "Speed: 1.4ms preprocess, 12.8ms inference, 1.3ms postprocess per image at shape (1, 3, 640, 640)\n",
      "\n",
      "image 1/1 /content/drive/MyDrive/Q3_2/valid/images/00024_00005_00025_png_jpg.rf.bd6ca7136b7b28fc0686d4c2457d891f.jpg: 640x640 1 -Road narrows on right, 11.1ms\n",
      "Speed: 1.4ms preprocess, 11.1ms inference, 1.2ms postprocess per image at shape (1, 3, 640, 640)\n",
      "\n",
      "image 1/1 /content/drive/MyDrive/Q3_2/valid/images/00024_00005_00027_png_jpg.rf.f2348eaebb60e3772d9e35fc73e02eb4.jpg: 640x640 1 -Road narrows on right, 12.0ms\n",
      "Speed: 1.4ms preprocess, 12.0ms inference, 1.3ms postprocess per image at shape (1, 3, 640, 640)\n",
      "\n",
      "image 1/1 /content/drive/MyDrive/Q3_2/valid/images/00024_00007_00014_png_jpg.rf.c6602c5034835d0d1d2e5a33c280045a.jpg: 640x640 1 -Road narrows on right, 11.7ms\n",
      "Speed: 1.5ms preprocess, 11.7ms inference, 1.3ms postprocess per image at shape (1, 3, 640, 640)\n",
      "\n",
      "image 1/1 /content/drive/MyDrive/Q3_2/valid/images/00024_00007_00019_png_jpg.rf.4793731c0070344961b1e8524c824843.jpg: 640x640 1 -Road narrows on right, 11.1ms\n",
      "Speed: 1.5ms preprocess, 11.1ms inference, 1.3ms postprocess per image at shape (1, 3, 640, 640)\n",
      "\n",
      "image 1/1 /content/drive/MyDrive/Q3_2/valid/images/00024_00007_00024_png_jpg.rf.6562f60b6651b3b22e48b65c9f476eeb.jpg: 640x640 1 -Road narrows on right, 11.6ms\n",
      "Speed: 1.4ms preprocess, 11.6ms inference, 1.3ms postprocess per image at shape (1, 3, 640, 640)\n",
      "\n",
      "image 1/1 /content/drive/MyDrive/Q3_2/valid/images/00027_00000_00016_png_jpg.rf.c29c68ca198db57c097ca252128bde7f.jpg: 640x640 1 Crosswalk, 11.6ms\n",
      "Speed: 1.4ms preprocess, 11.6ms inference, 1.3ms postprocess per image at shape (1, 3, 640, 640)\n",
      "\n",
      "image 1/1 /content/drive/MyDrive/Q3_2/valid/images/00027_00000_00029_png_jpg.rf.251c3b2c470f264d85c59b37069ce01a.jpg: 640x640 1 Crosswalk, 11.7ms\n",
      "Speed: 1.4ms preprocess, 11.7ms inference, 1.3ms postprocess per image at shape (1, 3, 640, 640)\n",
      "\n",
      "image 1/1 /content/drive/MyDrive/Q3_2/valid/images/00028_00004_00020_png_jpg.rf.a80f313334c5c55e8254d4c9477d9b59.jpg: 640x640 1 Beware of children, 11.9ms\n",
      "Speed: 1.4ms preprocess, 11.9ms inference, 1.3ms postprocess per image at shape (1, 3, 640, 640)\n",
      "\n",
      "image 1/1 /content/drive/MyDrive/Q3_2/valid/images/00028_00006_00022_png_jpg.rf.06b7349799138a21d19366de497a30d4.jpg: 640x640 1 Beware of children, 11.4ms\n",
      "Speed: 1.4ms preprocess, 11.4ms inference, 1.3ms postprocess per image at shape (1, 3, 640, 640)\n",
      "\n",
      "image 1/1 /content/drive/MyDrive/Q3_2/valid/images/00028_00006_00025_png_jpg.rf.6c376abd106a06c4aa7bd96a8b96d271.jpg: 640x640 1 Beware of children, 11.4ms\n",
      "Speed: 1.5ms preprocess, 11.4ms inference, 1.5ms postprocess per image at shape (1, 3, 640, 640)\n",
      "\n",
      "image 1/1 /content/drive/MyDrive/Q3_2/valid/images/00028_00006_00027_png_jpg.rf.0386fa3567139d2ee4115483c75a4225.jpg: 640x640 1 Beware of children, 12.1ms\n",
      "Speed: 1.4ms preprocess, 12.1ms inference, 1.3ms postprocess per image at shape (1, 3, 640, 640)\n",
      "\n",
      "image 1/1 /content/drive/MyDrive/Q3_2/valid/images/00028_00006_00028_png_jpg.rf.78d1b6c881879f5183f0a4c4bf9cbe87.jpg: 640x640 1 Beware of children, 11.9ms\n",
      "Speed: 1.4ms preprocess, 11.9ms inference, 1.4ms postprocess per image at shape (1, 3, 640, 640)\n",
      "\n",
      "image 1/1 /content/drive/MyDrive/Q3_2/valid/images/00028_00006_00029_png_jpg.rf.6d72a119bd01d19dde4ee2dd76dd2b82.jpg: 640x640 1 Beware of children, 11.8ms\n",
      "Speed: 1.4ms preprocess, 11.8ms inference, 1.3ms postprocess per image at shape (1, 3, 640, 640)\n",
      "\n",
      "image 1/1 /content/drive/MyDrive/Q3_2/valid/images/00028_00007_00019_png_jpg.rf.3b34d8057b457cd3747bc437eb849a3d.jpg: 640x640 1 Beware of children, 11.8ms\n",
      "Speed: 1.4ms preprocess, 11.8ms inference, 1.3ms postprocess per image at shape (1, 3, 640, 640)\n",
      "\n",
      "image 1/1 /content/drive/MyDrive/Q3_2/valid/images/00028_00007_00022_png_jpg.rf.8bd842d629132c0e1d245382a3ed625c.jpg: 640x640 1 Beware of children, 12.6ms\n",
      "Speed: 1.5ms preprocess, 12.6ms inference, 1.4ms postprocess per image at shape (1, 3, 640, 640)\n",
      "\n",
      "image 1/1 /content/drive/MyDrive/Q3_2/valid/images/00028_00007_00024_png_jpg.rf.81fcb320ec1b2f68d45ee898200dedde.jpg: 640x640 1 Beware of children, 11.3ms\n",
      "Speed: 1.4ms preprocess, 11.3ms inference, 1.3ms postprocess per image at shape (1, 3, 640, 640)\n",
      "\n",
      "image 1/1 /content/drive/MyDrive/Q3_2/valid/images/00028_00007_00025_png_jpg.rf.38076e7173914700d360c674df534c17.jpg: 640x640 1 Beware of children, 11.6ms\n",
      "Speed: 1.4ms preprocess, 11.6ms inference, 1.3ms postprocess per image at shape (1, 3, 640, 640)\n",
      "\n",
      "image 1/1 /content/drive/MyDrive/Q3_2/valid/images/00028_00007_00026_png_jpg.rf.666f3792cc173cd99e4af7d17a11f839.jpg: 640x640 1 Beware of children, 11.6ms\n",
      "Speed: 1.4ms preprocess, 11.6ms inference, 1.3ms postprocess per image at shape (1, 3, 640, 640)\n",
      "\n",
      "image 1/1 /content/drive/MyDrive/Q3_2/valid/images/00028_00007_00027_png_jpg.rf.cf59f8600066f93053ad7d0c4e418870.jpg: 640x640 1 Beware of children, 13.0ms\n",
      "Speed: 1.5ms preprocess, 13.0ms inference, 1.4ms postprocess per image at shape (1, 3, 640, 640)\n",
      "\n",
      "image 1/1 /content/drive/MyDrive/Q3_2/valid/images/00028_00007_00028_png_jpg.rf.d840c6d5aa4b7e65d9210f192adb03f2.jpg: 640x640 1 Beware of children, 11.3ms\n",
      "Speed: 1.4ms preprocess, 11.3ms inference, 1.3ms postprocess per image at shape (1, 3, 640, 640)\n",
      "\n",
      "image 1/1 /content/drive/MyDrive/Q3_2/valid/images/00028_00007_00029_png_jpg.rf.39c62773bdfec7e56992b367c1430d20.jpg: 640x640 1 Beware of children, 14.0ms\n",
      "Speed: 1.5ms preprocess, 14.0ms inference, 1.4ms postprocess per image at shape (1, 3, 640, 640)\n",
      "\n",
      "image 1/1 /content/drive/MyDrive/Q3_2/valid/images/00028_00008_00005_png_jpg.rf.123ee4751959110467020be8f111dbe1.jpg: 640x640 1 Beware of children, 11.9ms\n",
      "Speed: 1.5ms preprocess, 11.9ms inference, 1.4ms postprocess per image at shape (1, 3, 640, 640)\n",
      "\n",
      "image 1/1 /content/drive/MyDrive/Q3_2/valid/images/00028_00008_00012_png_jpg.rf.6abd17802f8dd3569327f603bd5f8266.jpg: 640x640 1 Beware of children, 1 Speed limit 30 Kph, 11.2ms\n",
      "Speed: 1.4ms preprocess, 11.2ms inference, 1.3ms postprocess per image at shape (1, 3, 640, 640)\n",
      "\n",
      "image 1/1 /content/drive/MyDrive/Q3_2/valid/images/00028_00008_00020_png_jpg.rf.2c473fb5d3b66e2374b1640db7e17e76.jpg: 640x640 1 Beware of children, 11.5ms\n",
      "Speed: 1.4ms preprocess, 11.5ms inference, 1.3ms postprocess per image at shape (1, 3, 640, 640)\n",
      "\n",
      "image 1/1 /content/drive/MyDrive/Q3_2/valid/images/00029_00005_00016_png_jpg.rf.8362cb6c27abf4e9f620a6898937a774.jpg: 640x640 1 CYCLE ROUTE AHEAD WARNING, 11.6ms\n",
      "Speed: 1.5ms preprocess, 11.6ms inference, 1.3ms postprocess per image at shape (1, 3, 640, 640)\n",
      "\n",
      "image 1/1 /content/drive/MyDrive/Q3_2/valid/images/00029_00005_00028_png_jpg.rf.af3469555367703b4f0a069b51624de1.jpg: 640x640 1 CYCLE ROUTE AHEAD WARNING, 11.3ms\n",
      "Speed: 1.4ms preprocess, 11.3ms inference, 1.3ms postprocess per image at shape (1, 3, 640, 640)\n",
      "\n",
      "image 1/1 /content/drive/MyDrive/Q3_2/valid/images/00029_00005_00029_png_jpg.rf.b738b42dde0f8bef85c40bedbed18beb.jpg: 640x640 1 CYCLE ROUTE AHEAD WARNING, 13.3ms\n",
      "Speed: 1.5ms preprocess, 13.3ms inference, 1.5ms postprocess per image at shape (1, 3, 640, 640)\n",
      "\n",
      "image 1/1 /content/drive/MyDrive/Q3_2/valid/images/00029_00006_00020_png_jpg.rf.4df3baa6326426bb6875102a8c8b88bd.jpg: 640x640 1 CYCLE ROUTE AHEAD WARNING, 11.2ms\n",
      "Speed: 1.4ms preprocess, 11.2ms inference, 1.3ms postprocess per image at shape (1, 3, 640, 640)\n",
      "\n",
      "image 1/1 /content/drive/MyDrive/Q3_2/valid/images/00029_00006_00023_png_jpg.rf.dd63434189c1faa751fff0e7f59081c6.jpg: 640x640 1 CYCLE ROUTE AHEAD WARNING, 11.2ms\n",
      "Speed: 1.4ms preprocess, 11.2ms inference, 1.2ms postprocess per image at shape (1, 3, 640, 640)\n",
      "\n",
      "image 1/1 /content/drive/MyDrive/Q3_2/valid/images/00029_00006_00024_png_jpg.rf.ed9234dd638c6e082b3fe290c0cba57f.jpg: 640x640 1 CYCLE ROUTE AHEAD WARNING, 11.9ms\n",
      "Speed: 1.5ms preprocess, 11.9ms inference, 1.3ms postprocess per image at shape (1, 3, 640, 640)\n",
      "\n",
      "image 1/1 /content/drive/MyDrive/Q3_2/valid/images/00029_00006_00025_png_jpg.rf.1e289d3dafc0fdf7a97bb554141c1061.jpg: 640x640 1 CYCLE ROUTE AHEAD WARNING, 11.3ms\n",
      "Speed: 1.4ms preprocess, 11.3ms inference, 1.3ms postprocess per image at shape (1, 3, 640, 640)\n",
      "\n",
      "image 1/1 /content/drive/MyDrive/Q3_2/valid/images/00029_00006_00026_png_jpg.rf.4f21ed7bc319295808ffffb987df5375.jpg: 640x640 1 CYCLE ROUTE AHEAD WARNING, 11.6ms\n",
      "Speed: 1.5ms preprocess, 11.6ms inference, 1.3ms postprocess per image at shape (1, 3, 640, 640)\n",
      "\n",
      "image 1/1 /content/drive/MyDrive/Q3_2/valid/images/00029_00006_00029_png_jpg.rf.f21c1f1887c29d7ced97a438854794cc.jpg: 640x640 1 CYCLE ROUTE AHEAD WARNING, 11.4ms\n",
      "Speed: 1.4ms preprocess, 11.4ms inference, 1.3ms postprocess per image at shape (1, 3, 640, 640)\n",
      "\n",
      "image 1/1 /content/drive/MyDrive/Q3_2/valid/images/00029_00007_00019_png_jpg.rf.58abf13b1cb96f2b69af0ebd95a6e01b.jpg: 640x640 1 CYCLE ROUTE AHEAD WARNING, 11.0ms\n",
      "Speed: 1.3ms preprocess, 11.0ms inference, 1.2ms postprocess per image at shape (1, 3, 640, 640)\n",
      "\n",
      "image 1/1 /content/drive/MyDrive/Q3_2/valid/images/00029_00007_00021_png_jpg.rf.210abba02651310b7a09c9a15d30e8bd.jpg: 640x640 1 CYCLE ROUTE AHEAD WARNING, 11.5ms\n",
      "Speed: 1.4ms preprocess, 11.5ms inference, 1.3ms postprocess per image at shape (1, 3, 640, 640)\n",
      "\n",
      "image 1/1 /content/drive/MyDrive/Q3_2/valid/images/00029_00007_00022_png_jpg.rf.59da79186e7e9fdeabec20a881e1cd18.jpg: 640x640 1 CYCLE ROUTE AHEAD WARNING, 11.2ms\n",
      "Speed: 1.3ms preprocess, 11.2ms inference, 1.2ms postprocess per image at shape (1, 3, 640, 640)\n",
      "\n",
      "image 1/1 /content/drive/MyDrive/Q3_2/valid/images/00029_00007_00024_png_jpg.rf.080383e0c305000c099fa32cc48586ec.jpg: 640x640 1 CYCLE ROUTE AHEAD WARNING, 11.5ms\n",
      "Speed: 1.3ms preprocess, 11.5ms inference, 1.3ms postprocess per image at shape (1, 3, 640, 640)\n",
      "\n",
      "image 1/1 /content/drive/MyDrive/Q3_2/valid/images/00029_00007_00025_png_jpg.rf.7a1b746747ba6278d1430ce4dbbaf415.jpg: 640x640 1 CYCLE ROUTE AHEAD WARNING, 11.3ms\n",
      "Speed: 1.5ms preprocess, 11.3ms inference, 1.2ms postprocess per image at shape (1, 3, 640, 640)\n",
      "\n",
      "image 1/1 /content/drive/MyDrive/Q3_2/valid/images/00029_00007_00026_png_jpg.rf.4027ae1aeb8e598adc9a31784999a702.jpg: 640x640 1 CYCLE ROUTE AHEAD WARNING, 11.9ms\n",
      "Speed: 1.4ms preprocess, 11.9ms inference, 1.3ms postprocess per image at shape (1, 3, 640, 640)\n",
      "\n",
      "image 1/1 /content/drive/MyDrive/Q3_2/valid/images/00029_00007_00028_png_jpg.rf.8485b5ec43361fc97b8a4d430b676a65.jpg: 640x640 1 CYCLE ROUTE AHEAD WARNING, 11.3ms\n",
      "Speed: 1.4ms preprocess, 11.3ms inference, 1.7ms postprocess per image at shape (1, 3, 640, 640)\n",
      "\n",
      "image 1/1 /content/drive/MyDrive/Q3_2/valid/images/00029_00007_00029_png_jpg.rf.3e37a5e87997ed84a0f1d1221b164de1.jpg: 640x640 1 CYCLE ROUTE AHEAD WARNING, 11.2ms\n",
      "Speed: 1.4ms preprocess, 11.2ms inference, 1.3ms postprocess per image at shape (1, 3, 640, 640)\n",
      "\n",
      "image 1/1 /content/drive/MyDrive/Q3_2/valid/images/00029_00008_00016_png_jpg.rf.73f18a99f71ba915859627e1e48ae6e1.jpg: 640x640 1 CYCLE ROUTE AHEAD WARNING, 11.3ms\n",
      "Speed: 1.4ms preprocess, 11.3ms inference, 1.2ms postprocess per image at shape (1, 3, 640, 640)\n",
      "\n",
      "image 1/1 /content/drive/MyDrive/Q3_2/valid/images/00029_00008_00017_png_jpg.rf.499e73dd99b1c9a6e661fb857814ba13.jpg: 640x640 1 CYCLE ROUTE AHEAD WARNING, 11.3ms\n",
      "Speed: 1.4ms preprocess, 11.3ms inference, 1.4ms postprocess per image at shape (1, 3, 640, 640)\n",
      "\n",
      "image 1/1 /content/drive/MyDrive/Q3_2/valid/images/00029_00008_00022_png_jpg.rf.e529bffabcb5304c98a7f5d7416a86cb.jpg: 640x640 1 CYCLE ROUTE AHEAD WARNING, 11.3ms\n",
      "Speed: 1.3ms preprocess, 11.3ms inference, 1.3ms postprocess per image at shape (1, 3, 640, 640)\n",
      "\n",
      "image 1/1 /content/drive/MyDrive/Q3_2/valid/images/00035_00010_00028_png_jpg.rf.51179c3a3ae376e5a60883b31834b2ca.jpg: 640x640 1 One way road, 11.2ms\n",
      "Speed: 1.4ms preprocess, 11.2ms inference, 1.3ms postprocess per image at shape (1, 3, 640, 640)\n",
      "\n",
      "image 1/1 /content/drive/MyDrive/Q3_2/valid/images/00035_00013_00027_png_jpg.rf.81198242247d143217a7f97880f4e55d.jpg: 640x640 1 One way road, 11.1ms\n",
      "Speed: 1.4ms preprocess, 11.1ms inference, 1.2ms postprocess per image at shape (1, 3, 640, 640)\n",
      "\n",
      "image 1/1 /content/drive/MyDrive/Q3_2/valid/images/00035_00013_00028_png_jpg.rf.da4e1129ec85177a7391c86f9efaca07.jpg: 640x640 1 One way road, 11.3ms\n",
      "Speed: 1.4ms preprocess, 11.3ms inference, 1.2ms postprocess per image at shape (1, 3, 640, 640)\n",
      "\n",
      "image 1/1 /content/drive/MyDrive/Q3_2/valid/images/00035_00014_00011_png_jpg.rf.5efa924035f639d7ce6fb01773696cba.jpg: 640x640 1 One way road, 12.7ms\n",
      "Speed: 1.4ms preprocess, 12.7ms inference, 1.3ms postprocess per image at shape (1, 3, 640, 640)\n",
      "\n",
      "image 1/1 /content/drive/MyDrive/Q3_2/valid/images/00035_00014_00015_png_jpg.rf.87ca5486cb6a899e85406ba7b7cbbda7.jpg: 640x640 1 One way road, 11.5ms\n",
      "Speed: 1.4ms preprocess, 11.5ms inference, 1.3ms postprocess per image at shape (1, 3, 640, 640)\n",
      "\n",
      "image 1/1 /content/drive/MyDrive/Q3_2/valid/images/00035_00014_00018_png_jpg.rf.7681f92115c0a8afe5d0321980f2bff4.jpg: 640x640 1 One way road, 1 Stop_Sign, 11.6ms\n",
      "Speed: 1.4ms preprocess, 11.6ms inference, 1.3ms postprocess per image at shape (1, 3, 640, 640)\n",
      "\n",
      "image 1/1 /content/drive/MyDrive/Q3_2/valid/images/00035_00014_00019_png_jpg.rf.fb84fd6b290689e380fc9f6db613e671.jpg: 640x640 1 One way road, 11.6ms\n",
      "Speed: 1.4ms preprocess, 11.6ms inference, 1.2ms postprocess per image at shape (1, 3, 640, 640)\n",
      "\n",
      "image 1/1 /content/drive/MyDrive/Q3_2/valid/images/00035_00014_00020_png_jpg.rf.1c00fc1d71046153e19dcf1893ae1185.jpg: 640x640 1 One way road, 11.7ms\n",
      "Speed: 1.5ms preprocess, 11.7ms inference, 1.3ms postprocess per image at shape (1, 3, 640, 640)\n",
      "\n",
      "image 1/1 /content/drive/MyDrive/Q3_2/valid/images/00035_00014_00023_png_jpg.rf.7af786f45826741b582f6c5b0a4a0926.jpg: 640x640 1 One way road, 11.4ms\n",
      "Speed: 1.4ms preprocess, 11.4ms inference, 1.2ms postprocess per image at shape (1, 3, 640, 640)\n",
      "\n",
      "image 1/1 /content/drive/MyDrive/Q3_2/valid/images/00035_00014_00025_png_jpg.rf.3ed66c7367a299c1a2a212d80dac26bb.jpg: 640x640 1 One way road, 11.3ms\n",
      "Speed: 1.5ms preprocess, 11.3ms inference, 1.3ms postprocess per image at shape (1, 3, 640, 640)\n",
      "\n",
      "image 1/1 /content/drive/MyDrive/Q3_2/valid/images/00035_00014_00026_png_jpg.rf.ba46a3f30b47feaf8d1574db9708abde.jpg: 640x640 1 One way road, 11.3ms\n",
      "Speed: 1.4ms preprocess, 11.3ms inference, 1.3ms postprocess per image at shape (1, 3, 640, 640)\n",
      "\n",
      "image 1/1 /content/drive/MyDrive/Q3_2/valid/images/00035_00014_00027_png_jpg.rf.f16061cc4ac169f21c711a8fe60abd08.jpg: 640x640 1 One way road, 14.0ms\n",
      "Speed: 1.5ms preprocess, 14.0ms inference, 1.5ms postprocess per image at shape (1, 3, 640, 640)\n",
      "\n",
      "image 1/1 /content/drive/MyDrive/Q3_2/valid/images/00035_00014_00029_png_jpg.rf.e3edc024fb8f207b57247d814633c30e.jpg: 640x640 1 One way road, 14.2ms\n",
      "Speed: 1.7ms preprocess, 14.2ms inference, 1.3ms postprocess per image at shape (1, 3, 640, 640)\n",
      "\n",
      "image 1/1 /content/drive/MyDrive/Q3_2/valid/images/00035_00015_00014_png_jpg.rf.318bcf77b7f8f16f104e0827027b88e8.jpg: 640x640 1 One way road, 14.8ms\n",
      "Speed: 1.5ms preprocess, 14.8ms inference, 1.4ms postprocess per image at shape (1, 3, 640, 640)\n",
      "\n",
      "image 1/1 /content/drive/MyDrive/Q3_2/valid/images/00035_00015_00018_png_jpg.rf.0285a562cb9c556ba8377d5b8d954b40.jpg: 640x640 1 One way road, 12.2ms\n",
      "Speed: 1.5ms preprocess, 12.2ms inference, 1.4ms postprocess per image at shape (1, 3, 640, 640)\n",
      "\n",
      "image 1/1 /content/drive/MyDrive/Q3_2/valid/images/00035_00015_00020_png_jpg.rf.32ad271a0242e86db4ac217bb38f5890.jpg: 640x640 1 One way road, 11.5ms\n",
      "Speed: 1.5ms preprocess, 11.5ms inference, 1.3ms postprocess per image at shape (1, 3, 640, 640)\n",
      "\n",
      "image 1/1 /content/drive/MyDrive/Q3_2/valid/images/00035_00015_00022_png_jpg.rf.42dcc553d93b7d0b56ac4802e7b0f193.jpg: 640x640 1 One way road, 11.3ms\n",
      "Speed: 1.4ms preprocess, 11.3ms inference, 1.3ms postprocess per image at shape (1, 3, 640, 640)\n",
      "\n",
      "image 1/1 /content/drive/MyDrive/Q3_2/valid/images/00035_00015_00023_png_jpg.rf.a6bcb0cc906730ba4c7ea1faa28cb002.jpg: 640x640 1 One way road, 13.3ms\n",
      "Speed: 1.7ms preprocess, 13.3ms inference, 1.4ms postprocess per image at shape (1, 3, 640, 640)\n",
      "\n",
      "image 1/1 /content/drive/MyDrive/Q3_2/valid/images/00035_00015_00025_png_jpg.rf.8a2268d6bdc595cf85b0b5c18800c235.jpg: 640x640 1 One way road, 12.1ms\n",
      "Speed: 1.4ms preprocess, 12.1ms inference, 1.3ms postprocess per image at shape (1, 3, 640, 640)\n",
      "\n",
      "image 1/1 /content/drive/MyDrive/Q3_2/valid/images/00035_00015_00026_png_jpg.rf.d3a2407ed1abddeea0c2e5d67bc6b66e.jpg: 640x640 1 One way road, 11.9ms\n",
      "Speed: 1.4ms preprocess, 11.9ms inference, 1.3ms postprocess per image at shape (1, 3, 640, 640)\n",
      "\n",
      "image 1/1 /content/drive/MyDrive/Q3_2/valid/images/00041_00000_00001_png_jpg.rf.65a5ae11285f7fe3dda54d6aea7534dc.jpg: 640x640 1 No_Over_Taking, 11.4ms\n",
      "Speed: 1.4ms preprocess, 11.4ms inference, 1.3ms postprocess per image at shape (1, 3, 640, 640)\n",
      "\n",
      "image 1/1 /content/drive/MyDrive/Q3_2/valid/images/00041_00000_00002_png_jpg.rf.ed832f19f598302f714754b4da3f0e89.jpg: 640x640 1 No_Over_Taking, 11.7ms\n",
      "Speed: 1.4ms preprocess, 11.7ms inference, 1.3ms postprocess per image at shape (1, 3, 640, 640)\n",
      "\n",
      "image 1/1 /content/drive/MyDrive/Q3_2/valid/images/00041_00000_00003_png_jpg.rf.489a0880cda54817492668ffff5368d2.jpg: 640x640 1 No_Over_Taking, 13.3ms\n",
      "Speed: 1.5ms preprocess, 13.3ms inference, 1.5ms postprocess per image at shape (1, 3, 640, 640)\n",
      "\n",
      "image 1/1 /content/drive/MyDrive/Q3_2/valid/images/00041_00000_00005_png_jpg.rf.23b697f6672b2890a33e868074fa16e9.jpg: 640x640 1 No_Over_Taking, 11.1ms\n",
      "Speed: 1.5ms preprocess, 11.1ms inference, 1.6ms postprocess per image at shape (1, 3, 640, 640)\n",
      "\n",
      "image 1/1 /content/drive/MyDrive/Q3_2/valid/images/00041_00000_00007_png_jpg.rf.fd0491f5da27be1b2ef69fc8a48f3b78.jpg: 640x640 1 No_Over_Taking, 11.5ms\n",
      "Speed: 1.5ms preprocess, 11.5ms inference, 1.5ms postprocess per image at shape (1, 3, 640, 640)\n",
      "\n",
      "image 1/1 /content/drive/MyDrive/Q3_2/valid/images/00041_00000_00008_png_jpg.rf.f40d22ca3a73b365382e0a8c3682b8a7.jpg: 640x640 1 No_Over_Taking, 11.3ms\n",
      "Speed: 1.4ms preprocess, 11.3ms inference, 1.3ms postprocess per image at shape (1, 3, 640, 640)\n",
      "\n",
      "image 1/1 /content/drive/MyDrive/Q3_2/valid/images/00041_00000_00010_png_jpg.rf.92d228ecd147bfe05fcd5e6d0c2ef7c8.jpg: 640x640 1 No_Over_Taking, 11.6ms\n",
      "Speed: 1.4ms preprocess, 11.6ms inference, 1.3ms postprocess per image at shape (1, 3, 640, 640)\n",
      "\n",
      "image 1/1 /content/drive/MyDrive/Q3_2/valid/images/00041_00000_00011_png_jpg.rf.02b2c10e08289a7f83fc06eceb75f627.jpg: 640x640 1 No_Over_Taking, 11.7ms\n",
      "Speed: 1.4ms preprocess, 11.7ms inference, 1.3ms postprocess per image at shape (1, 3, 640, 640)\n",
      "\n",
      "image 1/1 /content/drive/MyDrive/Q3_2/valid/images/00041_00000_00012_png_jpg.rf.ace8a0b34e6c7f093de7ee52967a1d36.jpg: 640x640 1 No_Over_Taking, 11.3ms\n",
      "Speed: 1.4ms preprocess, 11.3ms inference, 1.2ms postprocess per image at shape (1, 3, 640, 640)\n",
      "\n",
      "image 1/1 /content/drive/MyDrive/Q3_2/valid/images/00041_00000_00016_png_jpg.rf.50e3b9b1098d28a386f14ae8e4e7acfc.jpg: 640x640 1 No_Over_Taking, 11.3ms\n",
      "Speed: 1.4ms preprocess, 11.3ms inference, 1.5ms postprocess per image at shape (1, 3, 640, 640)\n",
      "\n",
      "image 1/1 /content/drive/MyDrive/Q3_2/valid/images/00041_00000_00019_png_jpg.rf.427ca50c7c1173e9c7ba4394f63b530a.jpg: 640x640 1 No_Over_Taking, 11.9ms\n",
      "Speed: 1.5ms preprocess, 11.9ms inference, 1.4ms postprocess per image at shape (1, 3, 640, 640)\n",
      "\n",
      "image 1/1 /content/drive/MyDrive/Q3_2/valid/images/00041_00000_00020_png_jpg.rf.dadb81925ad58696fe6f1d4318364077.jpg: 640x640 1 No_Over_Taking, 11.8ms\n",
      "Speed: 1.4ms preprocess, 11.8ms inference, 1.3ms postprocess per image at shape (1, 3, 640, 640)\n",
      "\n",
      "image 1/1 /content/drive/MyDrive/Q3_2/valid/images/00041_00000_00022_png_jpg.rf.89679fce02caef23230e82d1fcaaece6.jpg: 640x640 1 No_Over_Taking, 11.7ms\n",
      "Speed: 1.4ms preprocess, 11.7ms inference, 1.3ms postprocess per image at shape (1, 3, 640, 640)\n",
      "\n",
      "image 1/1 /content/drive/MyDrive/Q3_2/valid/images/00041_00000_00026_png_jpg.rf.a65d8c7c8040d51c9339011db620d031.jpg: 640x640 1 No_Over_Taking, 11.7ms\n",
      "Speed: 1.4ms preprocess, 11.7ms inference, 1.3ms postprocess per image at shape (1, 3, 640, 640)\n",
      "\n",
      "image 1/1 /content/drive/MyDrive/Q3_2/valid/images/00041_00001_00004_png_jpg.rf.523d41c18c352f2b704b52a3880d2f8d.jpg: 640x640 1 No_Over_Taking, 12.0ms\n",
      "Speed: 1.6ms preprocess, 12.0ms inference, 1.3ms postprocess per image at shape (1, 3, 640, 640)\n",
      "\n",
      "image 1/1 /content/drive/MyDrive/Q3_2/valid/images/00041_00001_00017_png_jpg.rf.55a1db69d7f3d3cc1d32cb5930ecbf20.jpg: 640x640 1 No_Over_Taking, 11.3ms\n",
      "Speed: 1.4ms preprocess, 11.3ms inference, 1.3ms postprocess per image at shape (1, 3, 640, 640)\n",
      "\n",
      "image 1/1 /content/drive/MyDrive/Q3_2/valid/images/1000_F_232535821_df7O6qdIweizjJLQnsdsuGcQgIjy5LyY_jpg.rf.f8a788d26cf03d2a084205cac3bfb474.jpg: 640x640 1 Speed limit 60 Kph, 11.3ms\n",
      "Speed: 1.4ms preprocess, 11.3ms inference, 1.3ms postprocess per image at shape (1, 3, 640, 640)\n",
      "\n",
      "image 1/1 /content/drive/MyDrive/Q3_2/valid/images/104223605-speed-limit-traffic-sign-with-white-background_jpg.rf.94878f30b9f026f58a7588e3e3c3f6a9.jpg: 640x640 1 Speed limit 50 Kph, 11.4ms\n",
      "Speed: 1.4ms preprocess, 11.4ms inference, 1.3ms postprocess per image at shape (1, 3, 640, 640)\n",
      "\n",
      "image 1/1 /content/drive/MyDrive/Q3_2/valid/images/13802250_webp.rf.8c39db0bc9c4a014b6fbab9e891663a8.jpg: 640x640 1 Speed limit 90 Kph, 11.5ms\n",
      "Speed: 1.5ms preprocess, 11.5ms inference, 1.3ms postprocess per image at shape (1, 3, 640, 640)\n",
      "\n",
      "image 1/1 /content/drive/MyDrive/Q3_2/valid/images/140601_jpeg.rf.bb7b1cf2d6ae8c6077fd6a49b0509c94.jpg: 640x640 1 Speed limit 90 Kph, 12.0ms\n",
      "Speed: 1.6ms preprocess, 12.0ms inference, 1.3ms postprocess per image at shape (1, 3, 640, 640)\n",
      "\n",
      "image 1/1 /content/drive/MyDrive/Q3_2/valid/images/1_0x0_790x520_0x520_lack_of_road_knowledge_jpg.rf.f2b4c8b855f0604dbb706d92c1449c81.jpg: 640x640 1 roundabout, 11.2ms\n",
      "Speed: 1.4ms preprocess, 11.2ms inference, 1.3ms postprocess per image at shape (1, 3, 640, 640)\n",
      "\n",
      "image 1/1 /content/drive/MyDrive/Q3_2/valid/images/20_MPH_Speed_restriction_-_geograph-org-uk_-_4430515_jpg.rf.7dd553b05b7f29cf3e7a4d3be6e97860.jpg: 640x640 (no detections), 13.0ms\n",
      "Speed: 1.5ms preprocess, 13.0ms inference, 0.6ms postprocess per image at shape (1, 3, 640, 640)\n",
      "\n",
      "image 1/1 /content/drive/MyDrive/Q3_2/valid/images/20_MPH_Zone-_Silverdale_Rd_-_geograph-org-uk_-_5661008_jpg.rf.10bdd5c1803bb907ce819cf280248422.jpg: 640x640 1 Speed limit 20 Kph, 11.5ms\n",
      "Speed: 1.5ms preprocess, 11.5ms inference, 1.4ms postprocess per image at shape (1, 3, 640, 640)\n",
      "\n",
      "image 1/1 /content/drive/MyDrive/Q3_2/valid/images/21690_jpeg.rf.36f8bb398a3088952f9f8d8df3fef8d3.jpg: 640x640 1 Speed limit 120 Kph, 11.4ms\n",
      "Speed: 1.4ms preprocess, 11.4ms inference, 1.3ms postprocess per image at shape (1, 3, 640, 640)\n",
      "\n",
      "image 1/1 /content/drive/MyDrive/Q3_2/valid/images/30908156-bicycle-lane-crossing-a-priority-road-warned-by-traffic-signs_jpg.rf.a045eff8b731ef8938c638b8eb784ff5.jpg: 640x640 1 CYCLE ROUTE AHEAD WARNING, 1 Dangerous Left Curve Ahead, 15.1ms\n",
      "Speed: 1.6ms preprocess, 15.1ms inference, 1.6ms postprocess per image at shape (1, 3, 640, 640)\n",
      "\n",
      "image 1/1 /content/drive/MyDrive/Q3_2/valid/images/30mph_speed_limit_in_Caerwent_-_geograph-org-uk_-_2798373_jpg.rf.dbfafda11bc0b5c1b8e4272945c27211.jpg: 640x640 2 Speed limit 30 Kphs, 11.4ms\n",
      "Speed: 1.4ms preprocess, 11.4ms inference, 1.3ms postprocess per image at shape (1, 3, 640, 640)\n",
      "\n",
      "image 1/1 /content/drive/MyDrive/Q3_2/valid/images/30_mile_speed_limit_-_geograph-org-uk_-_5127159_jpg.rf.e9a851e065b33b157e0d4c118829f0c1.jpg: 640x640 1 Speed limit 30 Kph, 1 Speed limit 60 Kph, 12.0ms\n",
      "Speed: 1.4ms preprocess, 12.0ms inference, 1.3ms postprocess per image at shape (1, 3, 640, 640)\n",
      "\n",
      "image 1/1 /content/drive/MyDrive/Q3_2/valid/images/30_mph_speed_limit_sign-_Chichester_Street-_Belfast_-January_2016-_-_geograph-org-uk_-_4795602_jpg.rf.586567df75bb65081c28f251631cb963.jpg: 640x640 1 Speed limit 30 Kph, 11.3ms\n",
      "Speed: 1.4ms preprocess, 11.3ms inference, 1.3ms postprocess per image at shape (1, 3, 640, 640)\n",
      "\n",
      "image 1/1 /content/drive/MyDrive/Q3_2/valid/images/30_to_20_along_York_Street-_Miskin_-_geograph-org-uk_-_3920362_jpg.rf.e3d4a4d18e4674443d8fe68a9b625bda.jpg: 640x640 2 Speed limit 20 Kphs, 11.8ms\n",
      "Speed: 1.4ms preprocess, 11.8ms inference, 1.3ms postprocess per image at shape (1, 3, 640, 640)\n",
      "\n",
      "image 1/1 /content/drive/MyDrive/Q3_2/valid/images/33759128-31030961_jpg.rf.6456ebb9254d5b67e662d21b7999e9f7.jpg: 640x640 1 Speed limit 90 Kph, 12.2ms\n",
      "Speed: 1.5ms preprocess, 12.2ms inference, 1.4ms postprocess per image at shape (1, 3, 640, 640)\n",
      "\n",
      "image 1/1 /content/drive/MyDrive/Q3_2/valid/images/360_F_58315808_MyXeXM2QOZObkmYmDOs0f2f7W1WfNRUZ_jpg.rf.d4458a5fc6ca71f60e364f413e14e912.jpg: 640x640 1 Attention Please-, 12.9ms\n",
      "Speed: 1.4ms preprocess, 12.9ms inference, 1.4ms postprocess per image at shape (1, 3, 640, 640)\n",
      "\n",
      "image 1/1 /content/drive/MyDrive/Q3_2/valid/images/40226174-a-large-round-blue-traffic-sign-displaying-traffic-island-arrows_jpg.rf.ef84d1bdca296bcf0ceabe49c2006f41.jpg: 640x640 1 roundabout, 12.3ms\n",
      "Speed: 1.6ms preprocess, 12.3ms inference, 1.4ms postprocess per image at shape (1, 3, 640, 640)\n",
      "\n",
      "image 1/1 /content/drive/MyDrive/Q3_2/valid/images/413Drr1pN3L-_AC__jpg.rf.e0dfea96e123b3eac46332924d72422c.jpg: 640x640 1 Uneven Road, 11.6ms\n",
      "Speed: 1.5ms preprocess, 11.6ms inference, 1.3ms postprocess per image at shape (1, 3, 640, 640)\n",
      "\n",
      "image 1/1 /content/drive/MyDrive/Q3_2/valid/images/44936_webp.rf.8c80441e179e17eedb92926e715b58db.jpg: 640x640 1 roundabout, 12.4ms\n",
      "Speed: 1.5ms preprocess, 12.4ms inference, 1.4ms postprocess per image at shape (1, 3, 640, 640)\n",
      "\n",
      "image 1/1 /content/drive/MyDrive/Q3_2/valid/images/4BAA659B00000578-0-image-a-8_1524962578654_jpg.rf.c81458e8eb5443cc66a87ef06f35f708.jpg: 640x640 1 Speed limit 120 Kph, 1 Speed limit 20 Kph, 14.0ms\n",
      "Speed: 1.4ms preprocess, 14.0ms inference, 1.3ms postprocess per image at shape (1, 3, 640, 640)\n",
      "\n",
      "image 1/1 /content/drive/MyDrive/Q3_2/valid/images/4NX276H_copyright_image_146754_webp.rf.d247ab38c5fe893bd072a293cf49f3e5.jpg: 640x640 1 Speed limit 70 Kph, 11.1ms\n",
      "Speed: 1.4ms preprocess, 11.1ms inference, 1.3ms postprocess per image at shape (1, 3, 640, 640)\n",
      "\n",
      "image 1/1 /content/drive/MyDrive/Q3_2/valid/images/50-mph-road-sign-R3T1H3_jpg.rf.d7e1866320de16f52eb33584547408de.jpg: 640x640 1 Speed limit 50 Kph, 11.5ms\n",
      "Speed: 1.4ms preprocess, 11.5ms inference, 1.3ms postprocess per image at shape (1, 3, 640, 640)\n",
      "\n",
      "image 1/1 /content/drive/MyDrive/Q3_2/valid/images/50km_speedlimit_jpg.rf.25d1a0fe6421407b7bc89b4fd04a6d32.jpg: 640x640 1 Speed limit 70 Kph, 11.1ms\n",
      "Speed: 1.4ms preprocess, 11.1ms inference, 1.2ms postprocess per image at shape (1, 3, 640, 640)\n",
      "\n",
      "image 1/1 /content/drive/MyDrive/Q3_2/valid/images/60-km-speed-limit-sign-a-highway-sixty-kilometers-per-hour-traffic-road-sign-a-restriction-sign-for-car-drivers-not-to-exceed-the-speed-over-60-kilo-2RXCBWR_jpg.rf.fd5e021d8379ba2bcbb59ab0063b9cb0.jpg: 640x640 1 Speed limit 60 Kph, 11.4ms\n",
      "Speed: 1.3ms preprocess, 11.4ms inference, 1.2ms postprocess per image at shape (1, 3, 640, 640)\n",
      "\n",
      "image 1/1 /content/drive/MyDrive/Q3_2/valid/images/60-km-speed-limit-traffic-sign-2E5ADK6_jpg.rf.caa48247e151215a5f1c506b1b2c64c2.jpg: 640x640 1 Speed limit 60 Kph, 11.5ms\n",
      "Speed: 1.4ms preprocess, 11.5ms inference, 1.3ms postprocess per image at shape (1, 3, 640, 640)\n",
      "\n",
      "image 1/1 /content/drive/MyDrive/Q3_2/valid/images/60-kmt-norwegian-road-sign-K3NMWB_jpg.rf.87d7259bc99c7135ea7cfb868f2d84f8.jpg: 640x640 1 Speed limit 60 Kph, 11.4ms\n",
      "Speed: 1.4ms preprocess, 11.4ms inference, 1.3ms postprocess per image at shape (1, 3, 640, 640)\n",
      "\n",
      "image 1/1 /content/drive/MyDrive/Q3_2/valid/images/60-speed-limit-sign-260nw-1279371937_webp.rf.f3b0f66c7456f7e79446da064fc0b8f2.jpg: 640x640 1 Speed limit 60 Kph, 11.2ms\n",
      "Speed: 1.4ms preprocess, 11.2ms inference, 1.3ms postprocess per image at shape (1, 3, 640, 640)\n",
      "\n",
      "image 1/1 /content/drive/MyDrive/Q3_2/valid/images/60mph_jpg.rf.8f87993ca27eb0ffd39eb4c20f3f295f.jpg: 640x640 1 Speed limit 60 Kph, 11.4ms\n",
      "Speed: 1.4ms preprocess, 11.4ms inference, 1.3ms postprocess per image at shape (1, 3, 640, 640)\n",
      "\n",
      "image 1/1 /content/drive/MyDrive/Q3_2/valid/images/60_km_-ubt-_JPG.rf.497aa4ab0aad83db2550b26ab0bf783a.jpg: 640x640 1 Speed limit 60 Kph, 11.2ms\n",
      "Speed: 1.3ms preprocess, 11.2ms inference, 1.3ms postprocess per image at shape (1, 3, 640, 640)\n",
      "\n",
      "image 1/1 /content/drive/MyDrive/Q3_2/valid/images/6440634-60km-h-speed-limit-sign-isolated-on-the-sky_jpg.rf.f72461c95cd68f52937a0348afa98aaf.jpg: 640x640 1 Speed limit 60 Kph, 11.4ms\n",
      "Speed: 1.4ms preprocess, 11.4ms inference, 1.6ms postprocess per image at shape (1, 3, 640, 640)\n",
      "\n",
      "image 1/1 /content/drive/MyDrive/Q3_2/valid/images/6918614948_83bc60c43b_b_jpg.rf.a1f3c5d5d226b1dc59d53827ced4e4cc.jpg: 640x640 1 No Entry, 11.8ms\n",
      "Speed: 1.8ms preprocess, 11.8ms inference, 1.3ms postprocess per image at shape (1, 3, 640, 640)\n",
      "\n",
      "image 1/1 /content/drive/MyDrive/Q3_2/valid/images/6a00d83451e76669e202a308da5bdc200c-800wi_webp.rf.5893343057fe59ed83ea779917e648d1.jpg: 640x640 1 Speed limit 90 Kph, 11.7ms\n",
      "Speed: 1.5ms preprocess, 11.7ms inference, 1.3ms postprocess per image at shape (1, 3, 640, 640)\n",
      "\n",
      "image 1/1 /content/drive/MyDrive/Q3_2/valid/images/70-km-speed-limit-sign-seventy-kilometer-sign-3d-render-png_png.rf.f1fff33dd5089d957734ab0ce7d79390.jpg: 640x640 1 Speed limit 70 Kph, 1 roundabout, 11.7ms\n",
      "Speed: 1.4ms preprocess, 11.7ms inference, 1.7ms postprocess per image at shape (1, 3, 640, 640)\n",
      "\n",
      "image 1/1 /content/drive/MyDrive/Q3_2/valid/images/7020118113_999c3cc112_jpg.rf.78e80aaa96008bbb66d5e113872f7fbe.jpg: 640x640 1 Dangerous Rright Curve Ahead, 1 Uneven Road, 12.1ms\n",
      "Speed: 1.7ms preprocess, 12.1ms inference, 1.4ms postprocess per image at shape (1, 3, 640, 640)\n",
      "\n",
      "image 1/1 /content/drive/MyDrive/Q3_2/valid/images/70mph-road-sign-on-the-m77near-kilmarnock-central-scotland-2006-APMEH7_jpg.rf.c1d80484689dd0c60bfc8995f03b061b.jpg: 640x640 1 Speed limit 70 Kph, 11.6ms\n",
      "Speed: 1.5ms preprocess, 11.6ms inference, 1.4ms postprocess per image at shape (1, 3, 640, 640)\n",
      "\n",
      "image 1/1 /content/drive/MyDrive/Q3_2/valid/images/70sign_jpg.rf.4b180da902c7cc429664566a0f8cb37a.jpg: 640x640 1 Speed limit 70 Kph, 11.5ms\n",
      "Speed: 1.4ms preprocess, 11.5ms inference, 1.3ms postprocess per image at shape (1, 3, 640, 640)\n",
      "\n",
      "image 1/1 /content/drive/MyDrive/Q3_2/valid/images/7880b8a1eebebf94eb1a609f926dfb72_jpeg.rf.0ec48c1f93817dfc7238dce665377527.jpg: 640x640 1 Speed limit 60 Kph, 12.1ms\n",
      "Speed: 1.4ms preprocess, 12.1ms inference, 1.4ms postprocess per image at shape (1, 3, 640, 640)\n",
      "\n",
      "image 1/1 /content/drive/MyDrive/Q3_2/valid/images/7ecd0f7def1740568739b2f80cc48b5f_800_jpg.rf.54aa1b8198ed4842ee991d59e5b3efaf.jpg: 640x640 1 Speed limit 60 Kph, 11.8ms\n",
      "Speed: 1.4ms preprocess, 11.8ms inference, 1.3ms postprocess per image at shape (1, 3, 640, 640)\n",
      "\n",
      "image 1/1 /content/drive/MyDrive/Q3_2/valid/images/7_jpg.rf.0538e416af70c26da2fb06f21ec7b4d3.jpg: 640x640 1 No Entry, 12.1ms\n",
      "Speed: 1.5ms preprocess, 12.1ms inference, 1.4ms postprocess per image at shape (1, 3, 640, 640)\n",
      "\n",
      "image 1/1 /content/drive/MyDrive/Q3_2/valid/images/800px-Warning_Right_Bend_Sign_jpg.rf.6cc3f1c02899a44fdd33d9c37a40c396.jpg: 640x640 1 Dangerous Rright Curve Ahead, 11.6ms\n",
      "Speed: 1.5ms preprocess, 11.6ms inference, 1.3ms postprocess per image at shape (1, 3, 640, 640)\n",
      "\n",
      "image 1/1 /content/drive/MyDrive/Q3_2/valid/images/870x489_limitation-90_jpg.rf.7979dc5eb436326d0732813b54a7ffc9.jpg: 640x640 1 Speed limit 90 Kph, 11.3ms\n",
      "Speed: 1.4ms preprocess, 11.3ms inference, 1.3ms postprocess per image at shape (1, 3, 640, 640)\n",
      "\n",
      "image 1/1 /content/drive/MyDrive/Q3_2/valid/images/a-right-hand-bend-sign-on-a-country-road-in-south-norfolk-england-CW1N67_jpg.rf.9179ef8504e2722f01cb2fabe22b4e33.jpg: 640x640 1 Dangerous Rright Curve Ahead, 12.4ms\n",
      "Speed: 1.4ms preprocess, 12.4ms inference, 1.4ms postprocess per image at shape (1, 3, 640, 640)\n",
      "\n",
      "image 1/1 /content/drive/MyDrive/Q3_2/valid/images/a-traffic-sign-displays-a-speed-limit-of-120-kmh-on-the-highway-a37-D7KA22_jpg.rf.6a630bea4c8aa2ab88d783640870033d.jpg: 640x640 1 Speed limit 120 Kph, 11.7ms\n",
      "Speed: 1.4ms preprocess, 11.7ms inference, 1.4ms postprocess per image at shape (1, 3, 640, 640)\n",
      "\n",
      "image 1/1 /content/drive/MyDrive/Q3_2/valid/images/Alwoodley_Chase_-_Harrogate_Road_-_geograph-org-uk_-_3347592_jpg.rf.40d2833ce055904bb1b318cf3883fe5c.jpg: 640x640 1 Speed limit 30 Kph, 11.4ms\n",
      "Speed: 1.4ms preprocess, 11.4ms inference, 1.3ms postprocess per image at shape (1, 3, 640, 640)\n",
      "\n",
      "image 1/1 /content/drive/MyDrive/Q3_2/valid/images/Approaching_the_right_hand_bend_in_Long_Lane_-geograph_4979553-_jpg.rf.28d15c614cb1c09c0ef587ae2e93985e.jpg: 640x640 1 Dangerous Rright Curve Ahead, 11.3ms\n",
      "Speed: 1.4ms preprocess, 11.3ms inference, 1.3ms postprocess per image at shape (1, 3, 640, 640)\n",
      "\n",
      "image 1/1 /content/drive/MyDrive/Q3_2/valid/images/A_New_Slant_on_Road_Safety_-_geograph-org-uk_-_1068855_jpg.rf.d8c9c91299462b6c595783d8c1306da7.jpg: 640x640 1 Speed limit 20 Kph, 12.7ms\n",
      "Speed: 1.5ms preprocess, 12.7ms inference, 1.4ms postprocess per image at shape (1, 3, 640, 640)\n",
      "\n",
      "image 1/1 /content/drive/MyDrive/Q3_2/valid/images/B9727549314Z-1_20210630153900_000-G98IEN91V-1-0_jpg.rf.c12f5b8dcb7df2df492f0f9aa347bedc.jpg: 640x640 1 Speed limit 90 Kph, 11.2ms\n",
      "Speed: 1.4ms preprocess, 11.2ms inference, 1.3ms postprocess per image at shape (1, 3, 640, 640)\n",
      "\n",
      "image 1/1 /content/drive/MyDrive/Q3_2/valid/images/bend-in-the-road-warning-sign-C060W6_jpg.rf.ed939c7c5c510cea31029c4054a38c79.jpg: 640x640 1 Dangerous Left Curve Ahead, 11.3ms\n",
      "Speed: 1.4ms preprocess, 11.3ms inference, 1.3ms postprocess per image at shape (1, 3, 640, 640)\n",
      "\n",
      "image 1/1 /content/drive/MyDrive/Q3_2/valid/images/Bend_to_the_left_sign_on_Park_Road_-_geograph-org-uk_-_3990401_jpg.rf.652fd6dae11c3d88a975fb9e9a59772a.jpg: 640x640 1 Dangerous Left Curve Ahead, 11.9ms\n",
      "Speed: 1.5ms preprocess, 11.9ms inference, 1.3ms postprocess per image at shape (1, 3, 640, 640)\n",
      "\n",
      "image 1/1 /content/drive/MyDrive/Q3_2/valid/images/Bend_to_the_left_with_side_road_to_the_right_sign_-_geograph-org-uk_-_4151873_jpg.rf.d4fbe5c87cfe34e0382f5974785c9e8a.jpg: 640x640 1 Dangerous Left Curve Ahead, 11.7ms\n",
      "Speed: 1.4ms preprocess, 11.7ms inference, 1.3ms postprocess per image at shape (1, 3, 640, 640)\n",
      "\n",
      "image 1/1 /content/drive/MyDrive/Q3_2/valid/images/blue-roundabout-crossroad-road-traffic-260nw-327671699_webp.rf.8d0273279415b743e32ea50b1e28f525.jpg: 640x640 1 roundabout, 11.6ms\n",
      "Speed: 1.4ms preprocess, 11.6ms inference, 1.3ms postprocess per image at shape (1, 3, 640, 640)\n",
      "\n",
      "image 1/1 /content/drive/MyDrive/Q3_2/valid/images/bright-red-and-white-no-entry-sign-with-white-on-blue-one-way-system-in-operation-sign-in-an-office-car-park-T9C441_jpg.rf.2177f19d7cceb003875ebe65e3464633.jpg: 640x640 1 No Entry, 15.4ms\n",
      "Speed: 1.6ms preprocess, 15.4ms inference, 2.3ms postprocess per image at shape (1, 3, 640, 640)\n",
      "\n",
      "image 1/1 /content/drive/MyDrive/Q3_2/valid/images/british-triangular-road-sign-warning-drivers-that-a-cycle-route-is-B22XDK_jpg.rf.9089fd9859bd85f8d04d422b477644c4.jpg: 640x640 1 CYCLE ROUTE AHEAD WARNING, 11.9ms\n",
      "Speed: 1.6ms preprocess, 11.9ms inference, 1.4ms postprocess per image at shape (1, 3, 640, 640)\n",
      "\n",
      "image 1/1 /content/drive/MyDrive/Q3_2/valid/images/Bumpy_road_-_geograph-org-uk_-_1022931_jpg.rf.fed74f0beea8ea859ee9c3e2e66fa2c8.jpg: 640x640 1 Speed bump ahead, 1 Uneven Road, 11.6ms\n",
      "Speed: 1.5ms preprocess, 11.6ms inference, 1.4ms postprocess per image at shape (1, 3, 640, 640)\n",
      "\n",
      "image 1/1 /content/drive/MyDrive/Q3_2/valid/images/Calshot_Street-_Pentonville_-_geograph-org-uk_-_1811528_jpg.rf.ec6e5b73c657816049d899be84f629a8.jpg: 640x640 1 Speed limit 30 Kph, 12.0ms\n",
      "Speed: 1.4ms preprocess, 12.0ms inference, 1.3ms postprocess per image at shape (1, 3, 640, 640)\n",
      "\n",
      "image 1/1 /content/drive/MyDrive/Q3_2/valid/images/Cape-Schanck-Boneo-Road_JPG.rf.6663663e8eceb0499dd740181afeb5c8.jpg: 640x640 1 Speed limit 60 Kph, 11.5ms\n",
      "Speed: 1.4ms preprocess, 11.5ms inference, 1.3ms postprocess per image at shape (1, 3, 640, 640)\n",
      "\n",
      "image 1/1 /content/drive/MyDrive/Q3_2/valid/images/close-up-of-a-blue-and-white-roundabout-road-sign-against-a-clear-blue-sky-with-clouds-and-copy-space-europe-photography-2K8BEKD_jpg.rf.96ca68f25f7291837cc94034acf84610.jpg: 640x640 1 roundabout, 11.6ms\n",
      "Speed: 1.4ms preprocess, 11.6ms inference, 1.3ms postprocess per image at shape (1, 3, 640, 640)\n",
      "\n",
      "image 1/1 /content/drive/MyDrive/Q3_2/valid/images/Combined_cycle_route_warning_and_30_mph_speed_limit_sign_in_Liphook-_Hampshire-_England_2_jpg.rf.4245f7660025e36c506e6f8fbe10cc15.jpg: 640x640 1 CYCLE ROUTE AHEAD WARNING, 1 Speed limit 30 Kph, 1 Speed limit 60 Kph, 11.2ms\n",
      "Speed: 1.4ms preprocess, 11.2ms inference, 1.3ms postprocess per image at shape (1, 3, 640, 640)\n",
      "\n",
      "image 1/1 /content/drive/MyDrive/Q3_2/valid/images/Combined_speed_limit_and_speed_camera_sign_on_a_Trethomas_corner_-_geograph-org-uk_-_5869803_jpg.rf.52ae5428d7e78297e23c38c955512cf6.jpg: 640x640 1 Speed limit 30 Kph, 11.4ms\n",
      "Speed: 1.4ms preprocess, 11.4ms inference, 1.3ms postprocess per image at shape (1, 3, 640, 640)\n",
      "\n",
      "image 1/1 /content/drive/MyDrive/Q3_2/valid/images/cycle-route-ahead-sign-3105904_webp.rf.ab342fa8263f5694dbffce735a636668.jpg: 640x640 1 CYCLE ROUTE AHEAD WARNING, 4 Speed limit 30 Kphs, 2 Speed limit 60 Kphs, 12.0ms\n",
      "Speed: 1.4ms preprocess, 12.0ms inference, 1.3ms postprocess per image at shape (1, 3, 640, 640)\n",
      "\n",
      "image 1/1 /content/drive/MyDrive/Q3_2/valid/images/dmeu_y4025075_23_std-lang-all_jpg.rf.76c3975fa8a8ef0c69f739215f6ba9e2.jpg: 640x640 1 No Entry, 11.5ms\n",
      "Speed: 1.4ms preprocess, 11.5ms inference, 1.3ms postprocess per image at shape (1, 3, 640, 640)\n",
      "\n",
      "image 1/1 /content/drive/MyDrive/Q3_2/valid/images/Durness_-_geograph-org-uk_-_993270_jpg.rf.caf0b2663e911921e8c419ab4a3cfa4e.jpg: 640x640 1 Speed limit 20 Kph, 1 Speed limit 90 Kph, 11.3ms\n",
      "Speed: 1.4ms preprocess, 11.3ms inference, 1.4ms postprocess per image at shape (1, 3, 640, 640)\n",
      "\n",
      "image 1/1 /content/drive/MyDrive/Q3_2/valid/images/e6jk45_jpg.rf.96be7c9ce8500d1784286ec3f776cc61.jpg: 640x640 1 No Entry, 11.9ms\n",
      "Speed: 1.4ms preprocess, 11.9ms inference, 1.4ms postprocess per image at shape (1, 3, 640, 640)\n",
      "\n",
      "image 1/1 /content/drive/MyDrive/Q3_2/valid/images/Experimental_lower_speed_limit_-_geograph-org-uk_-_614527_jpg.rf.f9817b65c16119b71a262a4ba9b5a9a3.jpg: 640x640 1 Speed limit 20 Kph, 12.1ms\n",
      "Speed: 1.4ms preprocess, 12.1ms inference, 1.3ms postprocess per image at shape (1, 3, 640, 640)\n",
      "\n",
      "image 1/1 /content/drive/MyDrive/Q3_2/valid/images/f4a36f6589a0e50e702740b15352bc00e4bfaf6f58bd4db850e167794d05993d_jpeg.rf.575bd99459aa4851a2b997fe05d36850.jpg: 640x640 1 roundabout, 11.5ms\n",
      "Speed: 1.4ms preprocess, 11.5ms inference, 1.3ms postprocess per image at shape (1, 3, 640, 640)\n",
      "\n",
      "image 1/1 /content/drive/MyDrive/Q3_2/valid/images/Field_and_30_M-P-H-_speed_limit_sign_-_geograph-org-uk_-_3864619_jpg.rf.8425ca2ee122cc16fa7266a44a8e9c75.jpg: 640x640 1 Speed limit 30 Kph, 11.7ms\n",
      "Speed: 1.7ms preprocess, 11.7ms inference, 1.5ms postprocess per image at shape (1, 3, 640, 640)\n",
      "\n",
      "image 1/1 /content/drive/MyDrive/Q3_2/valid/images/gettyimages-999372530-612x612_jpg.rf.16c42f035b9b0504a5197a68d7fc20f7.jpg: 640x640 1 Speed limit 50 Kph, 12.8ms\n",
      "Speed: 1.4ms preprocess, 12.8ms inference, 1.6ms postprocess per image at shape (1, 3, 640, 640)\n",
      "\n",
      "image 1/1 /content/drive/MyDrive/Q3_2/valid/images/image-37_webp.rf.203af40aac00d15446e441ea8c5be761.jpg: 640x640 1 Speed limit 50 Kph, 12.5ms\n",
      "Speed: 1.4ms preprocess, 12.5ms inference, 1.3ms postprocess per image at shape (1, 3, 640, 640)\n",
      "\n",
      "image 1/1 /content/drive/MyDrive/Q3_2/valid/images/images2_jpeg.rf.4e13ef0ef032f3d561b526c14e067718.jpg: 640x640 1 No Entry, 11.9ms\n",
      "Speed: 1.5ms preprocess, 11.9ms inference, 1.4ms postprocess per image at shape (1, 3, 640, 640)\n",
      "\n",
      "image 1/1 /content/drive/MyDrive/Q3_2/valid/images/images3_jpeg.rf.3447b6cd8a1649805e3a927b63358027.jpg: 640x640 1 Speed limit 90 Kph, 11.9ms\n",
      "Speed: 1.4ms preprocess, 11.9ms inference, 1.3ms postprocess per image at shape (1, 3, 640, 640)\n",
      "\n",
      "image 1/1 /content/drive/MyDrive/Q3_2/valid/images/images3_jpeg.rf.75ef844f99d7e64374ecd2ef45141f4c.jpg: 640x640 1 No Entry, 11.7ms\n",
      "Speed: 1.4ms preprocess, 11.7ms inference, 1.3ms postprocess per image at shape (1, 3, 640, 640)\n",
      "\n",
      "image 1/1 /content/drive/MyDrive/Q3_2/valid/images/images5_jpeg.rf.1f8a81f200475f779466c80963cd473d.jpg: 640x640 1 Speed limit 90 Kph, 11.6ms\n",
      "Speed: 1.4ms preprocess, 11.6ms inference, 1.3ms postprocess per image at shape (1, 3, 640, 640)\n",
      "\n",
      "image 1/1 /content/drive/MyDrive/Q3_2/valid/images/images_jpeg.rf.0c6d62aebdee085dd9e6850a9ecc17f2.jpg: 640x640 1 Dangerous Left Curve Ahead, 1 Speed limit 60 Kph, 11.8ms\n",
      "Speed: 1.4ms preprocess, 11.8ms inference, 1.3ms postprocess per image at shape (1, 3, 640, 640)\n",
      "\n",
      "image 1/1 /content/drive/MyDrive/Q3_2/valid/images/isolated-traffic-sign-speed-limit-50-kilometres-2C5CY91_jpg.rf.8afac380eb8fa2837e6e8a184c6eec18.jpg: 640x640 1 Speed limit 50 Kph, 11.4ms\n",
      "Speed: 1.4ms preprocess, 11.4ms inference, 1.3ms postprocess per image at shape (1, 3, 640, 640)\n",
      "\n",
      "image 1/1 /content/drive/MyDrive/Q3_2/valid/images/istockphoto-1269693988-612x612_jpg.rf.ea2cfc1420a5f91c2cabc72767e768e2.jpg: 640x640 1 Speed limit 70 Kph, 11.3ms\n",
      "Speed: 1.4ms preprocess, 11.3ms inference, 1.2ms postprocess per image at shape (1, 3, 640, 640)\n",
      "\n",
      "image 1/1 /content/drive/MyDrive/Q3_2/valid/images/istockphoto-453508211-612x612_jpg.rf.cdb00be778bb74f1157111e9c894b3ae.jpg: 640x640 1 roundabout, 11.8ms\n",
      "Speed: 1.4ms preprocess, 11.8ms inference, 1.3ms postprocess per image at shape (1, 3, 640, 640)\n",
      "\n",
      "image 1/1 /content/drive/MyDrive/Q3_2/valid/images/istockphoto-584855410-1024x1024_jpg.rf.75ea3dab80e52d451ca05bc32feb90f2.jpg: 640x640 1 CYCLE ROUTE AHEAD WARNING, 11.9ms\n",
      "Speed: 1.5ms preprocess, 11.9ms inference, 1.3ms postprocess per image at shape (1, 3, 640, 640)\n",
      "\n",
      "image 1/1 /content/drive/MyDrive/Q3_2/valid/images/jakarta-indonesia-23-april-2023-no-entry-sign-free-photo_jpg.rf.587d7a238c5f2345b5b41fc35d397619.jpg: 640x640 1 No Entry, 11.6ms\n",
      "Speed: 1.4ms preprocess, 11.6ms inference, 1.3ms postprocess per image at shape (1, 3, 640, 640)\n",
      "\n",
      "image 1/1 /content/drive/MyDrive/Q3_2/valid/images/JS134362289_webp.rf.500520b3001f901ae762129442b8b395.jpg: 640x640 1 No Entry, 11.6ms\n",
      "Speed: 1.4ms preprocess, 11.6ms inference, 1.3ms postprocess per image at shape (1, 3, 640, 640)\n",
      "\n",
      "image 1/1 /content/drive/MyDrive/Q3_2/valid/images/lamppost-with-multiple-signs-near-hampton-court-station-surrey-england-CPWJ9R_jpg.rf.201051a147b0c455e162d194a5705a51.jpg: 640x640 1 No Entry, 12.1ms\n",
      "Speed: 1.4ms preprocess, 12.1ms inference, 1.3ms postprocess per image at shape (1, 3, 640, 640)\n",
      "\n",
      "image 1/1 /content/drive/MyDrive/Q3_2/valid/images/La_Grande_Route_de_Saint_Pierre_jpg.rf.c03cf0cfb4ebcd5741de4297dbd351b3.jpg: 640x640 1 Speed limit 20 Kph, 2 Speed limit 30 Kphs, 11.8ms\n",
      "Speed: 1.4ms preprocess, 11.8ms inference, 1.4ms postprocess per image at shape (1, 3, 640, 640)\n",
      "\n",
      "image 1/1 /content/drive/MyDrive/Q3_2/valid/images/Left_bend_sign_and_speed_bumps_on_Pillmawr_Road-_Malpas-_Newport_-_geograph-org-uk_-_4662930_jpg.rf.6d6acdd14b228f77092908ee989b4afd.jpg: 640x640 1 Dangerous Left Curve Ahead, 11.4ms\n",
      "Speed: 1.4ms preprocess, 11.4ms inference, 1.3ms postprocess per image at shape (1, 3, 640, 640)\n",
      "\n",
      "image 1/1 /content/drive/MyDrive/Q3_2/valid/images/Left_hand_bend_ahead-_with_road_junction_right_-_geograph-org-uk_-_4196216-1-_jpg.rf.1239341a49517d324fbf6c5dc693bf3a.jpg: 640x640 1 Dangerous Rright Curve Ahead, 1 Uneven Road, 11.5ms\n",
      "Speed: 1.5ms preprocess, 11.5ms inference, 1.3ms postprocess per image at shape (1, 3, 640, 640)\n",
      "\n",
      "image 1/1 /content/drive/MyDrive/Q3_2/valid/images/Left_hand_bend_with_road_junction_to_left_-_geograph-org-uk_-_4241699_jpg.rf.2ef75b8c2c6d5a927bdf88ccd0438a89.jpg: 640x640 1 Dangerous Rright Curve Ahead, 13.8ms\n",
      "Speed: 1.6ms preprocess, 13.8ms inference, 1.5ms postprocess per image at shape (1, 3, 640, 640)\n",
      "\n",
      "image 1/1 /content/drive/MyDrive/Q3_2/valid/images/london-england-may-2018-no-entry-road-sign-to-prevent-motorist-from-using-the-wrong-entrance-to-a-parking-area-R6JY1M_jpg.rf.2161bf487bb9ff2c0f38c9d8e015212e.jpg: 640x640 1 No Entry, 14.1ms\n",
      "Speed: 2.1ms preprocess, 14.1ms inference, 1.3ms postprocess per image at shape (1, 3, 640, 640)\n",
      "\n",
      "image 1/1 /content/drive/MyDrive/Q3_2/valid/images/Looking_westwards_along_Mayfield_Road_-_geograph-org-uk_-_861279_jpg.rf.57d447ffe98779ac047516300acd2f5a.jpg: 640x640 1 Speed limit 20 Kph, 1 Speed limit 30 Kph, 14.8ms\n",
      "Speed: 1.5ms preprocess, 14.8ms inference, 1.4ms postprocess per image at shape (1, 3, 640, 640)\n",
      "\n",
      "image 1/1 /content/drive/MyDrive/Q3_2/valid/images/Martongate_-_geograph-org-uk_-_294507_jpg.rf.2bed20c4b4c33b5d4c5cec4955aaae03.jpg: 640x640 1 Speed limit 30 Kph, 14.8ms\n",
      "Speed: 1.6ms preprocess, 14.8ms inference, 1.6ms postprocess per image at shape (1, 3, 640, 640)\n",
      "\n",
      "image 1/1 /content/drive/MyDrive/Q3_2/valid/images/maxresdefault_jpg.rf.a1344e792ab88b757c9140d14bffcff7.jpg: 640x640 1 Speed limit 50 Kph, 13.2ms\n",
      "Speed: 1.5ms preprocess, 13.2ms inference, 1.4ms postprocess per image at shape (1, 3, 640, 640)\n",
      "\n",
      "image 1/1 /content/drive/MyDrive/Q3_2/valid/images/metal-plate-traffic-sign-speed-limit-60-sign-is-usually-shown-as-black-number-in-red-circle-on-white-rectangular-background-it-is-maximum-speed-2B712GH_jpg.rf.3f7f403e4ebd2f21aa3ecd3d09a54e41.jpg: 640x640 1 Speed limit 60 Kph, 12.1ms\n",
      "Speed: 1.5ms preprocess, 12.1ms inference, 1.4ms postprocess per image at shape (1, 3, 640, 640)\n",
      "\n",
      "image 1/1 /content/drive/MyDrive/Q3_2/valid/images/mini-roundabout-road-sign-in-the-uk-J253NT_jpg.rf.bd8eddd6606895af7141e91b275a03b2.jpg: 640x640 1 roundabout, 12.1ms\n",
      "Speed: 1.5ms preprocess, 12.1ms inference, 1.4ms postprocess per image at shape (1, 3, 640, 640)\n",
      "\n",
      "image 1/1 /content/drive/MyDrive/Q3_2/valid/images/morrisons-car-park-reigate-first-lane-march-2017-wide-image_jpg.rf.4322e612b708f0edd490fc076b6e302d.jpg: 640x640 2 No Entrys, 12.4ms\n",
      "Speed: 1.4ms preprocess, 12.4ms inference, 1.3ms postprocess per image at shape (1, 3, 640, 640)\n",
      "\n",
      "image 1/1 /content/drive/MyDrive/Q3_2/valid/images/no-entry-except-cycles-road-sign-in-chichester-west-sussex-uk-T3K2CB_jpg.rf.c0c8ba22875e79bc86eaf20f2cfb6647.jpg: 640x640 1 No Entry, 11.6ms\n",
      "Speed: 1.4ms preprocess, 11.6ms inference, 1.3ms postprocess per image at shape (1, 3, 640, 640)\n",
      "\n",
      "image 1/1 /content/drive/MyDrive/Q3_2/valid/images/no-entry-sign-beside-a-construction-site-in-cardiff-wales-5th-july-GB4K0G_jpg.rf.d8a73c90334d2615aac47b063c9809d0.jpg: 640x640 1 No Entry, 11.3ms\n",
      "Speed: 1.4ms preprocess, 11.3ms inference, 1.3ms postprocess per image at shape (1, 3, 640, 640)\n",
      "\n",
      "image 1/1 /content/drive/MyDrive/Q3_2/valid/images/no-entry-sign-board-pole-under-blue-sky-2M4XHJC_jpg.rf.5770542c71cef5165f2d7f642371f872.jpg: 640x640 1 No Entry, 12.9ms\n",
      "Speed: 1.4ms preprocess, 12.9ms inference, 1.3ms postprocess per image at shape (1, 3, 640, 640)\n",
      "\n",
      "image 1/1 /content/drive/MyDrive/Q3_2/valid/images/no-entry-sign-derbyshire-england-uk-E00H1G_jpg.rf.40206fcc1a3fd3ccb41bace1d87438c8.jpg: 640x640 1 No Entry, 11.5ms\n",
      "Speed: 1.5ms preprocess, 11.5ms inference, 1.3ms postprocess per image at shape (1, 3, 640, 640)\n",
      "\n",
      "image 1/1 /content/drive/MyDrive/Q3_2/valid/images/no-entry-sign-except-cycles-cctv-camera-warning-sign-E5FEN4_jpg.rf.6fd1b8cd887345b0a864ea30d54b6dae.jpg: 640x640 1 No Entry, 11.6ms\n",
      "Speed: 1.4ms preprocess, 11.6ms inference, 1.3ms postprocess per image at shape (1, 3, 640, 640)\n",
      "\n",
      "image 1/1 /content/drive/MyDrive/Q3_2/valid/images/no-entry-sign-on-a-square-background-DYMJH8_jpg.rf.304b5ef6e6c81d4865ee4c3454438827.jpg: 640x640 1 No Entry, 11.7ms\n",
      "Speed: 1.4ms preprocess, 11.7ms inference, 1.3ms postprocess per image at shape (1, 3, 640, 640)\n",
      "\n",
      "image 1/1 /content/drive/MyDrive/Q3_2/valid/images/no-entry-sign-street-post-uk-97168629_webp.rf.89541b1b71841b3c01a49516011a4e15.jpg: 640x640 2 No Entrys, 1 Speed limit 30 Kph, 11.7ms\n",
      "Speed: 1.4ms preprocess, 11.7ms inference, 1.3ms postprocess per image at shape (1, 3, 640, 640)\n",
      "\n",
      "image 1/1 /content/drive/MyDrive/Q3_2/valid/images/no-entry-warning-sign-uk-ENC4G1_jpg.rf.ea12ae821dda98ded95a80b678257bd2.jpg: 640x640 1 No Entry, 11.7ms\n",
      "Speed: 1.4ms preprocess, 11.7ms inference, 1.3ms postprocess per image at shape (1, 3, 640, 640)\n",
      "\n",
      "image 1/1 /content/drive/MyDrive/Q3_2/valid/images/No_left_turns_from_Mumby_Road_-_geograph-org-uk_-_1327304_jpg.rf.78a9db38b0ca8e6260fb57ad01499201.jpg: 640x640 1 Dangerous Left Curve Ahead, 11.7ms\n",
      "Speed: 1.4ms preprocess, 11.7ms inference, 1.3ms postprocess per image at shape (1, 3, 640, 640)\n",
      "\n",
      "image 1/1 /content/drive/MyDrive/Q3_2/valid/images/No_left_turn_sign_in_the_grounds_of_Warwick_Castle_-_geograph-org-uk_-_4692238_jpg.rf.11879614972b7d50961862955eb4a21e.jpg: 640x640 1 No Entry, 11.7ms\n",
      "Speed: 1.5ms preprocess, 11.7ms inference, 1.3ms postprocess per image at shape (1, 3, 640, 640)\n",
      "\n",
      "image 1/1 /content/drive/MyDrive/Q3_2/valid/images/No_left_turn_sign_in_the_grounds_of_Warwick_Castle_-_geograph-org-uk_-_4692238_jpg.rf.1b3b8ef899fc210ce4c93ee4645afa8b.jpg: 640x640 1 Dangerous Left Curve Ahead, 12.6ms\n",
      "Speed: 1.6ms preprocess, 12.6ms inference, 1.5ms postprocess per image at shape (1, 3, 640, 640)\n",
      "\n",
      "image 1/1 /content/drive/MyDrive/Q3_2/valid/images/OIP-1-_jpeg.rf.d823876405893e777c55bec898dc1b96.jpg: 640x640 1 Speed limit 20 Kph, 11.8ms\n",
      "Speed: 1.4ms preprocess, 11.8ms inference, 1.3ms postprocess per image at shape (1, 3, 640, 640)\n",
      "\n",
      "image 1/1 /content/drive/MyDrive/Q3_2/valid/images/OKYZQRPFLF8E5C1EFQ4D_jpg.rf.95c343147fc40a09a59e93ddfb02ca60.jpg: 640x640 1 No Entry, 11.7ms\n",
      "Speed: 1.4ms preprocess, 11.7ms inference, 1.3ms postprocess per image at shape (1, 3, 640, 640)\n",
      "\n",
      "image 1/1 /content/drive/MyDrive/Q3_2/valid/images/original_jpg.rf.eb5b7294381e1c59cf6da525ad438346.jpg: 640x640 1 Speed limit 60 Kph, 11.6ms\n",
      "Speed: 1.4ms preprocess, 11.6ms inference, 1.3ms postprocess per image at shape (1, 3, 640, 640)\n",
      "\n",
      "image 1/1 /content/drive/MyDrive/Q3_2/valid/images/Pre-Worboys_speed_limit_on_Coldharbour_Lane-_Thorpe_-_geograph-org-uk_-_4764965_jpg.rf.6610e0331448f8872ae00ee604d7e11b.jpg: 640x640 1 Speed limit 60 Kph, 11.4ms\n",
      "Speed: 1.4ms preprocess, 11.4ms inference, 1.3ms postprocess per image at shape (1, 3, 640, 640)\n",
      "\n",
      "image 1/1 /content/drive/MyDrive/Q3_2/valid/images/Proby_Street-_Maryburgh_-_geograph-org-uk_-_4216887_jpg.rf.54c284dbf759573b05e020726d569e6f.jpg: 640x640 2 Speed limit 20 Kphs, 1 Speed limit 30 Kph, 11.2ms\n",
      "Speed: 1.4ms preprocess, 11.2ms inference, 1.2ms postprocess per image at shape (1, 3, 640, 640)\n",
      "\n",
      "image 1/1 /content/drive/MyDrive/Q3_2/valid/images/Prohibido-el-paso_JPG.rf.e2d13516b2e97145c912bc880bddb4db.jpg: 640x640 1 No Entry, 12.2ms\n",
      "Speed: 1.6ms preprocess, 12.2ms inference, 1.6ms postprocess per image at shape (1, 3, 640, 640)\n",
      "\n",
      "image 1/1 /content/drive/MyDrive/Q3_2/valid/images/Pylons_and_speed_limit_signs_approaching_Quarter_-_geograph-org-uk_-_2045484_jpg.rf.22d25500ffd9e2c89d986cf7e7c13d32.jpg: 640x640 1 Speed limit 30 Kph, 11.9ms\n",
      "Speed: 1.6ms preprocess, 11.9ms inference, 1.5ms postprocess per image at shape (1, 3, 640, 640)\n",
      "\n",
      "image 1/1 /content/drive/MyDrive/Q3_2/valid/images/red-no-entry-sign-london-260nw-519686665_webp.rf.07265dae6556a3d671816dacf3957993.jpg: 640x640 1 No Entry, 11.9ms\n",
      "Speed: 1.4ms preprocess, 11.9ms inference, 1.5ms postprocess per image at shape (1, 3, 640, 640)\n",
      "\n",
      "image 1/1 /content/drive/MyDrive/Q3_2/valid/images/Red_to_the_left-_black_to_the_right-_-_geograph-org-uk_-_4260210_jpg.rf.05050688d2228b2454aaac3f6acbd6d4.jpg: 640x640 1 Dangerous Rright Curve Ahead, 12.0ms\n",
      "Speed: 1.4ms preprocess, 12.0ms inference, 1.3ms postprocess per image at shape (1, 3, 640, 640)\n",
      "\n",
      "image 1/1 /content/drive/MyDrive/Q3_2/valid/images/Report_of_the_Traffic_Signs_Committee_-1963-_-_Fig_37_png.rf.2ea90d95203b46b20a47071f55ca1636.jpg: 640x640 1 Dangerous Left Curve Ahead, 11.9ms\n",
      "Speed: 1.4ms preprocess, 11.9ms inference, 1.3ms postprocess per image at shape (1, 3, 640, 640)\n",
      "\n",
      "image 1/1 /content/drive/MyDrive/Q3_2/valid/images/right-bend-road-sign-background-35561249_webp.rf.c6952caa30dfe270836ede7ebd2c3807.jpg: 640x640 (no detections), 12.1ms\n",
      "Speed: 1.5ms preprocess, 12.1ms inference, 0.5ms postprocess per image at shape (1, 3, 640, 640)\n",
      "\n",
      "image 1/1 /content/drive/MyDrive/Q3_2/valid/images/right-bend-warning-triangle-sign-600w-331631729_webp.rf.78591eb0d84a71d031d1117a076a86e9.jpg: 640x640 1 Dangerous Rright Curve Ahead, 11.4ms\n",
      "Speed: 1.4ms preprocess, 11.4ms inference, 1.3ms postprocess per image at shape (1, 3, 640, 640)\n",
      "\n",
      "image 1/1 /content/drive/MyDrive/Q3_2/valid/images/Right_Bend-_Ranmore_Common_Road_-_geograph-org-uk_-_2706345_jpg.rf.d6eccafb5ad3c97fc0ce4837fafcf9eb.jpg: 640x640 1 Dangerous Left Curve Ahead, 1 Dangerous Rright Curve Ahead, 11.6ms\n",
      "Speed: 1.4ms preprocess, 11.6ms inference, 1.4ms postprocess per image at shape (1, 3, 640, 640)\n",
      "\n",
      "image 1/1 /content/drive/MyDrive/Q3_2/valid/images/road-sign-overtaking-prohibited-road-sign-speed-limit-km-h-road-sign-turn-right-raw-road-sign-overtaking-prohibited-road-217603858_webp.rf.b249007b77f890c954cef8be00a2ca9d.jpg: 640x640 1 Dangerous Rright Curve Ahead, 2 Speed limit 30 Kphs, 1 Speed limit 70 Kph, 1 Speed limit 90 Kph, 11.9ms\n",
      "Speed: 1.4ms preprocess, 11.9ms inference, 1.3ms postprocess per image at shape (1, 3, 640, 640)\n",
      "\n",
      "image 1/1 /content/drive/MyDrive/Q3_2/valid/images/road101_png.rf.55232756f98dc4182cc36a2c50c5537e.jpg: 640x640 (no detections), 11.7ms\n",
      "Speed: 1.4ms preprocess, 11.7ms inference, 0.6ms postprocess per image at shape (1, 3, 640, 640)\n",
      "\n",
      "image 1/1 /content/drive/MyDrive/Q3_2/valid/images/road105_png.rf.0a09b292efcad1ac4e698f861bd319ed.jpg: 640x640 1 Speed limit 70 Kph, 12.0ms\n",
      "Speed: 1.4ms preprocess, 12.0ms inference, 1.4ms postprocess per image at shape (1, 3, 640, 640)\n",
      "\n",
      "image 1/1 /content/drive/MyDrive/Q3_2/valid/images/road106_png.rf.baddd48ccb52cd95ce4cdc9d243ec403.jpg: 640x640 1 Speed limit 60 Kph, 1 Speed limit 90 Kph, 11.8ms\n",
      "Speed: 1.4ms preprocess, 11.8ms inference, 1.3ms postprocess per image at shape (1, 3, 640, 640)\n",
      "\n",
      "image 1/1 /content/drive/MyDrive/Q3_2/valid/images/road107_png.rf.ccfc4501f5c2593dbd843815765caa57.jpg: 640x640 1 Speed limit 70 Kph, 12.1ms\n",
      "Speed: 1.4ms preprocess, 12.1ms inference, 1.4ms postprocess per image at shape (1, 3, 640, 640)\n",
      "\n",
      "image 1/1 /content/drive/MyDrive/Q3_2/valid/images/road109_png.rf.c9cd67f12d095fb75cc014c0c7c5868a.jpg: 640x640 1 Dangerous Left Curve Ahead, 1 Dangerous Rright Curve Ahead, 1 Speed limit 40 Kph, 14.8ms\n",
      "Speed: 1.7ms preprocess, 14.8ms inference, 1.4ms postprocess per image at shape (1, 3, 640, 640)\n",
      "\n",
      "image 1/1 /content/drive/MyDrive/Q3_2/valid/images/road112_png.rf.f6cdd3eb213abce015a398b9d90739ca.jpg: 640x640 1 Speed limit 120 Kph, 12.1ms\n",
      "Speed: 1.4ms preprocess, 12.1ms inference, 1.3ms postprocess per image at shape (1, 3, 640, 640)\n",
      "\n",
      "image 1/1 /content/drive/MyDrive/Q3_2/valid/images/road125_png.rf.76473d76c7e2703af456c0e2b6e93a91.jpg: 640x640 1 Crosswalk, 11.9ms\n",
      "Speed: 1.5ms preprocess, 11.9ms inference, 1.3ms postprocess per image at shape (1, 3, 640, 640)\n",
      "\n",
      "image 1/1 /content/drive/MyDrive/Q3_2/valid/images/road130_png.rf.bbfcd4f53ae28683ddba3a5da5b10b77.jpg: 640x640 2 Crosswalks, 11.6ms\n",
      "Speed: 1.4ms preprocess, 11.6ms inference, 1.3ms postprocess per image at shape (1, 3, 640, 640)\n",
      "\n",
      "image 1/1 /content/drive/MyDrive/Q3_2/valid/images/road133_png.rf.50cf49843e18b6726c82bb8c530e7c3b.jpg: 640x640 1 Crosswalk, 11.2ms\n",
      "Speed: 1.4ms preprocess, 11.2ms inference, 1.3ms postprocess per image at shape (1, 3, 640, 640)\n",
      "\n",
      "image 1/1 /content/drive/MyDrive/Q3_2/valid/images/road136_png.rf.3b46443ba14c58a367a0c8aaaa657ba7.jpg: 640x640 1 Crosswalk, 11.3ms\n",
      "Speed: 1.5ms preprocess, 11.3ms inference, 1.3ms postprocess per image at shape (1, 3, 640, 640)\n",
      "\n",
      "image 1/1 /content/drive/MyDrive/Q3_2/valid/images/road140_png.rf.300d006adb747e585287a3b9c5dd79ef.jpg: 640x640 1 Crosswalk, 11.5ms\n",
      "Speed: 1.4ms preprocess, 11.5ms inference, 1.3ms postprocess per image at shape (1, 3, 640, 640)\n",
      "\n",
      "image 1/1 /content/drive/MyDrive/Q3_2/valid/images/road141_png.rf.5cb13d22930d4116240ce45e3ecf9671.jpg: 640x640 1 Crosswalk, 12.2ms\n",
      "Speed: 1.4ms preprocess, 12.2ms inference, 1.3ms postprocess per image at shape (1, 3, 640, 640)\n",
      "\n",
      "image 1/1 /content/drive/MyDrive/Q3_2/valid/images/road151_png.rf.45d03212ebe7f89bc03c413abd5bd8af.jpg: 640x640 1 Crosswalk, 11.6ms\n",
      "Speed: 1.4ms preprocess, 11.6ms inference, 1.3ms postprocess per image at shape (1, 3, 640, 640)\n",
      "\n",
      "image 1/1 /content/drive/MyDrive/Q3_2/valid/images/road152_png.rf.be3cb361d6b491b6654cb23ef0e35419.jpg: 640x640 1 Crosswalk, 11.7ms\n",
      "Speed: 1.4ms preprocess, 11.7ms inference, 1.3ms postprocess per image at shape (1, 3, 640, 640)\n",
      "\n",
      "image 1/1 /content/drive/MyDrive/Q3_2/valid/images/road155_png.rf.862888b2febd6f7ffa28543ef798e38b.jpg: 640x640 1 Crosswalk, 11.9ms\n",
      "Speed: 1.4ms preprocess, 11.9ms inference, 1.3ms postprocess per image at shape (1, 3, 640, 640)\n",
      "\n",
      "image 1/1 /content/drive/MyDrive/Q3_2/valid/images/road168_png.rf.d5ac424fb1711eca60cd48897a5c2298.jpg: 640x640 1 Crosswalk, 11.2ms\n",
      "Speed: 1.4ms preprocess, 11.2ms inference, 1.3ms postprocess per image at shape (1, 3, 640, 640)\n",
      "\n",
      "image 1/1 /content/drive/MyDrive/Q3_2/valid/images/road171_png.rf.e6a81557a390014440d96b1f4dc97dca.jpg: 640x640 1 Crosswalk, 11.3ms\n",
      "Speed: 1.5ms preprocess, 11.3ms inference, 1.4ms postprocess per image at shape (1, 3, 640, 640)\n",
      "\n",
      "image 1/1 /content/drive/MyDrive/Q3_2/valid/images/road181_png.rf.e81a12f24bb9084db33f4ecda3501d34.jpg: 640x640 1 Speed limit 100 Kph, 11.5ms\n",
      "Speed: 1.4ms preprocess, 11.5ms inference, 1.3ms postprocess per image at shape (1, 3, 640, 640)\n",
      "\n",
      "image 1/1 /content/drive/MyDrive/Q3_2/valid/images/road188_png.rf.c60514c539fd6e89f6477f68e670101e.jpg: 640x640 1 One way road, 1 Speed bump ahead, 1 Speed limit 40 Kph, 11.1ms\n",
      "Speed: 1.3ms preprocess, 11.1ms inference, 1.3ms postprocess per image at shape (1, 3, 640, 640)\n",
      "\n",
      "image 1/1 /content/drive/MyDrive/Q3_2/valid/images/road192_png.rf.8a3d7c5dfc75aae328d6798ecf9112d5.jpg: 640x640 1 Speed bump ahead, 1 Speed limit 40 Kph, 11.3ms\n",
      "Speed: 1.4ms preprocess, 11.3ms inference, 1.3ms postprocess per image at shape (1, 3, 640, 640)\n",
      "\n",
      "image 1/1 /content/drive/MyDrive/Q3_2/valid/images/road201_png.rf.76ebaad148342106abc54146a9af2a09.jpg: 640x640 1 Speed limit 40 Kph, 12.3ms\n",
      "Speed: 1.3ms preprocess, 12.3ms inference, 1.3ms postprocess per image at shape (1, 3, 640, 640)\n",
      "\n",
      "image 1/1 /content/drive/MyDrive/Q3_2/valid/images/road204_png.rf.8b8f11cabc4fac2672516d3accc1295d.jpg: 640x640 1 Crosswalk, 12.5ms\n",
      "Speed: 1.9ms preprocess, 12.5ms inference, 1.4ms postprocess per image at shape (1, 3, 640, 640)\n",
      "\n",
      "image 1/1 /content/drive/MyDrive/Q3_2/valid/images/road215_png.rf.29ec6aebb4377af49fb39955c2b6d8ff.jpg: 640x640 (no detections), 12.1ms\n",
      "Speed: 1.5ms preprocess, 12.1ms inference, 0.5ms postprocess per image at shape (1, 3, 640, 640)\n",
      "\n",
      "image 1/1 /content/drive/MyDrive/Q3_2/valid/images/road217_png.rf.5e16fd0ab8ff13a4d4f44986663733e5.jpg: 640x640 (no detections), 11.9ms\n",
      "Speed: 1.4ms preprocess, 11.9ms inference, 0.5ms postprocess per image at shape (1, 3, 640, 640)\n",
      "\n",
      "image 1/1 /content/drive/MyDrive/Q3_2/valid/images/road220_png.rf.edb1a5b4ecada4d1e834f3c8d9211858.jpg: 640x640 1 Speed limit 100 Kph, 11.3ms\n",
      "Speed: 1.4ms preprocess, 11.3ms inference, 1.3ms postprocess per image at shape (1, 3, 640, 640)\n",
      "\n",
      "image 1/1 /content/drive/MyDrive/Q3_2/valid/images/road222_png.rf.2c24917860100a6f522181a7cf2b9baa.jpg: 640x640 1 Speed limit 100 Kph, 11.2ms\n",
      "Speed: 1.4ms preprocess, 11.2ms inference, 1.3ms postprocess per image at shape (1, 3, 640, 640)\n",
      "\n",
      "image 1/1 /content/drive/MyDrive/Q3_2/valid/images/road227_png.rf.7bd8bf0df64b6ed3180341e08e2f8f68.jpg: 640x640 1 One way road, 2 Speed limit 100 Kphs, 11.2ms\n",
      "Speed: 1.4ms preprocess, 11.2ms inference, 1.3ms postprocess per image at shape (1, 3, 640, 640)\n",
      "\n",
      "image 1/1 /content/drive/MyDrive/Q3_2/valid/images/road22_png.rf.744ebf6bbc7aab72184afd3a7235822e.jpg: 640x640 1 Stop_Sign, 11.5ms\n",
      "Speed: 1.4ms preprocess, 11.5ms inference, 1.3ms postprocess per image at shape (1, 3, 640, 640)\n",
      "\n",
      "image 1/1 /content/drive/MyDrive/Q3_2/valid/images/road230_png.rf.7889e83764a5f9023265ac38c890a0d6.jpg: 640x640 1 Speed limit 100 Kph, 2 Speed limit 120 Kphs, 11.8ms\n",
      "Speed: 1.5ms preprocess, 11.8ms inference, 1.3ms postprocess per image at shape (1, 3, 640, 640)\n",
      "\n",
      "image 1/1 /content/drive/MyDrive/Q3_2/valid/images/road231_png.rf.12d551935e3e98bfe4315b9a61a89ad3.jpg: 640x640 2 Speed limit 100 Kphs, 11.9ms\n",
      "Speed: 1.4ms preprocess, 11.9ms inference, 1.3ms postprocess per image at shape (1, 3, 640, 640)\n",
      "\n",
      "image 1/1 /content/drive/MyDrive/Q3_2/valid/images/road233_png.rf.f3be4dbf865ae5c4bd716b7c81621ab3.jpg: 640x640 1 Beware of children, 1 Speed limit 100 Kph, 1 Speed limit 120 Kph, 12.0ms\n",
      "Speed: 1.4ms preprocess, 12.0ms inference, 1.3ms postprocess per image at shape (1, 3, 640, 640)\n",
      "\n",
      "image 1/1 /content/drive/MyDrive/Q3_2/valid/images/road243_png.rf.473ada9c0db5839427a520ad7f3a5abc.jpg: 640x640 1 Speed limit 100 Kph, 1 Speed limit 80 Kph, 12.4ms\n",
      "Speed: 1.4ms preprocess, 12.4ms inference, 1.3ms postprocess per image at shape (1, 3, 640, 640)\n",
      "\n",
      "image 1/1 /content/drive/MyDrive/Q3_2/valid/images/road259_png.rf.3647c3fd8115f845d78db02f8a3d93f3.jpg: 640x640 1 Speed limit 40 Kph, 11.9ms\n",
      "Speed: 1.5ms preprocess, 11.9ms inference, 1.4ms postprocess per image at shape (1, 3, 640, 640)\n",
      "\n",
      "image 1/1 /content/drive/MyDrive/Q3_2/valid/images/road266_png.rf.2c2006f8c8bc685009d07b2e8c06e819.jpg: 640x640 1 Speed bump ahead, 1 Speed limit 40 Kph, 14.3ms\n",
      "Speed: 1.7ms preprocess, 14.3ms inference, 1.6ms postprocess per image at shape (1, 3, 640, 640)\n",
      "\n",
      "image 1/1 /content/drive/MyDrive/Q3_2/valid/images/road267_png.rf.4fd4d67eccbc007f58ffd94799ef9ec1.jpg: 640x640 1 Speed bump ahead, 1 Speed limit 40 Kph, 11.2ms\n",
      "Speed: 1.4ms preprocess, 11.2ms inference, 1.3ms postprocess per image at shape (1, 3, 640, 640)\n",
      "\n",
      "image 1/1 /content/drive/MyDrive/Q3_2/valid/images/road271_png.rf.ee0f48704524968da6560f1032ee0bae.jpg: 640x640 1 Speed bump ahead, 1 Speed limit 40 Kph, 12.0ms\n",
      "Speed: 1.4ms preprocess, 12.0ms inference, 1.5ms postprocess per image at shape (1, 3, 640, 640)\n",
      "\n",
      "image 1/1 /content/drive/MyDrive/Q3_2/valid/images/road274_png.rf.a863e59e1244dac3ebc31b4deca2d56c.jpg: 640x640 1 Beware of children, 1 Speed bump ahead, 1 Speed limit 30 Kph, 13.1ms\n",
      "Speed: 1.6ms preprocess, 13.1ms inference, 1.4ms postprocess per image at shape (1, 3, 640, 640)\n",
      "\n",
      "image 1/1 /content/drive/MyDrive/Q3_2/valid/images/road277_png.rf.9fc273b4f31f48c4384f6ea9f0b9023c.jpg: 640x640 1 Speed bump ahead, 1 Speed limit 40 Kph, 13.1ms\n",
      "Speed: 1.5ms preprocess, 13.1ms inference, 1.5ms postprocess per image at shape (1, 3, 640, 640)\n",
      "\n",
      "image 1/1 /content/drive/MyDrive/Q3_2/valid/images/road279_png.rf.48032dc252a12881915cee1ef1b491e6.jpg: 640x640 1 Speed bump ahead, 1 Speed limit 40 Kph, 12.7ms\n",
      "Speed: 1.6ms preprocess, 12.7ms inference, 1.4ms postprocess per image at shape (1, 3, 640, 640)\n",
      "\n",
      "image 1/1 /content/drive/MyDrive/Q3_2/valid/images/road281_png.rf.195c21011eff91978a1f8170d3238cff.jpg: 640x640 1 Crosswalk, 1 Speed bump ahead, 1 Speed limit 40 Kph, 13.4ms\n",
      "Speed: 1.5ms preprocess, 13.4ms inference, 1.4ms postprocess per image at shape (1, 3, 640, 640)\n",
      "\n",
      "image 1/1 /content/drive/MyDrive/Q3_2/valid/images/road284_png.rf.3a08d86c95b896397680caaf34c90754.jpg: 640x640 1 Speed bump ahead, 1 Speed limit 40 Kph, 12.2ms\n",
      "Speed: 1.6ms preprocess, 12.2ms inference, 1.4ms postprocess per image at shape (1, 3, 640, 640)\n",
      "\n",
      "image 1/1 /content/drive/MyDrive/Q3_2/valid/images/road289_png.rf.80920c7246cf55304a4385d69d1e80e8.jpg: 640x640 1 Stop_Sign, 12.0ms\n",
      "Speed: 1.5ms preprocess, 12.0ms inference, 1.4ms postprocess per image at shape (1, 3, 640, 640)\n",
      "\n",
      "image 1/1 /content/drive/MyDrive/Q3_2/valid/images/road293_png.rf.82cf72dc0802ffef90a6ccd153b9e959.jpg: 640x640 1 Beware of children, 1 Speed bump ahead, 1 Speed limit 30 Kph, 12.8ms\n",
      "Speed: 1.5ms preprocess, 12.8ms inference, 1.4ms postprocess per image at shape (1, 3, 640, 640)\n",
      "\n",
      "image 1/1 /content/drive/MyDrive/Q3_2/valid/images/road294_png.rf.3080d6f8100cf2ce8d48bf1e34ff1e5a.jpg: 640x640 1 Speed bump ahead, 1 Speed limit 40 Kph, 12.0ms\n",
      "Speed: 1.4ms preprocess, 12.0ms inference, 1.8ms postprocess per image at shape (1, 3, 640, 640)\n",
      "\n",
      "image 1/1 /content/drive/MyDrive/Q3_2/valid/images/road298_png.rf.1234c4e8121a9ec9d1ad3ed9d35e8ad2.jpg: 640x640 1 Speed bump ahead, 1 Speed limit 40 Kph, 12.3ms\n",
      "Speed: 1.7ms preprocess, 12.3ms inference, 1.4ms postprocess per image at shape (1, 3, 640, 640)\n",
      "\n",
      "image 1/1 /content/drive/MyDrive/Q3_2/valid/images/road299_png.rf.3d786fed80dd9e885810b89da63e2aa3.jpg: 640x640 1 Speed bump ahead, 1 Speed limit 40 Kph, 12.4ms\n",
      "Speed: 1.4ms preprocess, 12.4ms inference, 1.3ms postprocess per image at shape (1, 3, 640, 640)\n",
      "\n",
      "image 1/1 /content/drive/MyDrive/Q3_2/valid/images/road301_png.rf.46eff92d048174cf667cc4a3c0437490.jpg: 640x640 1 Speed bump ahead, 1 Speed limit 40 Kph, 12.4ms\n",
      "Speed: 1.4ms preprocess, 12.4ms inference, 1.3ms postprocess per image at shape (1, 3, 640, 640)\n",
      "\n",
      "image 1/1 /content/drive/MyDrive/Q3_2/valid/images/road313_png.rf.ac777f33d64f17627d30c881eabf9cd4.jpg: 640x640 1 Speed limit, 1 Speed limit 40 Kph, 11.6ms\n",
      "Speed: 1.4ms preprocess, 11.6ms inference, 1.3ms postprocess per image at shape (1, 3, 640, 640)\n",
      "\n",
      "image 1/1 /content/drive/MyDrive/Q3_2/valid/images/road314_png.rf.b8ad0ea4abc0ae85c47743dabb96d946.jpg: 640x640 1 Crosswalk, 1 Speed bump ahead, 1 Speed limit, 2 Speed limit 40 Kphs, 11.8ms\n",
      "Speed: 1.4ms preprocess, 11.8ms inference, 1.3ms postprocess per image at shape (1, 3, 640, 640)\n",
      "\n",
      "image 1/1 /content/drive/MyDrive/Q3_2/valid/images/road318_png.rf.a3d354ebb4ea43fc61bc00f002b88920.jpg: 640x640 1 Crosswalk, 1 Speed limit 40 Kph, 12.1ms\n",
      "Speed: 1.5ms preprocess, 12.1ms inference, 1.3ms postprocess per image at shape (1, 3, 640, 640)\n",
      "\n",
      "image 1/1 /content/drive/MyDrive/Q3_2/valid/images/road319_png.rf.743428fae48f58354ee34b4c43bc316a.jpg: 640x640 1 CYCLE ROUTE AHEAD WARNING, 1 Speed limit 40 Kph, 1 Speed limit 60 Kph, 11.4ms\n",
      "Speed: 1.5ms preprocess, 11.4ms inference, 1.3ms postprocess per image at shape (1, 3, 640, 640)\n",
      "\n",
      "image 1/1 /content/drive/MyDrive/Q3_2/valid/images/road320_png.rf.b137fd8231301952cf4b0c1f56a122bc.jpg: 640x640 1 Speed bump ahead, 1 Speed limit 40 Kph, 11.9ms\n",
      "Speed: 1.5ms preprocess, 11.9ms inference, 1.4ms postprocess per image at shape (1, 3, 640, 640)\n",
      "\n",
      "image 1/1 /content/drive/MyDrive/Q3_2/valid/images/road321_png.rf.d7bdb44d75e9fb377871c1f36f616729.jpg: 640x640 1 Crosswalk, 1 One way road, 1 Speed bump ahead, 2 Speed limits, 1 Speed limit 40 Kph, 11.4ms\n",
      "Speed: 1.5ms preprocess, 11.4ms inference, 1.3ms postprocess per image at shape (1, 3, 640, 640)\n",
      "\n",
      "image 1/1 /content/drive/MyDrive/Q3_2/valid/images/road322_png.rf.fa6356d146be9b0f65bf23ca7087df28.jpg: 640x640 1 Speed limit, 1 Speed limit 40 Kph, 11.3ms\n",
      "Speed: 1.4ms preprocess, 11.3ms inference, 1.3ms postprocess per image at shape (1, 3, 640, 640)\n",
      "\n",
      "image 1/1 /content/drive/MyDrive/Q3_2/valid/images/road324_png.rf.cf69ea9709f822727f79b42c2eb6e4ca.jpg: 640x640 1 Crosswalk, 1 Speed limit, 11.6ms\n",
      "Speed: 1.5ms preprocess, 11.6ms inference, 1.3ms postprocess per image at shape (1, 3, 640, 640)\n",
      "\n",
      "image 1/1 /content/drive/MyDrive/Q3_2/valid/images/road326_png.rf.2011010b10f116459fca442f2d82fabd.jpg: 640x640 1 Speed bump ahead, 1 Speed limit 40 Kph, 11.5ms\n",
      "Speed: 1.4ms preprocess, 11.5ms inference, 1.3ms postprocess per image at shape (1, 3, 640, 640)\n",
      "\n",
      "image 1/1 /content/drive/MyDrive/Q3_2/valid/images/road329_png.rf.1d76f0552aef2b0f6be9e7a018f93a04.jpg: 640x640 1 Speed bump ahead, 1 Speed limit 40 Kph, 11.9ms\n",
      "Speed: 1.4ms preprocess, 11.9ms inference, 1.4ms postprocess per image at shape (1, 3, 640, 640)\n",
      "\n",
      "image 1/1 /content/drive/MyDrive/Q3_2/valid/images/road330_png.rf.49f9ee718d36c6b70e8d6c386fa05a68.jpg: 640x640 1 Speed limit 40 Kph, 11.6ms\n",
      "Speed: 1.4ms preprocess, 11.6ms inference, 1.3ms postprocess per image at shape (1, 3, 640, 640)\n",
      "\n",
      "image 1/1 /content/drive/MyDrive/Q3_2/valid/images/road331_png.rf.cf45cd3f69412b9328197d098ec455c6.jpg: 640x640 1 Crosswalk, 1 Speed limit 40 Kph, 11.8ms\n",
      "Speed: 1.4ms preprocess, 11.8ms inference, 1.4ms postprocess per image at shape (1, 3, 640, 640)\n",
      "\n",
      "image 1/1 /content/drive/MyDrive/Q3_2/valid/images/road332_png.rf.451cf0272c790882071cb4dc3b653e88.jpg: 640x640 1 Speed bump ahead, 1 Speed limit 40 Kph, 12.1ms\n",
      "Speed: 1.4ms preprocess, 12.1ms inference, 1.4ms postprocess per image at shape (1, 3, 640, 640)\n",
      "\n",
      "image 1/1 /content/drive/MyDrive/Q3_2/valid/images/road333_png.rf.444c6d332e1e75bff13d1cdbb9f5d8e0.jpg: 640x640 1 Dangerous Left Curve Ahead, 1 Speed limit, 1 Speed limit 40 Kph, 11.4ms\n",
      "Speed: 1.4ms preprocess, 11.4ms inference, 1.3ms postprocess per image at shape (1, 3, 640, 640)\n",
      "\n",
      "image 1/1 /content/drive/MyDrive/Q3_2/valid/images/road334_png.rf.a1ef8844a17a32c7ff21f98a4c945adb.jpg: 640x640 1 Speed limit, 1 Speed limit 70 Kph, 11.5ms\n",
      "Speed: 1.4ms preprocess, 11.5ms inference, 1.3ms postprocess per image at shape (1, 3, 640, 640)\n",
      "\n",
      "image 1/1 /content/drive/MyDrive/Q3_2/valid/images/road335_png.rf.d3122c021a899d933f0bce2e57440d0f.jpg: 640x640 1 Speed limit, 1 Speed limit 70 Kph, 12.0ms\n",
      "Speed: 1.5ms preprocess, 12.0ms inference, 1.3ms postprocess per image at shape (1, 3, 640, 640)\n",
      "\n",
      "image 1/1 /content/drive/MyDrive/Q3_2/valid/images/road339_png.rf.0cdb78742db0ca9e4cd8e127f0afc601.jpg: 640x640 1 Stop_Sign, 11.8ms\n",
      "Speed: 1.4ms preprocess, 11.8ms inference, 1.3ms postprocess per image at shape (1, 3, 640, 640)\n",
      "\n",
      "image 1/1 /content/drive/MyDrive/Q3_2/valid/images/road342_png.rf.394ae11ddf368d5bb2f050ac003f1dc1.jpg: 640x640 1 Speed limit, 1 Speed limit 40 Kph, 13.1ms\n",
      "Speed: 1.6ms preprocess, 13.1ms inference, 1.5ms postprocess per image at shape (1, 3, 640, 640)\n",
      "\n",
      "image 1/1 /content/drive/MyDrive/Q3_2/valid/images/road343_png.rf.0bf8af8212c6e38869a2854a01901abb.jpg: 640x640 1 Dangerous Left Curve Ahead, 1 Speed limit, 1 Speed limit 40 Kph, 12.1ms\n",
      "Speed: 1.6ms preprocess, 12.1ms inference, 1.4ms postprocess per image at shape (1, 3, 640, 640)\n",
      "\n",
      "image 1/1 /content/drive/MyDrive/Q3_2/valid/images/road348_png.rf.01e85cd3c68530e8fe456e157c566424.jpg: 640x640 1 Speed bump ahead, 1 Speed limit 40 Kph, 13.1ms\n",
      "Speed: 1.5ms preprocess, 13.1ms inference, 1.5ms postprocess per image at shape (1, 3, 640, 640)\n",
      "\n",
      "image 1/1 /content/drive/MyDrive/Q3_2/valid/images/road351_png.rf.e4677e042dcb045fdbd1e6938e585195.jpg: 640x640 1 Speed limit 40 Kph, 11.7ms\n",
      "Speed: 1.4ms preprocess, 11.7ms inference, 1.4ms postprocess per image at shape (1, 3, 640, 640)\n",
      "\n",
      "image 1/1 /content/drive/MyDrive/Q3_2/valid/images/road357_png.rf.accfb6715c5191d4bca4eb62f68d6f38.jpg: 640x640 1 Speed limit 40 Kph, 11.5ms\n",
      "Speed: 1.4ms preprocess, 11.5ms inference, 1.3ms postprocess per image at shape (1, 3, 640, 640)\n",
      "\n",
      "image 1/1 /content/drive/MyDrive/Q3_2/valid/images/road361_png.rf.a9cc6906ceff551d829cdf20a94b36df.jpg: 640x640 1 Crosswalk, 1 Speed limit 40 Kph, 13.1ms\n",
      "Speed: 1.6ms preprocess, 13.1ms inference, 1.4ms postprocess per image at shape (1, 3, 640, 640)\n",
      "\n",
      "image 1/1 /content/drive/MyDrive/Q3_2/valid/images/road369_png.rf.c8998fd82e82147ada3175d200dd5e9f.jpg: 640x640 1 Speed bump ahead, 1 Speed limit 40 Kph, 11.9ms\n",
      "Speed: 1.4ms preprocess, 11.9ms inference, 1.4ms postprocess per image at shape (1, 3, 640, 640)\n",
      "\n",
      "image 1/1 /content/drive/MyDrive/Q3_2/valid/images/road376_png.rf.2c0a40594b1922fb261e0de527220a67.jpg: 640x640 1 Speed bump ahead, 1 Speed limit 30 Kph, 11.7ms\n",
      "Speed: 1.4ms preprocess, 11.7ms inference, 1.3ms postprocess per image at shape (1, 3, 640, 640)\n",
      "\n",
      "image 1/1 /content/drive/MyDrive/Q3_2/valid/images/road380_png.rf.bd4434528d3780d2fa3a3454cb77c4c1.jpg: 640x640 1 Speed limit, 1 Speed limit 40 Kph, 1 Speed limit 70 Kph, 14.0ms\n",
      "Speed: 1.7ms preprocess, 14.0ms inference, 1.4ms postprocess per image at shape (1, 3, 640, 640)\n",
      "\n",
      "image 1/1 /content/drive/MyDrive/Q3_2/valid/images/road382_png.rf.b1f6f8dd3ebda8084282acfd58b4811b.jpg: 640x640 1 Speed limit 40 Kph, 1 Speed limit 70 Kph, 13.8ms\n",
      "Speed: 1.7ms preprocess, 13.8ms inference, 1.5ms postprocess per image at shape (1, 3, 640, 640)\n",
      "\n",
      "image 1/1 /content/drive/MyDrive/Q3_2/valid/images/road383_png.rf.07ecd0781ba5335ad28373b41073f1be.jpg: 640x640 1 Speed limit 70 Kph, 14.0ms\n",
      "Speed: 2.0ms preprocess, 14.0ms inference, 1.4ms postprocess per image at shape (1, 3, 640, 640)\n",
      "\n",
      "image 1/1 /content/drive/MyDrive/Q3_2/valid/images/road386_png.rf.33122e703e94de6522ea1e7e520688e4.jpg: 640x640 1 Speed limit 70 Kph, 12.5ms\n",
      "Speed: 1.6ms preprocess, 12.5ms inference, 1.5ms postprocess per image at shape (1, 3, 640, 640)\n",
      "\n",
      "image 1/1 /content/drive/MyDrive/Q3_2/valid/images/road388_png.rf.5178cad86eb7db095106ae5bdc75afc2.jpg: 640x640 1 Speed limit 90 Kph, 12.3ms\n",
      "Speed: 1.5ms preprocess, 12.3ms inference, 1.4ms postprocess per image at shape (1, 3, 640, 640)\n",
      "\n",
      "image 1/1 /content/drive/MyDrive/Q3_2/valid/images/road389_png.rf.5362d2b8fc272eaf99cceb8e4542fb16.jpg: 640x640 1 Speed limit 90 Kph, 12.4ms\n",
      "Speed: 1.5ms preprocess, 12.4ms inference, 1.4ms postprocess per image at shape (1, 3, 640, 640)\n",
      "\n",
      "image 1/1 /content/drive/MyDrive/Q3_2/valid/images/road390_png.rf.0e86b995fccfe15f3a06e148e3321f3e.jpg: 640x640 1 Speed limit 90 Kph, 12.2ms\n",
      "Speed: 1.5ms preprocess, 12.2ms inference, 1.4ms postprocess per image at shape (1, 3, 640, 640)\n",
      "\n",
      "image 1/1 /content/drive/MyDrive/Q3_2/valid/images/road392_png.rf.5d6775c1e88a42f68ae9b1008cb45f33.jpg: 640x640 1 Speed limit 100 Kph, 12.5ms\n",
      "Speed: 1.5ms preprocess, 12.5ms inference, 1.5ms postprocess per image at shape (1, 3, 640, 640)\n",
      "\n",
      "image 1/1 /content/drive/MyDrive/Q3_2/valid/images/road393_png.rf.095847ea3e4d9e812b1020fc343c29d9.jpg: 640x640 1 Speed limit 100 Kph, 12.1ms\n",
      "Speed: 1.5ms preprocess, 12.1ms inference, 1.3ms postprocess per image at shape (1, 3, 640, 640)\n",
      "\n",
      "image 1/1 /content/drive/MyDrive/Q3_2/valid/images/road399_png.rf.a6d256a867e3a8fa06d69348328cc18d.jpg: 640x640 1 Speed limit 100 Kph, 12.4ms\n",
      "Speed: 1.5ms preprocess, 12.4ms inference, 1.4ms postprocess per image at shape (1, 3, 640, 640)\n",
      "\n",
      "image 1/1 /content/drive/MyDrive/Q3_2/valid/images/road403_png.rf.f4f4e8c5d6080b362fbc831da5815fe0.jpg: 640x640 1 Speed limit 90 Kph, 11.7ms\n",
      "Speed: 1.5ms preprocess, 11.7ms inference, 1.4ms postprocess per image at shape (1, 3, 640, 640)\n",
      "\n",
      "image 1/1 /content/drive/MyDrive/Q3_2/valid/images/road406_png.rf.6ccd7eae4a4ef85e612a1b9d2a581b9c.jpg: 640x640 1 Speed limit 100 Kph, 12.5ms\n",
      "Speed: 1.5ms preprocess, 12.5ms inference, 1.6ms postprocess per image at shape (1, 3, 640, 640)\n",
      "\n",
      "image 1/1 /content/drive/MyDrive/Q3_2/valid/images/road409_png.rf.70d76097a44542602b2dd5e5f9458aa8.jpg: 640x640 1 Speed limit 100 Kph, 12.3ms\n",
      "Speed: 1.5ms preprocess, 12.3ms inference, 1.5ms postprocess per image at shape (1, 3, 640, 640)\n",
      "\n",
      "image 1/1 /content/drive/MyDrive/Q3_2/valid/images/road410_png.rf.bc6f86e42020e2c93a3e80159353c07a.jpg: 640x640 1 Speed limit 100 Kph, 11.6ms\n",
      "Speed: 1.5ms preprocess, 11.6ms inference, 1.4ms postprocess per image at shape (1, 3, 640, 640)\n",
      "\n",
      "image 1/1 /content/drive/MyDrive/Q3_2/valid/images/road413_png.rf.0b67a93d66f2f07b3fbf41945306916c.jpg: 640x640 1 Speed limit 100 Kph, 11.4ms\n",
      "Speed: 1.5ms preprocess, 11.4ms inference, 1.3ms postprocess per image at shape (1, 3, 640, 640)\n",
      "\n",
      "image 1/1 /content/drive/MyDrive/Q3_2/valid/images/road416_png.rf.d7981a49119c1079d893803617f34ddd.jpg: 640x640 1 Speed limit 100 Kph, 12.3ms\n",
      "Speed: 1.6ms preprocess, 12.3ms inference, 1.6ms postprocess per image at shape (1, 3, 640, 640)\n",
      "\n",
      "image 1/1 /content/drive/MyDrive/Q3_2/valid/images/road420_png.rf.9acec628b55966820aa50cad9cd26810.jpg: 640x640 1 Speed limit 90 Kph, 12.2ms\n",
      "Speed: 1.6ms preprocess, 12.2ms inference, 1.5ms postprocess per image at shape (1, 3, 640, 640)\n",
      "\n",
      "image 1/1 /content/drive/MyDrive/Q3_2/valid/images/road422_png.rf.787ad574ac86eda01d52ce1701981bd9.jpg: 640x640 1 Speed limit, 1 Speed limit 80 Kph, 13.2ms\n",
      "Speed: 1.5ms preprocess, 13.2ms inference, 1.5ms postprocess per image at shape (1, 3, 640, 640)\n",
      "\n",
      "image 1/1 /content/drive/MyDrive/Q3_2/valid/images/road425_png.rf.8def028815a4bfb5927eb87a15738995.jpg: 640x640 1 Speed limit, 1 Speed limit 90 Kph, 12.5ms\n",
      "Speed: 1.6ms preprocess, 12.5ms inference, 1.5ms postprocess per image at shape (1, 3, 640, 640)\n",
      "\n",
      "image 1/1 /content/drive/MyDrive/Q3_2/valid/images/road426_png.rf.7030f0cb89c35ba5f3f815bf923e52f0.jpg: 640x640 1 Speed limit, 1 Speed limit 90 Kph, 12.4ms\n",
      "Speed: 1.5ms preprocess, 12.4ms inference, 1.4ms postprocess per image at shape (1, 3, 640, 640)\n",
      "\n",
      "image 1/1 /content/drive/MyDrive/Q3_2/valid/images/road429_png.rf.0b1a53c50821f425c86867203faed983.jpg: 640x640 1 Speed limit 90 Kph, 12.3ms\n",
      "Speed: 1.5ms preprocess, 12.3ms inference, 1.4ms postprocess per image at shape (1, 3, 640, 640)\n",
      "\n",
      "image 1/1 /content/drive/MyDrive/Q3_2/valid/images/road430_png.rf.9826d8fc5f3ee5ff0dc06060e5a52822.jpg: 640x640 1 Speed limit 90 Kph, 12.1ms\n",
      "Speed: 1.5ms preprocess, 12.1ms inference, 1.4ms postprocess per image at shape (1, 3, 640, 640)\n",
      "\n",
      "image 1/1 /content/drive/MyDrive/Q3_2/valid/images/road431_png.rf.3a9da2377b33bcac66979c6dc0d4508f.jpg: 640x640 1 Speed limit 90 Kph, 11.8ms\n",
      "Speed: 1.5ms preprocess, 11.8ms inference, 1.3ms postprocess per image at shape (1, 3, 640, 640)\n",
      "\n",
      "image 1/1 /content/drive/MyDrive/Q3_2/valid/images/road437_png.rf.82c6f79a0e39761a3dcdba474e30e015.jpg: 640x640 1 Speed limit 40 Kph, 1 Speed limit 90 Kph, 12.0ms\n",
      "Speed: 1.4ms preprocess, 12.0ms inference, 1.3ms postprocess per image at shape (1, 3, 640, 640)\n",
      "\n",
      "image 1/1 /content/drive/MyDrive/Q3_2/valid/images/road438_png.rf.3504fe26527ed14623081c6f9302c082.jpg: 640x640 1 Speed limit 40 Kph, 1 Speed limit 90 Kph, 12.8ms\n",
      "Speed: 1.6ms preprocess, 12.8ms inference, 1.6ms postprocess per image at shape (1, 3, 640, 640)\n",
      "\n",
      "image 1/1 /content/drive/MyDrive/Q3_2/valid/images/road440_png.rf.2c3955b42ed8dc9b964d97886c305298.jpg: 640x640 1 Speed limit 90 Kph, 13.8ms\n",
      "Speed: 1.7ms preprocess, 13.8ms inference, 1.9ms postprocess per image at shape (1, 3, 640, 640)\n",
      "\n",
      "image 1/1 /content/drive/MyDrive/Q3_2/valid/images/road442_png.rf.0e1bee8377b5bdfd0e0ac2a38f707331.jpg: 640x640 1 Speed limit 90 Kph, 14.3ms\n",
      "Speed: 1.7ms preprocess, 14.3ms inference, 1.6ms postprocess per image at shape (1, 3, 640, 640)\n",
      "\n",
      "image 1/1 /content/drive/MyDrive/Q3_2/valid/images/road443_png.rf.59ab2aed3fc9cf42f2f40d8d75aa22cb.jpg: 640x640 1 Speed limit 90 Kph, 13.8ms\n",
      "Speed: 1.6ms preprocess, 13.8ms inference, 1.5ms postprocess per image at shape (1, 3, 640, 640)\n",
      "\n",
      "image 1/1 /content/drive/MyDrive/Q3_2/valid/images/road449_png.rf.cefab38be838be3d28cb9a4a1ad4574c.jpg: 640x640 1 Speed limit 60 Kph, 1 Speed limit 90 Kph, 12.5ms\n",
      "Speed: 1.5ms preprocess, 12.5ms inference, 1.6ms postprocess per image at shape (1, 3, 640, 640)\n",
      "\n",
      "image 1/1 /content/drive/MyDrive/Q3_2/valid/images/road463_png.rf.144807afbc701b3d68c8862ed962cd5c.jpg: 640x640 1 Crosswalk, 1 Speed limit, 1 Speed limit 80 Kph, 16.0ms\n",
      "Speed: 1.7ms preprocess, 16.0ms inference, 1.7ms postprocess per image at shape (1, 3, 640, 640)\n",
      "\n",
      "image 1/1 /content/drive/MyDrive/Q3_2/valid/images/road466_png.rf.a44456f74fee2d0eddd2a478b5c7415e.jpg: 640x640 1 Crosswalk, 1 Speed limit, 1 Speed limit 80 Kph, 14.1ms\n",
      "Speed: 1.7ms preprocess, 14.1ms inference, 1.6ms postprocess per image at shape (1, 3, 640, 640)\n",
      "\n",
      "image 1/1 /content/drive/MyDrive/Q3_2/valid/images/road467_png.rf.1e168b0df9af1094a529774cb7f687aa.jpg: 640x640 1 Speed limit 80 Kph, 12.2ms\n",
      "Speed: 1.6ms preprocess, 12.2ms inference, 1.4ms postprocess per image at shape (1, 3, 640, 640)\n",
      "\n",
      "image 1/1 /content/drive/MyDrive/Q3_2/valid/images/road468_png.rf.823f18fb05574db3b82533ac2d1ca92c.jpg: 640x640 1 Speed limit, 1 Speed limit 80 Kph, 14.7ms\n",
      "Speed: 1.5ms preprocess, 14.7ms inference, 1.8ms postprocess per image at shape (1, 3, 640, 640)\n",
      "\n",
      "image 1/1 /content/drive/MyDrive/Q3_2/valid/images/road470_png.rf.86d79e9d73fc7d99fb88d24dcfebf628.jpg: 640x640 1 Speed limit, 1 Speed limit 80 Kph, 12.5ms\n",
      "Speed: 1.6ms preprocess, 12.5ms inference, 1.4ms postprocess per image at shape (1, 3, 640, 640)\n",
      "\n",
      "image 1/1 /content/drive/MyDrive/Q3_2/valid/images/road473_png.rf.ee848ece29fd1951b67be22f94dab854.jpg: 640x640 1 Speed limit 80 Kph, 14.0ms\n",
      "Speed: 1.6ms preprocess, 14.0ms inference, 1.6ms postprocess per image at shape (1, 3, 640, 640)\n",
      "\n",
      "image 1/1 /content/drive/MyDrive/Q3_2/valid/images/road475_png.rf.b930ade9880a1f61e250ae57b44c4f08.jpg: 640x640 1 One way road, 1 Speed limit, 1 Speed limit 80 Kph, 14.1ms\n",
      "Speed: 1.7ms preprocess, 14.1ms inference, 1.5ms postprocess per image at shape (1, 3, 640, 640)\n",
      "\n",
      "image 1/1 /content/drive/MyDrive/Q3_2/valid/images/road478_png.rf.3842ba968355c0465aedff6e5a61fafe.jpg: 640x640 1 One way road, 1 Speed limit, 1 Speed limit 80 Kph, 12.7ms\n",
      "Speed: 1.6ms preprocess, 12.7ms inference, 1.5ms postprocess per image at shape (1, 3, 640, 640)\n",
      "\n",
      "image 1/1 /content/drive/MyDrive/Q3_2/valid/images/road481_png.rf.8b4354c5df03bcc91e297375a242130d.jpg: 640x640 1 Crosswalk, 1 Speed limit, 1 Speed limit 80 Kph, 12.5ms\n",
      "Speed: 1.7ms preprocess, 12.5ms inference, 1.5ms postprocess per image at shape (1, 3, 640, 640)\n",
      "\n",
      "image 1/1 /content/drive/MyDrive/Q3_2/valid/images/road484_png.rf.ebf85e48e5cc22f43bc8fd2b30b40357.jpg: 640x640 1 Speed limit, 1 Speed limit 80 Kph, 12.0ms\n",
      "Speed: 1.6ms preprocess, 12.0ms inference, 1.4ms postprocess per image at shape (1, 3, 640, 640)\n",
      "\n",
      "image 1/1 /content/drive/MyDrive/Q3_2/valid/images/road485_png.rf.0bcc4e7e3c48ad6df2ab1d535d8dfa3e.jpg: 640x640 1 Speed limit, 1 Speed limit 80 Kph, 13.6ms\n",
      "Speed: 1.6ms preprocess, 13.6ms inference, 1.5ms postprocess per image at shape (1, 3, 640, 640)\n",
      "\n",
      "image 1/1 /content/drive/MyDrive/Q3_2/valid/images/road488_png.rf.ffe9d94c4ee5d915709df65878f0f281.jpg: 640x640 1 Speed limit, 1 Speed limit 80 Kph, 12.6ms\n",
      "Speed: 2.0ms preprocess, 12.6ms inference, 1.6ms postprocess per image at shape (1, 3, 640, 640)\n",
      "\n",
      "image 1/1 /content/drive/MyDrive/Q3_2/valid/images/road494_png.rf.12d903fcf1699ddde3681ca39862da33.jpg: 640x640 2 Speed limits, 1 Speed limit 80 Kph, 12.2ms\n",
      "Speed: 1.5ms preprocess, 12.2ms inference, 1.4ms postprocess per image at shape (1, 3, 640, 640)\n",
      "\n",
      "image 1/1 /content/drive/MyDrive/Q3_2/valid/images/road500_png.rf.8113d7e783e312a5673e178265af753e.jpg: 640x640 1 Speed limit 80 Kph, 12.3ms\n",
      "Speed: 1.5ms preprocess, 12.3ms inference, 1.4ms postprocess per image at shape (1, 3, 640, 640)\n",
      "\n",
      "image 1/1 /content/drive/MyDrive/Q3_2/valid/images/road507_png.rf.871260b574fd352b4b592ff0a0c5da51.jpg: 640x640 1 Speed limit 80 Kph, 12.2ms\n",
      "Speed: 1.7ms preprocess, 12.2ms inference, 1.5ms postprocess per image at shape (1, 3, 640, 640)\n",
      "\n",
      "image 1/1 /content/drive/MyDrive/Q3_2/valid/images/road512_png.rf.5dbbfb21f7067325ff7ca821536ac351.jpg: 640x640 1 Speed limit 80 Kph, 12.0ms\n",
      "Speed: 1.5ms preprocess, 12.0ms inference, 1.4ms postprocess per image at shape (1, 3, 640, 640)\n",
      "\n",
      "image 1/1 /content/drive/MyDrive/Q3_2/valid/images/road513_png.rf.7e0392a78edec0937e35d0d18784ff22.jpg: 640x640 1 Speed limit 80 Kph, 12.8ms\n",
      "Speed: 1.5ms preprocess, 12.8ms inference, 1.6ms postprocess per image at shape (1, 3, 640, 640)\n",
      "\n",
      "image 1/1 /content/drive/MyDrive/Q3_2/valid/images/road514_png.rf.f0e9dcf1e260c96ad42af1019172523d.jpg: 640x640 1 Speed limit 80 Kph, 11.6ms\n",
      "Speed: 1.5ms preprocess, 11.6ms inference, 1.4ms postprocess per image at shape (1, 3, 640, 640)\n",
      "\n",
      "image 1/1 /content/drive/MyDrive/Q3_2/valid/images/road515_png.rf.08a768c49c6e2360a8d178f495a858c3.jpg: 640x640 1 Speed limit 80 Kph, 11.5ms\n",
      "Speed: 1.4ms preprocess, 11.5ms inference, 1.3ms postprocess per image at shape (1, 3, 640, 640)\n",
      "\n",
      "image 1/1 /content/drive/MyDrive/Q3_2/valid/images/road517_png.rf.0b5fd9ae6bc5ac51fd074670a68fc877.jpg: 640x640 1 Speed limit 80 Kph, 15.3ms\n",
      "Speed: 2.1ms preprocess, 15.3ms inference, 1.6ms postprocess per image at shape (1, 3, 640, 640)\n",
      "\n",
      "image 1/1 /content/drive/MyDrive/Q3_2/valid/images/road518_png.rf.7c4e6536c84ce29fbe7120a1dd172f6c.jpg: 640x640 1 Speed limit 80 Kph, 12.9ms\n",
      "Speed: 1.4ms preprocess, 12.9ms inference, 1.3ms postprocess per image at shape (1, 3, 640, 640)\n",
      "\n",
      "image 1/1 /content/drive/MyDrive/Q3_2/valid/images/road528_png.rf.ca422cfea1ffa8c6cc0ad555df5324ed.jpg: 640x640 1 Crosswalk, 1 Speed limit, 1 Speed limit 30 Kph, 1 Speed limit 80 Kph, 11.8ms\n",
      "Speed: 1.5ms preprocess, 11.8ms inference, 1.3ms postprocess per image at shape (1, 3, 640, 640)\n",
      "\n",
      "image 1/1 /content/drive/MyDrive/Q3_2/valid/images/road536_png.rf.4216d0a59f4df612f447de30d3399459.jpg: 640x640 1 Speed bump ahead, 1 Speed limit 40 Kph, 11.3ms\n",
      "Speed: 1.4ms preprocess, 11.3ms inference, 1.3ms postprocess per image at shape (1, 3, 640, 640)\n",
      "\n",
      "image 1/1 /content/drive/MyDrive/Q3_2/valid/images/road538_png.rf.a69147cb0805aa6aaa1410ace2c68985.jpg: 640x640 1 Speed bump ahead, 1 Speed limit 40 Kph, 11.4ms\n",
      "Speed: 1.4ms preprocess, 11.4ms inference, 1.3ms postprocess per image at shape (1, 3, 640, 640)\n",
      "\n",
      "image 1/1 /content/drive/MyDrive/Q3_2/valid/images/road541_png.rf.821e902aa020efeac22ecc5f7be227c0.jpg: 640x640 1 Speed bump ahead, 1 Speed limit 40 Kph, 11.6ms\n",
      "Speed: 1.4ms preprocess, 11.6ms inference, 1.4ms postprocess per image at shape (1, 3, 640, 640)\n",
      "\n",
      "image 1/1 /content/drive/MyDrive/Q3_2/valid/images/road544_png.rf.133b1611cc80374856e8dce3f7f6aece.jpg: 640x640 2 Crosswalks, 1 Dangerous Left Curve Ahead, 1 Speed limit 40 Kph, 11.4ms\n",
      "Speed: 1.4ms preprocess, 11.4ms inference, 1.3ms postprocess per image at shape (1, 3, 640, 640)\n",
      "\n",
      "image 1/1 /content/drive/MyDrive/Q3_2/valid/images/road548_png.rf.5c424dc0a7e7a80ef2f55d53e27393c6.jpg: 640x640 1 Crosswalk, 1 Dangerous Left Curve Ahead, 1 Speed limit 40 Kph, 12.0ms\n",
      "Speed: 1.5ms preprocess, 12.0ms inference, 1.4ms postprocess per image at shape (1, 3, 640, 640)\n",
      "\n",
      "image 1/1 /content/drive/MyDrive/Q3_2/valid/images/road556_png.rf.c95d6d159d2b9905cdd3e83eea70016a.jpg: 640x640 1 Speed bump ahead, 1 Speed limit 40 Kph, 11.8ms\n",
      "Speed: 1.4ms preprocess, 11.8ms inference, 1.3ms postprocess per image at shape (1, 3, 640, 640)\n",
      "\n",
      "image 1/1 /content/drive/MyDrive/Q3_2/valid/images/road559_png.rf.09640f22c9ec7cd29dc94b5c499a8a13.jpg: 640x640 2 Crosswalks, 1 Speed bump ahead, 1 Speed limit 40 Kph, 11.7ms\n",
      "Speed: 1.4ms preprocess, 11.7ms inference, 1.3ms postprocess per image at shape (1, 3, 640, 640)\n",
      "\n",
      "image 1/1 /content/drive/MyDrive/Q3_2/valid/images/road562_png.rf.452d78b3e30a067b30b38f7c715a60bb.jpg: 640x640 1 Crosswalk, 1 Speed bump ahead, 1 Speed limit 40 Kph, 11.9ms\n",
      "Speed: 1.4ms preprocess, 11.9ms inference, 1.3ms postprocess per image at shape (1, 3, 640, 640)\n",
      "\n",
      "image 1/1 /content/drive/MyDrive/Q3_2/valid/images/road56_png.rf.3840d7b0de1bfeac736853ebe76d0e01.jpg: 640x640 1 Stop_Sign, 12.2ms\n",
      "Speed: 1.5ms preprocess, 12.2ms inference, 1.5ms postprocess per image at shape (1, 3, 640, 640)\n",
      "\n",
      "image 1/1 /content/drive/MyDrive/Q3_2/valid/images/road573_png.rf.9bfe8dc56605a7d7154d7e7cc21b7aa8.jpg: 640x640 1 Crosswalk, 1 Speed bump ahead, 1 Speed limit 40 Kph, 11.7ms\n",
      "Speed: 1.4ms preprocess, 11.7ms inference, 1.4ms postprocess per image at shape (1, 3, 640, 640)\n",
      "\n",
      "image 1/1 /content/drive/MyDrive/Q3_2/valid/images/road576_png.rf.b3d3d96c704f360a8fdeca071b8db89b.jpg: 640x640 1 Crosswalk, 1 Speed bump ahead, 1 Speed limit 40 Kph, 11.9ms\n",
      "Speed: 1.5ms preprocess, 11.9ms inference, 1.5ms postprocess per image at shape (1, 3, 640, 640)\n",
      "\n",
      "image 1/1 /content/drive/MyDrive/Q3_2/valid/images/road577_png.rf.ee105cf837eba96bb7ef5ba06f48b1b2.jpg: 640x640 1 Crosswalk, 1 Speed bump ahead, 1 Speed limit 40 Kph, 12.9ms\n",
      "Speed: 1.5ms preprocess, 12.9ms inference, 1.5ms postprocess per image at shape (1, 3, 640, 640)\n",
      "\n",
      "image 1/1 /content/drive/MyDrive/Q3_2/valid/images/road57_png.rf.89537bb25ba17a3b81afc0e2160abae1.jpg: 640x640 1 Stop_Sign, 13.2ms\n",
      "Speed: 1.5ms preprocess, 13.2ms inference, 1.4ms postprocess per image at shape (1, 3, 640, 640)\n",
      "\n",
      "image 1/1 /content/drive/MyDrive/Q3_2/valid/images/road582_png.rf.18ff42e5df1d325bc9ac8a0ce699a259.jpg: 640x640 1 Crosswalk, 13.5ms\n",
      "Speed: 1.5ms preprocess, 13.5ms inference, 1.5ms postprocess per image at shape (1, 3, 640, 640)\n",
      "\n",
      "image 1/1 /content/drive/MyDrive/Q3_2/valid/images/road583_png.rf.d03040e582b5f2ba62624f08091757c4.jpg: 640x640 1 Crosswalk, 11.7ms\n",
      "Speed: 1.4ms preprocess, 11.7ms inference, 1.3ms postprocess per image at shape (1, 3, 640, 640)\n",
      "\n",
      "image 1/1 /content/drive/MyDrive/Q3_2/valid/images/road585_png.rf.c80ff7c1fe536093e22127d2176853bb.jpg: 640x640 1 Speed limit, 1 Speed limit 80 Kph, 14.3ms\n",
      "Speed: 1.6ms preprocess, 14.3ms inference, 1.6ms postprocess per image at shape (1, 3, 640, 640)\n",
      "\n",
      "image 1/1 /content/drive/MyDrive/Q3_2/valid/images/road590_png.rf.bd428ecd38800bb299b24a161a1a5807.jpg: 640x640 1 Speed limit, 1 Speed limit 80 Kph, 13.6ms\n",
      "Speed: 1.7ms preprocess, 13.6ms inference, 1.6ms postprocess per image at shape (1, 3, 640, 640)\n",
      "\n",
      "image 1/1 /content/drive/MyDrive/Q3_2/valid/images/road591_png.rf.c1903dd00433f67c213a95a98a8e590b.jpg: 640x640 1 Speed limit, 1 Speed limit 80 Kph, 12.7ms\n",
      "Speed: 1.6ms preprocess, 12.7ms inference, 1.5ms postprocess per image at shape (1, 3, 640, 640)\n",
      "\n",
      "image 1/1 /content/drive/MyDrive/Q3_2/valid/images/road594_png.rf.187b79ed9487191d9a474a5532124c09.jpg: 640x640 1 Speed limit, 1 Speed limit 80 Kph, 11.7ms\n",
      "Speed: 1.5ms preprocess, 11.7ms inference, 1.5ms postprocess per image at shape (1, 3, 640, 640)\n",
      "\n",
      "image 1/1 /content/drive/MyDrive/Q3_2/valid/images/road598_png.rf.e021b257c2e76d341c21f32eacccb049.jpg: 640x640 1 Crosswalk, 1 Speed limit, 1 Speed limit 80 Kph, 14.5ms\n",
      "Speed: 2.1ms preprocess, 14.5ms inference, 1.7ms postprocess per image at shape (1, 3, 640, 640)\n",
      "\n",
      "image 1/1 /content/drive/MyDrive/Q3_2/valid/images/road603_png.rf.7773c995f9ef594354a0a513eb8ee0f4.jpg: 640x640 1 Speed limit 80 Kph, 12.6ms\n",
      "Speed: 1.4ms preprocess, 12.6ms inference, 1.5ms postprocess per image at shape (1, 3, 640, 640)\n",
      "\n",
      "image 1/1 /content/drive/MyDrive/Q3_2/valid/images/road606_png.rf.4b9c8fe71a260e85a1d3750120c9ca41.jpg: 640x640 1 Speed limit 80 Kph, 12.2ms\n",
      "Speed: 1.5ms preprocess, 12.2ms inference, 1.4ms postprocess per image at shape (1, 3, 640, 640)\n",
      "\n",
      "image 1/1 /content/drive/MyDrive/Q3_2/valid/images/road607_png.rf.a6a7f81d1617c422f092a136261f9142.jpg: 640x640 1 Speed limit 90 Kph, 11.9ms\n",
      "Speed: 1.6ms preprocess, 11.9ms inference, 1.4ms postprocess per image at shape (1, 3, 640, 640)\n",
      "\n",
      "image 1/1 /content/drive/MyDrive/Q3_2/valid/images/road609_png.rf.f206be80744c269699c5c4c8b66d6246.jpg: 640x640 1 Crosswalk, 1 Speed bump ahead, 1 Speed limit 40 Kph, 12.3ms\n",
      "Speed: 1.5ms preprocess, 12.3ms inference, 1.4ms postprocess per image at shape (1, 3, 640, 640)\n",
      "\n",
      "image 1/1 /content/drive/MyDrive/Q3_2/valid/images/road60_png.rf.3ecebdd704ca40e4424805ce8259f737.jpg: 640x640 1 Stop_Sign, 12.3ms\n",
      "Speed: 1.6ms preprocess, 12.3ms inference, 1.4ms postprocess per image at shape (1, 3, 640, 640)\n",
      "\n",
      "image 1/1 /content/drive/MyDrive/Q3_2/valid/images/road611_png.rf.3b49f1fc84f1358e60c84df13b1a8c6b.jpg: 640x640 1 Speed bump ahead, 1 Speed limit 40 Kph, 12.0ms\n",
      "Speed: 1.5ms preprocess, 12.0ms inference, 1.4ms postprocess per image at shape (1, 3, 640, 640)\n",
      "\n",
      "image 1/1 /content/drive/MyDrive/Q3_2/valid/images/road612_png.rf.961e844e1ce3c72a51d61436794a3430.jpg: 640x640 1 Speed bump ahead, 1 Speed limit 40 Kph, 11.7ms\n",
      "Speed: 1.5ms preprocess, 11.7ms inference, 1.4ms postprocess per image at shape (1, 3, 640, 640)\n",
      "\n",
      "image 1/1 /content/drive/MyDrive/Q3_2/valid/images/road614_png.rf.1c8ea67eaa654b57c4fef2af278de47e.jpg: 640x640 1 Speed limit 60 Kph, 11.7ms\n",
      "Speed: 1.4ms preprocess, 11.7ms inference, 1.3ms postprocess per image at shape (1, 3, 640, 640)\n",
      "\n",
      "image 1/1 /content/drive/MyDrive/Q3_2/valid/images/road617_png.rf.bc125a28a7f3ff3aaadd9b0c56a1337c.jpg: 640x640 1 Crosswalk, 1 Speed bump ahead, 1 Speed limit 40 Kph, 12.0ms\n",
      "Speed: 1.4ms preprocess, 12.0ms inference, 1.4ms postprocess per image at shape (1, 3, 640, 640)\n",
      "\n",
      "image 1/1 /content/drive/MyDrive/Q3_2/valid/images/road619_png.rf.9cb8d3b00ff9757d1d97c88fccd5028a.jpg: 640x640 1 Speed bump ahead, 1 Speed limit 40 Kph, 11.4ms\n",
      "Speed: 1.4ms preprocess, 11.4ms inference, 1.3ms postprocess per image at shape (1, 3, 640, 640)\n",
      "\n",
      "image 1/1 /content/drive/MyDrive/Q3_2/valid/images/road61_png.rf.f6afea880a6d09427b753fa682b325dd.jpg: 640x640 1 Stop_Sign, 12.2ms\n",
      "Speed: 1.4ms preprocess, 12.2ms inference, 1.4ms postprocess per image at shape (1, 3, 640, 640)\n",
      "\n",
      "image 1/1 /content/drive/MyDrive/Q3_2/valid/images/road620_png.rf.1efc57489b3e494a33517991f35cf189.jpg: 640x640 (no detections), 11.8ms\n",
      "Speed: 1.5ms preprocess, 11.8ms inference, 0.6ms postprocess per image at shape (1, 3, 640, 640)\n",
      "\n",
      "image 1/1 /content/drive/MyDrive/Q3_2/valid/images/road621_png.rf.d7ed3aa9c657dd108a776e22ba5624b6.jpg: 640x640 1 Speed limit 50 Kph, 12.7ms\n",
      "Speed: 1.8ms preprocess, 12.7ms inference, 1.4ms postprocess per image at shape (1, 3, 640, 640)\n",
      "\n",
      "image 1/1 /content/drive/MyDrive/Q3_2/valid/images/road622_png.rf.03f3a330f8fe7342ca4e7fb3c57003bb.jpg: 640x640 1 Speed limit 50 Kph, 12.1ms\n",
      "Speed: 1.5ms preprocess, 12.1ms inference, 1.4ms postprocess per image at shape (1, 3, 640, 640)\n",
      "\n",
      "image 1/1 /content/drive/MyDrive/Q3_2/valid/images/road625_png.rf.f7638551261305d324e7466ebfc82cc7.jpg: 640x640 1 Speed limit 50 Kph, 11.7ms\n",
      "Speed: 1.5ms preprocess, 11.7ms inference, 1.4ms postprocess per image at shape (1, 3, 640, 640)\n",
      "\n",
      "image 1/1 /content/drive/MyDrive/Q3_2/valid/images/road627_png.rf.7215d3ac8953e35fe818493c43e732d2.jpg: 640x640 1 Speed limit 50 Kph, 11.3ms\n",
      "Speed: 1.4ms preprocess, 11.3ms inference, 1.3ms postprocess per image at shape (1, 3, 640, 640)\n",
      "\n",
      "image 1/1 /content/drive/MyDrive/Q3_2/valid/images/road632_png.rf.f54b74c664039c878ed1c18de60ddf99.jpg: 640x640 1 Stop_Sign, 12.2ms\n",
      "Speed: 1.4ms preprocess, 12.2ms inference, 1.4ms postprocess per image at shape (1, 3, 640, 640)\n",
      "\n",
      "image 1/1 /content/drive/MyDrive/Q3_2/valid/images/road633_png.rf.f3ebf27941ad62ce035c09d35357a458.jpg: 640x640 1 Stop_Sign, 11.4ms\n",
      "Speed: 1.4ms preprocess, 11.4ms inference, 1.3ms postprocess per image at shape (1, 3, 640, 640)\n",
      "\n",
      "image 1/1 /content/drive/MyDrive/Q3_2/valid/images/road635_png.rf.e3bdb125f1335a6ef979746d2bbcdbf6.jpg: 640x640 1 Stop_Sign, 11.6ms\n",
      "Speed: 1.4ms preprocess, 11.6ms inference, 1.3ms postprocess per image at shape (1, 3, 640, 640)\n",
      "\n",
      "image 1/1 /content/drive/MyDrive/Q3_2/valid/images/road639_png.rf.8253ec88096b0a5db5278235eaa56c4a.jpg: 640x640 1 Beware of children, 1 Speed limit 50 Kph, 1 Speed limit 70 Kph, 18.0ms\n",
      "Speed: 2.1ms preprocess, 18.0ms inference, 1.8ms postprocess per image at shape (1, 3, 640, 640)\n",
      "\n",
      "image 1/1 /content/drive/MyDrive/Q3_2/valid/images/road641_png.rf.e964782f1404d176f5757b08735fa964.jpg: 640x640 1 Speed limit 70 Kph, 13.3ms\n",
      "Speed: 1.5ms preprocess, 13.3ms inference, 1.4ms postprocess per image at shape (1, 3, 640, 640)\n",
      "\n",
      "image 1/1 /content/drive/MyDrive/Q3_2/valid/images/road655_png.rf.59eadbed3eed6088781d16813f4c017b.jpg: 640x640 1 Crosswalk, 1 No_Over_Taking, 2 Speed bump aheads, 1 Speed limit 40 Kph, 1 Speed limit 60 Kph, 12.9ms\n",
      "Speed: 1.5ms preprocess, 12.9ms inference, 1.4ms postprocess per image at shape (1, 3, 640, 640)\n",
      "\n",
      "image 1/1 /content/drive/MyDrive/Q3_2/valid/images/road656_png.rf.2cfa4653b16e773fc08e4d4d10d83bb9.jpg: 640x640 1 Crosswalk, 1 No_Over_Taking, 1 Speed bump ahead, 1 Speed limit 40 Kph, 1 Speed limit 60 Kph, 12.1ms\n",
      "Speed: 1.5ms preprocess, 12.1ms inference, 1.4ms postprocess per image at shape (1, 3, 640, 640)\n",
      "\n",
      "image 1/1 /content/drive/MyDrive/Q3_2/valid/images/road659_png.rf.32101f582b6d84b199640100e19956e5.jpg: 640x640 1 Crosswalk, 1 Speed bump ahead, 1 Speed limit 40 Kph, 11.7ms\n",
      "Speed: 1.6ms preprocess, 11.7ms inference, 1.3ms postprocess per image at shape (1, 3, 640, 640)\n",
      "\n",
      "image 1/1 /content/drive/MyDrive/Q3_2/valid/images/road668_png.rf.af980f9315284280c606afc8b817448e.jpg: 640x640 1 Crosswalk, 1 Speed bump ahead, 1 Speed limit 40 Kph, 11.7ms\n",
      "Speed: 1.4ms preprocess, 11.7ms inference, 1.5ms postprocess per image at shape (1, 3, 640, 640)\n",
      "\n",
      "image 1/1 /content/drive/MyDrive/Q3_2/valid/images/road66_png.rf.b43190452e674344eb4e6b6441533bab.jpg: 640x640 1 Stop_Sign, 11.3ms\n",
      "Speed: 1.5ms preprocess, 11.3ms inference, 1.3ms postprocess per image at shape (1, 3, 640, 640)\n",
      "\n",
      "image 1/1 /content/drive/MyDrive/Q3_2/valid/images/road670_png.rf.818dd23ab638bdc71e0707afd29761a5.jpg: 640x640 1 Speed bump ahead, 1 Speed limit 40 Kph, 13.1ms\n",
      "Speed: 1.5ms preprocess, 13.1ms inference, 1.4ms postprocess per image at shape (1, 3, 640, 640)\n",
      "\n",
      "image 1/1 /content/drive/MyDrive/Q3_2/valid/images/road674_png.rf.3a9d39cff526f4b85769d5f61e2c195f.jpg: 640x640 1 Stop_Sign, 11.9ms\n",
      "Speed: 1.5ms preprocess, 11.9ms inference, 1.4ms postprocess per image at shape (1, 3, 640, 640)\n",
      "\n",
      "image 1/1 /content/drive/MyDrive/Q3_2/valid/images/road676_png.rf.c03f4354fc90284e6f6a7298809ebda5.jpg: 640x640 1 Dangerous Rright Curve Ahead, 1 Stop_Sign, 11.9ms\n",
      "Speed: 1.4ms preprocess, 11.9ms inference, 1.4ms postprocess per image at shape (1, 3, 640, 640)\n",
      "\n",
      "image 1/1 /content/drive/MyDrive/Q3_2/valid/images/road678_png.rf.88af19aca72033a4e6a356c440655810.jpg: 640x640 1 Speed bump ahead, 1 Speed limit 30 Kph, 12.1ms\n",
      "Speed: 1.4ms preprocess, 12.1ms inference, 1.3ms postprocess per image at shape (1, 3, 640, 640)\n",
      "\n",
      "image 1/1 /content/drive/MyDrive/Q3_2/valid/images/road681_png.rf.4d0368cbfdc9071128ad6e7ce2d757ed.jpg: 640x640 1 Crosswalk, 1 Speed bump ahead, 1 Speed limit, 1 Speed limit 40 Kph, 12.4ms\n",
      "Speed: 1.4ms preprocess, 12.4ms inference, 1.7ms postprocess per image at shape (1, 3, 640, 640)\n",
      "\n",
      "image 1/1 /content/drive/MyDrive/Q3_2/valid/images/road683_png.rf.debd163d648febbc70a864911e2b4e74.jpg: 640x640 1 Speed bump ahead, 1 Speed limit 40 Kph, 20.3ms\n",
      "Speed: 2.0ms preprocess, 20.3ms inference, 2.0ms postprocess per image at shape (1, 3, 640, 640)\n",
      "\n",
      "image 1/1 /content/drive/MyDrive/Q3_2/valid/images/road686_png.rf.b1dd70ec5af59b36b4c7414309059c05.jpg: 640x640 1 Speed bump ahead, 1 Speed limit 40 Kph, 13.9ms\n",
      "Speed: 1.6ms preprocess, 13.9ms inference, 1.3ms postprocess per image at shape (1, 3, 640, 640)\n",
      "\n",
      "image 1/1 /content/drive/MyDrive/Q3_2/valid/images/road68_png.rf.424bd6e6af6ff7098f9ac5fa51e09efe.jpg: 640x640 1 Stop_Sign, 11.4ms\n",
      "Speed: 1.4ms preprocess, 11.4ms inference, 1.3ms postprocess per image at shape (1, 3, 640, 640)\n",
      "\n",
      "image 1/1 /content/drive/MyDrive/Q3_2/valid/images/road690_png.rf.127e450582628a20bd80c501ff77ea1f.jpg: 640x640 1 Speed limit 100 Kph, 1 Speed limit 120 Kph, 11.8ms\n",
      "Speed: 1.5ms preprocess, 11.8ms inference, 1.5ms postprocess per image at shape (1, 3, 640, 640)\n",
      "\n",
      "image 1/1 /content/drive/MyDrive/Q3_2/valid/images/road691_png.rf.902ee3c1bf49c537fe88a5a7dd75d37d.jpg: 640x640 1 Speed limit 100 Kph, 1 Speed limit 120 Kph, 16.3ms\n",
      "Speed: 1.9ms preprocess, 16.3ms inference, 1.7ms postprocess per image at shape (1, 3, 640, 640)\n",
      "\n",
      "image 1/1 /content/drive/MyDrive/Q3_2/valid/images/road695_png.rf.b2e048cc7eb17ceb9c948a1e7d2520db.jpg: 640x640 1 Speed limit 100 Kph, 1 Speed limit 120 Kph, 11.6ms\n",
      "Speed: 1.4ms preprocess, 11.6ms inference, 1.3ms postprocess per image at shape (1, 3, 640, 640)\n",
      "\n",
      "image 1/1 /content/drive/MyDrive/Q3_2/valid/images/road703_png.rf.4e9da678be71df1351564e5586d43ea5.jpg: 640x640 1 Speed limit 100 Kph, 1 Speed limit 120 Kph, 12.2ms\n",
      "Speed: 1.4ms preprocess, 12.2ms inference, 1.3ms postprocess per image at shape (1, 3, 640, 640)\n",
      "\n",
      "image 1/1 /content/drive/MyDrive/Q3_2/valid/images/road709_png.rf.d0eeff2764c6d330b08002496504acd8.jpg: 640x640 1 Speed limit 100 Kph, 2 Speed limit 120 Kphs, 11.8ms\n",
      "Speed: 1.5ms preprocess, 11.8ms inference, 1.4ms postprocess per image at shape (1, 3, 640, 640)\n",
      "\n",
      "image 1/1 /content/drive/MyDrive/Q3_2/valid/images/road70_png.rf.5a54c564d2098819d6fe58a3c431e6d5.jpg: 640x640 1 Stop_Sign, 11.8ms\n",
      "Speed: 1.4ms preprocess, 11.8ms inference, 1.3ms postprocess per image at shape (1, 3, 640, 640)\n",
      "\n",
      "image 1/1 /content/drive/MyDrive/Q3_2/valid/images/road712_png.rf.63280edd47a9c69e3105ee563803cb13.jpg: 640x640 1 Speed limit 100 Kph, 1 Speed limit 120 Kph, 12.1ms\n",
      "Speed: 1.5ms preprocess, 12.1ms inference, 1.3ms postprocess per image at shape (1, 3, 640, 640)\n",
      "\n",
      "image 1/1 /content/drive/MyDrive/Q3_2/valid/images/road716_png.rf.9918273142a61992150929042fac3200.jpg: 640x640 2 Speed limit 100 Kphs, 1 Speed limit 120 Kph, 12.0ms\n",
      "Speed: 1.4ms preprocess, 12.0ms inference, 1.4ms postprocess per image at shape (1, 3, 640, 640)\n",
      "\n",
      "image 1/1 /content/drive/MyDrive/Q3_2/valid/images/road718_png.rf.8476cacb87769464526c4971d06669ea.jpg: 640x640 1 Speed limit, 2 Speed limit 100 Kphs, 1 Speed limit 120 Kph, 11.6ms\n",
      "Speed: 1.4ms preprocess, 11.6ms inference, 1.6ms postprocess per image at shape (1, 3, 640, 640)\n",
      "\n",
      "image 1/1 /content/drive/MyDrive/Q3_2/valid/images/road719_png.rf.f580ccfc2389a473e40feefa46ed6aef.jpg: 640x640 1 No_Over_Taking, 1 Speed limit 40 Kph, 11.4ms\n",
      "Speed: 1.4ms preprocess, 11.4ms inference, 1.3ms postprocess per image at shape (1, 3, 640, 640)\n",
      "\n",
      "image 1/1 /content/drive/MyDrive/Q3_2/valid/images/road720_png.rf.2a5d21909fcf351761485c80a0c62dca.jpg: 640x640 1 Crosswalk, 1 No_Over_Taking, 1 Speed limit 40 Kph, 11.7ms\n",
      "Speed: 1.4ms preprocess, 11.7ms inference, 1.3ms postprocess per image at shape (1, 3, 640, 640)\n",
      "\n",
      "image 1/1 /content/drive/MyDrive/Q3_2/valid/images/road722_png.rf.3040fefa61871b9e14f3257aef2f7891.jpg: 640x640 1 No_Over_Taking, 1 Speed limit 40 Kph, 16.1ms\n",
      "Speed: 1.9ms preprocess, 16.1ms inference, 1.4ms postprocess per image at shape (1, 3, 640, 640)\n",
      "\n",
      "image 1/1 /content/drive/MyDrive/Q3_2/valid/images/road725_png.rf.453dc4f54a7c3c8c1678b66f921db939.jpg: 640x640 1 No_Over_Taking, 1 Speed limit 40 Kph, 17.5ms\n",
      "Speed: 2.0ms preprocess, 17.5ms inference, 1.4ms postprocess per image at shape (1, 3, 640, 640)\n",
      "\n",
      "image 1/1 /content/drive/MyDrive/Q3_2/valid/images/road727_png.rf.013c316d9fc19665aef6c7a599b777b5.jpg: 640x640 1 Speed limit 100 Kph, 1 Speed limit 120 Kph, 12.1ms\n",
      "Speed: 1.4ms preprocess, 12.1ms inference, 1.4ms postprocess per image at shape (1, 3, 640, 640)\n",
      "\n",
      "image 1/1 /content/drive/MyDrive/Q3_2/valid/images/road731_png.rf.c4cde6b4ed9909db6617a05ab40f3320.jpg: 640x640 1 Speed limit 100 Kph, 1 Speed limit 120 Kph, 11.6ms\n",
      "Speed: 1.4ms preprocess, 11.6ms inference, 1.3ms postprocess per image at shape (1, 3, 640, 640)\n",
      "\n",
      "image 1/1 /content/drive/MyDrive/Q3_2/valid/images/road732_png.rf.43f250c14750d89696053780c411491a.jpg: 640x640 1 Speed limit 100 Kph, 1 Speed limit 120 Kph, 11.2ms\n",
      "Speed: 1.3ms preprocess, 11.2ms inference, 1.3ms postprocess per image at shape (1, 3, 640, 640)\n",
      "\n",
      "image 1/1 /content/drive/MyDrive/Q3_2/valid/images/road733_png.rf.25dc49e2eee0714ddd3e1da8b7647701.jpg: 640x640 1 Speed limit 100 Kph, 1 Speed limit 120 Kph, 16.4ms\n",
      "Speed: 1.9ms preprocess, 16.4ms inference, 1.7ms postprocess per image at shape (1, 3, 640, 640)\n",
      "\n",
      "image 1/1 /content/drive/MyDrive/Q3_2/valid/images/road735_png.rf.137bf4338d95f12636dd48ca47c9aeb9.jpg: 640x640 1 Speed limit 100 Kph, 1 Speed limit 120 Kph, 11.3ms\n",
      "Speed: 1.5ms preprocess, 11.3ms inference, 1.3ms postprocess per image at shape (1, 3, 640, 640)\n",
      "\n",
      "image 1/1 /content/drive/MyDrive/Q3_2/valid/images/road736_png.rf.bccc32be40df0ec100e7ff16d711ec69.jpg: 640x640 1 Speed limit 100 Kph, 1 Speed limit 120 Kph, 14.1ms\n",
      "Speed: 1.6ms preprocess, 14.1ms inference, 1.6ms postprocess per image at shape (1, 3, 640, 640)\n",
      "\n",
      "image 1/1 /content/drive/MyDrive/Q3_2/valid/images/road737_png.rf.a6d4e3aa97d1d1c3851252a541f82b11.jpg: 640x640 1 Speed limit 100 Kph, 1 Speed limit 120 Kph, 12.1ms\n",
      "Speed: 1.4ms preprocess, 12.1ms inference, 1.3ms postprocess per image at shape (1, 3, 640, 640)\n",
      "\n",
      "image 1/1 /content/drive/MyDrive/Q3_2/valid/images/road742_png.rf.c31b0ff51013984f780609dfc95dda4e.jpg: 640x640 1 Speed limit 100 Kph, 1 Speed limit 120 Kph, 12.7ms\n",
      "Speed: 1.6ms preprocess, 12.7ms inference, 1.4ms postprocess per image at shape (1, 3, 640, 640)\n",
      "\n",
      "image 1/1 /content/drive/MyDrive/Q3_2/valid/images/road743_png.rf.c7f1af7cd817d8f8ec3e8dd49ccde5e5.jpg: 640x640 1 Speed limit 100 Kph, 1 Speed limit 120 Kph, 11.4ms\n",
      "Speed: 1.4ms preprocess, 11.4ms inference, 1.3ms postprocess per image at shape (1, 3, 640, 640)\n",
      "\n",
      "image 1/1 /content/drive/MyDrive/Q3_2/valid/images/road744_png.rf.0e60e136f980941b60ef790a514ec907.jpg: 640x640 1 Speed limit 100 Kph, 1 Speed limit 120 Kph, 12.0ms\n",
      "Speed: 1.4ms preprocess, 12.0ms inference, 1.4ms postprocess per image at shape (1, 3, 640, 640)\n",
      "\n",
      "image 1/1 /content/drive/MyDrive/Q3_2/valid/images/road749_png.rf.d0bc6ad04a217d9435a7185f7dc313c2.jpg: 640x640 1 Speed limit 100 Kph, 1 Speed limit 120 Kph, 12.1ms\n",
      "Speed: 1.4ms preprocess, 12.1ms inference, 1.4ms postprocess per image at shape (1, 3, 640, 640)\n",
      "\n",
      "image 1/1 /content/drive/MyDrive/Q3_2/valid/images/road753_png.rf.db9e2b7f5ffbcd975215de1ca5a29cf2.jpg: 640x640 1 Speed limit 100 Kph, 1 Speed limit 120 Kph, 12.2ms\n",
      "Speed: 1.9ms preprocess, 12.2ms inference, 1.4ms postprocess per image at shape (1, 3, 640, 640)\n",
      "\n",
      "image 1/1 /content/drive/MyDrive/Q3_2/valid/images/road757_png.rf.a46f12ad9a5e8571dd71e8ab1c95aac6.jpg: 640x640 1 Speed limit 100 Kph, 12.6ms\n",
      "Speed: 1.5ms preprocess, 12.6ms inference, 1.4ms postprocess per image at shape (1, 3, 640, 640)\n",
      "\n",
      "image 1/1 /content/drive/MyDrive/Q3_2/valid/images/road762_png.rf.23b7e98c9aac4a0d917656840c5fca63.jpg: 640x640 1 Speed limit 100 Kph, 12.2ms\n",
      "Speed: 1.4ms preprocess, 12.2ms inference, 1.4ms postprocess per image at shape (1, 3, 640, 640)\n",
      "\n",
      "image 1/1 /content/drive/MyDrive/Q3_2/valid/images/road764_png.rf.b34fbe10c0208457e6d86cec41373186.jpg: 640x640 1 Speed limit 100 Kph, 17.9ms\n",
      "Speed: 2.0ms preprocess, 17.9ms inference, 1.8ms postprocess per image at shape (1, 3, 640, 640)\n",
      "\n",
      "image 1/1 /content/drive/MyDrive/Q3_2/valid/images/road769_png.rf.f4302edb63bc023d5b6ac4b65f3be472.jpg: 640x640 1 Speed limit 80 Kph, 12.0ms\n",
      "Speed: 1.5ms preprocess, 12.0ms inference, 1.3ms postprocess per image at shape (1, 3, 640, 640)\n",
      "\n",
      "image 1/1 /content/drive/MyDrive/Q3_2/valid/images/road772_png.rf.65a27cb0046be2f8174928c6411351ee.jpg: 640x640 (no detections), 12.1ms\n",
      "Speed: 1.5ms preprocess, 12.1ms inference, 0.6ms postprocess per image at shape (1, 3, 640, 640)\n",
      "\n",
      "image 1/1 /content/drive/MyDrive/Q3_2/valid/images/road776_png.rf.c201fda4b248dc4cce7c49540ea160be.jpg: 640x640 1 One way road, 1 Speed limit 60 Kph, 1 Speed limit 90 Kph, 11.9ms\n",
      "Speed: 1.4ms preprocess, 11.9ms inference, 1.4ms postprocess per image at shape (1, 3, 640, 640)\n",
      "\n",
      "image 1/1 /content/drive/MyDrive/Q3_2/valid/images/road778_png.rf.162b913224f4b8063d3c848b75fb4adc.jpg: 640x640 1 Speed limit 60 Kph, 11.9ms\n",
      "Speed: 1.4ms preprocess, 11.9ms inference, 1.4ms postprocess per image at shape (1, 3, 640, 640)\n",
      "\n",
      "image 1/1 /content/drive/MyDrive/Q3_2/valid/images/road779_png.rf.57005ce4f0b221daab031b1c65191a32.jpg: 640x640 1 Speed limit 60 Kph, 1 Uneven Road, 11.6ms\n",
      "Speed: 1.4ms preprocess, 11.6ms inference, 1.3ms postprocess per image at shape (1, 3, 640, 640)\n",
      "\n",
      "image 1/1 /content/drive/MyDrive/Q3_2/valid/images/road787_png.rf.2977908ec79e27481250bfdb8f0e99c2.jpg: 640x640 1 Speed limit 90 Kph, 17.9ms\n",
      "Speed: 1.9ms preprocess, 17.9ms inference, 1.8ms postprocess per image at shape (1, 3, 640, 640)\n",
      "\n",
      "image 1/1 /content/drive/MyDrive/Q3_2/valid/images/road795_png.rf.7e7b2a3f1051024a4b9ee9562c4d6a70.jpg: 640x640 1 Speed limit 90 Kph, 11.7ms\n",
      "Speed: 1.5ms preprocess, 11.7ms inference, 1.3ms postprocess per image at shape (1, 3, 640, 640)\n",
      "\n",
      "image 1/1 /content/drive/MyDrive/Q3_2/valid/images/road79_png_jpg.rf.aba6ec13f9a919a40f54ff7cd00566f5.jpg: 640x640 1 Stop_Sign, 12.3ms\n",
      "Speed: 1.4ms preprocess, 12.3ms inference, 1.3ms postprocess per image at shape (1, 3, 640, 640)\n",
      "\n",
      "image 1/1 /content/drive/MyDrive/Q3_2/valid/images/road800_png.rf.14081351bce2a1eb49aab26f474354c2.jpg: 640x640 1 Speed limit 100 Kph, 12.1ms\n",
      "Speed: 1.4ms preprocess, 12.1ms inference, 1.3ms postprocess per image at shape (1, 3, 640, 640)\n",
      "\n",
      "image 1/1 /content/drive/MyDrive/Q3_2/valid/images/road808_png.rf.c586506e702bc24a6a1466653a63b1be.jpg: 640x640 1 Speed limit, 1 Speed limit 100 Kph, 1 Speed limit 90 Kph, 11.6ms\n",
      "Speed: 1.6ms preprocess, 11.6ms inference, 1.4ms postprocess per image at shape (1, 3, 640, 640)\n",
      "\n",
      "image 1/1 /content/drive/MyDrive/Q3_2/valid/images/road809_png.rf.d23cf335e65615efedf4be778584f57b.jpg: 640x640 1 Speed limit 90 Kph, 11.7ms\n",
      "Speed: 1.5ms preprocess, 11.7ms inference, 1.3ms postprocess per image at shape (1, 3, 640, 640)\n",
      "\n",
      "image 1/1 /content/drive/MyDrive/Q3_2/valid/images/road80_png.rf.d277e3ae32a77200e01384b10143e493.jpg: 640x640 1 Stop_Sign, 11.6ms\n",
      "Speed: 1.4ms preprocess, 11.6ms inference, 1.3ms postprocess per image at shape (1, 3, 640, 640)\n",
      "\n",
      "image 1/1 /content/drive/MyDrive/Q3_2/valid/images/road814_png.rf.62ca452dacc40aad4c4f9942aec4307c.jpg: 640x640 1 Speed limit 90 Kph, 16.2ms\n",
      "Speed: 1.9ms preprocess, 16.2ms inference, 1.7ms postprocess per image at shape (1, 3, 640, 640)\n",
      "\n",
      "image 1/1 /content/drive/MyDrive/Q3_2/valid/images/road819_png.rf.f2bb922790228958106725b03d380ef2.jpg: 640x640 1 One way road, 1 Stop_Sign, 11.6ms\n",
      "Speed: 1.4ms preprocess, 11.6ms inference, 1.3ms postprocess per image at shape (1, 3, 640, 640)\n",
      "\n",
      "image 1/1 /content/drive/MyDrive/Q3_2/valid/images/road81_png_jpg.rf.5f00a3e780923a28fabe05fe8f443600.jpg: 640x640 1 Stop_Sign, 11.7ms\n",
      "Speed: 1.4ms preprocess, 11.7ms inference, 1.3ms postprocess per image at shape (1, 3, 640, 640)\n",
      "\n",
      "image 1/1 /content/drive/MyDrive/Q3_2/valid/images/road829_png.rf.c68bd4e2ad253201f55a92d07bc7dd96.jpg: 640x640 1 Speed limit 80 Kph, 12.6ms\n",
      "Speed: 1.4ms preprocess, 12.6ms inference, 1.3ms postprocess per image at shape (1, 3, 640, 640)\n",
      "\n",
      "image 1/1 /content/drive/MyDrive/Q3_2/valid/images/road82_png.rf.7d702dc23c6017570df3ee90c47fde9b.jpg: 640x640 1 Stop_Sign, 12.4ms\n",
      "Speed: 1.7ms preprocess, 12.4ms inference, 1.4ms postprocess per image at shape (1, 3, 640, 640)\n",
      "\n",
      "image 1/1 /content/drive/MyDrive/Q3_2/valid/images/road82_png_jpg.rf.9716a7a23b036c476bd21c570d04320c.jpg: 640x640 1 Stop_Sign, 16.2ms\n",
      "Speed: 1.9ms preprocess, 16.2ms inference, 1.7ms postprocess per image at shape (1, 3, 640, 640)\n",
      "\n",
      "image 1/1 /content/drive/MyDrive/Q3_2/valid/images/road831_png.rf.be11daa53ade3266904b0a20f226bc44.jpg: 640x640 1 Speed limit 80 Kph, 11.4ms\n",
      "Speed: 1.4ms preprocess, 11.4ms inference, 1.6ms postprocess per image at shape (1, 3, 640, 640)\n",
      "\n",
      "image 1/1 /content/drive/MyDrive/Q3_2/valid/images/road835_png.rf.441359481f0487cb4ece54dee910fea7.jpg: 640x640 1 Speed limit 80 Kph, 16.9ms\n",
      "Speed: 2.1ms preprocess, 16.9ms inference, 1.8ms postprocess per image at shape (1, 3, 640, 640)\n",
      "\n",
      "image 1/1 /content/drive/MyDrive/Q3_2/valid/images/road837_png.rf.1de96b650de409ddd234aefb8d833a57.jpg: 640x640 1 Speed limit 80 Kph, 11.5ms\n",
      "Speed: 1.4ms preprocess, 11.5ms inference, 1.3ms postprocess per image at shape (1, 3, 640, 640)\n",
      "\n",
      "image 1/1 /content/drive/MyDrive/Q3_2/valid/images/road839_png.rf.6a6c41a9bb77b3bdf0b03107a880bee1.jpg: 640x640 1 Crosswalk, 1 Speed limit 80 Kph, 11.8ms\n",
      "Speed: 1.6ms preprocess, 11.8ms inference, 1.3ms postprocess per image at shape (1, 3, 640, 640)\n",
      "\n",
      "image 1/1 /content/drive/MyDrive/Q3_2/valid/images/road841_png.rf.64f75b45a53a899ea9028024f5491290.jpg: 640x640 1 Crosswalk, 1 Speed limit 80 Kph, 13.1ms\n",
      "Speed: 1.6ms preprocess, 13.1ms inference, 1.7ms postprocess per image at shape (1, 3, 640, 640)\n",
      "\n",
      "image 1/1 /content/drive/MyDrive/Q3_2/valid/images/road845_png.rf.5c7126975f150dd092f6c5b1c4468d6f.jpg: 640x640 1 Crosswalk, 1 Speed limit 80 Kph, 13.4ms\n",
      "Speed: 1.8ms preprocess, 13.4ms inference, 1.5ms postprocess per image at shape (1, 3, 640, 640)\n",
      "\n",
      "image 1/1 /content/drive/MyDrive/Q3_2/valid/images/road847_png.rf.91b1099d61877d504f91e19868934cf3.jpg: 640x640 1 Speed limit 80 Kph, 12.1ms\n",
      "Speed: 1.4ms preprocess, 12.1ms inference, 1.3ms postprocess per image at shape (1, 3, 640, 640)\n",
      "\n",
      "image 1/1 /content/drive/MyDrive/Q3_2/valid/images/road855_png.rf.afc9300909cc40eb9e3949ee853ce299.jpg: 640x640 1 -Road narrows on right, 1 Speed limit 80 Kph, 11.7ms\n",
      "Speed: 1.5ms preprocess, 11.7ms inference, 1.4ms postprocess per image at shape (1, 3, 640, 640)\n",
      "\n",
      "image 1/1 /content/drive/MyDrive/Q3_2/valid/images/road856_png.rf.f884db4dbe8e7653f4a5303ef6a362a9.jpg: 640x640 1 Speed limit 80 Kph, 17.9ms\n",
      "Speed: 2.0ms preprocess, 17.9ms inference, 1.9ms postprocess per image at shape (1, 3, 640, 640)\n",
      "\n",
      "image 1/1 /content/drive/MyDrive/Q3_2/valid/images/road859_png.rf.5e04691299e9585b59326894053e52f5.jpg: 640x640 1 Speed limit 80 Kph, 11.5ms\n",
      "Speed: 1.4ms preprocess, 11.5ms inference, 1.3ms postprocess per image at shape (1, 3, 640, 640)\n",
      "\n",
      "image 1/1 /content/drive/MyDrive/Q3_2/valid/images/road863_png.rf.47ca81063ce1f9f2fb4783e685a79cb2.jpg: 640x640 1 Speed limit 80 Kph, 1 Speed limit 90 Kph, 12.2ms\n",
      "Speed: 1.5ms preprocess, 12.2ms inference, 1.4ms postprocess per image at shape (1, 3, 640, 640)\n",
      "\n",
      "image 1/1 /content/drive/MyDrive/Q3_2/valid/images/road866_png.rf.b140cd50d3e2a64b46f7946528c4ff7f.jpg: 640x640 1 Speed limit 90 Kph, 11.5ms\n",
      "Speed: 1.4ms preprocess, 11.5ms inference, 1.3ms postprocess per image at shape (1, 3, 640, 640)\n",
      "\n",
      "image 1/1 /content/drive/MyDrive/Q3_2/valid/images/road867_png.rf.70297a8700b71f088c8bc9c462f69356.jpg: 640x640 1 Speed limit 90 Kph, 12.3ms\n",
      "Speed: 1.5ms preprocess, 12.3ms inference, 1.3ms postprocess per image at shape (1, 3, 640, 640)\n",
      "\n",
      "image 1/1 /content/drive/MyDrive/Q3_2/valid/images/road868_png.rf.53cc2e2caf7bc66980390418e390675b.jpg: 640x640 1 Speed limit 90 Kph, 14.0ms\n",
      "Speed: 1.5ms preprocess, 14.0ms inference, 1.5ms postprocess per image at shape (1, 3, 640, 640)\n",
      "\n",
      "image 1/1 /content/drive/MyDrive/Q3_2/valid/images/road871_png.rf.7ed15817f9c05d1b5f3647dd268202ed.jpg: 640x640 1 Speed bump ahead, 1 Speed limit 40 Kph, 12.0ms\n",
      "Speed: 1.4ms preprocess, 12.0ms inference, 1.3ms postprocess per image at shape (1, 3, 640, 640)\n",
      "\n",
      "image 1/1 /content/drive/MyDrive/Q3_2/valid/images/road872_png.rf.e8e75d2503b121b008b3781b2367bf3d.jpg: 640x640 1 Speed bump ahead, 1 Speed limit 40 Kph, 14.0ms\n",
      "Speed: 1.5ms preprocess, 14.0ms inference, 1.4ms postprocess per image at shape (1, 3, 640, 640)\n",
      "\n",
      "image 1/1 /content/drive/MyDrive/Q3_2/valid/images/road874_png.rf.429e4e017e4e792abbc42ed01c959d5f.jpg: 640x640 1 Speed bump ahead, 1 Speed limit 40 Kph, 14.7ms\n",
      "Speed: 1.7ms preprocess, 14.7ms inference, 1.5ms postprocess per image at shape (1, 3, 640, 640)\n",
      "\n",
      "image 1/1 /content/drive/MyDrive/Q3_2/valid/images/road88_png.rf.a6b5f9eb526cad0121e07bc165ad44ec.jpg: 640x640 1 Stop_Sign, 11.4ms\n",
      "Speed: 1.4ms preprocess, 11.4ms inference, 1.3ms postprocess per image at shape (1, 3, 640, 640)\n",
      "\n",
      "image 1/1 /content/drive/MyDrive/Q3_2/valid/images/road88_png_jpg.rf.a8e09a0e785c8efe5d096e6a56c6931e.jpg: 640x640 1 Stop_Sign, 11.7ms\n",
      "Speed: 1.4ms preprocess, 11.7ms inference, 1.4ms postprocess per image at shape (1, 3, 640, 640)\n",
      "\n",
      "image 1/1 /content/drive/MyDrive/Q3_2/valid/images/road92_png.rf.2d63caa136fe209e643a5311f9432d58.jpg: 640x640 1 Stop_Sign, 11.2ms\n",
      "Speed: 1.4ms preprocess, 11.2ms inference, 1.3ms postprocess per image at shape (1, 3, 640, 640)\n",
      "\n",
      "image 1/1 /content/drive/MyDrive/Q3_2/valid/images/road95_png.rf.67dd0550e4b620e719c38c35d9b34440.jpg: 640x640 1 Stop_Sign, 11.3ms\n",
      "Speed: 1.4ms preprocess, 11.3ms inference, 1.3ms postprocess per image at shape (1, 3, 640, 640)\n",
      "\n",
      "image 1/1 /content/drive/MyDrive/Q3_2/valid/images/road97_png.rf.233577394f6b2dbfaf5227630aab0ffa.jpg: 640x640 1 Stop_Sign, 18.3ms\n",
      "Speed: 2.0ms preprocess, 18.3ms inference, 1.9ms postprocess per image at shape (1, 3, 640, 640)\n",
      "\n",
      "image 1/1 /content/drive/MyDrive/Q3_2/valid/images/road98_png.rf.e15fd1325ae68ee132bf85a7653ad18e.jpg: 640x640 1 Stop_Sign, 12.2ms\n",
      "Speed: 1.5ms preprocess, 12.2ms inference, 1.4ms postprocess per image at shape (1, 3, 640, 640)\n",
      "\n",
      "image 1/1 /content/drive/MyDrive/Q3_2/valid/images/road98_png_jpg.rf.05bab9f2f6eb796056ddb2d25faa0c59.jpg: 640x640 1 Stop_Sign, 11.8ms\n",
      "Speed: 1.6ms preprocess, 11.8ms inference, 1.3ms postprocess per image at shape (1, 3, 640, 640)\n",
      "\n",
      "image 1/1 /content/drive/MyDrive/Q3_2/valid/images/Road_signs_on_La_Verte_Rue_jpg.rf.a225ed0bfb757ded3af4fa9fbf8e0a03.jpg: 640x640 1 Speed limit 20 Kph, 18.1ms\n",
      "Speed: 2.1ms preprocess, 18.1ms inference, 1.9ms postprocess per image at shape (1, 3, 640, 640)\n",
      "\n",
      "image 1/1 /content/drive/MyDrive/Q3_2/valid/images/Road_towards_Knockbreck_-_geograph-org-uk_-_1119341_jpg.rf.8066870a7aa5d0aec21f47c0b571a610.jpg: 640x640 1 Speed limit 20 Kph, 12.3ms\n",
      "Speed: 1.4ms preprocess, 12.3ms inference, 1.4ms postprocess per image at shape (1, 3, 640, 640)\n",
      "\n",
      "image 1/1 /content/drive/MyDrive/Q3_2/valid/images/Roundabout-blue-sign_jpg.rf.bc43141e8bae9d5092265fcd7307dbbf.jpg: 640x640 1 roundabout, 11.3ms\n",
      "Speed: 1.4ms preprocess, 11.3ms inference, 1.3ms postprocess per image at shape (1, 3, 640, 640)\n",
      "\n",
      "image 1/1 /content/drive/MyDrive/Q3_2/valid/images/s-l1200_webp.rf.32f7e25eee03d7d1ad67bf618086a809.jpg: 640x640 1 Speed limit 70 Kph, 11.4ms\n",
      "Speed: 1.4ms preprocess, 11.4ms inference, 1.3ms postprocess per image at shape (1, 3, 640, 640)\n",
      "\n",
      "image 1/1 /content/drive/MyDrive/Q3_2/valid/images/s-l1600_jpg.rf.bf9c4c2e5898e30847af51cbea5bf9a6.jpg: 640x640 1 Uneven Road, 11.6ms\n",
      "Speed: 1.4ms preprocess, 11.6ms inference, 1.3ms postprocess per image at shape (1, 3, 640, 640)\n",
      "\n",
      "image 1/1 /content/drive/MyDrive/Q3_2/valid/images/S0-quelles-routes-resteront-limitees-a-90-km-h-555350_jpg.rf.7f0fd2f46bbcf4e41899a13397e2c26d.jpg: 640x640 1 Speed limit 90 Kph, 13.7ms\n",
      "Speed: 1.4ms preprocess, 13.7ms inference, 1.4ms postprocess per image at shape (1, 3, 640, 640)\n",
      "\n",
      "image 1/1 /content/drive/MyDrive/Q3_2/valid/images/sharp-right-hand-bend-sign-on-a-country-road-in-uk-CT2DN3-1-_jpg.rf.3b7197635bc36c74efb12295bfb1b79c.jpg: 640x640 1 Dangerous Rright Curve Ahead, 11.5ms\n",
      "Speed: 1.5ms preprocess, 11.5ms inference, 1.3ms postprocess per image at shape (1, 3, 640, 640)\n",
      "\n",
      "image 1/1 /content/drive/MyDrive/Q3_2/valid/images/shutterstock_1997146622-1024x896_jpg.rf.ffd755555336d43de9632e403d865648.jpg: 640x640 1 No Entry, 11.7ms\n",
      "Speed: 1.4ms preprocess, 11.7ms inference, 1.3ms postprocess per image at shape (1, 3, 640, 640)\n",
      "\n",
      "image 1/1 /content/drive/MyDrive/Q3_2/valid/images/single-road-sign_jpg.rf.340ee1b73c947e27199111de84a31771.jpg: 640x640 1 Attention Please-, 12.4ms\n",
      "Speed: 1.5ms preprocess, 12.4ms inference, 1.4ms postprocess per image at shape (1, 3, 640, 640)\n",
      "\n",
      "image 1/1 /content/drive/MyDrive/Q3_2/valid/images/Some_confusion_as_to_the_speed_limit_here_-_geograph-org-uk_-_1703901_jpg.rf.8a55cae319e324fa292d2d26719075e4.jpg: 640x640 1 Speed limit 30 Kph, 11.9ms\n",
      "Speed: 1.4ms preprocess, 11.9ms inference, 1.4ms postprocess per image at shape (1, 3, 640, 640)\n",
      "\n",
      "image 1/1 /content/drive/MyDrive/Q3_2/valid/images/speed-camera-trap-road-sign-mountain-background-km-h-speed-camera-trapping-road-sign-defaced-sticker-125669571_webp.rf.b0a5af27422a12c7167f2ce0adb73517.jpg: 640x640 1 Speed limit 90 Kph, 11.3ms\n",
      "Speed: 1.4ms preprocess, 11.3ms inference, 1.4ms postprocess per image at shape (1, 3, 640, 640)\n",
      "\n",
      "image 1/1 /content/drive/MyDrive/Q3_2/valid/images/speed-limit-2_jpg.rf.86dfbe45c971102fbdfdf720aad538d3.jpg: 640x640 1 Speed limit 120 Kph, 11.9ms\n",
      "Speed: 1.4ms preprocess, 11.9ms inference, 1.3ms postprocess per image at shape (1, 3, 640, 640)\n",
      "\n",
      "image 1/1 /content/drive/MyDrive/Q3_2/valid/images/speed-limit-traffic-sign-60-kmph-in-the-countryside-on-a-sunny-summer-day-istria-croatia-2DACBNJ_jpg.rf.3e1d6fada75f95e84b17fd5cc1091805.jpg: 640x640 1 Speed limit 60 Kph, 12.0ms\n",
      "Speed: 1.4ms preprocess, 12.0ms inference, 1.5ms postprocess per image at shape (1, 3, 640, 640)\n",
      "\n",
      "image 1/1 /content/drive/MyDrive/Q3_2/valid/images/speed-sign-120-kilometer-per-260nw-1269222331_webp.rf.1f11bb877052822df39a068e31cb88b6.jpg: 640x640 1 Speed limit 120 Kph, 12.3ms\n",
      "Speed: 1.5ms preprocess, 12.3ms inference, 1.4ms postprocess per image at shape (1, 3, 640, 640)\n",
      "\n",
      "image 1/1 /content/drive/MyDrive/Q3_2/valid/images/Speed_limit-_Llandderfel_-_geograph-org-uk_-_1876852_jpg.rf.a437277b797e6825e7c5823b4aae950a.jpg: 640x640 2 Speed limit 30 Kphs, 14.7ms\n",
      "Speed: 1.5ms preprocess, 14.7ms inference, 1.5ms postprocess per image at shape (1, 3, 640, 640)\n",
      "\n",
      "image 1/1 /content/drive/MyDrive/Q3_2/valid/images/Speed_limit_markers_on_approach_to_Bishopbriggs_-_geograph-org-uk_-_1336478_jpg.rf.a85bea1c35ccc8fe5c37334805b03e1f.jpg: 640x640 1 Speed limit 30 Kph, 11.9ms\n",
      "Speed: 1.5ms preprocess, 11.9ms inference, 1.3ms postprocess per image at shape (1, 3, 640, 640)\n",
      "\n",
      "image 1/1 /content/drive/MyDrive/Q3_2/valid/images/Speed_limit_sign-_High_Street_-_geograph-org-uk_-_741347_jpg.rf.637eaf9c655c097daaa47b437869c554.jpg: 640x640 1 Speed limit 30 Kph, 17.3ms\n",
      "Speed: 1.9ms preprocess, 17.3ms inference, 1.9ms postprocess per image at shape (1, 3, 640, 640)\n",
      "\n",
      "image 1/1 /content/drive/MyDrive/Q3_2/valid/images/Speed_limit_signs_at_Alves_-_geograph-org-uk_-_2099656_jpg.rf.9aef7782f794e8200ccd3898b4f9c46d.jpg: 640x640 2 Speed limit 30 Kphs, 11.9ms\n",
      "Speed: 1.6ms preprocess, 11.9ms inference, 1.3ms postprocess per image at shape (1, 3, 640, 640)\n",
      "\n",
      "image 1/1 /content/drive/MyDrive/Q3_2/valid/images/Speed_limit_signs_for_Ardersier_-_geograph-org-uk_-_1899540_jpg.rf.a1731d3a5b9acd70fb2e94a433da9b3d.jpg: 640x640 2 Speed limit 30 Kphs, 14.0ms\n",
      "Speed: 1.5ms preprocess, 14.0ms inference, 1.5ms postprocess per image at shape (1, 3, 640, 640)\n",
      "\n",
      "image 1/1 /content/drive/MyDrive/Q3_2/valid/images/Speed_limit_sign_-_geograph-org-uk_-_2376654_jpg.rf.e31fbcc5547f587ec49f73282c75141c.jpg: 640x640 1 Speed limit 30 Kph, 11.7ms\n",
      "Speed: 1.4ms preprocess, 11.7ms inference, 1.4ms postprocess per image at shape (1, 3, 640, 640)\n",
      "\n",
      "image 1/1 /content/drive/MyDrive/Q3_2/valid/images/speeed-limit_webp.rf.d2cd3e36e57fa3fb250b40a72784fdbf.jpg: 640x640 1 Speed limit 60 Kph, 11.7ms\n",
      "Speed: 1.4ms preprocess, 11.7ms inference, 1.3ms postprocess per image at shape (1, 3, 640, 640)\n",
      "\n",
      "image 1/1 /content/drive/MyDrive/Q3_2/valid/images/stock-photo-no-entry-traffic-sign-at-giens-peninsula-on-a-sunny-late-spring-day-photo-taken-june-th-2326135077_jpg.rf.e440957d297c68a3a11812636809be18.jpg: 640x640 1 No Entry, 1 Speed limit, 13.7ms\n",
      "Speed: 1.5ms preprocess, 13.7ms inference, 1.5ms postprocess per image at shape (1, 3, 640, 640)\n",
      "\n",
      "image 1/1 /content/drive/MyDrive/Q3_2/valid/images/Temporary_speed_limit_-_geograph-org-uk_-_2005137_jpg.rf.e5bc118354e1fa5ec59866fa8f7458d9.jpg: 640x640 1 Speed limit 20 Kph, 11.7ms\n",
      "Speed: 1.4ms preprocess, 11.7ms inference, 1.3ms postprocess per image at shape (1, 3, 640, 640)\n",
      "\n",
      "image 1/1 /content/drive/MyDrive/Q3_2/valid/images/The_B845_to_Taynuilt_-_geograph-org-uk_-_873023_jpg.rf.3464990a964e6661474bd74c501dd2be.jpg: 640x640 2 Speed limit 30 Kphs, 13.3ms\n",
      "Speed: 1.9ms preprocess, 13.3ms inference, 1.3ms postprocess per image at shape (1, 3, 640, 640)\n",
      "\n",
      "image 1/1 /content/drive/MyDrive/Q3_2/valid/images/The_Rising_-_geograph-org-uk_-_4444461_jpg.rf.8a65e7abef9217cf23775b719a9dd2c8.jpg: 640x640 1 Speed limit 30 Kph, 12.0ms\n",
      "Speed: 1.4ms preprocess, 12.0ms inference, 1.3ms postprocess per image at shape (1, 3, 640, 640)\n",
      "\n",
      "image 1/1 /content/drive/MyDrive/Q3_2/valid/images/traffic-passing-warning-sign-uneven-117166948_prevstill_webp.rf.41c7586814aefb0658c309844518cc92.jpg: 640x640 1 Crosswalk, 1 Uneven Road, 17.0ms\n",
      "Speed: 2.1ms preprocess, 17.0ms inference, 1.8ms postprocess per image at shape (1, 3, 640, 640)\n",
      "\n",
      "image 1/1 /content/drive/MyDrive/Q3_2/valid/images/traffic-sign-no-entry-do-not-enter-red_jpg.rf.5eb0c4f02e54f38b75a634772801b314.jpg: 640x640 1 No Entry, 11.9ms\n",
      "Speed: 1.5ms preprocess, 11.9ms inference, 1.3ms postprocess per image at shape (1, 3, 640, 640)\n",
      "\n",
      "image 1/1 /content/drive/MyDrive/Q3_2/valid/images/traffic-sign-speed-limit-at-60-kilometers-per-hour-and-information-in-portuguese-saying-electronic-inspection-2WX7TA9_jpg.rf.fc9dacab6c5a043cd766a2821e5e9bac.jpg: 640x640 1 Speed limit 60 Kph, 11.5ms\n",
      "Speed: 1.4ms preprocess, 11.5ms inference, 1.3ms postprocess per image at shape (1, 3, 640, 640)\n",
      "\n",
      "image 1/1 /content/drive/MyDrive/Q3_2/valid/images/traffic-sign-uk-mini-roundabout-260nw-2156022999_webp.rf.ce82f3f8cdb79d4b35337e1caf2b0614.jpg: 640x640 1 roundabout, 11.5ms\n",
      "Speed: 1.4ms preprocess, 11.5ms inference, 1.3ms postprocess per image at shape (1, 3, 640, 640)\n",
      "\n",
      "image 1/1 /content/drive/MyDrive/Q3_2/valid/images/traffic-sign-with-speed-limit-60-kilometers-per-hour-2ECR28R_jpg.rf.a655bfaee0c259124f84f6adfbe8d856.jpg: 640x640 1 Speed limit 60 Kph, 14.9ms\n",
      "Speed: 1.9ms preprocess, 14.9ms inference, 1.5ms postprocess per image at shape (1, 3, 640, 640)\n",
      "\n",
      "image 1/1 /content/drive/MyDrive/Q3_2/valid/images/triangle-traffic-sign-with-exclamation-mark-3d-illustration-2K2K4XM_jpg.rf.bf69ebb710d6f2e9ca1736a2e6268de1.jpg: 640x640 1 Attention Please-, 12.0ms\n",
      "Speed: 1.5ms preprocess, 12.0ms inference, 1.5ms postprocess per image at shape (1, 3, 640, 640)\n",
      "\n",
      "image 1/1 /content/drive/MyDrive/Q3_2/valid/images/Twenty_is_plenty_fast_enough_on_a_morning_like_this_-_geograph-org-uk_-_1145999_jpg.rf.3c643e20cb3e660b6bae1b844eb2fd1a.jpg: 640x640 (no detections), 11.9ms\n",
      "Speed: 1.4ms preprocess, 11.9ms inference, 0.7ms postprocess per image at shape (1, 3, 640, 640)\n",
      "\n",
      "image 1/1 /content/drive/MyDrive/Q3_2/valid/images/Twenty_s_plenty_-_geograph-org-uk_-_475936_jpg.rf.a208b7ad920ae24d6d425a571bb48dbe.jpg: 640x640 1 Speed limit 20 Kph, 11.6ms\n",
      "Speed: 1.5ms preprocess, 11.6ms inference, 1.6ms postprocess per image at shape (1, 3, 640, 640)\n",
      "\n",
      "image 1/1 /content/drive/MyDrive/Q3_2/valid/images/Twenty_s_Plenty_-_Great_George_Street_Glasgow_Scotland_Speed_Limit_-19380159332-_jpg.rf.fd21673698882bdf08f8b0136fc7e21e.jpg: 640x640 1 Speed limit, 2 Speed limit 20 Kphs, 12.1ms\n",
      "Speed: 1.6ms preprocess, 12.1ms inference, 1.3ms postprocess per image at shape (1, 3, 640, 640)\n",
      "\n",
      "image 1/1 /content/drive/MyDrive/Q3_2/valid/images/Twenty_s_Plenty_-_Speed_Sign_-_Glasgow-_Scotland_jpg.rf.5bbd528328ebf8741cdd353bbc308bf4.jpg: 640x640 1 Speed limit 20 Kph, 11.8ms\n",
      "Speed: 1.4ms preprocess, 11.8ms inference, 1.3ms postprocess per image at shape (1, 3, 640, 640)\n",
      "\n",
      "image 1/1 /content/drive/MyDrive/Q3_2/valid/images/uk-triangle-road-warning-sign-260nw-2375581765_webp.rf.99f68f63a5de2d7dd18f8d0d2b8eeed9.jpg: 640x640 1 CYCLE ROUTE AHEAD WARNING, 11.9ms\n",
      "Speed: 1.4ms preprocess, 11.9ms inference, 1.3ms postprocess per image at shape (1, 3, 640, 640)\n",
      "\n",
      "image 1/1 /content/drive/MyDrive/Q3_2/valid/images/UK_50_mph_speed_limit_sign_jpg.rf.7d8d68118ae76b08162a49b1e6288b54.jpg: 640x640 1 Speed limit 50 Kph, 11.7ms\n",
      "Speed: 1.4ms preprocess, 11.7ms inference, 1.3ms postprocess per image at shape (1, 3, 640, 640)\n",
      "\n",
      "image 1/1 /content/drive/MyDrive/Q3_2/valid/images/UK_Band_To_The_Left_Ahead_Sign_-_geograph-org-uk_-_5104724_jpg.rf.44f9500ec31edeb0c809e6957d6701bf.jpg: 640x640 1 Dangerous Left Curve Ahead, 1 Speed limit 40 Kph, 11.6ms\n",
      "Speed: 1.4ms preprocess, 11.6ms inference, 1.3ms postprocess per image at shape (1, 3, 640, 640)\n",
      "\n",
      "image 1/1 /content/drive/MyDrive/Q3_2/valid/images/UK_Bend_From_The_Right_Ahead_Sign_-_geograph-org-uk_-_5136342_jpg.rf.0baa57ff176bf5b0af1ceb6765058498.jpg: 640x640 1 Dangerous Left Curve Ahead, 12.5ms\n",
      "Speed: 1.4ms preprocess, 12.5ms inference, 1.5ms postprocess per image at shape (1, 3, 640, 640)\n",
      "\n",
      "image 1/1 /content/drive/MyDrive/Q3_2/valid/images/UK_Bend_To_Left_Ahead_Sign_-_geograph-org-uk_-_5211362_jpg.rf.8becb1088dba72dc3576167e54358c0b.jpg: 640x640 1 Dangerous Left Curve Ahead, 11.5ms\n",
      "Speed: 1.4ms preprocess, 11.5ms inference, 1.3ms postprocess per image at shape (1, 3, 640, 640)\n",
      "\n",
      "image 1/1 /content/drive/MyDrive/Q3_2/valid/images/UK_Bend_To_The_Left_Ahead_Sign_-_geograph-org-uk_-_5154568_jpg.rf.cfff9b3a9cfe5efa82bd608c438522da.jpg: 640x640 1 Dangerous Left Curve Ahead, 11.3ms\n",
      "Speed: 1.4ms preprocess, 11.3ms inference, 1.4ms postprocess per image at shape (1, 3, 640, 640)\n",
      "\n",
      "image 1/1 /content/drive/MyDrive/Q3_2/valid/images/UK_Give_Way-Turn_Left_And_dual_Carriageway_Sign_Part_1_-_geograph-org-uk_-_5103153_jpg.rf.71c823a89ebd5218cc908fe354627b82.jpg: 640x640 1 Dangerous Left Curve Ahead, 12.2ms\n",
      "Speed: 1.5ms preprocess, 12.2ms inference, 1.4ms postprocess per image at shape (1, 3, 640, 640)\n",
      "\n",
      "image 1/1 /content/drive/MyDrive/Q3_2/valid/images/UK_No_Turn_Left_Sign_-_geograph-org-uk_-_6261792_jpg.rf.396ffffdef48ff5707f69d139c8e609e.jpg: 640x640 1 Dangerous Left Curve Ahead, 11.4ms\n",
      "Speed: 1.4ms preprocess, 11.4ms inference, 1.3ms postprocess per image at shape (1, 3, 640, 640)\n",
      "\n",
      "image 1/1 /content/drive/MyDrive/Q3_2/valid/images/UK_traffic_sign_512-2_-left-svg_png.rf.c8f38873eddace41ac822431c644d063.jpg: 640x640 1 Dangerous Left Curve Ahead, 12.1ms\n",
      "Speed: 1.4ms preprocess, 12.1ms inference, 1.3ms postprocess per image at shape (1, 3, 640, 640)\n",
      "\n",
      "image 1/1 /content/drive/MyDrive/Q3_2/valid/images/UK_traffic_sign_512-3_-right-svg_png.rf.a368787dbcc2901fd32a9d16f7f281e0.jpg: 640x640 1 Dangerous Left Curve Ahead, 11.7ms\n",
      "Speed: 1.4ms preprocess, 11.7ms inference, 1.4ms postprocess per image at shape (1, 3, 640, 640)\n",
      "\n",
      "image 1/1 /content/drive/MyDrive/Q3_2/valid/images/UK_traffic_sign_513_-left-svg_png.rf.ecb5b103b34c6ff664a34470f3cdb726.jpg: 640x640 1 Dangerous Left Curve Ahead, 17.5ms\n",
      "Speed: 2.0ms preprocess, 17.5ms inference, 1.8ms postprocess per image at shape (1, 3, 640, 640)\n",
      "\n",
      "image 1/1 /content/drive/MyDrive/Q3_2/valid/images/UK_traffic_sign_544-svg_png.rf.fd94cf65cdf77f570cb92b10c5b8a64c.jpg: 640x640 1 Dangerous Left Curve Ahead, 11.7ms\n",
      "Speed: 1.5ms preprocess, 11.7ms inference, 1.3ms postprocess per image at shape (1, 3, 640, 640)\n",
      "\n",
      "image 1/1 /content/drive/MyDrive/Q3_2/valid/images/UK_traffic_sign_544_-Gibraltar-svg_png.rf.2a93876eb0969ad5888ce31bb79282a1.jpg: 640x640 1 Dangerous Left Curve Ahead, 12.0ms\n",
      "Speed: 1.5ms preprocess, 12.0ms inference, 1.4ms postprocess per image at shape (1, 3, 640, 640)\n",
      "\n",
      "image 1/1 /content/drive/MyDrive/Q3_2/valid/images/UK_traffic_sign_609_-left-svg_png.rf.e2b8287c91e2a0da01f26404d2ba1fbf.jpg: 640x640 1 roundabout, 18.2ms\n",
      "Speed: 2.1ms preprocess, 18.2ms inference, 2.0ms postprocess per image at shape (1, 3, 640, 640)\n",
      "\n",
      "image 1/1 /content/drive/MyDrive/Q3_2/valid/images/UK_Turn_Left_Sign_On_A_1_Way_Street_Sign_-_geograph-org-uk_-_5091959_jpg.rf.e7071a4882e1236017cf603092179b75.jpg: 640x640 1 roundabout, 13.1ms\n",
      "Speed: 1.5ms preprocess, 13.1ms inference, 1.4ms postprocess per image at shape (1, 3, 640, 640)\n",
      "\n",
      "image 1/1 /content/drive/MyDrive/Q3_2/valid/images/united-kingdom-30mph-speed-limit-sign-AJNKWK_jpg.rf.ede010703c8b68ff049556c633902a23.jpg: 640x640 1 Speed limit 30 Kph, 1 Speed limit 60 Kph, 11.9ms\n",
      "Speed: 1.5ms preprocess, 11.9ms inference, 1.6ms postprocess per image at shape (1, 3, 640, 640)\n",
      "\n",
      "image 1/1 /content/drive/MyDrive/Q3_2/valid/images/Untitled_jpeg.rf.fafd6797e7040eee9dfeff5227334908.jpg: 640x640 1 Speed limit 120 Kph, 13.1ms\n",
      "Speed: 1.5ms preprocess, 13.1ms inference, 1.5ms postprocess per image at shape (1, 3, 640, 640)\n",
      "\n",
      "image 1/1 /content/drive/MyDrive/Q3_2/valid/images/Unusually_low_location_for_a_speed_limit_sign_near_Tythegston_-_geograph-org-uk_-_5237911_jpg.rf.ab6df5734df00a37f28903964f9caf7b.jpg: 640x640 1 Speed limit 30 Kph, 11.6ms\n",
      "Speed: 1.5ms preprocess, 11.6ms inference, 1.3ms postprocess per image at shape (1, 3, 640, 640)\n",
      "\n",
      "image 1/1 /content/drive/MyDrive/Q3_2/valid/images/velocidad-y-accidentalidad-applus2_jpg.rf.bd0327e34514bf55c7f8a1828dbe3b50.jpg: 640x640 1 Speed limit 120 Kph, 12.5ms\n",
      "Speed: 1.4ms preprocess, 12.5ms inference, 1.4ms postprocess per image at shape (1, 3, 640, 640)\n",
      "\n",
      "image 1/1 /content/drive/MyDrive/Q3_2/valid/images/warning-triangle-cycle-route-ahead-road-sign-warning-triangle-cycle-route-ahead-sign-247062591_webp.rf.ae21d87a7102d81a37f9fe044c14ebf5.jpg: 640x640 1 CYCLE ROUTE AHEAD WARNING, 11.7ms\n",
      "Speed: 1.4ms preprocess, 11.7ms inference, 1.3ms postprocess per image at shape (1, 3, 640, 640)\n",
      "\n",
      "image 1/1 /content/drive/MyDrive/Q3_2/valid/images/Warning_sign_-_bend_to_the_left_ahead-_Llanvetherine_-_geograph-org-uk_-_5579039_jpg.rf.19ea26874168baf696dbf89531ed9c23.jpg: 640x640 1 Dangerous Left Curve Ahead, 12.6ms\n",
      "Speed: 1.5ms preprocess, 12.6ms inference, 1.3ms postprocess per image at shape (1, 3, 640, 640)\n",
      "\n",
      "image 1/1 /content/drive/MyDrive/Q3_2/valid/images/West_Parley_-_old_speed_limit_sign-_Mags_Barrow_-_geograph-org-uk_-_1347446_jpg.rf.1c9c599ee60a436d696fb3f52aa196e2.jpg: 640x640 1 Speed limit 30 Kph, 14.5ms\n",
      "Speed: 1.5ms preprocess, 14.5ms inference, 1.6ms postprocess per image at shape (1, 3, 640, 640)\n",
      "\n",
      "image 1/1 /content/drive/MyDrive/Q3_2/valid/images/Wheelwright_Street-_N7_-_geograph-org-uk_-_413904_jpg.rf.a24b72bf6906e00d116f07c11768c178.jpg: 640x640 1 Speed limit 20 Kph, 1 Speed limit 30 Kph, 15.4ms\n",
      "Speed: 1.8ms preprocess, 15.4ms inference, 1.3ms postprocess per image at shape (1, 3, 640, 640)\n",
      "Average IoU over validation set: 0.8311\n"
     ]
    }
   ],
   "source": [
    "import os\n",
    "from ultralytics import YOLO\n",
    "\n",
    "# Paths to validation images and labels\n",
    "val_image_dir = r'/content/drive/MyDrive/DP/code_yolov3/valid/images'\n",
    "val_label_dir = r'/content/drive/MyDrive/DP/code_yolov3/valid/labels'\n",
    "\n",
    "# Converting YOLO format to standard box format\n",
    "def yolo_to_xyxy(box, img_width, img_height):\n",
    "    x_center, y_center, width, height = box\n",
    "    x1 = (x_center - width / 2) * img_width\n",
    "    y1 = (y_center - height / 2) * img_height\n",
    "    x2 = (x_center + width / 2) * img_width\n",
    "    y2 = (y_center + height / 2) * img_height\n",
    "    return [x1, y1, x2, y2]\n",
    "\n",
    "# IoU calculation function\n",
    "def calculate_iou(boxA, boxB):\n",
    "    xA = max(boxA[0], boxB[0])\n",
    "    yA = max(boxA[1], boxB[1])\n",
    "    xB = min(boxA[2], boxB[2])\n",
    "    yB = min(boxA[3], boxB[3])\n",
    "\n",
    "    interArea = max(0, xB - xA) * max(0, yB - yA)\n",
    "    boxAArea = (boxA[2] - boxA[0]) * (boxA[3] - boxA[1])\n",
    "    boxBArea = (boxB[2] - boxB[0]) * (boxB[3] - boxB[1])\n",
    "\n",
    "    iou = interArea / float(boxAArea + boxBArea - interArea)\n",
    "    return iou\n",
    "\n",
    "# Calculating IoU for each validation image\n",
    "total_iou = 0\n",
    "num_boxes = 0\n",
    "\n",
    "for image_name in os.listdir(val_image_dir):\n",
    "    image_path = os.path.join(val_image_dir, image_name)\n",
    "    label_path = os.path.join(val_label_dir, os.path.splitext(image_name)[0] + '.txt')\n",
    "    img = Image.open(image_path)\n",
    "    img_width, img_height = img.size\n",
    "\n",
    "    # Loading ground truth boxes from label file\n",
    "    ground_truth_boxes = []\n",
    "    with open(label_path, 'r') as f:\n",
    "        for line in f:\n",
    "            class_id, x_center, y_center, width, height = map(float, line.strip().split())\n",
    "            ground_truth_boxes.append(yolo_to_xyxy([x_center, y_center, width, height], img_width, img_height))\n",
    "\n",
    "    # Predicting boxes using YOLO\n",
    "    yolo_predictions = model.predict(source=image_path)[0]\n",
    "\n",
    "    # Calculating IoU for each prediction\n",
    "    for pred_box in yolo_predictions.boxes:\n",
    "        pred_coords = pred_box.xyxy[0].tolist()\n",
    "        pred_box_coords = [int(pred_coords[0]), int(pred_coords[1]), int(pred_coords[2]), int(pred_coords[3])]\n",
    "\n",
    "        # Calculating IoU with each ground truth box\n",
    "        for gt_box in ground_truth_boxes:\n",
    "            iou = calculate_iou(pred_box_coords, gt_box)\n",
    "            total_iou += iou\n",
    "            num_boxes += 1\n",
    "\n",
    "# Calculating and printing average IoU\n",
    "average_iou = total_iou / num_boxes if num_boxes > 0 else 0\n",
    "print(f\"Average IoU over validation set: {average_iou:.4f}\")\n"
   ]
  },
  {
   "cell_type": "code",
   "execution_count": null,
   "metadata": {
    "colab": {
     "base_uri": "https://localhost:8080/"
    },
    "id": "YCmd54HIaCDP",
    "outputId": "91610b31-cc00-489f-fac1-136f5e81e3b9"
   },
   "outputs": [],
   "source": [
    "print(f\"Average IoU over validation set: {average_iou:.4f}\")"
   ]
  },
  {
   "cell_type": "code",
   "execution_count": null,
   "metadata": {},
   "outputs": [],
   "source": []
  }
 ],
 "metadata": {
  "accelerator": "GPU",
  "colab": {
   "gpuType": "A100",
   "machine_shape": "hm",
   "provenance": []
  },
  "kernelspec": {
   "display_name": "Python 3 (ipykernel)",
   "language": "python",
   "name": "python3"
  },
  "language_info": {
   "codemirror_mode": {
    "name": "ipython",
    "version": 3
   },
   "file_extension": ".py",
   "mimetype": "text/x-python",
   "name": "python",
   "nbconvert_exporter": "python",
   "pygments_lexer": "ipython3",
   "version": "3.10.13"
  }
 },
 "nbformat": 4,
 "nbformat_minor": 4
}
